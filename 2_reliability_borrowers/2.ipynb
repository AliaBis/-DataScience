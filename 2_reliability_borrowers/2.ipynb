{
 "cells": [
  {
   "cell_type": "markdown",
   "id": "c81daeeb",
   "metadata": {
    "deletable": false,
    "editable": false,
    "id": "c81daeeb"
   },
   "source": [
    "# Исследование надежности заемщиков"
   ]
  },
  {
   "cell_type": "markdown",
   "id": "4e49c5a5",
   "metadata": {},
   "source": [
    "`Описание проекта`\n",
    "\n",
    "`Заказчик — кредитный отдел банка. Проводим анализ: влияет ли семейное положение и количество детей клиента на факт погашения кредита в срок. Имеем входные данные от банка — статистика о платёжеспособности клиентов.`"
   ]
  },
  {
   "cell_type": "markdown",
   "id": "-G3EJWzf62s6",
   "metadata": {
    "deletable": false,
    "editable": false,
    "id": "-G3EJWzf62s6"
   },
   "source": [
    "Это первая часть проекта, она будет проверена автоматически. Вторую часть проверит ревьюер. "
   ]
  },
  {
   "cell_type": "markdown",
   "id": "744d7639",
   "metadata": {
    "deletable": false,
    "editable": false,
    "id": "744d7639"
   },
   "source": [
    "## Откройте таблицу и изучите общую информацию о данных"
   ]
  },
  {
   "cell_type": "markdown",
   "id": "e7a14c31",
   "metadata": {
    "deletable": false,
    "editable": false,
    "id": "e7a14c31",
    "tags": [
     "start_task"
    ]
   },
   "source": [
    "**Задание 1. Импортируйте библиотеку pandas. Считайте данные из csv-файла в датафрейм и сохраните в переменную `data`. Путь к файлу:**\n",
    "\n",
    "`/datasets/data.csv`"
   ]
  },
  {
   "cell_type": "code",
   "execution_count": 1,
   "id": "7bcf75c9",
   "metadata": {
    "id": "7bcf75c9"
   },
   "outputs": [],
   "source": [
    "import pandas as pd # Импорт библиотеки pandas"
   ]
  },
  {
   "cell_type": "code",
   "execution_count": 2,
   "id": "4d240ee2",
   "metadata": {
    "id": "4d240ee2"
   },
   "outputs": [],
   "source": [
    "data = pd.read_csv('/datasets/data.csv') # Чтение файла банка в формате csv()"
   ]
  },
  {
   "cell_type": "markdown",
   "id": "b8038fe3",
   "metadata": {
    "deletable": false,
    "editable": false,
    "id": "b8038fe3",
    "tags": [
     "start_task"
    ]
   },
   "source": [
    "**Задание 2. Выведите первые 20 строчек датафрейма `data` на экран.**"
   ]
  },
  {
   "cell_type": "code",
   "execution_count": 3,
   "id": "2a7cab99",
   "metadata": {
    "id": "2a7cab99"
   },
   "outputs": [
    {
     "data": {
      "text/html": [
       "<div>\n",
       "<style scoped>\n",
       "    .dataframe tbody tr th:only-of-type {\n",
       "        vertical-align: middle;\n",
       "    }\n",
       "\n",
       "    .dataframe tbody tr th {\n",
       "        vertical-align: top;\n",
       "    }\n",
       "\n",
       "    .dataframe thead th {\n",
       "        text-align: right;\n",
       "    }\n",
       "</style>\n",
       "<table border=\"1\" class=\"dataframe\">\n",
       "  <thead>\n",
       "    <tr style=\"text-align: right;\">\n",
       "      <th></th>\n",
       "      <th>children</th>\n",
       "      <th>days_employed</th>\n",
       "      <th>dob_years</th>\n",
       "      <th>education</th>\n",
       "      <th>education_id</th>\n",
       "      <th>family_status</th>\n",
       "      <th>family_status_id</th>\n",
       "      <th>gender</th>\n",
       "      <th>income_type</th>\n",
       "      <th>debt</th>\n",
       "      <th>total_income</th>\n",
       "      <th>purpose</th>\n",
       "    </tr>\n",
       "  </thead>\n",
       "  <tbody>\n",
       "    <tr>\n",
       "      <th>0</th>\n",
       "      <td>1</td>\n",
       "      <td>-8437.673028</td>\n",
       "      <td>42</td>\n",
       "      <td>высшее</td>\n",
       "      <td>0</td>\n",
       "      <td>женат / замужем</td>\n",
       "      <td>0</td>\n",
       "      <td>F</td>\n",
       "      <td>сотрудник</td>\n",
       "      <td>0</td>\n",
       "      <td>253875.639453</td>\n",
       "      <td>покупка жилья</td>\n",
       "    </tr>\n",
       "    <tr>\n",
       "      <th>1</th>\n",
       "      <td>1</td>\n",
       "      <td>-4024.803754</td>\n",
       "      <td>36</td>\n",
       "      <td>среднее</td>\n",
       "      <td>1</td>\n",
       "      <td>женат / замужем</td>\n",
       "      <td>0</td>\n",
       "      <td>F</td>\n",
       "      <td>сотрудник</td>\n",
       "      <td>0</td>\n",
       "      <td>112080.014102</td>\n",
       "      <td>приобретение автомобиля</td>\n",
       "    </tr>\n",
       "    <tr>\n",
       "      <th>2</th>\n",
       "      <td>0</td>\n",
       "      <td>-5623.422610</td>\n",
       "      <td>33</td>\n",
       "      <td>Среднее</td>\n",
       "      <td>1</td>\n",
       "      <td>женат / замужем</td>\n",
       "      <td>0</td>\n",
       "      <td>M</td>\n",
       "      <td>сотрудник</td>\n",
       "      <td>0</td>\n",
       "      <td>145885.952297</td>\n",
       "      <td>покупка жилья</td>\n",
       "    </tr>\n",
       "    <tr>\n",
       "      <th>3</th>\n",
       "      <td>3</td>\n",
       "      <td>-4124.747207</td>\n",
       "      <td>32</td>\n",
       "      <td>среднее</td>\n",
       "      <td>1</td>\n",
       "      <td>женат / замужем</td>\n",
       "      <td>0</td>\n",
       "      <td>M</td>\n",
       "      <td>сотрудник</td>\n",
       "      <td>0</td>\n",
       "      <td>267628.550329</td>\n",
       "      <td>дополнительное образование</td>\n",
       "    </tr>\n",
       "    <tr>\n",
       "      <th>4</th>\n",
       "      <td>0</td>\n",
       "      <td>340266.072047</td>\n",
       "      <td>53</td>\n",
       "      <td>среднее</td>\n",
       "      <td>1</td>\n",
       "      <td>гражданский брак</td>\n",
       "      <td>1</td>\n",
       "      <td>F</td>\n",
       "      <td>пенсионер</td>\n",
       "      <td>0</td>\n",
       "      <td>158616.077870</td>\n",
       "      <td>сыграть свадьбу</td>\n",
       "    </tr>\n",
       "    <tr>\n",
       "      <th>5</th>\n",
       "      <td>0</td>\n",
       "      <td>-926.185831</td>\n",
       "      <td>27</td>\n",
       "      <td>высшее</td>\n",
       "      <td>0</td>\n",
       "      <td>гражданский брак</td>\n",
       "      <td>1</td>\n",
       "      <td>M</td>\n",
       "      <td>компаньон</td>\n",
       "      <td>0</td>\n",
       "      <td>255763.565419</td>\n",
       "      <td>покупка жилья</td>\n",
       "    </tr>\n",
       "    <tr>\n",
       "      <th>6</th>\n",
       "      <td>0</td>\n",
       "      <td>-2879.202052</td>\n",
       "      <td>43</td>\n",
       "      <td>высшее</td>\n",
       "      <td>0</td>\n",
       "      <td>женат / замужем</td>\n",
       "      <td>0</td>\n",
       "      <td>F</td>\n",
       "      <td>компаньон</td>\n",
       "      <td>0</td>\n",
       "      <td>240525.971920</td>\n",
       "      <td>операции с жильем</td>\n",
       "    </tr>\n",
       "    <tr>\n",
       "      <th>7</th>\n",
       "      <td>0</td>\n",
       "      <td>-152.779569</td>\n",
       "      <td>50</td>\n",
       "      <td>СРЕДНЕЕ</td>\n",
       "      <td>1</td>\n",
       "      <td>женат / замужем</td>\n",
       "      <td>0</td>\n",
       "      <td>M</td>\n",
       "      <td>сотрудник</td>\n",
       "      <td>0</td>\n",
       "      <td>135823.934197</td>\n",
       "      <td>образование</td>\n",
       "    </tr>\n",
       "    <tr>\n",
       "      <th>8</th>\n",
       "      <td>2</td>\n",
       "      <td>-6929.865299</td>\n",
       "      <td>35</td>\n",
       "      <td>ВЫСШЕЕ</td>\n",
       "      <td>0</td>\n",
       "      <td>гражданский брак</td>\n",
       "      <td>1</td>\n",
       "      <td>F</td>\n",
       "      <td>сотрудник</td>\n",
       "      <td>0</td>\n",
       "      <td>95856.832424</td>\n",
       "      <td>на проведение свадьбы</td>\n",
       "    </tr>\n",
       "    <tr>\n",
       "      <th>9</th>\n",
       "      <td>0</td>\n",
       "      <td>-2188.756445</td>\n",
       "      <td>41</td>\n",
       "      <td>среднее</td>\n",
       "      <td>1</td>\n",
       "      <td>женат / замужем</td>\n",
       "      <td>0</td>\n",
       "      <td>M</td>\n",
       "      <td>сотрудник</td>\n",
       "      <td>0</td>\n",
       "      <td>144425.938277</td>\n",
       "      <td>покупка жилья для семьи</td>\n",
       "    </tr>\n",
       "    <tr>\n",
       "      <th>10</th>\n",
       "      <td>2</td>\n",
       "      <td>-4171.483647</td>\n",
       "      <td>36</td>\n",
       "      <td>высшее</td>\n",
       "      <td>0</td>\n",
       "      <td>женат / замужем</td>\n",
       "      <td>0</td>\n",
       "      <td>M</td>\n",
       "      <td>компаньон</td>\n",
       "      <td>0</td>\n",
       "      <td>113943.491460</td>\n",
       "      <td>покупка недвижимости</td>\n",
       "    </tr>\n",
       "    <tr>\n",
       "      <th>11</th>\n",
       "      <td>0</td>\n",
       "      <td>-792.701887</td>\n",
       "      <td>40</td>\n",
       "      <td>среднее</td>\n",
       "      <td>1</td>\n",
       "      <td>женат / замужем</td>\n",
       "      <td>0</td>\n",
       "      <td>F</td>\n",
       "      <td>сотрудник</td>\n",
       "      <td>0</td>\n",
       "      <td>77069.234271</td>\n",
       "      <td>покупка коммерческой недвижимости</td>\n",
       "    </tr>\n",
       "    <tr>\n",
       "      <th>12</th>\n",
       "      <td>0</td>\n",
       "      <td>NaN</td>\n",
       "      <td>65</td>\n",
       "      <td>среднее</td>\n",
       "      <td>1</td>\n",
       "      <td>гражданский брак</td>\n",
       "      <td>1</td>\n",
       "      <td>M</td>\n",
       "      <td>пенсионер</td>\n",
       "      <td>0</td>\n",
       "      <td>NaN</td>\n",
       "      <td>сыграть свадьбу</td>\n",
       "    </tr>\n",
       "    <tr>\n",
       "      <th>13</th>\n",
       "      <td>0</td>\n",
       "      <td>-1846.641941</td>\n",
       "      <td>54</td>\n",
       "      <td>неоконченное высшее</td>\n",
       "      <td>2</td>\n",
       "      <td>женат / замужем</td>\n",
       "      <td>0</td>\n",
       "      <td>F</td>\n",
       "      <td>сотрудник</td>\n",
       "      <td>0</td>\n",
       "      <td>130458.228857</td>\n",
       "      <td>приобретение автомобиля</td>\n",
       "    </tr>\n",
       "    <tr>\n",
       "      <th>14</th>\n",
       "      <td>0</td>\n",
       "      <td>-1844.956182</td>\n",
       "      <td>56</td>\n",
       "      <td>высшее</td>\n",
       "      <td>0</td>\n",
       "      <td>гражданский брак</td>\n",
       "      <td>1</td>\n",
       "      <td>F</td>\n",
       "      <td>компаньон</td>\n",
       "      <td>1</td>\n",
       "      <td>165127.911772</td>\n",
       "      <td>покупка жилой недвижимости</td>\n",
       "    </tr>\n",
       "    <tr>\n",
       "      <th>15</th>\n",
       "      <td>1</td>\n",
       "      <td>-972.364419</td>\n",
       "      <td>26</td>\n",
       "      <td>среднее</td>\n",
       "      <td>1</td>\n",
       "      <td>женат / замужем</td>\n",
       "      <td>0</td>\n",
       "      <td>F</td>\n",
       "      <td>сотрудник</td>\n",
       "      <td>0</td>\n",
       "      <td>116820.904450</td>\n",
       "      <td>строительство собственной недвижимости</td>\n",
       "    </tr>\n",
       "    <tr>\n",
       "      <th>16</th>\n",
       "      <td>0</td>\n",
       "      <td>-1719.934226</td>\n",
       "      <td>35</td>\n",
       "      <td>среднее</td>\n",
       "      <td>1</td>\n",
       "      <td>женат / замужем</td>\n",
       "      <td>0</td>\n",
       "      <td>F</td>\n",
       "      <td>сотрудник</td>\n",
       "      <td>0</td>\n",
       "      <td>289202.704229</td>\n",
       "      <td>недвижимость</td>\n",
       "    </tr>\n",
       "    <tr>\n",
       "      <th>17</th>\n",
       "      <td>0</td>\n",
       "      <td>-2369.999720</td>\n",
       "      <td>33</td>\n",
       "      <td>высшее</td>\n",
       "      <td>0</td>\n",
       "      <td>гражданский брак</td>\n",
       "      <td>1</td>\n",
       "      <td>M</td>\n",
       "      <td>сотрудник</td>\n",
       "      <td>0</td>\n",
       "      <td>90410.586745</td>\n",
       "      <td>строительство недвижимости</td>\n",
       "    </tr>\n",
       "    <tr>\n",
       "      <th>18</th>\n",
       "      <td>0</td>\n",
       "      <td>400281.136913</td>\n",
       "      <td>53</td>\n",
       "      <td>среднее</td>\n",
       "      <td>1</td>\n",
       "      <td>вдовец / вдова</td>\n",
       "      <td>2</td>\n",
       "      <td>F</td>\n",
       "      <td>пенсионер</td>\n",
       "      <td>0</td>\n",
       "      <td>56823.777243</td>\n",
       "      <td>на покупку подержанного автомобиля</td>\n",
       "    </tr>\n",
       "    <tr>\n",
       "      <th>19</th>\n",
       "      <td>0</td>\n",
       "      <td>-10038.818549</td>\n",
       "      <td>48</td>\n",
       "      <td>СРЕДНЕЕ</td>\n",
       "      <td>1</td>\n",
       "      <td>в разводе</td>\n",
       "      <td>3</td>\n",
       "      <td>F</td>\n",
       "      <td>сотрудник</td>\n",
       "      <td>0</td>\n",
       "      <td>242831.107982</td>\n",
       "      <td>на покупку своего автомобиля</td>\n",
       "    </tr>\n",
       "  </tbody>\n",
       "</table>\n",
       "</div>"
      ],
      "text/plain": [
       "    children  days_employed  dob_years            education  education_id  \\\n",
       "0          1   -8437.673028         42               высшее             0   \n",
       "1          1   -4024.803754         36              среднее             1   \n",
       "2          0   -5623.422610         33              Среднее             1   \n",
       "3          3   -4124.747207         32              среднее             1   \n",
       "4          0  340266.072047         53              среднее             1   \n",
       "5          0    -926.185831         27               высшее             0   \n",
       "6          0   -2879.202052         43               высшее             0   \n",
       "7          0    -152.779569         50              СРЕДНЕЕ             1   \n",
       "8          2   -6929.865299         35               ВЫСШЕЕ             0   \n",
       "9          0   -2188.756445         41              среднее             1   \n",
       "10         2   -4171.483647         36               высшее             0   \n",
       "11         0    -792.701887         40              среднее             1   \n",
       "12         0            NaN         65              среднее             1   \n",
       "13         0   -1846.641941         54  неоконченное высшее             2   \n",
       "14         0   -1844.956182         56               высшее             0   \n",
       "15         1    -972.364419         26              среднее             1   \n",
       "16         0   -1719.934226         35              среднее             1   \n",
       "17         0   -2369.999720         33               высшее             0   \n",
       "18         0  400281.136913         53              среднее             1   \n",
       "19         0  -10038.818549         48              СРЕДНЕЕ             1   \n",
       "\n",
       "       family_status  family_status_id gender income_type  debt  \\\n",
       "0    женат / замужем                 0      F   сотрудник     0   \n",
       "1    женат / замужем                 0      F   сотрудник     0   \n",
       "2    женат / замужем                 0      M   сотрудник     0   \n",
       "3    женат / замужем                 0      M   сотрудник     0   \n",
       "4   гражданский брак                 1      F   пенсионер     0   \n",
       "5   гражданский брак                 1      M   компаньон     0   \n",
       "6    женат / замужем                 0      F   компаньон     0   \n",
       "7    женат / замужем                 0      M   сотрудник     0   \n",
       "8   гражданский брак                 1      F   сотрудник     0   \n",
       "9    женат / замужем                 0      M   сотрудник     0   \n",
       "10   женат / замужем                 0      M   компаньон     0   \n",
       "11   женат / замужем                 0      F   сотрудник     0   \n",
       "12  гражданский брак                 1      M   пенсионер     0   \n",
       "13   женат / замужем                 0      F   сотрудник     0   \n",
       "14  гражданский брак                 1      F   компаньон     1   \n",
       "15   женат / замужем                 0      F   сотрудник     0   \n",
       "16   женат / замужем                 0      F   сотрудник     0   \n",
       "17  гражданский брак                 1      M   сотрудник     0   \n",
       "18    вдовец / вдова                 2      F   пенсионер     0   \n",
       "19         в разводе                 3      F   сотрудник     0   \n",
       "\n",
       "     total_income                                 purpose  \n",
       "0   253875.639453                           покупка жилья  \n",
       "1   112080.014102                 приобретение автомобиля  \n",
       "2   145885.952297                           покупка жилья  \n",
       "3   267628.550329              дополнительное образование  \n",
       "4   158616.077870                         сыграть свадьбу  \n",
       "5   255763.565419                           покупка жилья  \n",
       "6   240525.971920                       операции с жильем  \n",
       "7   135823.934197                             образование  \n",
       "8    95856.832424                   на проведение свадьбы  \n",
       "9   144425.938277                 покупка жилья для семьи  \n",
       "10  113943.491460                    покупка недвижимости  \n",
       "11   77069.234271       покупка коммерческой недвижимости  \n",
       "12            NaN                         сыграть свадьбу  \n",
       "13  130458.228857                 приобретение автомобиля  \n",
       "14  165127.911772              покупка жилой недвижимости  \n",
       "15  116820.904450  строительство собственной недвижимости  \n",
       "16  289202.704229                            недвижимость  \n",
       "17   90410.586745              строительство недвижимости  \n",
       "18   56823.777243      на покупку подержанного автомобиля  \n",
       "19  242831.107982            на покупку своего автомобиля  "
      ]
     },
     "execution_count": 3,
     "metadata": {},
     "output_type": "execute_result"
    }
   ],
   "source": [
    "data.head(20) # Выведем таблицу, чтобы визуально оценить данные"
   ]
  },
  {
   "cell_type": "markdown",
   "id": "1c12e233",
   "metadata": {
    "deletable": false,
    "editable": false,
    "id": "1c12e233",
    "tags": [
     "start_task"
    ]
   },
   "source": [
    "**Задание 3. Выведите основную информацию о датафрейме с помощью метода `info()`.**"
   ]
  },
  {
   "cell_type": "code",
   "execution_count": 4,
   "id": "2b757bca",
   "metadata": {
    "id": "2b757bca"
   },
   "outputs": [
    {
     "name": "stdout",
     "output_type": "stream",
     "text": [
      "<class 'pandas.core.frame.DataFrame'>\n",
      "RangeIndex: 21525 entries, 0 to 21524\n",
      "Data columns (total 12 columns):\n",
      " #   Column            Non-Null Count  Dtype  \n",
      "---  ------            --------------  -----  \n",
      " 0   children          21525 non-null  int64  \n",
      " 1   days_employed     19351 non-null  float64\n",
      " 2   dob_years         21525 non-null  int64  \n",
      " 3   education         21525 non-null  object \n",
      " 4   education_id      21525 non-null  int64  \n",
      " 5   family_status     21525 non-null  object \n",
      " 6   family_status_id  21525 non-null  int64  \n",
      " 7   gender            21525 non-null  object \n",
      " 8   income_type       21525 non-null  object \n",
      " 9   debt              21525 non-null  int64  \n",
      " 10  total_income      19351 non-null  float64\n",
      " 11  purpose           21525 non-null  object \n",
      "dtypes: float64(2), int64(5), object(5)\n",
      "memory usage: 2.0+ MB\n"
     ]
    }
   ],
   "source": [
    "data.info() # посмотрим основную информацию о таблице"
   ]
  },
  {
   "cell_type": "markdown",
   "id": "80112294",
   "metadata": {},
   "source": [
    "`Названия всех 12 столбцов оформлены правильно, менять их не нужно. В таблице 21525 записей, использованы строковые(в 5 столбцах) и числовые(в 7 столбцах) значения.`"
   ]
  },
  {
   "cell_type": "markdown",
   "id": "333ec665",
   "metadata": {
    "deletable": false,
    "editable": false,
    "id": "333ec665"
   },
   "source": [
    "## Предобработка данных"
   ]
  },
  {
   "cell_type": "markdown",
   "id": "02d92d53",
   "metadata": {
    "deletable": false,
    "editable": false,
    "id": "02d92d53"
   },
   "source": [
    "### Удаление пропусков"
   ]
  },
  {
   "cell_type": "markdown",
   "id": "cd84967c",
   "metadata": {
    "deletable": false,
    "editable": false,
    "id": "cd84967c",
    "tags": [
     "start_task"
    ]
   },
   "source": [
    "**Задание 4. Выведите количество пропущенных значений для каждого столбца. Используйте комбинацию двух методов.**"
   ]
  },
  {
   "cell_type": "code",
   "execution_count": 5,
   "id": "7f9b2309",
   "metadata": {
    "id": "7f9b2309"
   },
   "outputs": [
    {
     "data": {
      "text/plain": [
       "children               0\n",
       "days_employed       2174\n",
       "dob_years              0\n",
       "education              0\n",
       "education_id           0\n",
       "family_status          0\n",
       "family_status_id       0\n",
       "gender                 0\n",
       "income_type            0\n",
       "debt                   0\n",
       "total_income        2174\n",
       "purpose                0\n",
       "dtype: int64"
      ]
     },
     "execution_count": 5,
     "metadata": {},
     "output_type": "execute_result"
    }
   ],
   "source": [
    "# метод isna() найдёт все пропуски в таблице, а метод sum() посчитает количество в каждой колонке\n",
    "data.isna().sum() "
   ]
  },
  {
   "cell_type": "code",
   "execution_count": 6,
   "id": "c2caa0e8",
   "metadata": {
    "scrolled": true
   },
   "outputs": [
    {
     "data": {
      "text/html": [
       "<div>\n",
       "<style scoped>\n",
       "    .dataframe tbody tr th:only-of-type {\n",
       "        vertical-align: middle;\n",
       "    }\n",
       "\n",
       "    .dataframe tbody tr th {\n",
       "        vertical-align: top;\n",
       "    }\n",
       "\n",
       "    .dataframe thead th {\n",
       "        text-align: right;\n",
       "    }\n",
       "</style>\n",
       "<table border=\"1\" class=\"dataframe\">\n",
       "  <thead>\n",
       "    <tr style=\"text-align: right;\">\n",
       "      <th></th>\n",
       "      <th>children</th>\n",
       "      <th>days_employed</th>\n",
       "      <th>dob_years</th>\n",
       "      <th>education</th>\n",
       "      <th>education_id</th>\n",
       "      <th>family_status</th>\n",
       "      <th>family_status_id</th>\n",
       "      <th>gender</th>\n",
       "      <th>income_type</th>\n",
       "      <th>debt</th>\n",
       "      <th>total_income</th>\n",
       "      <th>purpose</th>\n",
       "    </tr>\n",
       "  </thead>\n",
       "  <tbody>\n",
       "    <tr>\n",
       "      <th>21308</th>\n",
       "      <td>0</td>\n",
       "      <td>NaN</td>\n",
       "      <td>48</td>\n",
       "      <td>среднее</td>\n",
       "      <td>1</td>\n",
       "      <td>женат / замужем</td>\n",
       "      <td>0</td>\n",
       "      <td>F</td>\n",
       "      <td>компаньон</td>\n",
       "      <td>0</td>\n",
       "      <td>NaN</td>\n",
       "      <td>покупка жилья для сдачи</td>\n",
       "    </tr>\n",
       "    <tr>\n",
       "      <th>21311</th>\n",
       "      <td>0</td>\n",
       "      <td>NaN</td>\n",
       "      <td>49</td>\n",
       "      <td>среднее</td>\n",
       "      <td>1</td>\n",
       "      <td>женат / замужем</td>\n",
       "      <td>0</td>\n",
       "      <td>F</td>\n",
       "      <td>пенсионер</td>\n",
       "      <td>0</td>\n",
       "      <td>NaN</td>\n",
       "      <td>покупка жилья для сдачи</td>\n",
       "    </tr>\n",
       "    <tr>\n",
       "      <th>21321</th>\n",
       "      <td>0</td>\n",
       "      <td>NaN</td>\n",
       "      <td>56</td>\n",
       "      <td>Среднее</td>\n",
       "      <td>1</td>\n",
       "      <td>женат / замужем</td>\n",
       "      <td>0</td>\n",
       "      <td>F</td>\n",
       "      <td>пенсионер</td>\n",
       "      <td>0</td>\n",
       "      <td>NaN</td>\n",
       "      <td>операции с недвижимостью</td>\n",
       "    </tr>\n",
       "    <tr>\n",
       "      <th>21350</th>\n",
       "      <td>0</td>\n",
       "      <td>NaN</td>\n",
       "      <td>21</td>\n",
       "      <td>среднее</td>\n",
       "      <td>1</td>\n",
       "      <td>Не женат / не замужем</td>\n",
       "      <td>4</td>\n",
       "      <td>M</td>\n",
       "      <td>компаньон</td>\n",
       "      <td>0</td>\n",
       "      <td>NaN</td>\n",
       "      <td>на покупку автомобиля</td>\n",
       "    </tr>\n",
       "    <tr>\n",
       "      <th>21364</th>\n",
       "      <td>0</td>\n",
       "      <td>NaN</td>\n",
       "      <td>50</td>\n",
       "      <td>среднее</td>\n",
       "      <td>1</td>\n",
       "      <td>женат / замужем</td>\n",
       "      <td>0</td>\n",
       "      <td>M</td>\n",
       "      <td>сотрудник</td>\n",
       "      <td>0</td>\n",
       "      <td>NaN</td>\n",
       "      <td>операции со своей недвижимостью</td>\n",
       "    </tr>\n",
       "    <tr>\n",
       "      <th>21369</th>\n",
       "      <td>2</td>\n",
       "      <td>NaN</td>\n",
       "      <td>42</td>\n",
       "      <td>среднее</td>\n",
       "      <td>1</td>\n",
       "      <td>в разводе</td>\n",
       "      <td>3</td>\n",
       "      <td>M</td>\n",
       "      <td>компаньон</td>\n",
       "      <td>0</td>\n",
       "      <td>NaN</td>\n",
       "      <td>покупка жилой недвижимости</td>\n",
       "    </tr>\n",
       "    <tr>\n",
       "      <th>21390</th>\n",
       "      <td>20</td>\n",
       "      <td>NaN</td>\n",
       "      <td>53</td>\n",
       "      <td>среднее</td>\n",
       "      <td>1</td>\n",
       "      <td>женат / замужем</td>\n",
       "      <td>0</td>\n",
       "      <td>M</td>\n",
       "      <td>компаньон</td>\n",
       "      <td>0</td>\n",
       "      <td>NaN</td>\n",
       "      <td>покупка жилой недвижимости</td>\n",
       "    </tr>\n",
       "    <tr>\n",
       "      <th>21391</th>\n",
       "      <td>0</td>\n",
       "      <td>NaN</td>\n",
       "      <td>52</td>\n",
       "      <td>среднее</td>\n",
       "      <td>1</td>\n",
       "      <td>женат / замужем</td>\n",
       "      <td>0</td>\n",
       "      <td>F</td>\n",
       "      <td>компаньон</td>\n",
       "      <td>0</td>\n",
       "      <td>NaN</td>\n",
       "      <td>покупка жилья для семьи</td>\n",
       "    </tr>\n",
       "    <tr>\n",
       "      <th>21407</th>\n",
       "      <td>1</td>\n",
       "      <td>NaN</td>\n",
       "      <td>36</td>\n",
       "      <td>среднее</td>\n",
       "      <td>1</td>\n",
       "      <td>женат / замужем</td>\n",
       "      <td>0</td>\n",
       "      <td>F</td>\n",
       "      <td>компаньон</td>\n",
       "      <td>0</td>\n",
       "      <td>NaN</td>\n",
       "      <td>строительство жилой недвижимости</td>\n",
       "    </tr>\n",
       "    <tr>\n",
       "      <th>21414</th>\n",
       "      <td>0</td>\n",
       "      <td>NaN</td>\n",
       "      <td>65</td>\n",
       "      <td>среднее</td>\n",
       "      <td>1</td>\n",
       "      <td>женат / замужем</td>\n",
       "      <td>0</td>\n",
       "      <td>F</td>\n",
       "      <td>пенсионер</td>\n",
       "      <td>0</td>\n",
       "      <td>NaN</td>\n",
       "      <td>покупка своего жилья</td>\n",
       "    </tr>\n",
       "    <tr>\n",
       "      <th>21415</th>\n",
       "      <td>0</td>\n",
       "      <td>NaN</td>\n",
       "      <td>54</td>\n",
       "      <td>среднее</td>\n",
       "      <td>1</td>\n",
       "      <td>женат / замужем</td>\n",
       "      <td>0</td>\n",
       "      <td>F</td>\n",
       "      <td>пенсионер</td>\n",
       "      <td>0</td>\n",
       "      <td>NaN</td>\n",
       "      <td>операции с жильем</td>\n",
       "    </tr>\n",
       "    <tr>\n",
       "      <th>21423</th>\n",
       "      <td>0</td>\n",
       "      <td>NaN</td>\n",
       "      <td>63</td>\n",
       "      <td>среднее</td>\n",
       "      <td>1</td>\n",
       "      <td>женат / замужем</td>\n",
       "      <td>0</td>\n",
       "      <td>M</td>\n",
       "      <td>пенсионер</td>\n",
       "      <td>0</td>\n",
       "      <td>NaN</td>\n",
       "      <td>сделка с автомобилем</td>\n",
       "    </tr>\n",
       "    <tr>\n",
       "      <th>21426</th>\n",
       "      <td>0</td>\n",
       "      <td>NaN</td>\n",
       "      <td>49</td>\n",
       "      <td>среднее</td>\n",
       "      <td>1</td>\n",
       "      <td>женат / замужем</td>\n",
       "      <td>0</td>\n",
       "      <td>F</td>\n",
       "      <td>сотрудник</td>\n",
       "      <td>1</td>\n",
       "      <td>NaN</td>\n",
       "      <td>недвижимость</td>\n",
       "    </tr>\n",
       "    <tr>\n",
       "      <th>21432</th>\n",
       "      <td>1</td>\n",
       "      <td>NaN</td>\n",
       "      <td>38</td>\n",
       "      <td>неоконченное высшее</td>\n",
       "      <td>2</td>\n",
       "      <td>Не женат / не замужем</td>\n",
       "      <td>4</td>\n",
       "      <td>F</td>\n",
       "      <td>сотрудник</td>\n",
       "      <td>0</td>\n",
       "      <td>NaN</td>\n",
       "      <td>операции с жильем</td>\n",
       "    </tr>\n",
       "    <tr>\n",
       "      <th>21463</th>\n",
       "      <td>1</td>\n",
       "      <td>NaN</td>\n",
       "      <td>35</td>\n",
       "      <td>высшее</td>\n",
       "      <td>0</td>\n",
       "      <td>гражданский брак</td>\n",
       "      <td>1</td>\n",
       "      <td>M</td>\n",
       "      <td>сотрудник</td>\n",
       "      <td>0</td>\n",
       "      <td>NaN</td>\n",
       "      <td>на проведение свадьбы</td>\n",
       "    </tr>\n",
       "    <tr>\n",
       "      <th>21489</th>\n",
       "      <td>2</td>\n",
       "      <td>NaN</td>\n",
       "      <td>47</td>\n",
       "      <td>Среднее</td>\n",
       "      <td>1</td>\n",
       "      <td>женат / замужем</td>\n",
       "      <td>0</td>\n",
       "      <td>M</td>\n",
       "      <td>компаньон</td>\n",
       "      <td>0</td>\n",
       "      <td>NaN</td>\n",
       "      <td>сделка с автомобилем</td>\n",
       "    </tr>\n",
       "    <tr>\n",
       "      <th>21495</th>\n",
       "      <td>1</td>\n",
       "      <td>NaN</td>\n",
       "      <td>50</td>\n",
       "      <td>среднее</td>\n",
       "      <td>1</td>\n",
       "      <td>гражданский брак</td>\n",
       "      <td>1</td>\n",
       "      <td>F</td>\n",
       "      <td>сотрудник</td>\n",
       "      <td>0</td>\n",
       "      <td>NaN</td>\n",
       "      <td>свадьба</td>\n",
       "    </tr>\n",
       "    <tr>\n",
       "      <th>21497</th>\n",
       "      <td>0</td>\n",
       "      <td>NaN</td>\n",
       "      <td>48</td>\n",
       "      <td>ВЫСШЕЕ</td>\n",
       "      <td>0</td>\n",
       "      <td>женат / замужем</td>\n",
       "      <td>0</td>\n",
       "      <td>F</td>\n",
       "      <td>компаньон</td>\n",
       "      <td>0</td>\n",
       "      <td>NaN</td>\n",
       "      <td>строительство недвижимости</td>\n",
       "    </tr>\n",
       "    <tr>\n",
       "      <th>21502</th>\n",
       "      <td>1</td>\n",
       "      <td>NaN</td>\n",
       "      <td>42</td>\n",
       "      <td>среднее</td>\n",
       "      <td>1</td>\n",
       "      <td>женат / замужем</td>\n",
       "      <td>0</td>\n",
       "      <td>F</td>\n",
       "      <td>сотрудник</td>\n",
       "      <td>0</td>\n",
       "      <td>NaN</td>\n",
       "      <td>строительство жилой недвижимости</td>\n",
       "    </tr>\n",
       "    <tr>\n",
       "      <th>21510</th>\n",
       "      <td>2</td>\n",
       "      <td>NaN</td>\n",
       "      <td>28</td>\n",
       "      <td>среднее</td>\n",
       "      <td>1</td>\n",
       "      <td>женат / замужем</td>\n",
       "      <td>0</td>\n",
       "      <td>F</td>\n",
       "      <td>сотрудник</td>\n",
       "      <td>0</td>\n",
       "      <td>NaN</td>\n",
       "      <td>приобретение автомобиля</td>\n",
       "    </tr>\n",
       "  </tbody>\n",
       "</table>\n",
       "</div>"
      ],
      "text/plain": [
       "       children  days_employed  dob_years            education  education_id  \\\n",
       "21308         0            NaN         48              среднее             1   \n",
       "21311         0            NaN         49              среднее             1   \n",
       "21321         0            NaN         56              Среднее             1   \n",
       "21350         0            NaN         21              среднее             1   \n",
       "21364         0            NaN         50              среднее             1   \n",
       "21369         2            NaN         42              среднее             1   \n",
       "21390        20            NaN         53              среднее             1   \n",
       "21391         0            NaN         52              среднее             1   \n",
       "21407         1            NaN         36              среднее             1   \n",
       "21414         0            NaN         65              среднее             1   \n",
       "21415         0            NaN         54              среднее             1   \n",
       "21423         0            NaN         63              среднее             1   \n",
       "21426         0            NaN         49              среднее             1   \n",
       "21432         1            NaN         38  неоконченное высшее             2   \n",
       "21463         1            NaN         35               высшее             0   \n",
       "21489         2            NaN         47              Среднее             1   \n",
       "21495         1            NaN         50              среднее             1   \n",
       "21497         0            NaN         48               ВЫСШЕЕ             0   \n",
       "21502         1            NaN         42              среднее             1   \n",
       "21510         2            NaN         28              среднее             1   \n",
       "\n",
       "               family_status  family_status_id gender income_type  debt  \\\n",
       "21308        женат / замужем                 0      F   компаньон     0   \n",
       "21311        женат / замужем                 0      F   пенсионер     0   \n",
       "21321        женат / замужем                 0      F   пенсионер     0   \n",
       "21350  Не женат / не замужем                 4      M   компаньон     0   \n",
       "21364        женат / замужем                 0      M   сотрудник     0   \n",
       "21369              в разводе                 3      M   компаньон     0   \n",
       "21390        женат / замужем                 0      M   компаньон     0   \n",
       "21391        женат / замужем                 0      F   компаньон     0   \n",
       "21407        женат / замужем                 0      F   компаньон     0   \n",
       "21414        женат / замужем                 0      F   пенсионер     0   \n",
       "21415        женат / замужем                 0      F   пенсионер     0   \n",
       "21423        женат / замужем                 0      M   пенсионер     0   \n",
       "21426        женат / замужем                 0      F   сотрудник     1   \n",
       "21432  Не женат / не замужем                 4      F   сотрудник     0   \n",
       "21463       гражданский брак                 1      M   сотрудник     0   \n",
       "21489        женат / замужем                 0      M   компаньон     0   \n",
       "21495       гражданский брак                 1      F   сотрудник     0   \n",
       "21497        женат / замужем                 0      F   компаньон     0   \n",
       "21502        женат / замужем                 0      F   сотрудник     0   \n",
       "21510        женат / замужем                 0      F   сотрудник     0   \n",
       "\n",
       "       total_income                           purpose  \n",
       "21308           NaN           покупка жилья для сдачи  \n",
       "21311           NaN           покупка жилья для сдачи  \n",
       "21321           NaN          операции с недвижимостью  \n",
       "21350           NaN             на покупку автомобиля  \n",
       "21364           NaN   операции со своей недвижимостью  \n",
       "21369           NaN        покупка жилой недвижимости  \n",
       "21390           NaN        покупка жилой недвижимости  \n",
       "21391           NaN           покупка жилья для семьи  \n",
       "21407           NaN  строительство жилой недвижимости  \n",
       "21414           NaN              покупка своего жилья  \n",
       "21415           NaN                 операции с жильем  \n",
       "21423           NaN              сделка с автомобилем  \n",
       "21426           NaN                      недвижимость  \n",
       "21432           NaN                 операции с жильем  \n",
       "21463           NaN             на проведение свадьбы  \n",
       "21489           NaN              сделка с автомобилем  \n",
       "21495           NaN                           свадьба  \n",
       "21497           NaN        строительство недвижимости  \n",
       "21502           NaN  строительство жилой недвижимости  \n",
       "21510           NaN           приобретение автомобиля  "
      ]
     },
     "execution_count": 6,
     "metadata": {},
     "output_type": "execute_result"
    }
   ],
   "source": [
    "# Проверим, какие пропуски. Выведем последние 20 строк. Метод isnull == методу isna\n",
    "data[data['total_income'].isnull()].tail(20)"
   ]
  },
  {
   "cell_type": "markdown",
   "id": "b616062a",
   "metadata": {},
   "source": [
    "`Обнаружены пропуски в столбцах days_employed-2174 и total_income-2174. В этих колонках встречается значение NaN`"
   ]
  },
  {
   "cell_type": "code",
   "execution_count": 7,
   "id": "f6317c3a",
   "metadata": {},
   "outputs": [
    {
     "data": {
      "text/plain": [
       "'Доля пропущенных значений в столбце days_employed составляет: 10.1%'"
      ]
     },
     "execution_count": 7,
     "metadata": {},
     "output_type": "execute_result"
    }
   ],
   "source": [
    "# Найдем, какую долю составляют пропущенные значения в столбце days_employed.\n",
    "null_days_employed = data[data['days_employed'].isna()]\n",
    "# проверка вывода len(null_days_employed)\n",
    "# проверка вывода len(data)\n",
    "'Доля пропущенных значений в столбце days_employed составляет: {:.1%}' .format(len(null_days_employed) / len(data))"
   ]
  },
  {
   "cell_type": "code",
   "execution_count": 8,
   "id": "963e872c",
   "metadata": {},
   "outputs": [
    {
     "data": {
      "text/plain": [
       "'Доля пропущенных значений в столбце total_income составляет: 10.1%'"
      ]
     },
     "execution_count": 8,
     "metadata": {},
     "output_type": "execute_result"
    }
   ],
   "source": [
    "# Найдем, какую долю составляют пропущенные значения в стобце total_income\n",
    "null_total_income = data[data['total_income'].isna()]\n",
    "'Доля пропущенных значений в столбце total_income составляет: {:.1%}' .format(len(null_total_income) / len(data))"
   ]
  },
  {
   "cell_type": "markdown",
   "id": "0e88c220",
   "metadata": {},
   "source": [
    "`Как видим, доля пропущенных значений в обоих колонках составляет 10.1%. Возможными причинами появления пропусков в данных могут быть нежелание человека делиться информацией, либо невнимательность при заполнении анкеты.` "
   ]
  },
  {
   "cell_type": "markdown",
   "id": "db86e27b",
   "metadata": {
    "deletable": false,
    "editable": false,
    "id": "db86e27b",
    "tags": [
     "start_task"
    ]
   },
   "source": [
    "**Задание 5. В двух столбцах есть пропущенные значения. Один из них — `days_employed`. Пропуски в этом столбце вы обработаете на следующем этапе. Другой столбец с пропущенными значениями — `total_income` — хранит данные о доходах. На сумму дохода сильнее всего влияет тип занятости, поэтому заполнить пропуски в этом столбце нужно медианным значением по каждому типу из столбца `income_type`. Например, у человека с типом занятости `сотрудник` пропуск в столбце `total_income` должен быть заполнен медианным доходом среди всех записей с тем же типом.**"
   ]
  },
  {
   "cell_type": "code",
   "execution_count": 9,
   "id": "42006a93",
   "metadata": {
    "id": "42006a93",
    "scrolled": true
   },
   "outputs": [
    {
     "data": {
      "text/html": [
       "<div>\n",
       "<style scoped>\n",
       "    .dataframe tbody tr th:only-of-type {\n",
       "        vertical-align: middle;\n",
       "    }\n",
       "\n",
       "    .dataframe tbody tr th {\n",
       "        vertical-align: top;\n",
       "    }\n",
       "\n",
       "    .dataframe thead th {\n",
       "        text-align: right;\n",
       "    }\n",
       "</style>\n",
       "<table border=\"1\" class=\"dataframe\">\n",
       "  <thead>\n",
       "    <tr style=\"text-align: right;\">\n",
       "      <th></th>\n",
       "      <th>children</th>\n",
       "      <th>days_employed</th>\n",
       "      <th>dob_years</th>\n",
       "      <th>education</th>\n",
       "      <th>education_id</th>\n",
       "      <th>family_status</th>\n",
       "      <th>family_status_id</th>\n",
       "      <th>gender</th>\n",
       "      <th>income_type</th>\n",
       "      <th>debt</th>\n",
       "      <th>total_income</th>\n",
       "      <th>purpose</th>\n",
       "    </tr>\n",
       "  </thead>\n",
       "  <tbody>\n",
       "    <tr>\n",
       "      <th>0</th>\n",
       "      <td>1</td>\n",
       "      <td>-8437.673028</td>\n",
       "      <td>42</td>\n",
       "      <td>высшее</td>\n",
       "      <td>0</td>\n",
       "      <td>женат / замужем</td>\n",
       "      <td>0</td>\n",
       "      <td>F</td>\n",
       "      <td>сотрудник</td>\n",
       "      <td>0</td>\n",
       "      <td>253875.639453</td>\n",
       "      <td>покупка жилья</td>\n",
       "    </tr>\n",
       "    <tr>\n",
       "      <th>1</th>\n",
       "      <td>1</td>\n",
       "      <td>-4024.803754</td>\n",
       "      <td>36</td>\n",
       "      <td>среднее</td>\n",
       "      <td>1</td>\n",
       "      <td>женат / замужем</td>\n",
       "      <td>0</td>\n",
       "      <td>F</td>\n",
       "      <td>сотрудник</td>\n",
       "      <td>0</td>\n",
       "      <td>112080.014102</td>\n",
       "      <td>приобретение автомобиля</td>\n",
       "    </tr>\n",
       "    <tr>\n",
       "      <th>2</th>\n",
       "      <td>0</td>\n",
       "      <td>-5623.422610</td>\n",
       "      <td>33</td>\n",
       "      <td>Среднее</td>\n",
       "      <td>1</td>\n",
       "      <td>женат / замужем</td>\n",
       "      <td>0</td>\n",
       "      <td>M</td>\n",
       "      <td>сотрудник</td>\n",
       "      <td>0</td>\n",
       "      <td>145885.952297</td>\n",
       "      <td>покупка жилья</td>\n",
       "    </tr>\n",
       "    <tr>\n",
       "      <th>3</th>\n",
       "      <td>3</td>\n",
       "      <td>-4124.747207</td>\n",
       "      <td>32</td>\n",
       "      <td>среднее</td>\n",
       "      <td>1</td>\n",
       "      <td>женат / замужем</td>\n",
       "      <td>0</td>\n",
       "      <td>M</td>\n",
       "      <td>сотрудник</td>\n",
       "      <td>0</td>\n",
       "      <td>267628.550329</td>\n",
       "      <td>дополнительное образование</td>\n",
       "    </tr>\n",
       "    <tr>\n",
       "      <th>4</th>\n",
       "      <td>0</td>\n",
       "      <td>340266.072047</td>\n",
       "      <td>53</td>\n",
       "      <td>среднее</td>\n",
       "      <td>1</td>\n",
       "      <td>гражданский брак</td>\n",
       "      <td>1</td>\n",
       "      <td>F</td>\n",
       "      <td>пенсионер</td>\n",
       "      <td>0</td>\n",
       "      <td>158616.077870</td>\n",
       "      <td>сыграть свадьбу</td>\n",
       "    </tr>\n",
       "    <tr>\n",
       "      <th>5</th>\n",
       "      <td>0</td>\n",
       "      <td>-926.185831</td>\n",
       "      <td>27</td>\n",
       "      <td>высшее</td>\n",
       "      <td>0</td>\n",
       "      <td>гражданский брак</td>\n",
       "      <td>1</td>\n",
       "      <td>M</td>\n",
       "      <td>компаньон</td>\n",
       "      <td>0</td>\n",
       "      <td>255763.565419</td>\n",
       "      <td>покупка жилья</td>\n",
       "    </tr>\n",
       "    <tr>\n",
       "      <th>6</th>\n",
       "      <td>0</td>\n",
       "      <td>-2879.202052</td>\n",
       "      <td>43</td>\n",
       "      <td>высшее</td>\n",
       "      <td>0</td>\n",
       "      <td>женат / замужем</td>\n",
       "      <td>0</td>\n",
       "      <td>F</td>\n",
       "      <td>компаньон</td>\n",
       "      <td>0</td>\n",
       "      <td>240525.971920</td>\n",
       "      <td>операции с жильем</td>\n",
       "    </tr>\n",
       "    <tr>\n",
       "      <th>7</th>\n",
       "      <td>0</td>\n",
       "      <td>-152.779569</td>\n",
       "      <td>50</td>\n",
       "      <td>СРЕДНЕЕ</td>\n",
       "      <td>1</td>\n",
       "      <td>женат / замужем</td>\n",
       "      <td>0</td>\n",
       "      <td>M</td>\n",
       "      <td>сотрудник</td>\n",
       "      <td>0</td>\n",
       "      <td>135823.934197</td>\n",
       "      <td>образование</td>\n",
       "    </tr>\n",
       "    <tr>\n",
       "      <th>8</th>\n",
       "      <td>2</td>\n",
       "      <td>-6929.865299</td>\n",
       "      <td>35</td>\n",
       "      <td>ВЫСШЕЕ</td>\n",
       "      <td>0</td>\n",
       "      <td>гражданский брак</td>\n",
       "      <td>1</td>\n",
       "      <td>F</td>\n",
       "      <td>сотрудник</td>\n",
       "      <td>0</td>\n",
       "      <td>95856.832424</td>\n",
       "      <td>на проведение свадьбы</td>\n",
       "    </tr>\n",
       "    <tr>\n",
       "      <th>9</th>\n",
       "      <td>0</td>\n",
       "      <td>-2188.756445</td>\n",
       "      <td>41</td>\n",
       "      <td>среднее</td>\n",
       "      <td>1</td>\n",
       "      <td>женат / замужем</td>\n",
       "      <td>0</td>\n",
       "      <td>M</td>\n",
       "      <td>сотрудник</td>\n",
       "      <td>0</td>\n",
       "      <td>144425.938277</td>\n",
       "      <td>покупка жилья для семьи</td>\n",
       "    </tr>\n",
       "    <tr>\n",
       "      <th>10</th>\n",
       "      <td>2</td>\n",
       "      <td>-4171.483647</td>\n",
       "      <td>36</td>\n",
       "      <td>высшее</td>\n",
       "      <td>0</td>\n",
       "      <td>женат / замужем</td>\n",
       "      <td>0</td>\n",
       "      <td>M</td>\n",
       "      <td>компаньон</td>\n",
       "      <td>0</td>\n",
       "      <td>113943.491460</td>\n",
       "      <td>покупка недвижимости</td>\n",
       "    </tr>\n",
       "    <tr>\n",
       "      <th>11</th>\n",
       "      <td>0</td>\n",
       "      <td>-792.701887</td>\n",
       "      <td>40</td>\n",
       "      <td>среднее</td>\n",
       "      <td>1</td>\n",
       "      <td>женат / замужем</td>\n",
       "      <td>0</td>\n",
       "      <td>F</td>\n",
       "      <td>сотрудник</td>\n",
       "      <td>0</td>\n",
       "      <td>77069.234271</td>\n",
       "      <td>покупка коммерческой недвижимости</td>\n",
       "    </tr>\n",
       "    <tr>\n",
       "      <th>12</th>\n",
       "      <td>0</td>\n",
       "      <td>NaN</td>\n",
       "      <td>65</td>\n",
       "      <td>среднее</td>\n",
       "      <td>1</td>\n",
       "      <td>гражданский брак</td>\n",
       "      <td>1</td>\n",
       "      <td>M</td>\n",
       "      <td>пенсионер</td>\n",
       "      <td>0</td>\n",
       "      <td>118514.486412</td>\n",
       "      <td>сыграть свадьбу</td>\n",
       "    </tr>\n",
       "    <tr>\n",
       "      <th>13</th>\n",
       "      <td>0</td>\n",
       "      <td>-1846.641941</td>\n",
       "      <td>54</td>\n",
       "      <td>неоконченное высшее</td>\n",
       "      <td>2</td>\n",
       "      <td>женат / замужем</td>\n",
       "      <td>0</td>\n",
       "      <td>F</td>\n",
       "      <td>сотрудник</td>\n",
       "      <td>0</td>\n",
       "      <td>130458.228857</td>\n",
       "      <td>приобретение автомобиля</td>\n",
       "    </tr>\n",
       "    <tr>\n",
       "      <th>14</th>\n",
       "      <td>0</td>\n",
       "      <td>-1844.956182</td>\n",
       "      <td>56</td>\n",
       "      <td>высшее</td>\n",
       "      <td>0</td>\n",
       "      <td>гражданский брак</td>\n",
       "      <td>1</td>\n",
       "      <td>F</td>\n",
       "      <td>компаньон</td>\n",
       "      <td>1</td>\n",
       "      <td>165127.911772</td>\n",
       "      <td>покупка жилой недвижимости</td>\n",
       "    </tr>\n",
       "    <tr>\n",
       "      <th>15</th>\n",
       "      <td>1</td>\n",
       "      <td>-972.364419</td>\n",
       "      <td>26</td>\n",
       "      <td>среднее</td>\n",
       "      <td>1</td>\n",
       "      <td>женат / замужем</td>\n",
       "      <td>0</td>\n",
       "      <td>F</td>\n",
       "      <td>сотрудник</td>\n",
       "      <td>0</td>\n",
       "      <td>116820.904450</td>\n",
       "      <td>строительство собственной недвижимости</td>\n",
       "    </tr>\n",
       "    <tr>\n",
       "      <th>16</th>\n",
       "      <td>0</td>\n",
       "      <td>-1719.934226</td>\n",
       "      <td>35</td>\n",
       "      <td>среднее</td>\n",
       "      <td>1</td>\n",
       "      <td>женат / замужем</td>\n",
       "      <td>0</td>\n",
       "      <td>F</td>\n",
       "      <td>сотрудник</td>\n",
       "      <td>0</td>\n",
       "      <td>289202.704229</td>\n",
       "      <td>недвижимость</td>\n",
       "    </tr>\n",
       "    <tr>\n",
       "      <th>17</th>\n",
       "      <td>0</td>\n",
       "      <td>-2369.999720</td>\n",
       "      <td>33</td>\n",
       "      <td>высшее</td>\n",
       "      <td>0</td>\n",
       "      <td>гражданский брак</td>\n",
       "      <td>1</td>\n",
       "      <td>M</td>\n",
       "      <td>сотрудник</td>\n",
       "      <td>0</td>\n",
       "      <td>90410.586745</td>\n",
       "      <td>строительство недвижимости</td>\n",
       "    </tr>\n",
       "    <tr>\n",
       "      <th>18</th>\n",
       "      <td>0</td>\n",
       "      <td>400281.136913</td>\n",
       "      <td>53</td>\n",
       "      <td>среднее</td>\n",
       "      <td>1</td>\n",
       "      <td>вдовец / вдова</td>\n",
       "      <td>2</td>\n",
       "      <td>F</td>\n",
       "      <td>пенсионер</td>\n",
       "      <td>0</td>\n",
       "      <td>56823.777243</td>\n",
       "      <td>на покупку подержанного автомобиля</td>\n",
       "    </tr>\n",
       "    <tr>\n",
       "      <th>19</th>\n",
       "      <td>0</td>\n",
       "      <td>-10038.818549</td>\n",
       "      <td>48</td>\n",
       "      <td>СРЕДНЕЕ</td>\n",
       "      <td>1</td>\n",
       "      <td>в разводе</td>\n",
       "      <td>3</td>\n",
       "      <td>F</td>\n",
       "      <td>сотрудник</td>\n",
       "      <td>0</td>\n",
       "      <td>242831.107982</td>\n",
       "      <td>на покупку своего автомобиля</td>\n",
       "    </tr>\n",
       "    <tr>\n",
       "      <th>20</th>\n",
       "      <td>1</td>\n",
       "      <td>-1311.604166</td>\n",
       "      <td>36</td>\n",
       "      <td>среднее</td>\n",
       "      <td>1</td>\n",
       "      <td>женат / замужем</td>\n",
       "      <td>0</td>\n",
       "      <td>M</td>\n",
       "      <td>сотрудник</td>\n",
       "      <td>0</td>\n",
       "      <td>209552.644578</td>\n",
       "      <td>недвижимость</td>\n",
       "    </tr>\n",
       "    <tr>\n",
       "      <th>21</th>\n",
       "      <td>1</td>\n",
       "      <td>-253.685166</td>\n",
       "      <td>33</td>\n",
       "      <td>среднее</td>\n",
       "      <td>1</td>\n",
       "      <td>гражданский брак</td>\n",
       "      <td>1</td>\n",
       "      <td>F</td>\n",
       "      <td>сотрудник</td>\n",
       "      <td>0</td>\n",
       "      <td>131812.203909</td>\n",
       "      <td>приобретение автомобиля</td>\n",
       "    </tr>\n",
       "    <tr>\n",
       "      <th>22</th>\n",
       "      <td>1</td>\n",
       "      <td>-1766.644138</td>\n",
       "      <td>24</td>\n",
       "      <td>среднее</td>\n",
       "      <td>1</td>\n",
       "      <td>гражданский брак</td>\n",
       "      <td>1</td>\n",
       "      <td>F</td>\n",
       "      <td>сотрудник</td>\n",
       "      <td>0</td>\n",
       "      <td>149681.140731</td>\n",
       "      <td>на покупку подержанного автомобиля</td>\n",
       "    </tr>\n",
       "    <tr>\n",
       "      <th>23</th>\n",
       "      <td>0</td>\n",
       "      <td>-272.981385</td>\n",
       "      <td>21</td>\n",
       "      <td>высшее</td>\n",
       "      <td>0</td>\n",
       "      <td>гражданский брак</td>\n",
       "      <td>1</td>\n",
       "      <td>M</td>\n",
       "      <td>сотрудник</td>\n",
       "      <td>0</td>\n",
       "      <td>128265.720871</td>\n",
       "      <td>сыграть свадьбу</td>\n",
       "    </tr>\n",
       "    <tr>\n",
       "      <th>24</th>\n",
       "      <td>1</td>\n",
       "      <td>338551.952911</td>\n",
       "      <td>57</td>\n",
       "      <td>среднее</td>\n",
       "      <td>1</td>\n",
       "      <td>Не женат / не замужем</td>\n",
       "      <td>4</td>\n",
       "      <td>F</td>\n",
       "      <td>пенсионер</td>\n",
       "      <td>0</td>\n",
       "      <td>290547.235997</td>\n",
       "      <td>операции с коммерческой недвижимостью</td>\n",
       "    </tr>\n",
       "    <tr>\n",
       "      <th>25</th>\n",
       "      <td>0</td>\n",
       "      <td>363548.489348</td>\n",
       "      <td>67</td>\n",
       "      <td>среднее</td>\n",
       "      <td>1</td>\n",
       "      <td>женат / замужем</td>\n",
       "      <td>0</td>\n",
       "      <td>M</td>\n",
       "      <td>пенсионер</td>\n",
       "      <td>0</td>\n",
       "      <td>55112.757732</td>\n",
       "      <td>покупка недвижимости</td>\n",
       "    </tr>\n",
       "    <tr>\n",
       "      <th>26</th>\n",
       "      <td>0</td>\n",
       "      <td>NaN</td>\n",
       "      <td>41</td>\n",
       "      <td>среднее</td>\n",
       "      <td>1</td>\n",
       "      <td>женат / замужем</td>\n",
       "      <td>0</td>\n",
       "      <td>M</td>\n",
       "      <td>госслужащий</td>\n",
       "      <td>0</td>\n",
       "      <td>150447.935283</td>\n",
       "      <td>образование</td>\n",
       "    </tr>\n",
       "    <tr>\n",
       "      <th>27</th>\n",
       "      <td>0</td>\n",
       "      <td>-529.191635</td>\n",
       "      <td>28</td>\n",
       "      <td>высшее</td>\n",
       "      <td>0</td>\n",
       "      <td>женат / замужем</td>\n",
       "      <td>0</td>\n",
       "      <td>M</td>\n",
       "      <td>сотрудник</td>\n",
       "      <td>0</td>\n",
       "      <td>308848.983691</td>\n",
       "      <td>строительство собственной недвижимости</td>\n",
       "    </tr>\n",
       "    <tr>\n",
       "      <th>28</th>\n",
       "      <td>1</td>\n",
       "      <td>-717.274324</td>\n",
       "      <td>26</td>\n",
       "      <td>высшее</td>\n",
       "      <td>0</td>\n",
       "      <td>женат / замужем</td>\n",
       "      <td>0</td>\n",
       "      <td>F</td>\n",
       "      <td>сотрудник</td>\n",
       "      <td>0</td>\n",
       "      <td>187863.237306</td>\n",
       "      <td>строительство собственной недвижимости</td>\n",
       "    </tr>\n",
       "    <tr>\n",
       "      <th>29</th>\n",
       "      <td>0</td>\n",
       "      <td>NaN</td>\n",
       "      <td>63</td>\n",
       "      <td>среднее</td>\n",
       "      <td>1</td>\n",
       "      <td>Не женат / не замужем</td>\n",
       "      <td>4</td>\n",
       "      <td>F</td>\n",
       "      <td>пенсионер</td>\n",
       "      <td>0</td>\n",
       "      <td>118514.486412</td>\n",
       "      <td>строительство жилой недвижимости</td>\n",
       "    </tr>\n",
       "  </tbody>\n",
       "</table>\n",
       "</div>"
      ],
      "text/plain": [
       "    children  days_employed  dob_years            education  education_id  \\\n",
       "0          1   -8437.673028         42               высшее             0   \n",
       "1          1   -4024.803754         36              среднее             1   \n",
       "2          0   -5623.422610         33              Среднее             1   \n",
       "3          3   -4124.747207         32              среднее             1   \n",
       "4          0  340266.072047         53              среднее             1   \n",
       "5          0    -926.185831         27               высшее             0   \n",
       "6          0   -2879.202052         43               высшее             0   \n",
       "7          0    -152.779569         50              СРЕДНЕЕ             1   \n",
       "8          2   -6929.865299         35               ВЫСШЕЕ             0   \n",
       "9          0   -2188.756445         41              среднее             1   \n",
       "10         2   -4171.483647         36               высшее             0   \n",
       "11         0    -792.701887         40              среднее             1   \n",
       "12         0            NaN         65              среднее             1   \n",
       "13         0   -1846.641941         54  неоконченное высшее             2   \n",
       "14         0   -1844.956182         56               высшее             0   \n",
       "15         1    -972.364419         26              среднее             1   \n",
       "16         0   -1719.934226         35              среднее             1   \n",
       "17         0   -2369.999720         33               высшее             0   \n",
       "18         0  400281.136913         53              среднее             1   \n",
       "19         0  -10038.818549         48              СРЕДНЕЕ             1   \n",
       "20         1   -1311.604166         36              среднее             1   \n",
       "21         1    -253.685166         33              среднее             1   \n",
       "22         1   -1766.644138         24              среднее             1   \n",
       "23         0    -272.981385         21               высшее             0   \n",
       "24         1  338551.952911         57              среднее             1   \n",
       "25         0  363548.489348         67              среднее             1   \n",
       "26         0            NaN         41              среднее             1   \n",
       "27         0    -529.191635         28               высшее             0   \n",
       "28         1    -717.274324         26               высшее             0   \n",
       "29         0            NaN         63              среднее             1   \n",
       "\n",
       "            family_status  family_status_id gender  income_type  debt  \\\n",
       "0         женат / замужем                 0      F    сотрудник     0   \n",
       "1         женат / замужем                 0      F    сотрудник     0   \n",
       "2         женат / замужем                 0      M    сотрудник     0   \n",
       "3         женат / замужем                 0      M    сотрудник     0   \n",
       "4        гражданский брак                 1      F    пенсионер     0   \n",
       "5        гражданский брак                 1      M    компаньон     0   \n",
       "6         женат / замужем                 0      F    компаньон     0   \n",
       "7         женат / замужем                 0      M    сотрудник     0   \n",
       "8        гражданский брак                 1      F    сотрудник     0   \n",
       "9         женат / замужем                 0      M    сотрудник     0   \n",
       "10        женат / замужем                 0      M    компаньон     0   \n",
       "11        женат / замужем                 0      F    сотрудник     0   \n",
       "12       гражданский брак                 1      M    пенсионер     0   \n",
       "13        женат / замужем                 0      F    сотрудник     0   \n",
       "14       гражданский брак                 1      F    компаньон     1   \n",
       "15        женат / замужем                 0      F    сотрудник     0   \n",
       "16        женат / замужем                 0      F    сотрудник     0   \n",
       "17       гражданский брак                 1      M    сотрудник     0   \n",
       "18         вдовец / вдова                 2      F    пенсионер     0   \n",
       "19              в разводе                 3      F    сотрудник     0   \n",
       "20        женат / замужем                 0      M    сотрудник     0   \n",
       "21       гражданский брак                 1      F    сотрудник     0   \n",
       "22       гражданский брак                 1      F    сотрудник     0   \n",
       "23       гражданский брак                 1      M    сотрудник     0   \n",
       "24  Не женат / не замужем                 4      F    пенсионер     0   \n",
       "25        женат / замужем                 0      M    пенсионер     0   \n",
       "26        женат / замужем                 0      M  госслужащий     0   \n",
       "27        женат / замужем                 0      M    сотрудник     0   \n",
       "28        женат / замужем                 0      F    сотрудник     0   \n",
       "29  Не женат / не замужем                 4      F    пенсионер     0   \n",
       "\n",
       "     total_income                                 purpose  \n",
       "0   253875.639453                           покупка жилья  \n",
       "1   112080.014102                 приобретение автомобиля  \n",
       "2   145885.952297                           покупка жилья  \n",
       "3   267628.550329              дополнительное образование  \n",
       "4   158616.077870                         сыграть свадьбу  \n",
       "5   255763.565419                           покупка жилья  \n",
       "6   240525.971920                       операции с жильем  \n",
       "7   135823.934197                             образование  \n",
       "8    95856.832424                   на проведение свадьбы  \n",
       "9   144425.938277                 покупка жилья для семьи  \n",
       "10  113943.491460                    покупка недвижимости  \n",
       "11   77069.234271       покупка коммерческой недвижимости  \n",
       "12  118514.486412                         сыграть свадьбу  \n",
       "13  130458.228857                 приобретение автомобиля  \n",
       "14  165127.911772              покупка жилой недвижимости  \n",
       "15  116820.904450  строительство собственной недвижимости  \n",
       "16  289202.704229                            недвижимость  \n",
       "17   90410.586745              строительство недвижимости  \n",
       "18   56823.777243      на покупку подержанного автомобиля  \n",
       "19  242831.107982            на покупку своего автомобиля  \n",
       "20  209552.644578                            недвижимость  \n",
       "21  131812.203909                 приобретение автомобиля  \n",
       "22  149681.140731      на покупку подержанного автомобиля  \n",
       "23  128265.720871                         сыграть свадьбу  \n",
       "24  290547.235997   операции с коммерческой недвижимостью  \n",
       "25   55112.757732                    покупка недвижимости  \n",
       "26  150447.935283                             образование  \n",
       "27  308848.983691  строительство собственной недвижимости  \n",
       "28  187863.237306  строительство собственной недвижимости  \n",
       "29  118514.486412        строительство жилой недвижимости  "
      ]
     },
     "execution_count": 9,
     "metadata": {},
     "output_type": "execute_result"
    }
   ],
   "source": [
    "# найдем медианное значение исходя из конкретной группы занятости\n",
    "# метод transform() используется совместно с методом groupby() для эффективного суммирования данных\n",
    "median_type = data.groupby('income_type')['total_income'].transform('median')\n",
    "median_type # что получилось\n",
    "# далее заменим пропуски в столбце total_income полученной медианой и выведем результат\n",
    "data['total_income'] = data['total_income'].fillna(median_type)\n",
    "data.head(30)"
   ]
  },
  {
   "cell_type": "markdown",
   "id": "89da5ece",
   "metadata": {
    "deletable": false,
    "editable": false,
    "id": "89da5ece"
   },
   "source": [
    "### Обработка аномальных значений"
   ]
  },
  {
   "cell_type": "markdown",
   "id": "57964554",
   "metadata": {
    "deletable": false,
    "editable": false,
    "id": "57964554",
    "tags": [
     "start_task"
    ]
   },
   "source": [
    "**Задание 6. В данных могут встречаться артефакты (аномалии) — значения, которые не отражают действительность и появились по какой-то ошибке. Таким артефактом будет отрицательное количество дней трудового стажа в столбце `days_employed`. Для реальных данных это нормально. Обработайте значения в этом столбце: замените все отрицательные значения положительными с помощью метода `abs()`.**"
   ]
  },
  {
   "cell_type": "code",
   "execution_count": 10,
   "id": "f6f055bf",
   "metadata": {
    "id": "f6f055bf"
   },
   "outputs": [
    {
     "data": {
      "text/html": [
       "<div>\n",
       "<style scoped>\n",
       "    .dataframe tbody tr th:only-of-type {\n",
       "        vertical-align: middle;\n",
       "    }\n",
       "\n",
       "    .dataframe tbody tr th {\n",
       "        vertical-align: top;\n",
       "    }\n",
       "\n",
       "    .dataframe thead th {\n",
       "        text-align: right;\n",
       "    }\n",
       "</style>\n",
       "<table border=\"1\" class=\"dataframe\">\n",
       "  <thead>\n",
       "    <tr style=\"text-align: right;\">\n",
       "      <th></th>\n",
       "      <th>children</th>\n",
       "      <th>days_employed</th>\n",
       "      <th>dob_years</th>\n",
       "      <th>education</th>\n",
       "      <th>education_id</th>\n",
       "      <th>family_status</th>\n",
       "      <th>family_status_id</th>\n",
       "      <th>gender</th>\n",
       "      <th>income_type</th>\n",
       "      <th>debt</th>\n",
       "      <th>total_income</th>\n",
       "      <th>purpose</th>\n",
       "    </tr>\n",
       "  </thead>\n",
       "  <tbody>\n",
       "    <tr>\n",
       "      <th>0</th>\n",
       "      <td>1</td>\n",
       "      <td>8437.673028</td>\n",
       "      <td>42</td>\n",
       "      <td>высшее</td>\n",
       "      <td>0</td>\n",
       "      <td>женат / замужем</td>\n",
       "      <td>0</td>\n",
       "      <td>F</td>\n",
       "      <td>сотрудник</td>\n",
       "      <td>0</td>\n",
       "      <td>253875.639453</td>\n",
       "      <td>покупка жилья</td>\n",
       "    </tr>\n",
       "    <tr>\n",
       "      <th>1</th>\n",
       "      <td>1</td>\n",
       "      <td>4024.803754</td>\n",
       "      <td>36</td>\n",
       "      <td>среднее</td>\n",
       "      <td>1</td>\n",
       "      <td>женат / замужем</td>\n",
       "      <td>0</td>\n",
       "      <td>F</td>\n",
       "      <td>сотрудник</td>\n",
       "      <td>0</td>\n",
       "      <td>112080.014102</td>\n",
       "      <td>приобретение автомобиля</td>\n",
       "    </tr>\n",
       "    <tr>\n",
       "      <th>2</th>\n",
       "      <td>0</td>\n",
       "      <td>5623.422610</td>\n",
       "      <td>33</td>\n",
       "      <td>Среднее</td>\n",
       "      <td>1</td>\n",
       "      <td>женат / замужем</td>\n",
       "      <td>0</td>\n",
       "      <td>M</td>\n",
       "      <td>сотрудник</td>\n",
       "      <td>0</td>\n",
       "      <td>145885.952297</td>\n",
       "      <td>покупка жилья</td>\n",
       "    </tr>\n",
       "    <tr>\n",
       "      <th>3</th>\n",
       "      <td>3</td>\n",
       "      <td>4124.747207</td>\n",
       "      <td>32</td>\n",
       "      <td>среднее</td>\n",
       "      <td>1</td>\n",
       "      <td>женат / замужем</td>\n",
       "      <td>0</td>\n",
       "      <td>M</td>\n",
       "      <td>сотрудник</td>\n",
       "      <td>0</td>\n",
       "      <td>267628.550329</td>\n",
       "      <td>дополнительное образование</td>\n",
       "    </tr>\n",
       "    <tr>\n",
       "      <th>4</th>\n",
       "      <td>0</td>\n",
       "      <td>340266.072047</td>\n",
       "      <td>53</td>\n",
       "      <td>среднее</td>\n",
       "      <td>1</td>\n",
       "      <td>гражданский брак</td>\n",
       "      <td>1</td>\n",
       "      <td>F</td>\n",
       "      <td>пенсионер</td>\n",
       "      <td>0</td>\n",
       "      <td>158616.077870</td>\n",
       "      <td>сыграть свадьбу</td>\n",
       "    </tr>\n",
       "    <tr>\n",
       "      <th>...</th>\n",
       "      <td>...</td>\n",
       "      <td>...</td>\n",
       "      <td>...</td>\n",
       "      <td>...</td>\n",
       "      <td>...</td>\n",
       "      <td>...</td>\n",
       "      <td>...</td>\n",
       "      <td>...</td>\n",
       "      <td>...</td>\n",
       "      <td>...</td>\n",
       "      <td>...</td>\n",
       "      <td>...</td>\n",
       "    </tr>\n",
       "    <tr>\n",
       "      <th>21520</th>\n",
       "      <td>1</td>\n",
       "      <td>4529.316663</td>\n",
       "      <td>43</td>\n",
       "      <td>среднее</td>\n",
       "      <td>1</td>\n",
       "      <td>гражданский брак</td>\n",
       "      <td>1</td>\n",
       "      <td>F</td>\n",
       "      <td>компаньон</td>\n",
       "      <td>0</td>\n",
       "      <td>224791.862382</td>\n",
       "      <td>операции с жильем</td>\n",
       "    </tr>\n",
       "    <tr>\n",
       "      <th>21521</th>\n",
       "      <td>0</td>\n",
       "      <td>343937.404131</td>\n",
       "      <td>67</td>\n",
       "      <td>среднее</td>\n",
       "      <td>1</td>\n",
       "      <td>женат / замужем</td>\n",
       "      <td>0</td>\n",
       "      <td>F</td>\n",
       "      <td>пенсионер</td>\n",
       "      <td>0</td>\n",
       "      <td>155999.806512</td>\n",
       "      <td>сделка с автомобилем</td>\n",
       "    </tr>\n",
       "    <tr>\n",
       "      <th>21522</th>\n",
       "      <td>1</td>\n",
       "      <td>2113.346888</td>\n",
       "      <td>38</td>\n",
       "      <td>среднее</td>\n",
       "      <td>1</td>\n",
       "      <td>гражданский брак</td>\n",
       "      <td>1</td>\n",
       "      <td>M</td>\n",
       "      <td>сотрудник</td>\n",
       "      <td>1</td>\n",
       "      <td>89672.561153</td>\n",
       "      <td>недвижимость</td>\n",
       "    </tr>\n",
       "    <tr>\n",
       "      <th>21523</th>\n",
       "      <td>3</td>\n",
       "      <td>3112.481705</td>\n",
       "      <td>38</td>\n",
       "      <td>среднее</td>\n",
       "      <td>1</td>\n",
       "      <td>женат / замужем</td>\n",
       "      <td>0</td>\n",
       "      <td>M</td>\n",
       "      <td>сотрудник</td>\n",
       "      <td>1</td>\n",
       "      <td>244093.050500</td>\n",
       "      <td>на покупку своего автомобиля</td>\n",
       "    </tr>\n",
       "    <tr>\n",
       "      <th>21524</th>\n",
       "      <td>2</td>\n",
       "      <td>1984.507589</td>\n",
       "      <td>40</td>\n",
       "      <td>среднее</td>\n",
       "      <td>1</td>\n",
       "      <td>женат / замужем</td>\n",
       "      <td>0</td>\n",
       "      <td>F</td>\n",
       "      <td>сотрудник</td>\n",
       "      <td>0</td>\n",
       "      <td>82047.418899</td>\n",
       "      <td>на покупку автомобиля</td>\n",
       "    </tr>\n",
       "  </tbody>\n",
       "</table>\n",
       "<p>21525 rows × 12 columns</p>\n",
       "</div>"
      ],
      "text/plain": [
       "       children  days_employed  dob_years education  education_id  \\\n",
       "0             1    8437.673028         42    высшее             0   \n",
       "1             1    4024.803754         36   среднее             1   \n",
       "2             0    5623.422610         33   Среднее             1   \n",
       "3             3    4124.747207         32   среднее             1   \n",
       "4             0  340266.072047         53   среднее             1   \n",
       "...         ...            ...        ...       ...           ...   \n",
       "21520         1    4529.316663         43   среднее             1   \n",
       "21521         0  343937.404131         67   среднее             1   \n",
       "21522         1    2113.346888         38   среднее             1   \n",
       "21523         3    3112.481705         38   среднее             1   \n",
       "21524         2    1984.507589         40   среднее             1   \n",
       "\n",
       "          family_status  family_status_id gender income_type  debt  \\\n",
       "0       женат / замужем                 0      F   сотрудник     0   \n",
       "1       женат / замужем                 0      F   сотрудник     0   \n",
       "2       женат / замужем                 0      M   сотрудник     0   \n",
       "3       женат / замужем                 0      M   сотрудник     0   \n",
       "4      гражданский брак                 1      F   пенсионер     0   \n",
       "...                 ...               ...    ...         ...   ...   \n",
       "21520  гражданский брак                 1      F   компаньон     0   \n",
       "21521   женат / замужем                 0      F   пенсионер     0   \n",
       "21522  гражданский брак                 1      M   сотрудник     1   \n",
       "21523   женат / замужем                 0      M   сотрудник     1   \n",
       "21524   женат / замужем                 0      F   сотрудник     0   \n",
       "\n",
       "        total_income                       purpose  \n",
       "0      253875.639453                 покупка жилья  \n",
       "1      112080.014102       приобретение автомобиля  \n",
       "2      145885.952297                 покупка жилья  \n",
       "3      267628.550329    дополнительное образование  \n",
       "4      158616.077870               сыграть свадьбу  \n",
       "...              ...                           ...  \n",
       "21520  224791.862382             операции с жильем  \n",
       "21521  155999.806512          сделка с автомобилем  \n",
       "21522   89672.561153                  недвижимость  \n",
       "21523  244093.050500  на покупку своего автомобиля  \n",
       "21524   82047.418899         на покупку автомобиля  \n",
       "\n",
       "[21525 rows x 12 columns]"
      ]
     },
     "execution_count": 10,
     "metadata": {},
     "output_type": "execute_result"
    }
   ],
   "source": [
    "# работаем со столбцом days_employed. замена отрицательных значений на положительные  с помощью метода abs()\n",
    "data['days_employed'] = data['days_employed'].abs()\n",
    "data"
   ]
  },
  {
   "cell_type": "markdown",
   "id": "6107dd2f",
   "metadata": {
    "deletable": false,
    "editable": false,
    "id": "6107dd2f",
    "tags": [
     "start_task"
    ]
   },
   "source": [
    "**Задание 7. Для каждого типа занятости выведите медианное значение трудового стажа `days_employed` в днях.**"
   ]
  },
  {
   "cell_type": "code",
   "execution_count": 11,
   "id": "85a5faf6",
   "metadata": {
    "id": "85a5faf6"
   },
   "outputs": [
    {
     "data": {
      "text/plain": [
       "income_type\n",
       "безработный        366413.652744\n",
       "в декрете            3296.759962\n",
       "госслужащий          2689.368353\n",
       "компаньон            1547.382223\n",
       "пенсионер          365213.306266\n",
       "предприниматель       520.848083\n",
       "сотрудник            1574.202821\n",
       "студент               578.751554\n",
       "Name: days_employed, dtype: float64"
      ]
     },
     "execution_count": 11,
     "metadata": {},
     "output_type": "execute_result"
    }
   ],
   "source": [
    "# найдем медианное значение трудового стажа исходя из конкретной группы занятости\n",
    "median_days = data.groupby('income_type')['days_employed'].median()\n",
    "median_days"
   ]
  },
  {
   "cell_type": "markdown",
   "id": "38d1a030",
   "metadata": {
    "deletable": false,
    "editable": false,
    "id": "38d1a030"
   },
   "source": [
    "У двух типов (безработные и пенсионеры) получатся аномально большие значения. Исправить такие значения сложно, поэтому оставьте их как есть. Тем более этот столбец не понадобится вам для исследования."
   ]
  },
  {
   "cell_type": "markdown",
   "id": "256eb2fe",
   "metadata": {},
   "source": [
    "`У двух типов (безработные и пенсионеры) получаются аномально большие значения, более 365000 дней. По расчету это более 1000 лет. Если возникнет необходимость дальше изучить влияние стажа на возврат кредита, то по данным типам необходима дополнительная информация. Кроме того, дни можно будет перевести в года для простоты расчета и визуального восприятия`"
   ]
  },
  {
   "cell_type": "markdown",
   "id": "d8a9f147",
   "metadata": {
    "deletable": false,
    "editable": false,
    "id": "d8a9f147",
    "tags": [
     "start_task"
    ]
   },
   "source": [
    "**Задание 8. Выведите перечень уникальных значений столбца `children`.**"
   ]
  },
  {
   "cell_type": "code",
   "execution_count": 12,
   "id": "ef5056eb",
   "metadata": {
    "id": "ef5056eb",
    "scrolled": true
   },
   "outputs": [
    {
     "name": "stdout",
     "output_type": "stream",
     "text": [
      "[ 1  0  3  2 -1  4 20  5]\n"
     ]
    }
   ],
   "source": [
    "# С помощью метода unique() выведем уникальные значения столбца children\n",
    "print(data['children'].unique())"
   ]
  },
  {
   "cell_type": "markdown",
   "id": "b5be6064",
   "metadata": {},
   "source": [
    "`В столбце children закрались два неожиданных значения. Понятно, что -1 ребенка не может быть. Да и 20 детей у заявителя - тоже вероятность очень маленькая. Нужно удалить лишние строки`"
   ]
  },
  {
   "cell_type": "markdown",
   "id": "40b9ebf2",
   "metadata": {
    "deletable": false,
    "editable": false,
    "id": "40b9ebf2",
    "tags": [
     "start_task"
    ]
   },
   "source": [
    "**Задание 9. В столбце `children` есть два аномальных значения. Удалите строки, в которых встречаются такие аномальные значения из датафрейма `data`.**"
   ]
  },
  {
   "cell_type": "code",
   "execution_count": 13,
   "id": "0ccf77a5",
   "metadata": {
    "scrolled": true
   },
   "outputs": [],
   "source": [
    "# Прописываем условия, по которым наша таблица будет без аномальных значений\n",
    "data = data[(data.children!= -1)&(data.children!=20)]"
   ]
  },
  {
   "cell_type": "markdown",
   "id": "bbc4d0ce",
   "metadata": {
    "deletable": false,
    "editable": false,
    "id": "bbc4d0ce",
    "tags": [
     "start_task"
    ]
   },
   "source": [
    "**Задание 10. Ещё раз выведите перечень уникальных значений столбца `children`, чтобы убедиться, что артефакты удалены.**"
   ]
  },
  {
   "cell_type": "code",
   "execution_count": 14,
   "id": "51e0d7ef",
   "metadata": {},
   "outputs": [
    {
     "name": "stdout",
     "output_type": "stream",
     "text": [
      "[1 0 3 2 4 5]\n"
     ]
    }
   ],
   "source": [
    "print(data['children'].unique())"
   ]
  },
  {
   "cell_type": "markdown",
   "id": "23ac9de4",
   "metadata": {
    "id": "ad4fa8b7"
   },
   "source": [
    "`Артефакты удалены`"
   ]
  },
  {
   "cell_type": "markdown",
   "id": "75440b63",
   "metadata": {
    "deletable": false,
    "editable": false,
    "id": "75440b63"
   },
   "source": [
    "### Удаление пропусков (продолжение)"
   ]
  },
  {
   "cell_type": "markdown",
   "id": "f4ea573f",
   "metadata": {
    "deletable": false,
    "editable": false,
    "id": "f4ea573f",
    "tags": [
     "start_task"
    ]
   },
   "source": [
    "**Задание 11. Заполните пропуски в столбце `days_employed` медианными значениями по каждому типу занятости `income_type`.**"
   ]
  },
  {
   "cell_type": "code",
   "execution_count": 15,
   "id": "af6b1a7e",
   "metadata": {
    "id": "af6b1a7e",
    "scrolled": false
   },
   "outputs": [
    {
     "name": "stderr",
     "output_type": "stream",
     "text": [
      "/tmp/ipykernel_48/3283651620.py:5: SettingWithCopyWarning: \n",
      "A value is trying to be set on a copy of a slice from a DataFrame.\n",
      "Try using .loc[row_indexer,col_indexer] = value instead\n",
      "\n",
      "See the caveats in the documentation: https://pandas.pydata.org/pandas-docs/stable/user_guide/indexing.html#returning-a-view-versus-a-copy\n",
      "  data['days_employed'] = data['days_employed'].fillna(median_days)\n"
     ]
    },
    {
     "data": {
      "text/html": [
       "<div>\n",
       "<style scoped>\n",
       "    .dataframe tbody tr th:only-of-type {\n",
       "        vertical-align: middle;\n",
       "    }\n",
       "\n",
       "    .dataframe tbody tr th {\n",
       "        vertical-align: top;\n",
       "    }\n",
       "\n",
       "    .dataframe thead th {\n",
       "        text-align: right;\n",
       "    }\n",
       "</style>\n",
       "<table border=\"1\" class=\"dataframe\">\n",
       "  <thead>\n",
       "    <tr style=\"text-align: right;\">\n",
       "      <th></th>\n",
       "      <th>children</th>\n",
       "      <th>days_employed</th>\n",
       "      <th>dob_years</th>\n",
       "      <th>education</th>\n",
       "      <th>education_id</th>\n",
       "      <th>family_status</th>\n",
       "      <th>family_status_id</th>\n",
       "      <th>gender</th>\n",
       "      <th>income_type</th>\n",
       "      <th>debt</th>\n",
       "      <th>total_income</th>\n",
       "      <th>purpose</th>\n",
       "    </tr>\n",
       "  </thead>\n",
       "  <tbody>\n",
       "    <tr>\n",
       "      <th>0</th>\n",
       "      <td>1</td>\n",
       "      <td>8437.673028</td>\n",
       "      <td>42</td>\n",
       "      <td>высшее</td>\n",
       "      <td>0</td>\n",
       "      <td>женат / замужем</td>\n",
       "      <td>0</td>\n",
       "      <td>F</td>\n",
       "      <td>сотрудник</td>\n",
       "      <td>0</td>\n",
       "      <td>253875.639453</td>\n",
       "      <td>покупка жилья</td>\n",
       "    </tr>\n",
       "    <tr>\n",
       "      <th>1</th>\n",
       "      <td>1</td>\n",
       "      <td>4024.803754</td>\n",
       "      <td>36</td>\n",
       "      <td>среднее</td>\n",
       "      <td>1</td>\n",
       "      <td>женат / замужем</td>\n",
       "      <td>0</td>\n",
       "      <td>F</td>\n",
       "      <td>сотрудник</td>\n",
       "      <td>0</td>\n",
       "      <td>112080.014102</td>\n",
       "      <td>приобретение автомобиля</td>\n",
       "    </tr>\n",
       "    <tr>\n",
       "      <th>2</th>\n",
       "      <td>0</td>\n",
       "      <td>5623.422610</td>\n",
       "      <td>33</td>\n",
       "      <td>Среднее</td>\n",
       "      <td>1</td>\n",
       "      <td>женат / замужем</td>\n",
       "      <td>0</td>\n",
       "      <td>M</td>\n",
       "      <td>сотрудник</td>\n",
       "      <td>0</td>\n",
       "      <td>145885.952297</td>\n",
       "      <td>покупка жилья</td>\n",
       "    </tr>\n",
       "    <tr>\n",
       "      <th>3</th>\n",
       "      <td>3</td>\n",
       "      <td>4124.747207</td>\n",
       "      <td>32</td>\n",
       "      <td>среднее</td>\n",
       "      <td>1</td>\n",
       "      <td>женат / замужем</td>\n",
       "      <td>0</td>\n",
       "      <td>M</td>\n",
       "      <td>сотрудник</td>\n",
       "      <td>0</td>\n",
       "      <td>267628.550329</td>\n",
       "      <td>дополнительное образование</td>\n",
       "    </tr>\n",
       "    <tr>\n",
       "      <th>4</th>\n",
       "      <td>0</td>\n",
       "      <td>340266.072047</td>\n",
       "      <td>53</td>\n",
       "      <td>среднее</td>\n",
       "      <td>1</td>\n",
       "      <td>гражданский брак</td>\n",
       "      <td>1</td>\n",
       "      <td>F</td>\n",
       "      <td>пенсионер</td>\n",
       "      <td>0</td>\n",
       "      <td>158616.077870</td>\n",
       "      <td>сыграть свадьбу</td>\n",
       "    </tr>\n",
       "    <tr>\n",
       "      <th>5</th>\n",
       "      <td>0</td>\n",
       "      <td>926.185831</td>\n",
       "      <td>27</td>\n",
       "      <td>высшее</td>\n",
       "      <td>0</td>\n",
       "      <td>гражданский брак</td>\n",
       "      <td>1</td>\n",
       "      <td>M</td>\n",
       "      <td>компаньон</td>\n",
       "      <td>0</td>\n",
       "      <td>255763.565419</td>\n",
       "      <td>покупка жилья</td>\n",
       "    </tr>\n",
       "    <tr>\n",
       "      <th>6</th>\n",
       "      <td>0</td>\n",
       "      <td>2879.202052</td>\n",
       "      <td>43</td>\n",
       "      <td>высшее</td>\n",
       "      <td>0</td>\n",
       "      <td>женат / замужем</td>\n",
       "      <td>0</td>\n",
       "      <td>F</td>\n",
       "      <td>компаньон</td>\n",
       "      <td>0</td>\n",
       "      <td>240525.971920</td>\n",
       "      <td>операции с жильем</td>\n",
       "    </tr>\n",
       "    <tr>\n",
       "      <th>7</th>\n",
       "      <td>0</td>\n",
       "      <td>152.779569</td>\n",
       "      <td>50</td>\n",
       "      <td>СРЕДНЕЕ</td>\n",
       "      <td>1</td>\n",
       "      <td>женат / замужем</td>\n",
       "      <td>0</td>\n",
       "      <td>M</td>\n",
       "      <td>сотрудник</td>\n",
       "      <td>0</td>\n",
       "      <td>135823.934197</td>\n",
       "      <td>образование</td>\n",
       "    </tr>\n",
       "    <tr>\n",
       "      <th>8</th>\n",
       "      <td>2</td>\n",
       "      <td>6929.865299</td>\n",
       "      <td>35</td>\n",
       "      <td>ВЫСШЕЕ</td>\n",
       "      <td>0</td>\n",
       "      <td>гражданский брак</td>\n",
       "      <td>1</td>\n",
       "      <td>F</td>\n",
       "      <td>сотрудник</td>\n",
       "      <td>0</td>\n",
       "      <td>95856.832424</td>\n",
       "      <td>на проведение свадьбы</td>\n",
       "    </tr>\n",
       "    <tr>\n",
       "      <th>9</th>\n",
       "      <td>0</td>\n",
       "      <td>2188.756445</td>\n",
       "      <td>41</td>\n",
       "      <td>среднее</td>\n",
       "      <td>1</td>\n",
       "      <td>женат / замужем</td>\n",
       "      <td>0</td>\n",
       "      <td>M</td>\n",
       "      <td>сотрудник</td>\n",
       "      <td>0</td>\n",
       "      <td>144425.938277</td>\n",
       "      <td>покупка жилья для семьи</td>\n",
       "    </tr>\n",
       "    <tr>\n",
       "      <th>10</th>\n",
       "      <td>2</td>\n",
       "      <td>4171.483647</td>\n",
       "      <td>36</td>\n",
       "      <td>высшее</td>\n",
       "      <td>0</td>\n",
       "      <td>женат / замужем</td>\n",
       "      <td>0</td>\n",
       "      <td>M</td>\n",
       "      <td>компаньон</td>\n",
       "      <td>0</td>\n",
       "      <td>113943.491460</td>\n",
       "      <td>покупка недвижимости</td>\n",
       "    </tr>\n",
       "    <tr>\n",
       "      <th>11</th>\n",
       "      <td>0</td>\n",
       "      <td>792.701887</td>\n",
       "      <td>40</td>\n",
       "      <td>среднее</td>\n",
       "      <td>1</td>\n",
       "      <td>женат / замужем</td>\n",
       "      <td>0</td>\n",
       "      <td>F</td>\n",
       "      <td>сотрудник</td>\n",
       "      <td>0</td>\n",
       "      <td>77069.234271</td>\n",
       "      <td>покупка коммерческой недвижимости</td>\n",
       "    </tr>\n",
       "    <tr>\n",
       "      <th>12</th>\n",
       "      <td>0</td>\n",
       "      <td>365286.622650</td>\n",
       "      <td>65</td>\n",
       "      <td>среднее</td>\n",
       "      <td>1</td>\n",
       "      <td>гражданский брак</td>\n",
       "      <td>1</td>\n",
       "      <td>M</td>\n",
       "      <td>пенсионер</td>\n",
       "      <td>0</td>\n",
       "      <td>118514.486412</td>\n",
       "      <td>сыграть свадьбу</td>\n",
       "    </tr>\n",
       "    <tr>\n",
       "      <th>13</th>\n",
       "      <td>0</td>\n",
       "      <td>1846.641941</td>\n",
       "      <td>54</td>\n",
       "      <td>неоконченное высшее</td>\n",
       "      <td>2</td>\n",
       "      <td>женат / замужем</td>\n",
       "      <td>0</td>\n",
       "      <td>F</td>\n",
       "      <td>сотрудник</td>\n",
       "      <td>0</td>\n",
       "      <td>130458.228857</td>\n",
       "      <td>приобретение автомобиля</td>\n",
       "    </tr>\n",
       "    <tr>\n",
       "      <th>14</th>\n",
       "      <td>0</td>\n",
       "      <td>1844.956182</td>\n",
       "      <td>56</td>\n",
       "      <td>высшее</td>\n",
       "      <td>0</td>\n",
       "      <td>гражданский брак</td>\n",
       "      <td>1</td>\n",
       "      <td>F</td>\n",
       "      <td>компаньон</td>\n",
       "      <td>1</td>\n",
       "      <td>165127.911772</td>\n",
       "      <td>покупка жилой недвижимости</td>\n",
       "    </tr>\n",
       "    <tr>\n",
       "      <th>15</th>\n",
       "      <td>1</td>\n",
       "      <td>972.364419</td>\n",
       "      <td>26</td>\n",
       "      <td>среднее</td>\n",
       "      <td>1</td>\n",
       "      <td>женат / замужем</td>\n",
       "      <td>0</td>\n",
       "      <td>F</td>\n",
       "      <td>сотрудник</td>\n",
       "      <td>0</td>\n",
       "      <td>116820.904450</td>\n",
       "      <td>строительство собственной недвижимости</td>\n",
       "    </tr>\n",
       "    <tr>\n",
       "      <th>16</th>\n",
       "      <td>0</td>\n",
       "      <td>1719.934226</td>\n",
       "      <td>35</td>\n",
       "      <td>среднее</td>\n",
       "      <td>1</td>\n",
       "      <td>женат / замужем</td>\n",
       "      <td>0</td>\n",
       "      <td>F</td>\n",
       "      <td>сотрудник</td>\n",
       "      <td>0</td>\n",
       "      <td>289202.704229</td>\n",
       "      <td>недвижимость</td>\n",
       "    </tr>\n",
       "    <tr>\n",
       "      <th>17</th>\n",
       "      <td>0</td>\n",
       "      <td>2369.999720</td>\n",
       "      <td>33</td>\n",
       "      <td>высшее</td>\n",
       "      <td>0</td>\n",
       "      <td>гражданский брак</td>\n",
       "      <td>1</td>\n",
       "      <td>M</td>\n",
       "      <td>сотрудник</td>\n",
       "      <td>0</td>\n",
       "      <td>90410.586745</td>\n",
       "      <td>строительство недвижимости</td>\n",
       "    </tr>\n",
       "    <tr>\n",
       "      <th>18</th>\n",
       "      <td>0</td>\n",
       "      <td>400281.136913</td>\n",
       "      <td>53</td>\n",
       "      <td>среднее</td>\n",
       "      <td>1</td>\n",
       "      <td>вдовец / вдова</td>\n",
       "      <td>2</td>\n",
       "      <td>F</td>\n",
       "      <td>пенсионер</td>\n",
       "      <td>0</td>\n",
       "      <td>56823.777243</td>\n",
       "      <td>на покупку подержанного автомобиля</td>\n",
       "    </tr>\n",
       "    <tr>\n",
       "      <th>19</th>\n",
       "      <td>0</td>\n",
       "      <td>10038.818549</td>\n",
       "      <td>48</td>\n",
       "      <td>СРЕДНЕЕ</td>\n",
       "      <td>1</td>\n",
       "      <td>в разводе</td>\n",
       "      <td>3</td>\n",
       "      <td>F</td>\n",
       "      <td>сотрудник</td>\n",
       "      <td>0</td>\n",
       "      <td>242831.107982</td>\n",
       "      <td>на покупку своего автомобиля</td>\n",
       "    </tr>\n",
       "    <tr>\n",
       "      <th>20</th>\n",
       "      <td>1</td>\n",
       "      <td>1311.604166</td>\n",
       "      <td>36</td>\n",
       "      <td>среднее</td>\n",
       "      <td>1</td>\n",
       "      <td>женат / замужем</td>\n",
       "      <td>0</td>\n",
       "      <td>M</td>\n",
       "      <td>сотрудник</td>\n",
       "      <td>0</td>\n",
       "      <td>209552.644578</td>\n",
       "      <td>недвижимость</td>\n",
       "    </tr>\n",
       "    <tr>\n",
       "      <th>21</th>\n",
       "      <td>1</td>\n",
       "      <td>253.685166</td>\n",
       "      <td>33</td>\n",
       "      <td>среднее</td>\n",
       "      <td>1</td>\n",
       "      <td>гражданский брак</td>\n",
       "      <td>1</td>\n",
       "      <td>F</td>\n",
       "      <td>сотрудник</td>\n",
       "      <td>0</td>\n",
       "      <td>131812.203909</td>\n",
       "      <td>приобретение автомобиля</td>\n",
       "    </tr>\n",
       "    <tr>\n",
       "      <th>22</th>\n",
       "      <td>1</td>\n",
       "      <td>1766.644138</td>\n",
       "      <td>24</td>\n",
       "      <td>среднее</td>\n",
       "      <td>1</td>\n",
       "      <td>гражданский брак</td>\n",
       "      <td>1</td>\n",
       "      <td>F</td>\n",
       "      <td>сотрудник</td>\n",
       "      <td>0</td>\n",
       "      <td>149681.140731</td>\n",
       "      <td>на покупку подержанного автомобиля</td>\n",
       "    </tr>\n",
       "    <tr>\n",
       "      <th>23</th>\n",
       "      <td>0</td>\n",
       "      <td>272.981385</td>\n",
       "      <td>21</td>\n",
       "      <td>высшее</td>\n",
       "      <td>0</td>\n",
       "      <td>гражданский брак</td>\n",
       "      <td>1</td>\n",
       "      <td>M</td>\n",
       "      <td>сотрудник</td>\n",
       "      <td>0</td>\n",
       "      <td>128265.720871</td>\n",
       "      <td>сыграть свадьбу</td>\n",
       "    </tr>\n",
       "    <tr>\n",
       "      <th>24</th>\n",
       "      <td>1</td>\n",
       "      <td>338551.952911</td>\n",
       "      <td>57</td>\n",
       "      <td>среднее</td>\n",
       "      <td>1</td>\n",
       "      <td>Не женат / не замужем</td>\n",
       "      <td>4</td>\n",
       "      <td>F</td>\n",
       "      <td>пенсионер</td>\n",
       "      <td>0</td>\n",
       "      <td>290547.235997</td>\n",
       "      <td>операции с коммерческой недвижимостью</td>\n",
       "    </tr>\n",
       "    <tr>\n",
       "      <th>25</th>\n",
       "      <td>0</td>\n",
       "      <td>363548.489348</td>\n",
       "      <td>67</td>\n",
       "      <td>среднее</td>\n",
       "      <td>1</td>\n",
       "      <td>женат / замужем</td>\n",
       "      <td>0</td>\n",
       "      <td>M</td>\n",
       "      <td>пенсионер</td>\n",
       "      <td>0</td>\n",
       "      <td>55112.757732</td>\n",
       "      <td>покупка недвижимости</td>\n",
       "    </tr>\n",
       "    <tr>\n",
       "      <th>26</th>\n",
       "      <td>0</td>\n",
       "      <td>2689.137274</td>\n",
       "      <td>41</td>\n",
       "      <td>среднее</td>\n",
       "      <td>1</td>\n",
       "      <td>женат / замужем</td>\n",
       "      <td>0</td>\n",
       "      <td>M</td>\n",
       "      <td>госслужащий</td>\n",
       "      <td>0</td>\n",
       "      <td>150447.935283</td>\n",
       "      <td>образование</td>\n",
       "    </tr>\n",
       "    <tr>\n",
       "      <th>27</th>\n",
       "      <td>0</td>\n",
       "      <td>529.191635</td>\n",
       "      <td>28</td>\n",
       "      <td>высшее</td>\n",
       "      <td>0</td>\n",
       "      <td>женат / замужем</td>\n",
       "      <td>0</td>\n",
       "      <td>M</td>\n",
       "      <td>сотрудник</td>\n",
       "      <td>0</td>\n",
       "      <td>308848.983691</td>\n",
       "      <td>строительство собственной недвижимости</td>\n",
       "    </tr>\n",
       "    <tr>\n",
       "      <th>28</th>\n",
       "      <td>1</td>\n",
       "      <td>717.274324</td>\n",
       "      <td>26</td>\n",
       "      <td>высшее</td>\n",
       "      <td>0</td>\n",
       "      <td>женат / замужем</td>\n",
       "      <td>0</td>\n",
       "      <td>F</td>\n",
       "      <td>сотрудник</td>\n",
       "      <td>0</td>\n",
       "      <td>187863.237306</td>\n",
       "      <td>строительство собственной недвижимости</td>\n",
       "    </tr>\n",
       "    <tr>\n",
       "      <th>29</th>\n",
       "      <td>0</td>\n",
       "      <td>365286.622650</td>\n",
       "      <td>63</td>\n",
       "      <td>среднее</td>\n",
       "      <td>1</td>\n",
       "      <td>Не женат / не замужем</td>\n",
       "      <td>4</td>\n",
       "      <td>F</td>\n",
       "      <td>пенсионер</td>\n",
       "      <td>0</td>\n",
       "      <td>118514.486412</td>\n",
       "      <td>строительство жилой недвижимости</td>\n",
       "    </tr>\n",
       "  </tbody>\n",
       "</table>\n",
       "</div>"
      ],
      "text/plain": [
       "    children  days_employed  dob_years            education  education_id  \\\n",
       "0          1    8437.673028         42               высшее             0   \n",
       "1          1    4024.803754         36              среднее             1   \n",
       "2          0    5623.422610         33              Среднее             1   \n",
       "3          3    4124.747207         32              среднее             1   \n",
       "4          0  340266.072047         53              среднее             1   \n",
       "5          0     926.185831         27               высшее             0   \n",
       "6          0    2879.202052         43               высшее             0   \n",
       "7          0     152.779569         50              СРЕДНЕЕ             1   \n",
       "8          2    6929.865299         35               ВЫСШЕЕ             0   \n",
       "9          0    2188.756445         41              среднее             1   \n",
       "10         2    4171.483647         36               высшее             0   \n",
       "11         0     792.701887         40              среднее             1   \n",
       "12         0  365286.622650         65              среднее             1   \n",
       "13         0    1846.641941         54  неоконченное высшее             2   \n",
       "14         0    1844.956182         56               высшее             0   \n",
       "15         1     972.364419         26              среднее             1   \n",
       "16         0    1719.934226         35              среднее             1   \n",
       "17         0    2369.999720         33               высшее             0   \n",
       "18         0  400281.136913         53              среднее             1   \n",
       "19         0   10038.818549         48              СРЕДНЕЕ             1   \n",
       "20         1    1311.604166         36              среднее             1   \n",
       "21         1     253.685166         33              среднее             1   \n",
       "22         1    1766.644138         24              среднее             1   \n",
       "23         0     272.981385         21               высшее             0   \n",
       "24         1  338551.952911         57              среднее             1   \n",
       "25         0  363548.489348         67              среднее             1   \n",
       "26         0    2689.137274         41              среднее             1   \n",
       "27         0     529.191635         28               высшее             0   \n",
       "28         1     717.274324         26               высшее             0   \n",
       "29         0  365286.622650         63              среднее             1   \n",
       "\n",
       "            family_status  family_status_id gender  income_type  debt  \\\n",
       "0         женат / замужем                 0      F    сотрудник     0   \n",
       "1         женат / замужем                 0      F    сотрудник     0   \n",
       "2         женат / замужем                 0      M    сотрудник     0   \n",
       "3         женат / замужем                 0      M    сотрудник     0   \n",
       "4        гражданский брак                 1      F    пенсионер     0   \n",
       "5        гражданский брак                 1      M    компаньон     0   \n",
       "6         женат / замужем                 0      F    компаньон     0   \n",
       "7         женат / замужем                 0      M    сотрудник     0   \n",
       "8        гражданский брак                 1      F    сотрудник     0   \n",
       "9         женат / замужем                 0      M    сотрудник     0   \n",
       "10        женат / замужем                 0      M    компаньон     0   \n",
       "11        женат / замужем                 0      F    сотрудник     0   \n",
       "12       гражданский брак                 1      M    пенсионер     0   \n",
       "13        женат / замужем                 0      F    сотрудник     0   \n",
       "14       гражданский брак                 1      F    компаньон     1   \n",
       "15        женат / замужем                 0      F    сотрудник     0   \n",
       "16        женат / замужем                 0      F    сотрудник     0   \n",
       "17       гражданский брак                 1      M    сотрудник     0   \n",
       "18         вдовец / вдова                 2      F    пенсионер     0   \n",
       "19              в разводе                 3      F    сотрудник     0   \n",
       "20        женат / замужем                 0      M    сотрудник     0   \n",
       "21       гражданский брак                 1      F    сотрудник     0   \n",
       "22       гражданский брак                 1      F    сотрудник     0   \n",
       "23       гражданский брак                 1      M    сотрудник     0   \n",
       "24  Не женат / не замужем                 4      F    пенсионер     0   \n",
       "25        женат / замужем                 0      M    пенсионер     0   \n",
       "26        женат / замужем                 0      M  госслужащий     0   \n",
       "27        женат / замужем                 0      M    сотрудник     0   \n",
       "28        женат / замужем                 0      F    сотрудник     0   \n",
       "29  Не женат / не замужем                 4      F    пенсионер     0   \n",
       "\n",
       "     total_income                                 purpose  \n",
       "0   253875.639453                           покупка жилья  \n",
       "1   112080.014102                 приобретение автомобиля  \n",
       "2   145885.952297                           покупка жилья  \n",
       "3   267628.550329              дополнительное образование  \n",
       "4   158616.077870                         сыграть свадьбу  \n",
       "5   255763.565419                           покупка жилья  \n",
       "6   240525.971920                       операции с жильем  \n",
       "7   135823.934197                             образование  \n",
       "8    95856.832424                   на проведение свадьбы  \n",
       "9   144425.938277                 покупка жилья для семьи  \n",
       "10  113943.491460                    покупка недвижимости  \n",
       "11   77069.234271       покупка коммерческой недвижимости  \n",
       "12  118514.486412                         сыграть свадьбу  \n",
       "13  130458.228857                 приобретение автомобиля  \n",
       "14  165127.911772              покупка жилой недвижимости  \n",
       "15  116820.904450  строительство собственной недвижимости  \n",
       "16  289202.704229                            недвижимость  \n",
       "17   90410.586745              строительство недвижимости  \n",
       "18   56823.777243      на покупку подержанного автомобиля  \n",
       "19  242831.107982            на покупку своего автомобиля  \n",
       "20  209552.644578                            недвижимость  \n",
       "21  131812.203909                 приобретение автомобиля  \n",
       "22  149681.140731      на покупку подержанного автомобиля  \n",
       "23  128265.720871                         сыграть свадьбу  \n",
       "24  290547.235997   операции с коммерческой недвижимостью  \n",
       "25   55112.757732                    покупка недвижимости  \n",
       "26  150447.935283                             образование  \n",
       "27  308848.983691  строительство собственной недвижимости  \n",
       "28  187863.237306  строительство собственной недвижимости  \n",
       "29  118514.486412        строительство жилой недвижимости  "
      ]
     },
     "execution_count": 15,
     "metadata": {},
     "output_type": "execute_result"
    }
   ],
   "source": [
    "# В 7 задании мы уже находили медианные значения для столбца days_employed, поэтому сейчас в этой колонке заменяем ими  пропуски\n",
    "median_days = data.groupby('income_type')['days_employed'].transform('median')\n",
    "median_days # что получилось\n",
    "# далее заменим пропуски в столбце days_employed полученной медианой и выведем результат\n",
    "data['days_employed'] = data['days_employed'].fillna(median_days)\n",
    "data.head(30)"
   ]
  },
  {
   "cell_type": "markdown",
   "id": "2753f40d",
   "metadata": {
    "deletable": false,
    "editable": false,
    "id": "2753f40d",
    "tags": [
     "start_task"
    ]
   },
   "source": [
    "**Задание 12. Убедитесь, что все пропуски заполнены. Проверьте себя и ещё раз выведите количество пропущенных значений для каждого столбца с помощью двух методов.**"
   ]
  },
  {
   "cell_type": "code",
   "execution_count": 16,
   "id": "55f78bc2",
   "metadata": {
    "id": "55f78bc2"
   },
   "outputs": [
    {
     "data": {
      "text/plain": [
       "children            0\n",
       "days_employed       0\n",
       "dob_years           0\n",
       "education           0\n",
       "education_id        0\n",
       "family_status       0\n",
       "family_status_id    0\n",
       "gender              0\n",
       "income_type         0\n",
       "debt                0\n",
       "total_income        0\n",
       "purpose             0\n",
       "dtype: int64"
      ]
     },
     "execution_count": 16,
     "metadata": {},
     "output_type": "execute_result"
    }
   ],
   "source": [
    "data.isna().sum()"
   ]
  },
  {
   "cell_type": "markdown",
   "id": "ddc81e43",
   "metadata": {
    "deletable": false,
    "editable": false,
    "id": "ddc81e43"
   },
   "source": [
    "### Изменение типов данных"
   ]
  },
  {
   "cell_type": "markdown",
   "id": "42d19d24",
   "metadata": {
    "deletable": false,
    "editable": false,
    "id": "42d19d24",
    "tags": [
     "start_task"
    ]
   },
   "source": [
    "**Задание 13. Замените вещественный тип данных в столбце `total_income` на целочисленный с помощью метода `astype()`.**"
   ]
  },
  {
   "cell_type": "code",
   "execution_count": 17,
   "id": "920b65ad",
   "metadata": {
    "id": "920b65ad",
    "scrolled": true
   },
   "outputs": [
    {
     "name": "stdout",
     "output_type": "stream",
     "text": [
      "<class 'pandas.core.frame.DataFrame'>\n",
      "Int64Index: 21402 entries, 0 to 21524\n",
      "Data columns (total 12 columns):\n",
      " #   Column            Non-Null Count  Dtype  \n",
      "---  ------            --------------  -----  \n",
      " 0   children          21402 non-null  int64  \n",
      " 1   days_employed     21402 non-null  float64\n",
      " 2   dob_years         21402 non-null  int64  \n",
      " 3   education         21402 non-null  object \n",
      " 4   education_id      21402 non-null  int64  \n",
      " 5   family_status     21402 non-null  object \n",
      " 6   family_status_id  21402 non-null  int64  \n",
      " 7   gender            21402 non-null  object \n",
      " 8   income_type       21402 non-null  object \n",
      " 9   debt              21402 non-null  int64  \n",
      " 10  total_income      21402 non-null  int64  \n",
      " 11  purpose           21402 non-null  object \n",
      "dtypes: float64(1), int64(6), object(5)\n",
      "memory usage: 2.1+ MB\n"
     ]
    },
    {
     "name": "stderr",
     "output_type": "stream",
     "text": [
      "/tmp/ipykernel_48/3486728765.py:2: SettingWithCopyWarning: \n",
      "A value is trying to be set on a copy of a slice from a DataFrame.\n",
      "Try using .loc[row_indexer,col_indexer] = value instead\n",
      "\n",
      "See the caveats in the documentation: https://pandas.pydata.org/pandas-docs/stable/user_guide/indexing.html#returning-a-view-versus-a-copy\n",
      "  data['total_income']=data['total_income'].astype('int')\n"
     ]
    }
   ],
   "source": [
    "# Рассмотрим столбец total_incomeс. С помощью метода astype() заменим вещественный(float) тип на целочисленный(int)\n",
    "data['total_income']=data['total_income'].astype('int')\n",
    "data.info() # Посмотрим общую информацию по таблице"
   ]
  },
  {
   "cell_type": "markdown",
   "id": "5703c75f",
   "metadata": {},
   "source": [
    "`В результате замены колонка total_incomeс имеет целочисленный тип данных`"
   ]
  },
  {
   "cell_type": "markdown",
   "id": "80c420ba",
   "metadata": {
    "deletable": false,
    "editable": false,
    "id": "80c420ba"
   },
   "source": [
    "### Обработка дубликатов"
   ]
  },
  {
   "cell_type": "markdown",
   "id": "dc587695",
   "metadata": {
    "deletable": false,
    "editable": false,
    "id": "dc587695",
    "tags": [
     "start_task"
    ]
   },
   "source": [
    "**Задание 14. Выведите на экран количество строк-дубликатов в данных. Если такие строки присутствуют, удалите их.**"
   ]
  },
  {
   "cell_type": "markdown",
   "id": "f95899ac",
   "metadata": {},
   "source": [
    "`Задание 14 в самом дневнике описано не корректно. Смотреть задание в тренажере(слева)`"
   ]
  },
  {
   "cell_type": "code",
   "execution_count": 18,
   "id": "3ee445e4",
   "metadata": {
    "id": "3ee445e4",
    "scrolled": true
   },
   "outputs": [
    {
     "name": "stdout",
     "output_type": "stream",
     "text": [
      "0         высшее\n",
      "1        среднее\n",
      "2        среднее\n",
      "3        среднее\n",
      "4        среднее\n",
      "          ...   \n",
      "21520    среднее\n",
      "21521    среднее\n",
      "21522    среднее\n",
      "21523    среднее\n",
      "21524    среднее\n",
      "Name: education, Length: 21402, dtype: object\n"
     ]
    },
    {
     "name": "stderr",
     "output_type": "stream",
     "text": [
      "/tmp/ipykernel_48/1474982875.py:2: SettingWithCopyWarning: \n",
      "A value is trying to be set on a copy of a slice from a DataFrame.\n",
      "Try using .loc[row_indexer,col_indexer] = value instead\n",
      "\n",
      "See the caveats in the documentation: https://pandas.pydata.org/pandas-docs/stable/user_guide/indexing.html#returning-a-view-versus-a-copy\n",
      "  data['education'] = data['education'].str.lower()\n"
     ]
    }
   ],
   "source": [
    "# Каждая строка в столбце 'education' приводится к нижнему регистру. Используем метод lower()\n",
    "data['education'] = data['education'].str.lower()\n",
    "print(data['education']) # Выведем данные столбца education"
   ]
  },
  {
   "cell_type": "markdown",
   "id": "007adadf",
   "metadata": {},
   "source": [
    "`Все строки в столбце education приведены к нижнему регистру, как требует правило хорошего тона в анализе данных`"
   ]
  },
  {
   "cell_type": "markdown",
   "id": "9771a76c",
   "metadata": {
    "deletable": false,
    "editable": false,
    "id": "9771a76c",
    "tags": [
     "start_task"
    ]
   },
   "source": [
    "**Задание 15. Обработайте неявные дубликаты в столбце `education`. В этом столбце есть одни и те же значения, но записанные по-разному: с использованием заглавных и строчных букв. Приведите их к нижнему регистру.**"
   ]
  },
  {
   "cell_type": "markdown",
   "id": "757eaa94",
   "metadata": {},
   "source": [
    "`Задание 15 в самом дневнике описано не корректно. Смотреть задание в тренажере(слева)`"
   ]
  },
  {
   "cell_type": "markdown",
   "id": "5f87e567",
   "metadata": {},
   "source": [
    "`Для получения информации о наличии дубликатов в таблице использую метод duplicated(). Значение False расскажет, где дубликаты есть. Еще можно воспользоваться методом value_counts(),чтобы посмотреть, какие именно значения повторяются. Удалить явные дубликаты можно методом drop_duplicates()`"
   ]
  },
  {
   "cell_type": "code",
   "execution_count": 19,
   "id": "d91267a3",
   "metadata": {},
   "outputs": [
    {
     "name": "stdout",
     "output_type": "stream",
     "text": [
      "71\n"
     ]
    },
    {
     "name": "stderr",
     "output_type": "stream",
     "text": [
      "/tmp/ipykernel_48/2987238218.py:3: SettingWithCopyWarning: \n",
      "A value is trying to be set on a copy of a slice from a DataFrame\n",
      "\n",
      "See the caveats in the documentation: https://pandas.pydata.org/pandas-docs/stable/user_guide/indexing.html#returning-a-view-versus-a-copy\n",
      "  data.drop_duplicates(inplace = True)\n"
     ]
    }
   ],
   "source": [
    "print(data.duplicated().sum())\n",
    "#print(data.value_counts())\n",
    "data.drop_duplicates(inplace = True)"
   ]
  },
  {
   "cell_type": "code",
   "execution_count": 20,
   "id": "c852902f",
   "metadata": {},
   "outputs": [
    {
     "name": "stdout",
     "output_type": "stream",
     "text": [
      "0\n"
     ]
    }
   ],
   "source": [
    "print(data.duplicated().sum())"
   ]
  },
  {
   "cell_type": "markdown",
   "id": "11b77e19",
   "metadata": {},
   "source": [
    "`При проверке методом duplicated() совместно с методом sum() был обнаружен 71 дубликат. Методом drop_duplicates() дубликаты удалили и удостоверились,что дубликатов стало 0.`"
   ]
  },
  {
   "cell_type": "markdown",
   "id": "9904cf55",
   "metadata": {
    "deletable": false,
    "editable": false,
    "id": "9904cf55"
   },
   "source": [
    "### Категоризация данных"
   ]
  },
  {
   "cell_type": "markdown",
   "id": "72fcc8a2",
   "metadata": {
    "deletable": false,
    "editable": false,
    "id": "72fcc8a2",
    "tags": [
     "start_task"
    ]
   },
   "source": [
    "**Задание 16. На основании диапазонов, указанных ниже, создайте в датафрейме `data` столбец `total_income_category` с категориями:**\n",
    "\n",
    "- 0–30000 — `'E'`;\n",
    "- 30001–50000 — `'D'`;\n",
    "- 50001–200000 — `'C'`;\n",
    "- 200001–1000000 — `'B'`;\n",
    "- 1000001 и выше — `'A'`.\n",
    "\n",
    "\n",
    "**Например, кредитополучателю с доходом 25000 нужно назначить категорию `'E'`, а клиенту, получающему 235000, — `'B'`. Используйте собственную функцию с именем `categorize_income()` и метод `apply()`.**"
   ]
  },
  {
   "cell_type": "code",
   "execution_count": 21,
   "id": "e1771346",
   "metadata": {
    "id": "e1771346"
   },
   "outputs": [
    {
     "name": "stdout",
     "output_type": "stream",
     "text": [
      "B\n",
      "A\n"
     ]
    }
   ],
   "source": [
    "# Создадим функцию categorize_income() с необходимыми условиями. В каждом условии вернем соответствующую категории букву.\n",
    "# Проверим работу функции на паре примеров. Например, к какой категории определит нас банк,если наш доход 400000 и 500000.\n",
    "def categorize_income(total_income):\n",
    "    if total_income <=30000:\n",
    "        return 'E'\n",
    "    elif 30001 <= total_income <= 50000:\n",
    "        return 'D'\n",
    "    elif 50001 <= total_income <= 200000:\n",
    "        return 'C'\n",
    "    elif 200001 <= total_income <= 1000000:\n",
    "        return 'B'\n",
    "    else:\n",
    "        return 'A'\n",
    "print(categorize_income(400000))\n",
    "print(categorize_income(5000000))\n"
   ]
  },
  {
   "cell_type": "code",
   "execution_count": 22,
   "id": "d5f3586d",
   "metadata": {
    "id": "d5f3586d"
   },
   "outputs": [
    {
     "name": "stderr",
     "output_type": "stream",
     "text": [
      "/tmp/ipykernel_48/2440896116.py:4: SettingWithCopyWarning: \n",
      "A value is trying to be set on a copy of a slice from a DataFrame.\n",
      "Try using .loc[row_indexer,col_indexer] = value instead\n",
      "\n",
      "See the caveats in the documentation: https://pandas.pydata.org/pandas-docs/stable/user_guide/indexing.html#returning-a-view-versus-a-copy\n",
      "  data['total_income_category']=total_income_category\n"
     ]
    },
    {
     "data": {
      "text/html": [
       "<div>\n",
       "<style scoped>\n",
       "    .dataframe tbody tr th:only-of-type {\n",
       "        vertical-align: middle;\n",
       "    }\n",
       "\n",
       "    .dataframe tbody tr th {\n",
       "        vertical-align: top;\n",
       "    }\n",
       "\n",
       "    .dataframe thead th {\n",
       "        text-align: right;\n",
       "    }\n",
       "</style>\n",
       "<table border=\"1\" class=\"dataframe\">\n",
       "  <thead>\n",
       "    <tr style=\"text-align: right;\">\n",
       "      <th></th>\n",
       "      <th>children</th>\n",
       "      <th>days_employed</th>\n",
       "      <th>dob_years</th>\n",
       "      <th>education</th>\n",
       "      <th>education_id</th>\n",
       "      <th>family_status</th>\n",
       "      <th>family_status_id</th>\n",
       "      <th>gender</th>\n",
       "      <th>income_type</th>\n",
       "      <th>debt</th>\n",
       "      <th>total_income</th>\n",
       "      <th>purpose</th>\n",
       "      <th>total_income_category</th>\n",
       "    </tr>\n",
       "  </thead>\n",
       "  <tbody>\n",
       "    <tr>\n",
       "      <th>0</th>\n",
       "      <td>1</td>\n",
       "      <td>8437.673028</td>\n",
       "      <td>42</td>\n",
       "      <td>высшее</td>\n",
       "      <td>0</td>\n",
       "      <td>женат / замужем</td>\n",
       "      <td>0</td>\n",
       "      <td>F</td>\n",
       "      <td>сотрудник</td>\n",
       "      <td>0</td>\n",
       "      <td>253875</td>\n",
       "      <td>покупка жилья</td>\n",
       "      <td>B</td>\n",
       "    </tr>\n",
       "    <tr>\n",
       "      <th>1</th>\n",
       "      <td>1</td>\n",
       "      <td>4024.803754</td>\n",
       "      <td>36</td>\n",
       "      <td>среднее</td>\n",
       "      <td>1</td>\n",
       "      <td>женат / замужем</td>\n",
       "      <td>0</td>\n",
       "      <td>F</td>\n",
       "      <td>сотрудник</td>\n",
       "      <td>0</td>\n",
       "      <td>112080</td>\n",
       "      <td>приобретение автомобиля</td>\n",
       "      <td>C</td>\n",
       "    </tr>\n",
       "    <tr>\n",
       "      <th>2</th>\n",
       "      <td>0</td>\n",
       "      <td>5623.422610</td>\n",
       "      <td>33</td>\n",
       "      <td>среднее</td>\n",
       "      <td>1</td>\n",
       "      <td>женат / замужем</td>\n",
       "      <td>0</td>\n",
       "      <td>M</td>\n",
       "      <td>сотрудник</td>\n",
       "      <td>0</td>\n",
       "      <td>145885</td>\n",
       "      <td>покупка жилья</td>\n",
       "      <td>C</td>\n",
       "    </tr>\n",
       "    <tr>\n",
       "      <th>3</th>\n",
       "      <td>3</td>\n",
       "      <td>4124.747207</td>\n",
       "      <td>32</td>\n",
       "      <td>среднее</td>\n",
       "      <td>1</td>\n",
       "      <td>женат / замужем</td>\n",
       "      <td>0</td>\n",
       "      <td>M</td>\n",
       "      <td>сотрудник</td>\n",
       "      <td>0</td>\n",
       "      <td>267628</td>\n",
       "      <td>дополнительное образование</td>\n",
       "      <td>B</td>\n",
       "    </tr>\n",
       "    <tr>\n",
       "      <th>4</th>\n",
       "      <td>0</td>\n",
       "      <td>340266.072047</td>\n",
       "      <td>53</td>\n",
       "      <td>среднее</td>\n",
       "      <td>1</td>\n",
       "      <td>гражданский брак</td>\n",
       "      <td>1</td>\n",
       "      <td>F</td>\n",
       "      <td>пенсионер</td>\n",
       "      <td>0</td>\n",
       "      <td>158616</td>\n",
       "      <td>сыграть свадьбу</td>\n",
       "      <td>C</td>\n",
       "    </tr>\n",
       "    <tr>\n",
       "      <th>...</th>\n",
       "      <td>...</td>\n",
       "      <td>...</td>\n",
       "      <td>...</td>\n",
       "      <td>...</td>\n",
       "      <td>...</td>\n",
       "      <td>...</td>\n",
       "      <td>...</td>\n",
       "      <td>...</td>\n",
       "      <td>...</td>\n",
       "      <td>...</td>\n",
       "      <td>...</td>\n",
       "      <td>...</td>\n",
       "      <td>...</td>\n",
       "    </tr>\n",
       "    <tr>\n",
       "      <th>21520</th>\n",
       "      <td>1</td>\n",
       "      <td>4529.316663</td>\n",
       "      <td>43</td>\n",
       "      <td>среднее</td>\n",
       "      <td>1</td>\n",
       "      <td>гражданский брак</td>\n",
       "      <td>1</td>\n",
       "      <td>F</td>\n",
       "      <td>компаньон</td>\n",
       "      <td>0</td>\n",
       "      <td>224791</td>\n",
       "      <td>операции с жильем</td>\n",
       "      <td>B</td>\n",
       "    </tr>\n",
       "    <tr>\n",
       "      <th>21521</th>\n",
       "      <td>0</td>\n",
       "      <td>343937.404131</td>\n",
       "      <td>67</td>\n",
       "      <td>среднее</td>\n",
       "      <td>1</td>\n",
       "      <td>женат / замужем</td>\n",
       "      <td>0</td>\n",
       "      <td>F</td>\n",
       "      <td>пенсионер</td>\n",
       "      <td>0</td>\n",
       "      <td>155999</td>\n",
       "      <td>сделка с автомобилем</td>\n",
       "      <td>C</td>\n",
       "    </tr>\n",
       "    <tr>\n",
       "      <th>21522</th>\n",
       "      <td>1</td>\n",
       "      <td>2113.346888</td>\n",
       "      <td>38</td>\n",
       "      <td>среднее</td>\n",
       "      <td>1</td>\n",
       "      <td>гражданский брак</td>\n",
       "      <td>1</td>\n",
       "      <td>M</td>\n",
       "      <td>сотрудник</td>\n",
       "      <td>1</td>\n",
       "      <td>89672</td>\n",
       "      <td>недвижимость</td>\n",
       "      <td>C</td>\n",
       "    </tr>\n",
       "    <tr>\n",
       "      <th>21523</th>\n",
       "      <td>3</td>\n",
       "      <td>3112.481705</td>\n",
       "      <td>38</td>\n",
       "      <td>среднее</td>\n",
       "      <td>1</td>\n",
       "      <td>женат / замужем</td>\n",
       "      <td>0</td>\n",
       "      <td>M</td>\n",
       "      <td>сотрудник</td>\n",
       "      <td>1</td>\n",
       "      <td>244093</td>\n",
       "      <td>на покупку своего автомобиля</td>\n",
       "      <td>B</td>\n",
       "    </tr>\n",
       "    <tr>\n",
       "      <th>21524</th>\n",
       "      <td>2</td>\n",
       "      <td>1984.507589</td>\n",
       "      <td>40</td>\n",
       "      <td>среднее</td>\n",
       "      <td>1</td>\n",
       "      <td>женат / замужем</td>\n",
       "      <td>0</td>\n",
       "      <td>F</td>\n",
       "      <td>сотрудник</td>\n",
       "      <td>0</td>\n",
       "      <td>82047</td>\n",
       "      <td>на покупку автомобиля</td>\n",
       "      <td>C</td>\n",
       "    </tr>\n",
       "  </tbody>\n",
       "</table>\n",
       "<p>21331 rows × 13 columns</p>\n",
       "</div>"
      ],
      "text/plain": [
       "       children  days_employed  dob_years education  education_id  \\\n",
       "0             1    8437.673028         42    высшее             0   \n",
       "1             1    4024.803754         36   среднее             1   \n",
       "2             0    5623.422610         33   среднее             1   \n",
       "3             3    4124.747207         32   среднее             1   \n",
       "4             0  340266.072047         53   среднее             1   \n",
       "...         ...            ...        ...       ...           ...   \n",
       "21520         1    4529.316663         43   среднее             1   \n",
       "21521         0  343937.404131         67   среднее             1   \n",
       "21522         1    2113.346888         38   среднее             1   \n",
       "21523         3    3112.481705         38   среднее             1   \n",
       "21524         2    1984.507589         40   среднее             1   \n",
       "\n",
       "          family_status  family_status_id gender income_type  debt  \\\n",
       "0       женат / замужем                 0      F   сотрудник     0   \n",
       "1       женат / замужем                 0      F   сотрудник     0   \n",
       "2       женат / замужем                 0      M   сотрудник     0   \n",
       "3       женат / замужем                 0      M   сотрудник     0   \n",
       "4      гражданский брак                 1      F   пенсионер     0   \n",
       "...                 ...               ...    ...         ...   ...   \n",
       "21520  гражданский брак                 1      F   компаньон     0   \n",
       "21521   женат / замужем                 0      F   пенсионер     0   \n",
       "21522  гражданский брак                 1      M   сотрудник     1   \n",
       "21523   женат / замужем                 0      M   сотрудник     1   \n",
       "21524   женат / замужем                 0      F   сотрудник     0   \n",
       "\n",
       "       total_income                       purpose total_income_category  \n",
       "0            253875                 покупка жилья                     B  \n",
       "1            112080       приобретение автомобиля                     C  \n",
       "2            145885                 покупка жилья                     C  \n",
       "3            267628    дополнительное образование                     B  \n",
       "4            158616               сыграть свадьбу                     C  \n",
       "...             ...                           ...                   ...  \n",
       "21520        224791             операции с жильем                     B  \n",
       "21521        155999          сделка с автомобилем                     C  \n",
       "21522         89672                  недвижимость                     C  \n",
       "21523        244093  на покупку своего автомобиля                     B  \n",
       "21524         82047         на покупку автомобиля                     C  \n",
       "\n",
       "[21331 rows x 13 columns]"
      ]
     },
     "execution_count": 22,
     "metadata": {},
     "output_type": "execute_result"
    }
   ],
   "source": [
    "# применим к нашей функции метод apply(),чтобы подтянуть данные\n",
    "# создадим новый столбец total_income_category в таблице data и выведем результат\n",
    "total_income_category=data['total_income'].apply(categorize_income)\n",
    "data['total_income_category']=total_income_category\n",
    "data"
   ]
  },
  {
   "cell_type": "markdown",
   "id": "cda03947",
   "metadata": {},
   "source": [
    "`Как видно из нашей таблицы, функция работает и подтягивает необходимые данные`"
   ]
  },
  {
   "cell_type": "markdown",
   "id": "dde49b5c",
   "metadata": {
    "deletable": false,
    "editable": false,
    "id": "dde49b5c",
    "tags": [
     "start_task"
    ]
   },
   "source": [
    "**Задание 17. Выведите на экран перечень уникальных целей взятия кредита из столбца `purpose`.**"
   ]
  },
  {
   "cell_type": "code",
   "execution_count": 23,
   "id": "f67ce9b3",
   "metadata": {
    "id": "f67ce9b3"
   },
   "outputs": [
    {
     "name": "stdout",
     "output_type": "stream",
     "text": [
      "['покупка жилья' 'приобретение автомобиля' 'дополнительное образование'\n",
      " 'сыграть свадьбу' 'операции с жильем' 'образование'\n",
      " 'на проведение свадьбы' 'покупка жилья для семьи' 'покупка недвижимости'\n",
      " 'покупка коммерческой недвижимости' 'покупка жилой недвижимости'\n",
      " 'строительство собственной недвижимости' 'недвижимость'\n",
      " 'строительство недвижимости' 'на покупку подержанного автомобиля'\n",
      " 'на покупку своего автомобиля' 'операции с коммерческой недвижимостью'\n",
      " 'строительство жилой недвижимости' 'жилье'\n",
      " 'операции со своей недвижимостью' 'автомобили' 'заняться образованием'\n",
      " 'сделка с подержанным автомобилем' 'получение образования' 'автомобиль'\n",
      " 'свадьба' 'получение дополнительного образования' 'покупка своего жилья'\n",
      " 'операции с недвижимостью' 'получение высшего образования'\n",
      " 'свой автомобиль' 'сделка с автомобилем' 'профильное образование'\n",
      " 'высшее образование' 'покупка жилья для сдачи' 'на покупку автомобиля'\n",
      " 'ремонт жилью' 'заняться высшим образованием']\n"
     ]
    }
   ],
   "source": [
    "# с помощью метода unique() узнаем, на какие цели клиенты банка взяли кредиты\n",
    "print(data['purpose'].unique())"
   ]
  },
  {
   "cell_type": "markdown",
   "id": "819b5b4a",
   "metadata": {},
   "source": [
    "`У всех одинаковые потребности: где жить, с кем жить, на чем ездить на работу и самосовершенствование!`"
   ]
  },
  {
   "cell_type": "markdown",
   "id": "85d0aef0",
   "metadata": {
    "deletable": false,
    "editable": false,
    "id": "85d0aef0",
    "tags": [
     "start_task"
    ]
   },
   "source": [
    "**Задание 18. Создайте функцию, которая на основании данных из столбца `purpose` сформирует новый столбец `purpose_category`, в который войдут следующие категории:**\n",
    "\n",
    "- `'операции с автомобилем'`,\n",
    "- `'операции с недвижимостью'`,\n",
    "- `'проведение свадьбы'`,\n",
    "- `'получение образования'`.\n",
    "\n",
    "**Например, если в столбце `purpose` находится подстрока `'на покупку автомобиля'`, то в столбце `purpose_category` должна появиться строка `'операции с автомобилем'`.**\n",
    "\n",
    "**Используйте собственную функцию с именем `categorize_purpose()` и метод `apply()`. Изучите данные в столбце `purpose` и определите, какие подстроки помогут вам правильно определить категорию.**"
   ]
  },
  {
   "cell_type": "code",
   "execution_count": 24,
   "id": "e149fab4",
   "metadata": {
    "id": "e149fab4"
   },
   "outputs": [
    {
     "name": "stdout",
     "output_type": "stream",
     "text": [
      "операции с автомобилем\n"
     ]
    }
   ],
   "source": [
    "def categorize_purpose(purpose):\n",
    "        if 'авто' in purpose or 'маш' in purpose:\n",
    "            return 'операции с автомобилем'\n",
    "        elif 'жил' in purpose or 'недвиж' in purpose:\n",
    "            return 'операции с недвижимостью'\n",
    "        elif 'свад' in purpose or 'брак' in purpose:\n",
    "            return 'проведение свадьбы'\n",
    "        else:\n",
    "            return 'получение образования'\n",
    "print(categorize_purpose('машина'))"
   ]
  },
  {
   "cell_type": "markdown",
   "id": "71c443ee",
   "metadata": {},
   "source": [
    "`Проверка показала, что функция categorize_purpose() работает.`"
   ]
  },
  {
   "cell_type": "code",
   "execution_count": 25,
   "id": "bf36e69b",
   "metadata": {
    "id": "bf36e69b"
   },
   "outputs": [
    {
     "name": "stderr",
     "output_type": "stream",
     "text": [
      "/tmp/ipykernel_48/3822510960.py:3: SettingWithCopyWarning: \n",
      "A value is trying to be set on a copy of a slice from a DataFrame.\n",
      "Try using .loc[row_indexer,col_indexer] = value instead\n",
      "\n",
      "See the caveats in the documentation: https://pandas.pydata.org/pandas-docs/stable/user_guide/indexing.html#returning-a-view-versus-a-copy\n",
      "  data['purpose_category']=purpose_category\n"
     ]
    },
    {
     "data": {
      "text/html": [
       "<div>\n",
       "<style scoped>\n",
       "    .dataframe tbody tr th:only-of-type {\n",
       "        vertical-align: middle;\n",
       "    }\n",
       "\n",
       "    .dataframe tbody tr th {\n",
       "        vertical-align: top;\n",
       "    }\n",
       "\n",
       "    .dataframe thead th {\n",
       "        text-align: right;\n",
       "    }\n",
       "</style>\n",
       "<table border=\"1\" class=\"dataframe\">\n",
       "  <thead>\n",
       "    <tr style=\"text-align: right;\">\n",
       "      <th></th>\n",
       "      <th>children</th>\n",
       "      <th>days_employed</th>\n",
       "      <th>dob_years</th>\n",
       "      <th>education</th>\n",
       "      <th>education_id</th>\n",
       "      <th>family_status</th>\n",
       "      <th>family_status_id</th>\n",
       "      <th>gender</th>\n",
       "      <th>income_type</th>\n",
       "      <th>debt</th>\n",
       "      <th>total_income</th>\n",
       "      <th>purpose</th>\n",
       "      <th>total_income_category</th>\n",
       "      <th>purpose_category</th>\n",
       "    </tr>\n",
       "  </thead>\n",
       "  <tbody>\n",
       "    <tr>\n",
       "      <th>0</th>\n",
       "      <td>1</td>\n",
       "      <td>8437.673028</td>\n",
       "      <td>42</td>\n",
       "      <td>высшее</td>\n",
       "      <td>0</td>\n",
       "      <td>женат / замужем</td>\n",
       "      <td>0</td>\n",
       "      <td>F</td>\n",
       "      <td>сотрудник</td>\n",
       "      <td>0</td>\n",
       "      <td>253875</td>\n",
       "      <td>покупка жилья</td>\n",
       "      <td>B</td>\n",
       "      <td>операции с недвижимостью</td>\n",
       "    </tr>\n",
       "    <tr>\n",
       "      <th>1</th>\n",
       "      <td>1</td>\n",
       "      <td>4024.803754</td>\n",
       "      <td>36</td>\n",
       "      <td>среднее</td>\n",
       "      <td>1</td>\n",
       "      <td>женат / замужем</td>\n",
       "      <td>0</td>\n",
       "      <td>F</td>\n",
       "      <td>сотрудник</td>\n",
       "      <td>0</td>\n",
       "      <td>112080</td>\n",
       "      <td>приобретение автомобиля</td>\n",
       "      <td>C</td>\n",
       "      <td>операции с автомобилем</td>\n",
       "    </tr>\n",
       "    <tr>\n",
       "      <th>2</th>\n",
       "      <td>0</td>\n",
       "      <td>5623.422610</td>\n",
       "      <td>33</td>\n",
       "      <td>среднее</td>\n",
       "      <td>1</td>\n",
       "      <td>женат / замужем</td>\n",
       "      <td>0</td>\n",
       "      <td>M</td>\n",
       "      <td>сотрудник</td>\n",
       "      <td>0</td>\n",
       "      <td>145885</td>\n",
       "      <td>покупка жилья</td>\n",
       "      <td>C</td>\n",
       "      <td>операции с недвижимостью</td>\n",
       "    </tr>\n",
       "    <tr>\n",
       "      <th>3</th>\n",
       "      <td>3</td>\n",
       "      <td>4124.747207</td>\n",
       "      <td>32</td>\n",
       "      <td>среднее</td>\n",
       "      <td>1</td>\n",
       "      <td>женат / замужем</td>\n",
       "      <td>0</td>\n",
       "      <td>M</td>\n",
       "      <td>сотрудник</td>\n",
       "      <td>0</td>\n",
       "      <td>267628</td>\n",
       "      <td>дополнительное образование</td>\n",
       "      <td>B</td>\n",
       "      <td>получение образования</td>\n",
       "    </tr>\n",
       "    <tr>\n",
       "      <th>4</th>\n",
       "      <td>0</td>\n",
       "      <td>340266.072047</td>\n",
       "      <td>53</td>\n",
       "      <td>среднее</td>\n",
       "      <td>1</td>\n",
       "      <td>гражданский брак</td>\n",
       "      <td>1</td>\n",
       "      <td>F</td>\n",
       "      <td>пенсионер</td>\n",
       "      <td>0</td>\n",
       "      <td>158616</td>\n",
       "      <td>сыграть свадьбу</td>\n",
       "      <td>C</td>\n",
       "      <td>проведение свадьбы</td>\n",
       "    </tr>\n",
       "    <tr>\n",
       "      <th>...</th>\n",
       "      <td>...</td>\n",
       "      <td>...</td>\n",
       "      <td>...</td>\n",
       "      <td>...</td>\n",
       "      <td>...</td>\n",
       "      <td>...</td>\n",
       "      <td>...</td>\n",
       "      <td>...</td>\n",
       "      <td>...</td>\n",
       "      <td>...</td>\n",
       "      <td>...</td>\n",
       "      <td>...</td>\n",
       "      <td>...</td>\n",
       "      <td>...</td>\n",
       "    </tr>\n",
       "    <tr>\n",
       "      <th>21520</th>\n",
       "      <td>1</td>\n",
       "      <td>4529.316663</td>\n",
       "      <td>43</td>\n",
       "      <td>среднее</td>\n",
       "      <td>1</td>\n",
       "      <td>гражданский брак</td>\n",
       "      <td>1</td>\n",
       "      <td>F</td>\n",
       "      <td>компаньон</td>\n",
       "      <td>0</td>\n",
       "      <td>224791</td>\n",
       "      <td>операции с жильем</td>\n",
       "      <td>B</td>\n",
       "      <td>операции с недвижимостью</td>\n",
       "    </tr>\n",
       "    <tr>\n",
       "      <th>21521</th>\n",
       "      <td>0</td>\n",
       "      <td>343937.404131</td>\n",
       "      <td>67</td>\n",
       "      <td>среднее</td>\n",
       "      <td>1</td>\n",
       "      <td>женат / замужем</td>\n",
       "      <td>0</td>\n",
       "      <td>F</td>\n",
       "      <td>пенсионер</td>\n",
       "      <td>0</td>\n",
       "      <td>155999</td>\n",
       "      <td>сделка с автомобилем</td>\n",
       "      <td>C</td>\n",
       "      <td>операции с автомобилем</td>\n",
       "    </tr>\n",
       "    <tr>\n",
       "      <th>21522</th>\n",
       "      <td>1</td>\n",
       "      <td>2113.346888</td>\n",
       "      <td>38</td>\n",
       "      <td>среднее</td>\n",
       "      <td>1</td>\n",
       "      <td>гражданский брак</td>\n",
       "      <td>1</td>\n",
       "      <td>M</td>\n",
       "      <td>сотрудник</td>\n",
       "      <td>1</td>\n",
       "      <td>89672</td>\n",
       "      <td>недвижимость</td>\n",
       "      <td>C</td>\n",
       "      <td>операции с недвижимостью</td>\n",
       "    </tr>\n",
       "    <tr>\n",
       "      <th>21523</th>\n",
       "      <td>3</td>\n",
       "      <td>3112.481705</td>\n",
       "      <td>38</td>\n",
       "      <td>среднее</td>\n",
       "      <td>1</td>\n",
       "      <td>женат / замужем</td>\n",
       "      <td>0</td>\n",
       "      <td>M</td>\n",
       "      <td>сотрудник</td>\n",
       "      <td>1</td>\n",
       "      <td>244093</td>\n",
       "      <td>на покупку своего автомобиля</td>\n",
       "      <td>B</td>\n",
       "      <td>операции с автомобилем</td>\n",
       "    </tr>\n",
       "    <tr>\n",
       "      <th>21524</th>\n",
       "      <td>2</td>\n",
       "      <td>1984.507589</td>\n",
       "      <td>40</td>\n",
       "      <td>среднее</td>\n",
       "      <td>1</td>\n",
       "      <td>женат / замужем</td>\n",
       "      <td>0</td>\n",
       "      <td>F</td>\n",
       "      <td>сотрудник</td>\n",
       "      <td>0</td>\n",
       "      <td>82047</td>\n",
       "      <td>на покупку автомобиля</td>\n",
       "      <td>C</td>\n",
       "      <td>операции с автомобилем</td>\n",
       "    </tr>\n",
       "  </tbody>\n",
       "</table>\n",
       "<p>21331 rows × 14 columns</p>\n",
       "</div>"
      ],
      "text/plain": [
       "       children  days_employed  dob_years education  education_id  \\\n",
       "0             1    8437.673028         42    высшее             0   \n",
       "1             1    4024.803754         36   среднее             1   \n",
       "2             0    5623.422610         33   среднее             1   \n",
       "3             3    4124.747207         32   среднее             1   \n",
       "4             0  340266.072047         53   среднее             1   \n",
       "...         ...            ...        ...       ...           ...   \n",
       "21520         1    4529.316663         43   среднее             1   \n",
       "21521         0  343937.404131         67   среднее             1   \n",
       "21522         1    2113.346888         38   среднее             1   \n",
       "21523         3    3112.481705         38   среднее             1   \n",
       "21524         2    1984.507589         40   среднее             1   \n",
       "\n",
       "          family_status  family_status_id gender income_type  debt  \\\n",
       "0       женат / замужем                 0      F   сотрудник     0   \n",
       "1       женат / замужем                 0      F   сотрудник     0   \n",
       "2       женат / замужем                 0      M   сотрудник     0   \n",
       "3       женат / замужем                 0      M   сотрудник     0   \n",
       "4      гражданский брак                 1      F   пенсионер     0   \n",
       "...                 ...               ...    ...         ...   ...   \n",
       "21520  гражданский брак                 1      F   компаньон     0   \n",
       "21521   женат / замужем                 0      F   пенсионер     0   \n",
       "21522  гражданский брак                 1      M   сотрудник     1   \n",
       "21523   женат / замужем                 0      M   сотрудник     1   \n",
       "21524   женат / замужем                 0      F   сотрудник     0   \n",
       "\n",
       "       total_income                       purpose total_income_category  \\\n",
       "0            253875                 покупка жилья                     B   \n",
       "1            112080       приобретение автомобиля                     C   \n",
       "2            145885                 покупка жилья                     C   \n",
       "3            267628    дополнительное образование                     B   \n",
       "4            158616               сыграть свадьбу                     C   \n",
       "...             ...                           ...                   ...   \n",
       "21520        224791             операции с жильем                     B   \n",
       "21521        155999          сделка с автомобилем                     C   \n",
       "21522         89672                  недвижимость                     C   \n",
       "21523        244093  на покупку своего автомобиля                     B   \n",
       "21524         82047         на покупку автомобиля                     C   \n",
       "\n",
       "               purpose_category  \n",
       "0      операции с недвижимостью  \n",
       "1        операции с автомобилем  \n",
       "2      операции с недвижимостью  \n",
       "3         получение образования  \n",
       "4            проведение свадьбы  \n",
       "...                         ...  \n",
       "21520  операции с недвижимостью  \n",
       "21521    операции с автомобилем  \n",
       "21522  операции с недвижимостью  \n",
       "21523    операции с автомобилем  \n",
       "21524    операции с автомобилем  \n",
       "\n",
       "[21331 rows x 14 columns]"
      ]
     },
     "execution_count": 25,
     "metadata": {},
     "output_type": "execute_result"
    }
   ],
   "source": [
    "# примените функцию методом apply()\n",
    "purpose_category=data['purpose'].apply(categorize_purpose)\n",
    "data['purpose_category']=purpose_category\n",
    "data"
   ]
  }
 ],
 "metadata": {
  "ExecuteTimeLog": [
   {
    "duration": 408,
    "start_time": "2022-11-03T05:29:35.100Z"
   },
   {
    "duration": 127,
    "start_time": "2022-11-03T05:29:35.635Z"
   },
   {
    "duration": 9,
    "start_time": "2022-11-03T05:30:06.591Z"
   },
   {
    "duration": 13,
    "start_time": "2022-11-03T05:32:00.234Z"
   },
   {
    "duration": 12,
    "start_time": "2022-11-03T05:34:30.005Z"
   },
   {
    "duration": 70,
    "start_time": "2022-11-03T05:37:47.037Z"
   },
   {
    "duration": 70,
    "start_time": "2022-11-03T05:37:53.555Z"
   },
   {
    "duration": 9,
    "start_time": "2022-11-03T05:38:03.046Z"
   },
   {
    "duration": 2,
    "start_time": "2022-11-03T06:08:24.696Z"
   },
   {
    "duration": 82,
    "start_time": "2022-11-03T06:08:24.700Z"
   },
   {
    "duration": 15,
    "start_time": "2022-11-03T06:08:24.783Z"
   },
   {
    "duration": 20,
    "start_time": "2022-11-03T06:08:24.799Z"
   },
   {
    "duration": 8,
    "start_time": "2022-11-03T06:08:24.820Z"
   },
   {
    "duration": 9,
    "start_time": "2022-11-03T06:08:24.829Z"
   },
   {
    "duration": 2,
    "start_time": "2022-11-03T06:08:24.839Z"
   },
   {
    "duration": 4,
    "start_time": "2022-11-03T06:08:24.842Z"
   },
   {
    "duration": 4,
    "start_time": "2022-11-03T06:08:24.848Z"
   },
   {
    "duration": 3,
    "start_time": "2022-11-03T06:08:24.855Z"
   },
   {
    "duration": 5,
    "start_time": "2022-11-03T06:08:24.859Z"
   },
   {
    "duration": 9,
    "start_time": "2022-11-03T06:08:24.865Z"
   },
   {
    "duration": 7,
    "start_time": "2022-11-03T06:08:24.875Z"
   },
   {
    "duration": 6,
    "start_time": "2022-11-03T06:08:24.883Z"
   },
   {
    "duration": 5,
    "start_time": "2022-11-03T06:08:24.890Z"
   },
   {
    "duration": 5,
    "start_time": "2022-11-03T06:08:24.896Z"
   },
   {
    "duration": 5,
    "start_time": "2022-11-03T06:08:24.902Z"
   },
   {
    "duration": 2,
    "start_time": "2022-11-03T06:08:24.921Z"
   },
   {
    "duration": 5,
    "start_time": "2022-11-03T06:08:24.924Z"
   },
   {
    "duration": 4,
    "start_time": "2022-11-03T06:08:24.931Z"
   },
   {
    "duration": 5,
    "start_time": "2022-11-03T06:08:24.937Z"
   },
   {
    "duration": 5,
    "start_time": "2022-11-03T06:08:24.943Z"
   },
   {
    "duration": 58,
    "start_time": "2022-11-03T06:08:34.025Z"
   },
   {
    "duration": 9,
    "start_time": "2022-11-03T06:09:02.636Z"
   },
   {
    "duration": 10,
    "start_time": "2022-11-03T06:12:36.904Z"
   },
   {
    "duration": 9,
    "start_time": "2022-11-03T06:27:47.094Z"
   },
   {
    "duration": 3,
    "start_time": "2022-11-03T06:27:59.435Z"
   },
   {
    "duration": 66,
    "start_time": "2022-11-03T06:27:59.910Z"
   },
   {
    "duration": 15,
    "start_time": "2022-11-03T06:28:01.035Z"
   },
   {
    "duration": 15,
    "start_time": "2022-11-03T06:28:06.507Z"
   },
   {
    "duration": 8,
    "start_time": "2022-11-03T06:28:11.998Z"
   },
   {
    "duration": 8,
    "start_time": "2022-11-03T06:38:50.249Z"
   },
   {
    "duration": 13,
    "start_time": "2022-11-03T06:40:06.782Z"
   },
   {
    "duration": 13,
    "start_time": "2022-11-03T06:56:39.964Z"
   },
   {
    "duration": 8,
    "start_time": "2022-11-03T07:01:44.251Z"
   },
   {
    "duration": 11,
    "start_time": "2022-11-03T07:03:18.944Z"
   },
   {
    "duration": 9,
    "start_time": "2022-11-03T07:09:15.580Z"
   },
   {
    "duration": 2,
    "start_time": "2022-11-03T07:09:25.241Z"
   },
   {
    "duration": 69,
    "start_time": "2022-11-03T07:09:25.245Z"
   },
   {
    "duration": 19,
    "start_time": "2022-11-03T07:09:25.316Z"
   },
   {
    "duration": 19,
    "start_time": "2022-11-03T07:09:25.337Z"
   },
   {
    "duration": 9,
    "start_time": "2022-11-03T07:09:25.358Z"
   },
   {
    "duration": 18,
    "start_time": "2022-11-03T07:09:25.368Z"
   },
   {
    "duration": 10,
    "start_time": "2022-11-03T07:09:25.387Z"
   },
   {
    "duration": 0,
    "start_time": "2022-11-03T07:09:25.399Z"
   },
   {
    "duration": 0,
    "start_time": "2022-11-03T07:09:25.422Z"
   },
   {
    "duration": 0,
    "start_time": "2022-11-03T07:09:25.423Z"
   },
   {
    "duration": 0,
    "start_time": "2022-11-03T07:09:25.425Z"
   },
   {
    "duration": 0,
    "start_time": "2022-11-03T07:09:25.426Z"
   },
   {
    "duration": 0,
    "start_time": "2022-11-03T07:09:25.427Z"
   },
   {
    "duration": 0,
    "start_time": "2022-11-03T07:09:25.428Z"
   },
   {
    "duration": 0,
    "start_time": "2022-11-03T07:09:25.429Z"
   },
   {
    "duration": 0,
    "start_time": "2022-11-03T07:09:25.430Z"
   },
   {
    "duration": 0,
    "start_time": "2022-11-03T07:09:25.431Z"
   },
   {
    "duration": 0,
    "start_time": "2022-11-03T07:09:25.432Z"
   },
   {
    "duration": 0,
    "start_time": "2022-11-03T07:09:25.433Z"
   },
   {
    "duration": 0,
    "start_time": "2022-11-03T07:09:25.434Z"
   },
   {
    "duration": 0,
    "start_time": "2022-11-03T07:09:25.436Z"
   },
   {
    "duration": 0,
    "start_time": "2022-11-03T07:09:25.439Z"
   },
   {
    "duration": 0,
    "start_time": "2022-11-03T07:09:25.440Z"
   },
   {
    "duration": 8,
    "start_time": "2022-11-03T07:19:31.112Z"
   },
   {
    "duration": 6,
    "start_time": "2022-11-03T07:20:21.953Z"
   },
   {
    "duration": 6,
    "start_time": "2022-11-03T07:20:26.488Z"
   },
   {
    "duration": 29,
    "start_time": "2022-11-03T07:20:37.384Z"
   },
   {
    "duration": 9,
    "start_time": "2022-11-03T07:33:10.000Z"
   },
   {
    "duration": 20,
    "start_time": "2022-11-03T07:39:57.312Z"
   },
   {
    "duration": 21,
    "start_time": "2022-11-03T07:45:43.539Z"
   },
   {
    "duration": 20,
    "start_time": "2022-11-03T07:49:19.609Z"
   },
   {
    "duration": 20,
    "start_time": "2022-11-03T07:50:01.797Z"
   },
   {
    "duration": 8,
    "start_time": "2022-11-03T07:50:23.484Z"
   },
   {
    "duration": 7,
    "start_time": "2022-11-03T07:53:00.347Z"
   },
   {
    "duration": 5,
    "start_time": "2022-11-03T07:54:08.420Z"
   },
   {
    "duration": 9,
    "start_time": "2022-11-03T07:56:01.744Z"
   },
   {
    "duration": 5,
    "start_time": "2022-11-03T08:03:38.534Z"
   },
   {
    "duration": 9,
    "start_time": "2022-11-03T08:29:02.933Z"
   },
   {
    "duration": 2,
    "start_time": "2022-11-03T08:29:13.715Z"
   },
   {
    "duration": 87,
    "start_time": "2022-11-03T08:29:13.719Z"
   },
   {
    "duration": 20,
    "start_time": "2022-11-03T08:29:13.808Z"
   },
   {
    "duration": 24,
    "start_time": "2022-11-03T08:29:13.837Z"
   },
   {
    "duration": 9,
    "start_time": "2022-11-03T08:29:13.863Z"
   },
   {
    "duration": 17,
    "start_time": "2022-11-03T08:29:13.873Z"
   },
   {
    "duration": 21,
    "start_time": "2022-11-03T08:29:13.892Z"
   },
   {
    "duration": 26,
    "start_time": "2022-11-03T08:29:13.915Z"
   },
   {
    "duration": 11,
    "start_time": "2022-11-03T08:29:13.943Z"
   },
   {
    "duration": 4,
    "start_time": "2022-11-03T08:29:13.956Z"
   },
   {
    "duration": 5,
    "start_time": "2022-11-03T08:29:13.962Z"
   },
   {
    "duration": 3,
    "start_time": "2022-11-03T08:29:13.969Z"
   },
   {
    "duration": 3,
    "start_time": "2022-11-03T08:29:13.974Z"
   },
   {
    "duration": 5,
    "start_time": "2022-11-03T08:29:13.979Z"
   },
   {
    "duration": 5,
    "start_time": "2022-11-03T08:29:13.985Z"
   },
   {
    "duration": 4,
    "start_time": "2022-11-03T08:29:13.992Z"
   },
   {
    "duration": 5,
    "start_time": "2022-11-03T08:29:13.998Z"
   },
   {
    "duration": 2,
    "start_time": "2022-11-03T08:29:14.022Z"
   },
   {
    "duration": 17,
    "start_time": "2022-11-03T08:29:14.025Z"
   },
   {
    "duration": 4,
    "start_time": "2022-11-03T08:29:14.044Z"
   },
   {
    "duration": 9,
    "start_time": "2022-11-03T08:29:14.050Z"
   },
   {
    "duration": 6,
    "start_time": "2022-11-03T08:29:14.060Z"
   },
   {
    "duration": 7,
    "start_time": "2022-11-03T08:29:14.068Z"
   },
   {
    "duration": 17,
    "start_time": "2022-11-03T08:50:17.343Z"
   },
   {
    "duration": 65,
    "start_time": "2022-11-03T08:50:20.119Z"
   },
   {
    "duration": 14,
    "start_time": "2022-11-03T08:50:22.433Z"
   },
   {
    "duration": 12,
    "start_time": "2022-11-03T08:57:46.537Z"
   },
   {
    "duration": 7,
    "start_time": "2022-11-03T10:16:17.029Z"
   },
   {
    "duration": 6,
    "start_time": "2022-11-03T10:16:25.627Z"
   },
   {
    "duration": 10,
    "start_time": "2022-11-03T10:21:09.173Z"
   },
   {
    "duration": 5,
    "start_time": "2022-11-03T10:22:50.808Z"
   },
   {
    "duration": 10,
    "start_time": "2022-11-03T10:24:33.431Z"
   },
   {
    "duration": 7,
    "start_time": "2022-11-03T10:24:42.989Z"
   },
   {
    "duration": 5,
    "start_time": "2022-11-03T10:26:14.628Z"
   },
   {
    "duration": 7,
    "start_time": "2022-11-03T10:26:16.172Z"
   },
   {
    "duration": 5,
    "start_time": "2022-11-03T10:31:18.217Z"
   },
   {
    "duration": 19,
    "start_time": "2022-11-03T10:31:29.848Z"
   },
   {
    "duration": 6,
    "start_time": "2022-11-03T10:31:47.406Z"
   },
   {
    "duration": 6,
    "start_time": "2022-11-03T10:32:04.633Z"
   },
   {
    "duration": 5,
    "start_time": "2022-11-03T10:33:05.342Z"
   },
   {
    "duration": 609,
    "start_time": "2022-11-03T10:42:37.419Z"
   },
   {
    "duration": 3,
    "start_time": "2022-11-03T10:43:21.192Z"
   },
   {
    "duration": 3,
    "start_time": "2022-11-03T10:43:25.327Z"
   },
   {
    "duration": 5,
    "start_time": "2022-11-03T10:43:35.230Z"
   },
   {
    "duration": 75,
    "start_time": "2022-11-03T11:03:05.467Z"
   },
   {
    "duration": 89,
    "start_time": "2022-11-03T11:03:19.648Z"
   },
   {
    "duration": 75,
    "start_time": "2022-11-03T11:03:48.230Z"
   },
   {
    "duration": 4,
    "start_time": "2022-11-03T11:04:48.887Z"
   },
   {
    "duration": 13,
    "start_time": "2022-11-03T11:15:59.641Z"
   },
   {
    "duration": 12,
    "start_time": "2022-11-03T11:16:15.133Z"
   },
   {
    "duration": 5,
    "start_time": "2022-11-03T11:52:03.021Z"
   },
   {
    "duration": 5,
    "start_time": "2022-11-03T11:52:06.309Z"
   },
   {
    "duration": 7,
    "start_time": "2022-11-03T11:52:16.268Z"
   },
   {
    "duration": 3,
    "start_time": "2022-11-03T11:57:14.340Z"
   },
   {
    "duration": 3,
    "start_time": "2022-11-03T11:57:15.107Z"
   },
   {
    "duration": 4,
    "start_time": "2022-11-03T11:57:15.931Z"
   },
   {
    "duration": 2,
    "start_time": "2022-11-03T11:58:02.459Z"
   },
   {
    "duration": 83,
    "start_time": "2022-11-03T11:58:02.463Z"
   },
   {
    "duration": 14,
    "start_time": "2022-11-03T11:58:02.548Z"
   },
   {
    "duration": 15,
    "start_time": "2022-11-03T11:58:02.563Z"
   },
   {
    "duration": 10,
    "start_time": "2022-11-03T11:58:02.580Z"
   },
   {
    "duration": 31,
    "start_time": "2022-11-03T11:58:02.591Z"
   },
   {
    "duration": 5,
    "start_time": "2022-11-03T11:58:02.623Z"
   },
   {
    "duration": 7,
    "start_time": "2022-11-03T11:58:02.630Z"
   },
   {
    "duration": 24,
    "start_time": "2022-11-03T11:58:02.638Z"
   },
   {
    "duration": 18,
    "start_time": "2022-11-03T11:58:02.663Z"
   },
   {
    "duration": 8,
    "start_time": "2022-11-03T11:58:02.684Z"
   },
   {
    "duration": 4,
    "start_time": "2022-11-03T11:58:02.721Z"
   },
   {
    "duration": 9,
    "start_time": "2022-11-03T11:58:02.727Z"
   },
   {
    "duration": 12,
    "start_time": "2022-11-03T11:58:02.738Z"
   },
   {
    "duration": 10,
    "start_time": "2022-11-03T11:58:02.752Z"
   },
   {
    "duration": 7,
    "start_time": "2022-11-03T11:58:02.763Z"
   },
   {
    "duration": 15,
    "start_time": "2022-11-03T11:58:02.771Z"
   },
   {
    "duration": 9,
    "start_time": "2022-11-03T11:58:02.788Z"
   },
   {
    "duration": 19,
    "start_time": "2022-11-03T11:58:02.798Z"
   },
   {
    "duration": 5,
    "start_time": "2022-11-03T11:58:02.819Z"
   },
   {
    "duration": 5,
    "start_time": "2022-11-03T11:58:02.826Z"
   },
   {
    "duration": 6,
    "start_time": "2022-11-03T11:58:02.833Z"
   },
   {
    "duration": 12,
    "start_time": "2022-11-03T11:58:02.840Z"
   },
   {
    "duration": 5,
    "start_time": "2022-11-03T11:58:02.854Z"
   },
   {
    "duration": 12,
    "start_time": "2022-11-03T11:58:02.861Z"
   },
   {
    "duration": 6,
    "start_time": "2022-11-03T11:58:02.874Z"
   },
   {
    "duration": 11,
    "start_time": "2022-11-03T11:58:02.882Z"
   },
   {
    "duration": 3,
    "start_time": "2022-11-03T11:58:50.410Z"
   },
   {
    "duration": 65,
    "start_time": "2022-11-03T11:58:51.675Z"
   },
   {
    "duration": 13,
    "start_time": "2022-11-03T11:58:55.760Z"
   },
   {
    "duration": 13,
    "start_time": "2022-11-03T11:59:00.272Z"
   },
   {
    "duration": 10,
    "start_time": "2022-11-03T11:59:15.014Z"
   },
   {
    "duration": 15,
    "start_time": "2022-11-03T11:59:25.922Z"
   },
   {
    "duration": 5,
    "start_time": "2022-11-03T11:59:33.603Z"
   },
   {
    "duration": 7,
    "start_time": "2022-11-03T11:59:36.118Z"
   },
   {
    "duration": 21,
    "start_time": "2022-11-03T11:59:45.732Z"
   },
   {
    "duration": 19,
    "start_time": "2022-11-03T11:59:51.593Z"
   },
   {
    "duration": 9,
    "start_time": "2022-11-03T11:59:56.082Z"
   },
   {
    "duration": 4,
    "start_time": "2022-11-03T11:59:59.700Z"
   },
   {
    "duration": 4,
    "start_time": "2022-11-03T12:00:04.852Z"
   },
   {
    "duration": 3,
    "start_time": "2022-11-03T12:00:05.571Z"
   },
   {
    "duration": 5,
    "start_time": "2022-11-03T12:00:06.830Z"
   },
   {
    "duration": 19,
    "start_time": "2022-11-03T12:03:21.832Z"
   },
   {
    "duration": 20,
    "start_time": "2022-11-03T12:03:30.838Z"
   },
   {
    "duration": 5,
    "start_time": "2022-11-03T12:03:37.387Z"
   },
   {
    "duration": 17,
    "start_time": "2022-11-03T12:03:49.914Z"
   },
   {
    "duration": 97,
    "start_time": "2022-11-03T12:54:29.859Z"
   },
   {
    "duration": 8,
    "start_time": "2022-11-03T12:54:40.399Z"
   },
   {
    "duration": 9,
    "start_time": "2022-11-03T12:54:56.927Z"
   },
   {
    "duration": 4,
    "start_time": "2022-11-03T13:01:02.818Z"
   },
   {
    "duration": 4,
    "start_time": "2022-11-03T13:01:27.803Z"
   },
   {
    "duration": 8,
    "start_time": "2022-11-03T13:01:47.466Z"
   },
   {
    "duration": 4,
    "start_time": "2022-11-03T13:01:51.686Z"
   },
   {
    "duration": 19,
    "start_time": "2022-11-03T13:03:05.431Z"
   },
   {
    "duration": 3,
    "start_time": "2022-11-03T13:08:07.871Z"
   },
   {
    "duration": 102,
    "start_time": "2022-11-03T13:08:07.876Z"
   },
   {
    "duration": 14,
    "start_time": "2022-11-03T13:08:07.980Z"
   },
   {
    "duration": 17,
    "start_time": "2022-11-03T13:08:07.996Z"
   },
   {
    "duration": 12,
    "start_time": "2022-11-03T13:08:08.014Z"
   },
   {
    "duration": 14,
    "start_time": "2022-11-03T13:08:08.028Z"
   },
   {
    "duration": 6,
    "start_time": "2022-11-03T13:08:08.043Z"
   },
   {
    "duration": 13,
    "start_time": "2022-11-03T13:08:08.051Z"
   },
   {
    "duration": 23,
    "start_time": "2022-11-03T13:08:08.065Z"
   },
   {
    "duration": 40,
    "start_time": "2022-11-03T13:08:08.090Z"
   },
   {
    "duration": 8,
    "start_time": "2022-11-03T13:08:08.132Z"
   },
   {
    "duration": 5,
    "start_time": "2022-11-03T13:08:08.142Z"
   },
   {
    "duration": 33,
    "start_time": "2022-11-03T13:08:08.149Z"
   },
   {
    "duration": 5,
    "start_time": "2022-11-03T13:08:08.184Z"
   },
   {
    "duration": 31,
    "start_time": "2022-11-03T13:08:08.191Z"
   },
   {
    "duration": 2,
    "start_time": "2022-11-03T13:08:08.224Z"
   },
   {
    "duration": 4,
    "start_time": "2022-11-03T13:08:08.228Z"
   },
   {
    "duration": 6,
    "start_time": "2022-11-03T13:08:08.234Z"
   },
   {
    "duration": 6,
    "start_time": "2022-11-03T13:08:08.241Z"
   },
   {
    "duration": 7,
    "start_time": "2022-11-03T13:08:08.248Z"
   },
   {
    "duration": 6,
    "start_time": "2022-11-03T13:08:08.256Z"
   },
   {
    "duration": 7,
    "start_time": "2022-11-03T13:08:08.263Z"
   },
   {
    "duration": 6,
    "start_time": "2022-11-03T13:08:08.271Z"
   },
   {
    "duration": 6,
    "start_time": "2022-11-03T13:08:08.279Z"
   },
   {
    "duration": 6,
    "start_time": "2022-11-03T13:08:08.287Z"
   },
   {
    "duration": 124,
    "start_time": "2022-11-03T13:14:29.977Z"
   },
   {
    "duration": 70,
    "start_time": "2022-11-03T13:16:27.594Z"
   },
   {
    "duration": 4,
    "start_time": "2022-11-03T13:22:09.102Z"
   },
   {
    "duration": 19,
    "start_time": "2022-11-03T13:22:19.646Z"
   },
   {
    "duration": 8,
    "start_time": "2022-11-03T13:26:12.412Z"
   },
   {
    "duration": 20,
    "start_time": "2022-11-03T13:26:49.684Z"
   },
   {
    "duration": 4,
    "start_time": "2022-11-03T13:29:02.935Z"
   },
   {
    "duration": 7,
    "start_time": "2022-11-03T13:30:45.135Z"
   },
   {
    "duration": 2,
    "start_time": "2022-11-03T13:31:05.945Z"
   },
   {
    "duration": 65,
    "start_time": "2022-11-03T13:31:06.886Z"
   },
   {
    "duration": 13,
    "start_time": "2022-11-03T13:31:09.077Z"
   },
   {
    "duration": 15,
    "start_time": "2022-11-03T13:31:13.542Z"
   },
   {
    "duration": 9,
    "start_time": "2022-11-03T13:31:19.098Z"
   },
   {
    "duration": 18,
    "start_time": "2022-11-03T13:31:21.078Z"
   },
   {
    "duration": 5,
    "start_time": "2022-11-03T13:31:27.016Z"
   },
   {
    "duration": 6,
    "start_time": "2022-11-03T13:31:28.013Z"
   },
   {
    "duration": 21,
    "start_time": "2022-11-03T13:31:36.353Z"
   },
   {
    "duration": 19,
    "start_time": "2022-11-03T13:31:43.203Z"
   },
   {
    "duration": 8,
    "start_time": "2022-11-03T13:31:49.659Z"
   },
   {
    "duration": 4,
    "start_time": "2022-11-03T13:31:54.541Z"
   },
   {
    "duration": 8,
    "start_time": "2022-11-03T13:32:41.587Z"
   },
   {
    "duration": 7,
    "start_time": "2022-11-03T13:32:57.625Z"
   },
   {
    "duration": 7,
    "start_time": "2022-11-03T13:33:16.874Z"
   },
   {
    "duration": 8,
    "start_time": "2022-11-03T13:34:52.952Z"
   },
   {
    "duration": 7,
    "start_time": "2022-11-03T13:35:26.829Z"
   },
   {
    "duration": 9,
    "start_time": "2022-11-03T13:35:56.014Z"
   },
   {
    "duration": 6,
    "start_time": "2022-11-03T13:36:16.279Z"
   },
   {
    "duration": 7,
    "start_time": "2022-11-03T13:40:36.390Z"
   },
   {
    "duration": 7,
    "start_time": "2022-11-03T13:40:42.355Z"
   },
   {
    "duration": 3,
    "start_time": "2022-11-03T13:40:45.998Z"
   },
   {
    "duration": 80,
    "start_time": "2022-11-03T13:40:46.003Z"
   },
   {
    "duration": 17,
    "start_time": "2022-11-03T13:40:46.085Z"
   },
   {
    "duration": 20,
    "start_time": "2022-11-03T13:40:46.104Z"
   },
   {
    "duration": 9,
    "start_time": "2022-11-03T13:40:46.127Z"
   },
   {
    "duration": 25,
    "start_time": "2022-11-03T13:40:46.138Z"
   },
   {
    "duration": 10,
    "start_time": "2022-11-03T13:40:46.165Z"
   },
   {
    "duration": 10,
    "start_time": "2022-11-03T13:40:46.177Z"
   },
   {
    "duration": 39,
    "start_time": "2022-11-03T13:40:46.189Z"
   },
   {
    "duration": 20,
    "start_time": "2022-11-03T13:40:46.230Z"
   },
   {
    "duration": 7,
    "start_time": "2022-11-03T13:40:46.251Z"
   },
   {
    "duration": 5,
    "start_time": "2022-11-03T13:40:46.259Z"
   },
   {
    "duration": 7,
    "start_time": "2022-11-03T13:40:46.266Z"
   },
   {
    "duration": 0,
    "start_time": "2022-11-03T13:40:46.274Z"
   },
   {
    "duration": 0,
    "start_time": "2022-11-03T13:40:46.275Z"
   },
   {
    "duration": 0,
    "start_time": "2022-11-03T13:40:46.276Z"
   },
   {
    "duration": 0,
    "start_time": "2022-11-03T13:40:46.277Z"
   },
   {
    "duration": 0,
    "start_time": "2022-11-03T13:40:46.278Z"
   },
   {
    "duration": 0,
    "start_time": "2022-11-03T13:40:46.279Z"
   },
   {
    "duration": 0,
    "start_time": "2022-11-03T13:40:46.280Z"
   },
   {
    "duration": 0,
    "start_time": "2022-11-03T13:40:46.281Z"
   },
   {
    "duration": 0,
    "start_time": "2022-11-03T13:40:46.282Z"
   },
   {
    "duration": 0,
    "start_time": "2022-11-03T13:40:46.283Z"
   },
   {
    "duration": 0,
    "start_time": "2022-11-03T13:40:46.284Z"
   },
   {
    "duration": 8,
    "start_time": "2022-11-03T13:40:56.082Z"
   },
   {
    "duration": 7,
    "start_time": "2022-11-03T13:41:06.325Z"
   },
   {
    "duration": 6,
    "start_time": "2022-11-03T13:41:10.072Z"
   },
   {
    "duration": 3,
    "start_time": "2022-11-03T13:41:13.463Z"
   },
   {
    "duration": 74,
    "start_time": "2022-11-03T13:41:13.468Z"
   },
   {
    "duration": 14,
    "start_time": "2022-11-03T13:41:13.543Z"
   },
   {
    "duration": 15,
    "start_time": "2022-11-03T13:41:13.558Z"
   },
   {
    "duration": 8,
    "start_time": "2022-11-03T13:41:13.575Z"
   },
   {
    "duration": 14,
    "start_time": "2022-11-03T13:41:13.584Z"
   },
   {
    "duration": 23,
    "start_time": "2022-11-03T13:41:13.599Z"
   },
   {
    "duration": 5,
    "start_time": "2022-11-03T13:41:13.624Z"
   },
   {
    "duration": 24,
    "start_time": "2022-11-03T13:41:13.630Z"
   },
   {
    "duration": 19,
    "start_time": "2022-11-03T13:41:13.656Z"
   },
   {
    "duration": 10,
    "start_time": "2022-11-03T13:41:13.676Z"
   },
   {
    "duration": 3,
    "start_time": "2022-11-03T13:41:13.688Z"
   },
   {
    "duration": 7,
    "start_time": "2022-11-03T13:41:13.721Z"
   },
   {
    "duration": 0,
    "start_time": "2022-11-03T13:41:13.729Z"
   },
   {
    "duration": 0,
    "start_time": "2022-11-03T13:41:13.730Z"
   },
   {
    "duration": 0,
    "start_time": "2022-11-03T13:41:13.731Z"
   },
   {
    "duration": 0,
    "start_time": "2022-11-03T13:41:13.732Z"
   },
   {
    "duration": 0,
    "start_time": "2022-11-03T13:41:13.733Z"
   },
   {
    "duration": 0,
    "start_time": "2022-11-03T13:41:13.734Z"
   },
   {
    "duration": 0,
    "start_time": "2022-11-03T13:41:13.736Z"
   },
   {
    "duration": 0,
    "start_time": "2022-11-03T13:41:13.736Z"
   },
   {
    "duration": 0,
    "start_time": "2022-11-03T13:41:13.737Z"
   },
   {
    "duration": 0,
    "start_time": "2022-11-03T13:41:13.738Z"
   },
   {
    "duration": 0,
    "start_time": "2022-11-03T13:41:13.740Z"
   },
   {
    "duration": 6,
    "start_time": "2022-11-03T13:41:25.133Z"
   },
   {
    "duration": 2,
    "start_time": "2022-11-03T13:41:29.587Z"
   },
   {
    "duration": 70,
    "start_time": "2022-11-03T13:41:29.591Z"
   },
   {
    "duration": 13,
    "start_time": "2022-11-03T13:41:29.663Z"
   },
   {
    "duration": 15,
    "start_time": "2022-11-03T13:41:29.678Z"
   },
   {
    "duration": 8,
    "start_time": "2022-11-03T13:41:29.694Z"
   },
   {
    "duration": 37,
    "start_time": "2022-11-03T13:41:29.703Z"
   },
   {
    "duration": 5,
    "start_time": "2022-11-03T13:41:29.741Z"
   },
   {
    "duration": 8,
    "start_time": "2022-11-03T13:41:29.747Z"
   },
   {
    "duration": 22,
    "start_time": "2022-11-03T13:41:29.757Z"
   },
   {
    "duration": 18,
    "start_time": "2022-11-03T13:41:29.780Z"
   },
   {
    "duration": 31,
    "start_time": "2022-11-03T13:41:29.799Z"
   },
   {
    "duration": 4,
    "start_time": "2022-11-03T13:41:29.831Z"
   },
   {
    "duration": 10,
    "start_time": "2022-11-03T13:41:29.837Z"
   },
   {
    "duration": 0,
    "start_time": "2022-11-03T13:41:29.848Z"
   },
   {
    "duration": 0,
    "start_time": "2022-11-03T13:41:29.849Z"
   },
   {
    "duration": 0,
    "start_time": "2022-11-03T13:41:29.850Z"
   },
   {
    "duration": 0,
    "start_time": "2022-11-03T13:41:29.851Z"
   },
   {
    "duration": 0,
    "start_time": "2022-11-03T13:41:29.852Z"
   },
   {
    "duration": 0,
    "start_time": "2022-11-03T13:41:29.853Z"
   },
   {
    "duration": 0,
    "start_time": "2022-11-03T13:41:29.854Z"
   },
   {
    "duration": 0,
    "start_time": "2022-11-03T13:41:29.855Z"
   },
   {
    "duration": 0,
    "start_time": "2022-11-03T13:41:29.855Z"
   },
   {
    "duration": 0,
    "start_time": "2022-11-03T13:41:29.856Z"
   },
   {
    "duration": 0,
    "start_time": "2022-11-03T13:41:29.857Z"
   },
   {
    "duration": 8,
    "start_time": "2022-11-03T13:41:54.706Z"
   },
   {
    "duration": 2,
    "start_time": "2022-11-03T13:42:37.599Z"
   },
   {
    "duration": 70,
    "start_time": "2022-11-03T13:42:37.604Z"
   },
   {
    "duration": 16,
    "start_time": "2022-11-03T13:42:37.675Z"
   },
   {
    "duration": 21,
    "start_time": "2022-11-03T13:42:37.692Z"
   },
   {
    "duration": 9,
    "start_time": "2022-11-03T13:42:37.716Z"
   },
   {
    "duration": 15,
    "start_time": "2022-11-03T13:42:37.727Z"
   },
   {
    "duration": 5,
    "start_time": "2022-11-03T13:42:37.744Z"
   },
   {
    "duration": 8,
    "start_time": "2022-11-03T13:42:37.751Z"
   },
   {
    "duration": 86,
    "start_time": "2022-11-03T13:42:37.760Z"
   },
   {
    "duration": 23,
    "start_time": "2022-11-03T13:42:37.848Z"
   },
   {
    "duration": 9,
    "start_time": "2022-11-03T13:42:37.873Z"
   },
   {
    "duration": 6,
    "start_time": "2022-11-03T13:42:37.883Z"
   },
   {
    "duration": 11,
    "start_time": "2022-11-03T13:42:37.890Z"
   },
   {
    "duration": 0,
    "start_time": "2022-11-03T13:42:37.922Z"
   },
   {
    "duration": 0,
    "start_time": "2022-11-03T13:42:37.923Z"
   },
   {
    "duration": 0,
    "start_time": "2022-11-03T13:42:37.925Z"
   },
   {
    "duration": 0,
    "start_time": "2022-11-03T13:42:37.926Z"
   },
   {
    "duration": 0,
    "start_time": "2022-11-03T13:42:37.927Z"
   },
   {
    "duration": 0,
    "start_time": "2022-11-03T13:42:37.928Z"
   },
   {
    "duration": 0,
    "start_time": "2022-11-03T13:42:37.929Z"
   },
   {
    "duration": 0,
    "start_time": "2022-11-03T13:42:37.930Z"
   },
   {
    "duration": 0,
    "start_time": "2022-11-03T13:42:37.931Z"
   },
   {
    "duration": 0,
    "start_time": "2022-11-03T13:42:37.932Z"
   },
   {
    "duration": 0,
    "start_time": "2022-11-03T13:42:37.933Z"
   },
   {
    "duration": 7,
    "start_time": "2022-11-03T13:45:30.501Z"
   },
   {
    "duration": 8,
    "start_time": "2022-11-03T13:54:16.057Z"
   },
   {
    "duration": 6,
    "start_time": "2022-11-03T13:57:02.565Z"
   },
   {
    "duration": 2,
    "start_time": "2022-11-03T13:57:06.662Z"
   },
   {
    "duration": 81,
    "start_time": "2022-11-03T13:57:06.666Z"
   },
   {
    "duration": 13,
    "start_time": "2022-11-03T13:57:06.749Z"
   },
   {
    "duration": 23,
    "start_time": "2022-11-03T13:57:06.763Z"
   },
   {
    "duration": 43,
    "start_time": "2022-11-03T13:57:06.787Z"
   },
   {
    "duration": 29,
    "start_time": "2022-11-03T13:57:06.831Z"
   },
   {
    "duration": 5,
    "start_time": "2022-11-03T13:57:06.862Z"
   },
   {
    "duration": 33,
    "start_time": "2022-11-03T13:57:06.869Z"
   },
   {
    "duration": 32,
    "start_time": "2022-11-03T13:57:06.903Z"
   },
   {
    "duration": 30,
    "start_time": "2022-11-03T13:57:06.937Z"
   },
   {
    "duration": 6,
    "start_time": "2022-11-03T13:57:06.968Z"
   },
   {
    "duration": 12,
    "start_time": "2022-11-03T13:57:06.975Z"
   },
   {
    "duration": 31,
    "start_time": "2022-11-03T13:57:06.989Z"
   },
   {
    "duration": 0,
    "start_time": "2022-11-03T13:57:07.022Z"
   },
   {
    "duration": 0,
    "start_time": "2022-11-03T13:57:07.023Z"
   },
   {
    "duration": 0,
    "start_time": "2022-11-03T13:57:07.024Z"
   },
   {
    "duration": 0,
    "start_time": "2022-11-03T13:57:07.025Z"
   },
   {
    "duration": 0,
    "start_time": "2022-11-03T13:57:07.026Z"
   },
   {
    "duration": 0,
    "start_time": "2022-11-03T13:57:07.026Z"
   },
   {
    "duration": 0,
    "start_time": "2022-11-03T13:57:07.027Z"
   },
   {
    "duration": 0,
    "start_time": "2022-11-03T13:57:07.028Z"
   },
   {
    "duration": 0,
    "start_time": "2022-11-03T13:57:07.029Z"
   },
   {
    "duration": 0,
    "start_time": "2022-11-03T13:57:07.030Z"
   },
   {
    "duration": 0,
    "start_time": "2022-11-03T13:57:07.031Z"
   },
   {
    "duration": 3,
    "start_time": "2022-11-03T13:57:29.343Z"
   },
   {
    "duration": 87,
    "start_time": "2022-11-03T13:57:29.827Z"
   },
   {
    "duration": 15,
    "start_time": "2022-11-03T13:57:31.579Z"
   },
   {
    "duration": 14,
    "start_time": "2022-11-03T13:57:33.971Z"
   },
   {
    "duration": 9,
    "start_time": "2022-11-03T13:57:38.735Z"
   },
   {
    "duration": 18,
    "start_time": "2022-11-03T13:57:39.647Z"
   },
   {
    "duration": 6,
    "start_time": "2022-11-03T13:57:44.843Z"
   },
   {
    "duration": 5,
    "start_time": "2022-11-03T13:57:45.666Z"
   },
   {
    "duration": 20,
    "start_time": "2022-11-03T13:57:48.063Z"
   },
   {
    "duration": 19,
    "start_time": "2022-11-03T13:57:54.210Z"
   },
   {
    "duration": 8,
    "start_time": "2022-11-03T13:57:57.605Z"
   },
   {
    "duration": 4,
    "start_time": "2022-11-03T13:58:02.041Z"
   },
   {
    "duration": 7,
    "start_time": "2022-11-03T13:58:04.716Z"
   },
   {
    "duration": 7,
    "start_time": "2022-11-03T13:59:23.026Z"
   },
   {
    "duration": 7,
    "start_time": "2022-11-03T14:00:13.451Z"
   },
   {
    "duration": 6,
    "start_time": "2022-11-03T14:00:22.820Z"
   },
   {
    "duration": 2,
    "start_time": "2022-11-03T14:00:26.742Z"
   },
   {
    "duration": 68,
    "start_time": "2022-11-03T14:00:26.746Z"
   },
   {
    "duration": 14,
    "start_time": "2022-11-03T14:00:26.816Z"
   },
   {
    "duration": 17,
    "start_time": "2022-11-03T14:00:26.831Z"
   },
   {
    "duration": 14,
    "start_time": "2022-11-03T14:00:26.849Z"
   },
   {
    "duration": 19,
    "start_time": "2022-11-03T14:00:26.864Z"
   },
   {
    "duration": 7,
    "start_time": "2022-11-03T14:00:26.884Z"
   },
   {
    "duration": 12,
    "start_time": "2022-11-03T14:00:26.893Z"
   },
   {
    "duration": 32,
    "start_time": "2022-11-03T14:00:26.906Z"
   },
   {
    "duration": 18,
    "start_time": "2022-11-03T14:00:26.940Z"
   },
   {
    "duration": 8,
    "start_time": "2022-11-03T14:00:26.959Z"
   },
   {
    "duration": 5,
    "start_time": "2022-11-03T14:00:26.968Z"
   },
   {
    "duration": 7,
    "start_time": "2022-11-03T14:00:26.976Z"
   },
   {
    "duration": 0,
    "start_time": "2022-11-03T14:00:26.984Z"
   },
   {
    "duration": 0,
    "start_time": "2022-11-03T14:00:26.986Z"
   },
   {
    "duration": 0,
    "start_time": "2022-11-03T14:00:26.987Z"
   },
   {
    "duration": 0,
    "start_time": "2022-11-03T14:00:27.022Z"
   },
   {
    "duration": 0,
    "start_time": "2022-11-03T14:00:27.023Z"
   },
   {
    "duration": 0,
    "start_time": "2022-11-03T14:00:27.024Z"
   },
   {
    "duration": 0,
    "start_time": "2022-11-03T14:00:27.025Z"
   },
   {
    "duration": 0,
    "start_time": "2022-11-03T14:00:27.026Z"
   },
   {
    "duration": 0,
    "start_time": "2022-11-03T14:00:27.027Z"
   },
   {
    "duration": 0,
    "start_time": "2022-11-03T14:00:27.028Z"
   },
   {
    "duration": 0,
    "start_time": "2022-11-03T14:00:27.029Z"
   },
   {
    "duration": 7,
    "start_time": "2022-11-03T14:01:21.221Z"
   },
   {
    "duration": 7,
    "start_time": "2022-11-03T14:01:28.110Z"
   },
   {
    "duration": 2,
    "start_time": "2022-11-03T14:01:31.249Z"
   },
   {
    "duration": 102,
    "start_time": "2022-11-03T14:01:31.253Z"
   },
   {
    "duration": 13,
    "start_time": "2022-11-03T14:01:31.356Z"
   },
   {
    "duration": 16,
    "start_time": "2022-11-03T14:01:31.371Z"
   },
   {
    "duration": 9,
    "start_time": "2022-11-03T14:01:31.388Z"
   },
   {
    "duration": 23,
    "start_time": "2022-11-03T14:01:31.399Z"
   },
   {
    "duration": 5,
    "start_time": "2022-11-03T14:01:31.423Z"
   },
   {
    "duration": 19,
    "start_time": "2022-11-03T14:01:31.429Z"
   },
   {
    "duration": 21,
    "start_time": "2022-11-03T14:01:31.451Z"
   },
   {
    "duration": 17,
    "start_time": "2022-11-03T14:01:31.473Z"
   },
   {
    "duration": 6,
    "start_time": "2022-11-03T14:01:31.492Z"
   },
   {
    "duration": 22,
    "start_time": "2022-11-03T14:01:31.500Z"
   },
   {
    "duration": 14,
    "start_time": "2022-11-03T14:01:31.523Z"
   },
   {
    "duration": 0,
    "start_time": "2022-11-03T14:01:31.539Z"
   },
   {
    "duration": 0,
    "start_time": "2022-11-03T14:01:31.540Z"
   },
   {
    "duration": 0,
    "start_time": "2022-11-03T14:01:31.541Z"
   },
   {
    "duration": 0,
    "start_time": "2022-11-03T14:01:31.542Z"
   },
   {
    "duration": 0,
    "start_time": "2022-11-03T14:01:31.543Z"
   },
   {
    "duration": 0,
    "start_time": "2022-11-03T14:01:31.544Z"
   },
   {
    "duration": 0,
    "start_time": "2022-11-03T14:01:31.545Z"
   },
   {
    "duration": 0,
    "start_time": "2022-11-03T14:01:31.547Z"
   },
   {
    "duration": 0,
    "start_time": "2022-11-03T14:01:31.547Z"
   },
   {
    "duration": 0,
    "start_time": "2022-11-03T14:01:31.548Z"
   },
   {
    "duration": 1,
    "start_time": "2022-11-03T14:01:31.549Z"
   },
   {
    "duration": 10,
    "start_time": "2022-11-03T14:14:43.910Z"
   },
   {
    "duration": 8,
    "start_time": "2022-11-03T14:17:46.160Z"
   },
   {
    "duration": 2,
    "start_time": "2022-11-03T14:17:52.196Z"
   },
   {
    "duration": 85,
    "start_time": "2022-11-03T14:17:52.200Z"
   },
   {
    "duration": 14,
    "start_time": "2022-11-03T14:17:52.286Z"
   },
   {
    "duration": 14,
    "start_time": "2022-11-03T14:17:52.303Z"
   },
   {
    "duration": 19,
    "start_time": "2022-11-03T14:17:52.321Z"
   },
   {
    "duration": 15,
    "start_time": "2022-11-03T14:17:52.342Z"
   },
   {
    "duration": 6,
    "start_time": "2022-11-03T14:17:52.358Z"
   },
   {
    "duration": 8,
    "start_time": "2022-11-03T14:17:52.365Z"
   },
   {
    "duration": 21,
    "start_time": "2022-11-03T14:17:52.375Z"
   },
   {
    "duration": 41,
    "start_time": "2022-11-03T14:17:52.398Z"
   },
   {
    "duration": 6,
    "start_time": "2022-11-03T14:17:52.441Z"
   },
   {
    "duration": 3,
    "start_time": "2022-11-03T14:17:52.449Z"
   },
   {
    "duration": 12,
    "start_time": "2022-11-03T14:17:52.454Z"
   },
   {
    "duration": 0,
    "start_time": "2022-11-03T14:17:52.468Z"
   },
   {
    "duration": 0,
    "start_time": "2022-11-03T14:17:52.469Z"
   },
   {
    "duration": 0,
    "start_time": "2022-11-03T14:17:52.470Z"
   },
   {
    "duration": 0,
    "start_time": "2022-11-03T14:17:52.471Z"
   },
   {
    "duration": 0,
    "start_time": "2022-11-03T14:17:52.472Z"
   },
   {
    "duration": 0,
    "start_time": "2022-11-03T14:17:52.473Z"
   },
   {
    "duration": 0,
    "start_time": "2022-11-03T14:17:52.474Z"
   },
   {
    "duration": 0,
    "start_time": "2022-11-03T14:17:52.475Z"
   },
   {
    "duration": 0,
    "start_time": "2022-11-03T14:17:52.476Z"
   },
   {
    "duration": 0,
    "start_time": "2022-11-03T14:17:52.477Z"
   },
   {
    "duration": 0,
    "start_time": "2022-11-03T14:17:52.478Z"
   },
   {
    "duration": 6,
    "start_time": "2022-11-03T14:26:46.605Z"
   },
   {
    "duration": 8,
    "start_time": "2022-11-03T14:27:21.540Z"
   },
   {
    "duration": 6,
    "start_time": "2022-11-03T14:27:23.368Z"
   },
   {
    "duration": 3,
    "start_time": "2022-11-03T14:27:27.639Z"
   },
   {
    "duration": 118,
    "start_time": "2022-11-03T14:27:27.644Z"
   },
   {
    "duration": 15,
    "start_time": "2022-11-03T14:27:27.763Z"
   },
   {
    "duration": 26,
    "start_time": "2022-11-03T14:27:27.780Z"
   },
   {
    "duration": 34,
    "start_time": "2022-11-03T14:27:27.809Z"
   },
   {
    "duration": 27,
    "start_time": "2022-11-03T14:27:27.845Z"
   },
   {
    "duration": 24,
    "start_time": "2022-11-03T14:27:27.874Z"
   },
   {
    "duration": 23,
    "start_time": "2022-11-03T14:27:27.900Z"
   },
   {
    "duration": 68,
    "start_time": "2022-11-03T14:27:27.925Z"
   },
   {
    "duration": 18,
    "start_time": "2022-11-03T14:27:27.995Z"
   },
   {
    "duration": 33,
    "start_time": "2022-11-03T14:27:28.015Z"
   },
   {
    "duration": 12,
    "start_time": "2022-11-03T14:27:28.050Z"
   },
   {
    "duration": 20,
    "start_time": "2022-11-03T14:27:28.064Z"
   },
   {
    "duration": 0,
    "start_time": "2022-11-03T14:27:28.085Z"
   },
   {
    "duration": 0,
    "start_time": "2022-11-03T14:27:28.087Z"
   },
   {
    "duration": 0,
    "start_time": "2022-11-03T14:27:28.088Z"
   },
   {
    "duration": 0,
    "start_time": "2022-11-03T14:27:28.089Z"
   },
   {
    "duration": 0,
    "start_time": "2022-11-03T14:27:28.090Z"
   },
   {
    "duration": 0,
    "start_time": "2022-11-03T14:27:28.092Z"
   },
   {
    "duration": 0,
    "start_time": "2022-11-03T14:27:28.094Z"
   },
   {
    "duration": 0,
    "start_time": "2022-11-03T14:27:28.095Z"
   },
   {
    "duration": 0,
    "start_time": "2022-11-03T14:27:28.096Z"
   },
   {
    "duration": 0,
    "start_time": "2022-11-03T14:27:28.098Z"
   },
   {
    "duration": 0,
    "start_time": "2022-11-03T14:27:28.099Z"
   },
   {
    "duration": 0,
    "start_time": "2022-11-03T14:27:28.100Z"
   },
   {
    "duration": 7,
    "start_time": "2022-11-03T14:33:48.463Z"
   },
   {
    "duration": 3,
    "start_time": "2022-11-03T14:33:52.700Z"
   },
   {
    "duration": 86,
    "start_time": "2022-11-03T14:33:52.704Z"
   },
   {
    "duration": 14,
    "start_time": "2022-11-03T14:33:52.792Z"
   },
   {
    "duration": 19,
    "start_time": "2022-11-03T14:33:52.808Z"
   },
   {
    "duration": 13,
    "start_time": "2022-11-03T14:33:52.829Z"
   },
   {
    "duration": 33,
    "start_time": "2022-11-03T14:33:52.847Z"
   },
   {
    "duration": 6,
    "start_time": "2022-11-03T14:33:52.883Z"
   },
   {
    "duration": 18,
    "start_time": "2022-11-03T14:33:52.891Z"
   },
   {
    "duration": 29,
    "start_time": "2022-11-03T14:33:52.910Z"
   },
   {
    "duration": 30,
    "start_time": "2022-11-03T14:33:52.940Z"
   },
   {
    "duration": 12,
    "start_time": "2022-11-03T14:33:52.971Z"
   },
   {
    "duration": 7,
    "start_time": "2022-11-03T14:33:52.985Z"
   },
   {
    "duration": 102,
    "start_time": "2022-11-03T14:33:52.993Z"
   },
   {
    "duration": 0,
    "start_time": "2022-11-03T14:33:53.096Z"
   },
   {
    "duration": 0,
    "start_time": "2022-11-03T14:33:53.097Z"
   },
   {
    "duration": 0,
    "start_time": "2022-11-03T14:33:53.099Z"
   },
   {
    "duration": 0,
    "start_time": "2022-11-03T14:33:53.100Z"
   },
   {
    "duration": 0,
    "start_time": "2022-11-03T14:33:53.101Z"
   },
   {
    "duration": 0,
    "start_time": "2022-11-03T14:33:53.102Z"
   },
   {
    "duration": 0,
    "start_time": "2022-11-03T14:33:53.103Z"
   },
   {
    "duration": 0,
    "start_time": "2022-11-03T14:33:53.104Z"
   },
   {
    "duration": 0,
    "start_time": "2022-11-03T14:33:53.105Z"
   },
   {
    "duration": 0,
    "start_time": "2022-11-03T14:33:53.106Z"
   },
   {
    "duration": 0,
    "start_time": "2022-11-03T14:33:53.107Z"
   },
   {
    "duration": 0,
    "start_time": "2022-11-03T14:33:53.108Z"
   },
   {
    "duration": 2,
    "start_time": "2022-11-03T14:40:25.953Z"
   },
   {
    "duration": 89,
    "start_time": "2022-11-03T14:40:25.957Z"
   },
   {
    "duration": 19,
    "start_time": "2022-11-03T14:40:26.048Z"
   },
   {
    "duration": 31,
    "start_time": "2022-11-03T14:40:26.068Z"
   },
   {
    "duration": 14,
    "start_time": "2022-11-03T14:40:26.101Z"
   },
   {
    "duration": 33,
    "start_time": "2022-11-03T14:40:26.117Z"
   },
   {
    "duration": 7,
    "start_time": "2022-11-03T14:40:26.153Z"
   },
   {
    "duration": 8,
    "start_time": "2022-11-03T14:40:26.162Z"
   },
   {
    "duration": 28,
    "start_time": "2022-11-03T14:40:26.172Z"
   },
   {
    "duration": 30,
    "start_time": "2022-11-03T14:40:26.202Z"
   },
   {
    "duration": 18,
    "start_time": "2022-11-03T14:40:26.234Z"
   },
   {
    "duration": 6,
    "start_time": "2022-11-03T14:40:26.254Z"
   },
   {
    "duration": 8,
    "start_time": "2022-11-03T14:40:26.263Z"
   },
   {
    "duration": 3,
    "start_time": "2022-11-03T14:40:26.273Z"
   },
   {
    "duration": 13,
    "start_time": "2022-11-03T14:40:26.277Z"
   },
   {
    "duration": 11,
    "start_time": "2022-11-03T14:40:26.291Z"
   },
   {
    "duration": 8,
    "start_time": "2022-11-03T14:40:26.304Z"
   },
   {
    "duration": 28,
    "start_time": "2022-11-03T14:40:26.314Z"
   },
   {
    "duration": 16,
    "start_time": "2022-11-03T14:40:26.345Z"
   },
   {
    "duration": 4,
    "start_time": "2022-11-03T14:40:26.364Z"
   },
   {
    "duration": 4,
    "start_time": "2022-11-03T14:40:26.370Z"
   },
   {
    "duration": 6,
    "start_time": "2022-11-03T14:40:26.375Z"
   },
   {
    "duration": 5,
    "start_time": "2022-11-03T14:40:26.383Z"
   },
   {
    "duration": 6,
    "start_time": "2022-11-03T14:40:26.390Z"
   },
   {
    "duration": 9,
    "start_time": "2022-11-03T14:56:56.801Z"
   },
   {
    "duration": 2,
    "start_time": "2022-11-03T14:57:02.028Z"
   },
   {
    "duration": 106,
    "start_time": "2022-11-03T14:57:02.032Z"
   },
   {
    "duration": 13,
    "start_time": "2022-11-03T14:57:02.140Z"
   },
   {
    "duration": 21,
    "start_time": "2022-11-03T14:57:02.155Z"
   },
   {
    "duration": 10,
    "start_time": "2022-11-03T14:57:02.178Z"
   },
   {
    "duration": 35,
    "start_time": "2022-11-03T14:57:02.189Z"
   },
   {
    "duration": 72,
    "start_time": "2022-11-03T14:57:02.225Z"
   },
   {
    "duration": 12,
    "start_time": "2022-11-03T14:57:02.298Z"
   },
   {
    "duration": 37,
    "start_time": "2022-11-03T14:57:02.312Z"
   },
   {
    "duration": 17,
    "start_time": "2022-11-03T14:57:02.350Z"
   },
   {
    "duration": 16,
    "start_time": "2022-11-03T14:57:02.368Z"
   },
   {
    "duration": 7,
    "start_time": "2022-11-03T14:57:02.386Z"
   },
   {
    "duration": 15,
    "start_time": "2022-11-03T14:57:02.394Z"
   },
   {
    "duration": 8,
    "start_time": "2022-11-03T14:57:02.412Z"
   },
   {
    "duration": 17,
    "start_time": "2022-11-03T14:57:02.421Z"
   },
   {
    "duration": 0,
    "start_time": "2022-11-03T14:57:02.440Z"
   },
   {
    "duration": 0,
    "start_time": "2022-11-03T14:57:02.442Z"
   },
   {
    "duration": 0,
    "start_time": "2022-11-03T14:57:02.443Z"
   },
   {
    "duration": 0,
    "start_time": "2022-11-03T14:57:02.444Z"
   },
   {
    "duration": 0,
    "start_time": "2022-11-03T14:57:02.446Z"
   },
   {
    "duration": 0,
    "start_time": "2022-11-03T14:57:02.447Z"
   },
   {
    "duration": 0,
    "start_time": "2022-11-03T14:57:02.448Z"
   },
   {
    "duration": 0,
    "start_time": "2022-11-03T14:57:02.450Z"
   },
   {
    "duration": 0,
    "start_time": "2022-11-03T14:57:02.451Z"
   },
   {
    "duration": 0,
    "start_time": "2022-11-03T14:57:02.453Z"
   },
   {
    "duration": 7,
    "start_time": "2022-11-03T14:58:31.573Z"
   },
   {
    "duration": 31,
    "start_time": "2022-11-03T15:02:53.654Z"
   },
   {
    "duration": 21,
    "start_time": "2022-11-03T15:03:24.875Z"
   },
   {
    "duration": 22,
    "start_time": "2022-11-03T15:05:01.906Z"
   },
   {
    "duration": 23,
    "start_time": "2022-11-03T15:13:23.122Z"
   },
   {
    "duration": 2,
    "start_time": "2022-11-03T15:23:48.954Z"
   },
   {
    "duration": 82,
    "start_time": "2022-11-03T15:23:48.958Z"
   },
   {
    "duration": 13,
    "start_time": "2022-11-03T15:23:49.042Z"
   },
   {
    "duration": 33,
    "start_time": "2022-11-03T15:23:49.056Z"
   },
   {
    "duration": 23,
    "start_time": "2022-11-03T15:23:49.090Z"
   },
   {
    "duration": 22,
    "start_time": "2022-11-03T15:23:49.115Z"
   },
   {
    "duration": 14,
    "start_time": "2022-11-03T15:23:49.138Z"
   },
   {
    "duration": 17,
    "start_time": "2022-11-03T15:23:49.153Z"
   },
   {
    "duration": 30,
    "start_time": "2022-11-03T15:23:49.172Z"
   },
   {
    "duration": 49,
    "start_time": "2022-11-03T15:23:49.204Z"
   },
   {
    "duration": 18,
    "start_time": "2022-11-03T15:23:49.255Z"
   },
   {
    "duration": 17,
    "start_time": "2022-11-03T15:23:49.274Z"
   },
   {
    "duration": 14,
    "start_time": "2022-11-03T15:23:49.293Z"
   },
   {
    "duration": 6,
    "start_time": "2022-11-03T15:23:49.308Z"
   },
   {
    "duration": 23,
    "start_time": "2022-11-03T15:23:49.315Z"
   },
   {
    "duration": 9,
    "start_time": "2022-11-03T15:23:49.340Z"
   },
   {
    "duration": 4,
    "start_time": "2022-11-03T15:23:49.350Z"
   },
   {
    "duration": 9,
    "start_time": "2022-11-03T15:23:49.355Z"
   },
   {
    "duration": 7,
    "start_time": "2022-11-03T15:23:49.365Z"
   },
   {
    "duration": 6,
    "start_time": "2022-11-03T15:23:49.373Z"
   },
   {
    "duration": 4,
    "start_time": "2022-11-03T15:23:49.381Z"
   },
   {
    "duration": 5,
    "start_time": "2022-11-03T15:23:49.387Z"
   },
   {
    "duration": 8,
    "start_time": "2022-11-03T15:23:49.393Z"
   },
   {
    "duration": 19,
    "start_time": "2022-11-03T15:23:49.402Z"
   },
   {
    "duration": 2,
    "start_time": "2022-11-03T15:23:49.423Z"
   },
   {
    "duration": 8,
    "start_time": "2022-11-03T15:28:26.693Z"
   },
   {
    "duration": 9,
    "start_time": "2022-11-03T15:28:38.193Z"
   },
   {
    "duration": 3,
    "start_time": "2022-11-03T15:39:38.669Z"
   },
   {
    "duration": 72,
    "start_time": "2022-11-03T15:39:38.674Z"
   },
   {
    "duration": 15,
    "start_time": "2022-11-03T15:39:38.747Z"
   },
   {
    "duration": 20,
    "start_time": "2022-11-03T15:39:38.764Z"
   },
   {
    "duration": 9,
    "start_time": "2022-11-03T15:39:38.787Z"
   },
   {
    "duration": 28,
    "start_time": "2022-11-03T15:39:38.798Z"
   },
   {
    "duration": 7,
    "start_time": "2022-11-03T15:39:38.828Z"
   },
   {
    "duration": 7,
    "start_time": "2022-11-03T15:39:38.837Z"
   },
   {
    "duration": 39,
    "start_time": "2022-11-03T15:39:38.846Z"
   },
   {
    "duration": 37,
    "start_time": "2022-11-03T15:39:38.887Z"
   },
   {
    "duration": 11,
    "start_time": "2022-11-03T15:39:38.926Z"
   },
   {
    "duration": 4,
    "start_time": "2022-11-03T15:39:38.938Z"
   },
   {
    "duration": 7,
    "start_time": "2022-11-03T15:39:38.943Z"
   },
   {
    "duration": 7,
    "start_time": "2022-11-03T15:39:38.952Z"
   },
   {
    "duration": 16,
    "start_time": "2022-11-03T15:39:38.960Z"
   },
   {
    "duration": 4,
    "start_time": "2022-11-03T15:39:38.977Z"
   },
   {
    "duration": 5,
    "start_time": "2022-11-03T15:39:38.982Z"
   },
   {
    "duration": 5,
    "start_time": "2022-11-03T15:39:38.988Z"
   },
   {
    "duration": 2,
    "start_time": "2022-11-03T15:39:39.022Z"
   },
   {
    "duration": 9,
    "start_time": "2022-11-03T15:39:39.025Z"
   },
   {
    "duration": 15,
    "start_time": "2022-11-03T15:39:39.035Z"
   },
   {
    "duration": 5,
    "start_time": "2022-11-03T15:39:39.051Z"
   },
   {
    "duration": 6,
    "start_time": "2022-11-03T15:39:39.058Z"
   },
   {
    "duration": 5,
    "start_time": "2022-11-03T15:39:39.065Z"
   },
   {
    "duration": 8,
    "start_time": "2022-11-03T15:39:39.072Z"
   },
   {
    "duration": 10,
    "start_time": "2022-11-03T15:41:10.932Z"
   },
   {
    "duration": 2,
    "start_time": "2022-11-03T15:41:14.524Z"
   },
   {
    "duration": 70,
    "start_time": "2022-11-03T15:41:14.528Z"
   },
   {
    "duration": 16,
    "start_time": "2022-11-03T15:41:14.600Z"
   },
   {
    "duration": 24,
    "start_time": "2022-11-03T15:41:14.618Z"
   },
   {
    "duration": 10,
    "start_time": "2022-11-03T15:41:14.643Z"
   },
   {
    "duration": 40,
    "start_time": "2022-11-03T15:41:14.654Z"
   },
   {
    "duration": 30,
    "start_time": "2022-11-03T15:41:14.695Z"
   },
   {
    "duration": 23,
    "start_time": "2022-11-03T15:41:14.727Z"
   },
   {
    "duration": 28,
    "start_time": "2022-11-03T15:41:14.751Z"
   },
   {
    "duration": 23,
    "start_time": "2022-11-03T15:41:14.780Z"
   },
   {
    "duration": 20,
    "start_time": "2022-11-03T15:41:14.806Z"
   },
   {
    "duration": 57,
    "start_time": "2022-11-03T15:41:14.827Z"
   },
   {
    "duration": 26,
    "start_time": "2022-11-03T15:41:14.886Z"
   },
   {
    "duration": 13,
    "start_time": "2022-11-03T15:41:14.915Z"
   },
   {
    "duration": 31,
    "start_time": "2022-11-03T15:41:14.930Z"
   },
   {
    "duration": 7,
    "start_time": "2022-11-03T15:41:14.963Z"
   },
   {
    "duration": 17,
    "start_time": "2022-11-03T15:41:14.971Z"
   },
   {
    "duration": 29,
    "start_time": "2022-11-03T15:41:14.989Z"
   },
   {
    "duration": 37,
    "start_time": "2022-11-03T15:41:15.020Z"
   },
   {
    "duration": 20,
    "start_time": "2022-11-03T15:41:15.059Z"
   },
   {
    "duration": 28,
    "start_time": "2022-11-03T15:41:15.081Z"
   },
   {
    "duration": 32,
    "start_time": "2022-11-03T15:41:15.110Z"
   },
   {
    "duration": 10,
    "start_time": "2022-11-03T15:41:15.143Z"
   },
   {
    "duration": 8,
    "start_time": "2022-11-03T15:41:15.154Z"
   },
   {
    "duration": 19,
    "start_time": "2022-11-03T15:41:15.164Z"
   },
   {
    "duration": 2,
    "start_time": "2022-11-03T15:41:27.933Z"
   },
   {
    "duration": 73,
    "start_time": "2022-11-03T15:41:27.938Z"
   },
   {
    "duration": 14,
    "start_time": "2022-11-03T15:41:28.012Z"
   },
   {
    "duration": 15,
    "start_time": "2022-11-03T15:41:28.027Z"
   },
   {
    "duration": 8,
    "start_time": "2022-11-03T15:41:28.044Z"
   },
   {
    "duration": 13,
    "start_time": "2022-11-03T15:41:28.053Z"
   },
   {
    "duration": 5,
    "start_time": "2022-11-03T15:41:28.067Z"
   },
   {
    "duration": 7,
    "start_time": "2022-11-03T15:41:28.073Z"
   },
   {
    "duration": 46,
    "start_time": "2022-11-03T15:41:28.082Z"
   },
   {
    "duration": 18,
    "start_time": "2022-11-03T15:41:28.130Z"
   },
   {
    "duration": 7,
    "start_time": "2022-11-03T15:41:28.149Z"
   },
   {
    "duration": 4,
    "start_time": "2022-11-03T15:41:28.157Z"
   },
   {
    "duration": 8,
    "start_time": "2022-11-03T15:41:28.163Z"
   },
   {
    "duration": 9,
    "start_time": "2022-11-03T15:41:28.172Z"
   },
   {
    "duration": 15,
    "start_time": "2022-11-03T15:41:28.182Z"
   },
   {
    "duration": 24,
    "start_time": "2022-11-03T15:41:28.198Z"
   },
   {
    "duration": 2,
    "start_time": "2022-11-03T15:41:28.223Z"
   },
   {
    "duration": 10,
    "start_time": "2022-11-03T15:41:28.226Z"
   },
   {
    "duration": 5,
    "start_time": "2022-11-03T15:41:28.238Z"
   },
   {
    "duration": 5,
    "start_time": "2022-11-03T15:41:28.244Z"
   },
   {
    "duration": 6,
    "start_time": "2022-11-03T15:41:28.250Z"
   },
   {
    "duration": 5,
    "start_time": "2022-11-03T15:41:28.257Z"
   },
   {
    "duration": 5,
    "start_time": "2022-11-03T15:41:28.264Z"
   },
   {
    "duration": 4,
    "start_time": "2022-11-03T15:41:28.270Z"
   },
   {
    "duration": 6,
    "start_time": "2022-11-03T15:41:28.276Z"
   },
   {
    "duration": 2,
    "start_time": "2022-11-03T15:41:52.863Z"
   },
   {
    "duration": 69,
    "start_time": "2022-11-03T15:41:52.867Z"
   },
   {
    "duration": 14,
    "start_time": "2022-11-03T15:41:52.938Z"
   },
   {
    "duration": 14,
    "start_time": "2022-11-03T15:41:52.954Z"
   },
   {
    "duration": 8,
    "start_time": "2022-11-03T15:41:52.970Z"
   },
   {
    "duration": 14,
    "start_time": "2022-11-03T15:41:52.979Z"
   },
   {
    "duration": 27,
    "start_time": "2022-11-03T15:41:52.995Z"
   },
   {
    "duration": 5,
    "start_time": "2022-11-03T15:41:53.024Z"
   },
   {
    "duration": 21,
    "start_time": "2022-11-03T15:41:53.030Z"
   },
   {
    "duration": 19,
    "start_time": "2022-11-03T15:41:53.053Z"
   },
   {
    "duration": 6,
    "start_time": "2022-11-03T15:41:53.073Z"
   },
   {
    "duration": 6,
    "start_time": "2022-11-03T15:41:53.081Z"
   },
   {
    "duration": 35,
    "start_time": "2022-11-03T15:41:53.089Z"
   },
   {
    "duration": 3,
    "start_time": "2022-11-03T15:41:53.126Z"
   },
   {
    "duration": 28,
    "start_time": "2022-11-03T15:41:53.130Z"
   },
   {
    "duration": 8,
    "start_time": "2022-11-03T15:41:53.159Z"
   },
   {
    "duration": 3,
    "start_time": "2022-11-03T15:41:53.168Z"
   },
   {
    "duration": 7,
    "start_time": "2022-11-03T15:41:53.173Z"
   },
   {
    "duration": 8,
    "start_time": "2022-11-03T15:41:53.181Z"
   },
   {
    "duration": 12,
    "start_time": "2022-11-03T15:41:53.191Z"
   },
   {
    "duration": 4,
    "start_time": "2022-11-03T15:41:53.205Z"
   },
   {
    "duration": 4,
    "start_time": "2022-11-03T15:41:53.211Z"
   },
   {
    "duration": 2,
    "start_time": "2022-11-03T15:41:53.222Z"
   },
   {
    "duration": 4,
    "start_time": "2022-11-03T15:41:53.225Z"
   },
   {
    "duration": 9,
    "start_time": "2022-11-03T15:41:53.231Z"
   },
   {
    "duration": 2,
    "start_time": "2022-11-03T15:43:00.431Z"
   },
   {
    "duration": 87,
    "start_time": "2022-11-03T15:43:00.435Z"
   },
   {
    "duration": 14,
    "start_time": "2022-11-03T15:43:00.523Z"
   },
   {
    "duration": 24,
    "start_time": "2022-11-03T15:43:00.539Z"
   },
   {
    "duration": 34,
    "start_time": "2022-11-03T15:43:00.564Z"
   },
   {
    "duration": 37,
    "start_time": "2022-11-03T15:43:00.600Z"
   },
   {
    "duration": 14,
    "start_time": "2022-11-03T15:43:00.639Z"
   },
   {
    "duration": 11,
    "start_time": "2022-11-03T15:43:00.655Z"
   },
   {
    "duration": 38,
    "start_time": "2022-11-03T15:43:00.668Z"
   },
   {
    "duration": 22,
    "start_time": "2022-11-03T15:43:00.708Z"
   },
   {
    "duration": 36,
    "start_time": "2022-11-03T15:43:00.732Z"
   },
   {
    "duration": 26,
    "start_time": "2022-11-03T15:43:00.770Z"
   },
   {
    "duration": 24,
    "start_time": "2022-11-03T15:43:00.798Z"
   },
   {
    "duration": 24,
    "start_time": "2022-11-03T15:43:00.824Z"
   },
   {
    "duration": 32,
    "start_time": "2022-11-03T15:43:00.850Z"
   },
   {
    "duration": 35,
    "start_time": "2022-11-03T15:43:00.884Z"
   },
   {
    "duration": 25,
    "start_time": "2022-11-03T15:43:00.921Z"
   },
   {
    "duration": 30,
    "start_time": "2022-11-03T15:43:00.948Z"
   },
   {
    "duration": 43,
    "start_time": "2022-11-03T15:43:00.980Z"
   },
   {
    "duration": 32,
    "start_time": "2022-11-03T15:43:01.025Z"
   },
   {
    "duration": 50,
    "start_time": "2022-11-03T15:43:01.058Z"
   },
   {
    "duration": 39,
    "start_time": "2022-11-03T15:43:01.109Z"
   },
   {
    "duration": 24,
    "start_time": "2022-11-03T15:43:01.150Z"
   },
   {
    "duration": 56,
    "start_time": "2022-11-03T15:43:01.176Z"
   },
   {
    "duration": 26,
    "start_time": "2022-11-03T15:43:01.234Z"
   },
   {
    "duration": 21,
    "start_time": "2022-11-03T15:54:53.240Z"
   },
   {
    "duration": 2,
    "start_time": "2022-11-03T15:54:56.722Z"
   },
   {
    "duration": 83,
    "start_time": "2022-11-03T15:54:56.727Z"
   },
   {
    "duration": 16,
    "start_time": "2022-11-03T15:54:56.812Z"
   },
   {
    "duration": 15,
    "start_time": "2022-11-03T15:54:56.830Z"
   },
   {
    "duration": 13,
    "start_time": "2022-11-03T15:54:56.847Z"
   },
   {
    "duration": 19,
    "start_time": "2022-11-03T15:54:56.861Z"
   },
   {
    "duration": 5,
    "start_time": "2022-11-03T15:54:56.881Z"
   },
   {
    "duration": 9,
    "start_time": "2022-11-03T15:54:56.888Z"
   },
   {
    "duration": 40,
    "start_time": "2022-11-03T15:54:56.899Z"
   },
   {
    "duration": 18,
    "start_time": "2022-11-03T15:54:56.940Z"
   },
   {
    "duration": 7,
    "start_time": "2022-11-03T15:54:56.959Z"
   },
   {
    "duration": 11,
    "start_time": "2022-11-03T15:54:56.967Z"
   },
   {
    "duration": 7,
    "start_time": "2022-11-03T15:54:56.979Z"
   },
   {
    "duration": 4,
    "start_time": "2022-11-03T15:54:56.989Z"
   },
   {
    "duration": 46,
    "start_time": "2022-11-03T15:54:56.994Z"
   },
   {
    "duration": 9,
    "start_time": "2022-11-03T15:54:57.042Z"
   },
   {
    "duration": 3,
    "start_time": "2022-11-03T15:54:57.053Z"
   },
   {
    "duration": 6,
    "start_time": "2022-11-03T15:54:57.057Z"
   },
   {
    "duration": 5,
    "start_time": "2022-11-03T15:54:57.065Z"
   },
   {
    "duration": 9,
    "start_time": "2022-11-03T15:54:57.072Z"
   },
   {
    "duration": 6,
    "start_time": "2022-11-03T15:54:57.083Z"
   },
   {
    "duration": 9,
    "start_time": "2022-11-03T15:54:57.090Z"
   },
   {
    "duration": 7,
    "start_time": "2022-11-03T15:54:57.100Z"
   },
   {
    "duration": 5,
    "start_time": "2022-11-03T15:54:57.108Z"
   },
   {
    "duration": 8,
    "start_time": "2022-11-03T15:54:57.121Z"
   },
   {
    "duration": 4,
    "start_time": "2022-11-03T16:00:58.720Z"
   },
   {
    "duration": 81,
    "start_time": "2022-11-03T16:00:58.725Z"
   },
   {
    "duration": 15,
    "start_time": "2022-11-03T16:00:58.808Z"
   },
   {
    "duration": 17,
    "start_time": "2022-11-03T16:00:58.825Z"
   },
   {
    "duration": 14,
    "start_time": "2022-11-03T16:00:58.844Z"
   },
   {
    "duration": 27,
    "start_time": "2022-11-03T16:00:58.859Z"
   },
   {
    "duration": 6,
    "start_time": "2022-11-03T16:00:58.888Z"
   },
   {
    "duration": 6,
    "start_time": "2022-11-03T16:00:58.896Z"
   },
   {
    "duration": 30,
    "start_time": "2022-11-03T16:00:58.921Z"
   },
   {
    "duration": 20,
    "start_time": "2022-11-03T16:00:58.952Z"
   },
   {
    "duration": 8,
    "start_time": "2022-11-03T16:00:58.974Z"
   },
   {
    "duration": 9,
    "start_time": "2022-11-03T16:00:58.983Z"
   },
   {
    "duration": 33,
    "start_time": "2022-11-03T16:00:58.994Z"
   },
   {
    "duration": 5,
    "start_time": "2022-11-03T16:00:59.030Z"
   },
   {
    "duration": 15,
    "start_time": "2022-11-03T16:00:59.037Z"
   },
   {
    "duration": 0,
    "start_time": "2022-11-03T16:00:59.054Z"
   },
   {
    "duration": 0,
    "start_time": "2022-11-03T16:00:59.055Z"
   },
   {
    "duration": 0,
    "start_time": "2022-11-03T16:00:59.057Z"
   },
   {
    "duration": 0,
    "start_time": "2022-11-03T16:00:59.058Z"
   },
   {
    "duration": 0,
    "start_time": "2022-11-03T16:00:59.059Z"
   },
   {
    "duration": 0,
    "start_time": "2022-11-03T16:00:59.061Z"
   },
   {
    "duration": 0,
    "start_time": "2022-11-03T16:00:59.062Z"
   },
   {
    "duration": 0,
    "start_time": "2022-11-03T16:00:59.063Z"
   },
   {
    "duration": 0,
    "start_time": "2022-11-03T16:00:59.065Z"
   },
   {
    "duration": 0,
    "start_time": "2022-11-03T16:00:59.066Z"
   },
   {
    "duration": 3,
    "start_time": "2022-11-03T16:01:37.083Z"
   },
   {
    "duration": 75,
    "start_time": "2022-11-03T16:01:37.089Z"
   },
   {
    "duration": 15,
    "start_time": "2022-11-03T16:01:37.166Z"
   },
   {
    "duration": 17,
    "start_time": "2022-11-03T16:01:37.183Z"
   },
   {
    "duration": 24,
    "start_time": "2022-11-03T16:01:37.202Z"
   },
   {
    "duration": 18,
    "start_time": "2022-11-03T16:01:37.228Z"
   },
   {
    "duration": 5,
    "start_time": "2022-11-03T16:01:37.248Z"
   },
   {
    "duration": 9,
    "start_time": "2022-11-03T16:01:37.254Z"
   },
   {
    "duration": 30,
    "start_time": "2022-11-03T16:01:37.266Z"
   },
   {
    "duration": 34,
    "start_time": "2022-11-03T16:01:37.298Z"
   },
   {
    "duration": 8,
    "start_time": "2022-11-03T16:01:37.334Z"
   },
   {
    "duration": 6,
    "start_time": "2022-11-03T16:01:37.343Z"
   },
   {
    "duration": 7,
    "start_time": "2022-11-03T16:01:37.351Z"
   },
   {
    "duration": 13,
    "start_time": "2022-11-03T16:01:37.360Z"
   },
   {
    "duration": 27,
    "start_time": "2022-11-03T16:01:37.374Z"
   },
   {
    "duration": 27,
    "start_time": "2022-11-03T16:01:37.402Z"
   },
   {
    "duration": 5,
    "start_time": "2022-11-03T16:01:37.430Z"
   },
   {
    "duration": 9,
    "start_time": "2022-11-03T16:01:37.437Z"
   },
   {
    "duration": 8,
    "start_time": "2022-11-03T16:01:37.447Z"
   },
   {
    "duration": 10,
    "start_time": "2022-11-03T16:01:37.457Z"
   },
   {
    "duration": 9,
    "start_time": "2022-11-03T16:01:37.468Z"
   },
   {
    "duration": 5,
    "start_time": "2022-11-03T16:01:37.479Z"
   },
   {
    "duration": 5,
    "start_time": "2022-11-03T16:01:37.486Z"
   },
   {
    "duration": 7,
    "start_time": "2022-11-03T16:01:37.493Z"
   },
   {
    "duration": 8,
    "start_time": "2022-11-03T16:01:37.501Z"
   },
   {
    "duration": 2,
    "start_time": "2022-11-03T16:02:56.563Z"
   },
   {
    "duration": 71,
    "start_time": "2022-11-03T16:02:56.566Z"
   },
   {
    "duration": 15,
    "start_time": "2022-11-03T16:02:56.639Z"
   },
   {
    "duration": 15,
    "start_time": "2022-11-03T16:02:56.656Z"
   },
   {
    "duration": 9,
    "start_time": "2022-11-03T16:02:56.673Z"
   },
   {
    "duration": 39,
    "start_time": "2022-11-03T16:02:56.684Z"
   },
   {
    "duration": 6,
    "start_time": "2022-11-03T16:02:56.725Z"
   },
   {
    "duration": 7,
    "start_time": "2022-11-03T16:02:56.732Z"
   },
   {
    "duration": 23,
    "start_time": "2022-11-03T16:02:56.740Z"
   },
   {
    "duration": 23,
    "start_time": "2022-11-03T16:02:56.766Z"
   },
   {
    "duration": 38,
    "start_time": "2022-11-03T16:02:56.791Z"
   },
   {
    "duration": 3,
    "start_time": "2022-11-03T16:02:56.831Z"
   },
   {
    "duration": 10,
    "start_time": "2022-11-03T16:02:56.836Z"
   },
   {
    "duration": 4,
    "start_time": "2022-11-03T16:02:56.847Z"
   },
   {
    "duration": 27,
    "start_time": "2022-11-03T16:02:56.852Z"
   },
   {
    "duration": 10,
    "start_time": "2022-11-03T16:02:56.880Z"
   },
   {
    "duration": 31,
    "start_time": "2022-11-03T16:02:56.891Z"
   },
   {
    "duration": 15,
    "start_time": "2022-11-03T16:02:56.923Z"
   },
   {
    "duration": 5,
    "start_time": "2022-11-03T16:02:56.939Z"
   },
   {
    "duration": 4,
    "start_time": "2022-11-03T16:02:56.946Z"
   },
   {
    "duration": 6,
    "start_time": "2022-11-03T16:02:56.952Z"
   },
   {
    "duration": 4,
    "start_time": "2022-11-03T16:02:56.960Z"
   },
   {
    "duration": 4,
    "start_time": "2022-11-03T16:02:56.966Z"
   },
   {
    "duration": 5,
    "start_time": "2022-11-03T16:02:56.971Z"
   },
   {
    "duration": 6,
    "start_time": "2022-11-03T16:02:56.978Z"
   },
   {
    "duration": 3,
    "start_time": "2022-11-03T16:13:56.619Z"
   },
   {
    "duration": 71,
    "start_time": "2022-11-03T16:13:56.624Z"
   },
   {
    "duration": 17,
    "start_time": "2022-11-03T16:13:56.696Z"
   },
   {
    "duration": 22,
    "start_time": "2022-11-03T16:13:56.715Z"
   },
   {
    "duration": 11,
    "start_time": "2022-11-03T16:13:56.740Z"
   },
   {
    "duration": 26,
    "start_time": "2022-11-03T16:13:56.752Z"
   },
   {
    "duration": 5,
    "start_time": "2022-11-03T16:13:56.780Z"
   },
   {
    "duration": 11,
    "start_time": "2022-11-03T16:13:56.786Z"
   },
   {
    "duration": 35,
    "start_time": "2022-11-03T16:13:56.798Z"
   },
   {
    "duration": 23,
    "start_time": "2022-11-03T16:13:56.835Z"
   },
   {
    "duration": 13,
    "start_time": "2022-11-03T16:13:56.860Z"
   },
   {
    "duration": 6,
    "start_time": "2022-11-03T16:13:56.875Z"
   },
   {
    "duration": 10,
    "start_time": "2022-11-03T16:13:56.882Z"
   },
   {
    "duration": 5,
    "start_time": "2022-11-03T16:13:56.895Z"
   },
   {
    "duration": 15,
    "start_time": "2022-11-03T16:13:56.902Z"
   },
   {
    "duration": 26,
    "start_time": "2022-11-03T16:13:56.919Z"
   },
   {
    "duration": 3,
    "start_time": "2022-11-03T16:13:56.947Z"
   },
   {
    "duration": 5,
    "start_time": "2022-11-03T16:13:56.951Z"
   },
   {
    "duration": 6,
    "start_time": "2022-11-03T16:13:56.957Z"
   },
   {
    "duration": 5,
    "start_time": "2022-11-03T16:13:56.964Z"
   },
   {
    "duration": 18,
    "start_time": "2022-11-03T16:13:56.970Z"
   },
   {
    "duration": 5,
    "start_time": "2022-11-03T16:13:56.990Z"
   },
   {
    "duration": 15,
    "start_time": "2022-11-03T16:13:56.996Z"
   },
   {
    "duration": 4,
    "start_time": "2022-11-03T16:13:57.013Z"
   },
   {
    "duration": 15,
    "start_time": "2022-11-03T16:13:57.019Z"
   },
   {
    "duration": 2,
    "start_time": "2022-11-03T16:20:07.164Z"
   },
   {
    "duration": 73,
    "start_time": "2022-11-03T16:20:07.168Z"
   },
   {
    "duration": 14,
    "start_time": "2022-11-03T16:20:07.243Z"
   },
   {
    "duration": 15,
    "start_time": "2022-11-03T16:20:07.259Z"
   },
   {
    "duration": 8,
    "start_time": "2022-11-03T16:20:07.275Z"
   },
   {
    "duration": 13,
    "start_time": "2022-11-03T16:20:07.285Z"
   },
   {
    "duration": 35,
    "start_time": "2022-11-03T16:20:07.299Z"
   },
   {
    "duration": 16,
    "start_time": "2022-11-03T16:20:07.336Z"
   },
   {
    "duration": 26,
    "start_time": "2022-11-03T16:20:07.355Z"
   },
   {
    "duration": 20,
    "start_time": "2022-11-03T16:20:07.383Z"
   },
   {
    "duration": 22,
    "start_time": "2022-11-03T16:20:07.405Z"
   },
   {
    "duration": 4,
    "start_time": "2022-11-03T16:20:07.429Z"
   },
   {
    "duration": 23,
    "start_time": "2022-11-03T16:20:07.435Z"
   },
   {
    "duration": 9,
    "start_time": "2022-11-03T16:20:07.460Z"
   },
   {
    "duration": 10,
    "start_time": "2022-11-03T16:20:07.472Z"
   },
   {
    "duration": 20,
    "start_time": "2022-11-03T16:20:07.484Z"
   },
   {
    "duration": 18,
    "start_time": "2022-11-03T16:20:07.505Z"
   },
   {
    "duration": 2,
    "start_time": "2022-11-03T16:20:07.525Z"
   },
   {
    "duration": 14,
    "start_time": "2022-11-03T16:20:07.528Z"
   },
   {
    "duration": 5,
    "start_time": "2022-11-03T16:20:07.544Z"
   },
   {
    "duration": 6,
    "start_time": "2022-11-03T16:20:07.551Z"
   },
   {
    "duration": 10,
    "start_time": "2022-11-03T16:20:07.559Z"
   },
   {
    "duration": 13,
    "start_time": "2022-11-03T16:20:07.570Z"
   },
   {
    "duration": 3,
    "start_time": "2022-11-03T16:20:07.587Z"
   },
   {
    "duration": 8,
    "start_time": "2022-11-03T16:20:07.592Z"
   },
   {
    "duration": 9,
    "start_time": "2022-11-03T16:20:07.601Z"
   },
   {
    "duration": 3,
    "start_time": "2022-11-03T16:23:41.543Z"
   },
   {
    "duration": 74,
    "start_time": "2022-11-03T16:23:41.548Z"
   },
   {
    "duration": 16,
    "start_time": "2022-11-03T16:23:41.624Z"
   },
   {
    "duration": 20,
    "start_time": "2022-11-03T16:23:41.641Z"
   },
   {
    "duration": 9,
    "start_time": "2022-11-03T16:23:41.664Z"
   },
   {
    "duration": 16,
    "start_time": "2022-11-03T16:23:41.675Z"
   },
   {
    "duration": 10,
    "start_time": "2022-11-03T16:23:41.692Z"
   },
   {
    "duration": 6,
    "start_time": "2022-11-03T16:23:41.722Z"
   },
   {
    "duration": 22,
    "start_time": "2022-11-03T16:23:41.730Z"
   },
   {
    "duration": 18,
    "start_time": "2022-11-03T16:23:41.753Z"
   },
   {
    "duration": 7,
    "start_time": "2022-11-03T16:23:41.772Z"
   },
   {
    "duration": 5,
    "start_time": "2022-11-03T16:23:41.780Z"
   },
   {
    "duration": 7,
    "start_time": "2022-11-03T16:23:41.786Z"
   },
   {
    "duration": 3,
    "start_time": "2022-11-03T16:23:41.823Z"
   },
   {
    "duration": 11,
    "start_time": "2022-11-03T16:23:41.828Z"
   },
   {
    "duration": 14,
    "start_time": "2022-11-03T16:23:41.840Z"
   },
   {
    "duration": 7,
    "start_time": "2022-11-03T16:23:41.856Z"
   },
   {
    "duration": 4,
    "start_time": "2022-11-03T16:23:41.865Z"
   },
   {
    "duration": 6,
    "start_time": "2022-11-03T16:23:41.870Z"
   },
   {
    "duration": 6,
    "start_time": "2022-11-03T16:23:41.877Z"
   },
   {
    "duration": 7,
    "start_time": "2022-11-03T16:23:41.884Z"
   },
   {
    "duration": 7,
    "start_time": "2022-11-03T16:23:41.892Z"
   },
   {
    "duration": 23,
    "start_time": "2022-11-03T16:23:41.900Z"
   },
   {
    "duration": 18,
    "start_time": "2022-11-03T16:23:41.925Z"
   },
   {
    "duration": 10,
    "start_time": "2022-11-03T16:23:41.944Z"
   },
   {
    "duration": 5,
    "start_time": "2022-11-03T16:23:41.955Z"
   },
   {
    "duration": 5,
    "start_time": "2022-11-03T16:26:29.268Z"
   },
   {
    "duration": 3,
    "start_time": "2022-11-03T16:36:58.881Z"
   },
   {
    "duration": 79,
    "start_time": "2022-11-03T16:36:58.885Z"
   },
   {
    "duration": 15,
    "start_time": "2022-11-03T16:36:58.966Z"
   },
   {
    "duration": 17,
    "start_time": "2022-11-03T16:36:58.983Z"
   },
   {
    "duration": 29,
    "start_time": "2022-11-03T16:36:59.002Z"
   },
   {
    "duration": 16,
    "start_time": "2022-11-03T16:36:59.035Z"
   },
   {
    "duration": 5,
    "start_time": "2022-11-03T16:36:59.053Z"
   },
   {
    "duration": 11,
    "start_time": "2022-11-03T16:36:59.060Z"
   },
   {
    "duration": 22,
    "start_time": "2022-11-03T16:36:59.073Z"
   },
   {
    "duration": 42,
    "start_time": "2022-11-03T16:36:59.097Z"
   },
   {
    "duration": 7,
    "start_time": "2022-11-03T16:36:59.140Z"
   },
   {
    "duration": 3,
    "start_time": "2022-11-03T16:36:59.149Z"
   },
   {
    "duration": 8,
    "start_time": "2022-11-03T16:36:59.154Z"
   },
   {
    "duration": 5,
    "start_time": "2022-11-03T16:36:59.164Z"
   },
   {
    "duration": 8,
    "start_time": "2022-11-03T16:36:59.171Z"
   },
   {
    "duration": 54,
    "start_time": "2022-11-03T16:36:59.181Z"
   },
   {
    "duration": 8,
    "start_time": "2022-11-03T16:36:59.237Z"
   },
   {
    "duration": 3,
    "start_time": "2022-11-03T16:36:59.247Z"
   },
   {
    "duration": 3,
    "start_time": "2022-11-03T16:36:59.252Z"
   },
   {
    "duration": 4,
    "start_time": "2022-11-03T16:36:59.257Z"
   },
   {
    "duration": 7,
    "start_time": "2022-11-03T16:36:59.263Z"
   },
   {
    "duration": 21,
    "start_time": "2022-11-03T16:36:59.272Z"
   },
   {
    "duration": 6,
    "start_time": "2022-11-03T16:36:59.294Z"
   },
   {
    "duration": 5,
    "start_time": "2022-11-03T16:36:59.301Z"
   },
   {
    "duration": 5,
    "start_time": "2022-11-03T16:36:59.307Z"
   },
   {
    "duration": 5,
    "start_time": "2022-11-03T16:36:59.314Z"
   },
   {
    "duration": 2,
    "start_time": "2022-11-03T16:39:11.864Z"
   },
   {
    "duration": 69,
    "start_time": "2022-11-03T16:39:12.439Z"
   },
   {
    "duration": 16,
    "start_time": "2022-11-03T16:39:14.292Z"
   },
   {
    "duration": 21,
    "start_time": "2022-11-03T16:39:17.976Z"
   },
   {
    "duration": 9,
    "start_time": "2022-11-03T16:39:24.760Z"
   },
   {
    "duration": 26,
    "start_time": "2022-11-03T16:39:27.912Z"
   },
   {
    "duration": 6,
    "start_time": "2022-11-03T16:39:31.936Z"
   },
   {
    "duration": 5,
    "start_time": "2022-11-03T16:39:32.733Z"
   },
   {
    "duration": 20,
    "start_time": "2022-11-03T16:39:36.276Z"
   },
   {
    "duration": 20,
    "start_time": "2022-11-03T16:39:40.261Z"
   },
   {
    "duration": 9,
    "start_time": "2022-11-03T16:39:47.132Z"
   },
   {
    "duration": 3,
    "start_time": "2022-11-03T16:39:53.935Z"
   },
   {
    "duration": 6,
    "start_time": "2022-11-03T16:39:58.266Z"
   },
   {
    "duration": 4,
    "start_time": "2022-11-03T16:40:10.236Z"
   },
   {
    "duration": 8,
    "start_time": "2022-11-03T16:40:17.111Z"
   },
   {
    "duration": 15,
    "start_time": "2022-11-03T16:40:19.161Z"
   },
   {
    "duration": 19,
    "start_time": "2022-11-03T16:41:52.799Z"
   },
   {
    "duration": 6,
    "start_time": "2022-11-03T16:43:30.052Z"
   },
   {
    "duration": 16,
    "start_time": "2022-11-03T16:45:10.687Z"
   },
   {
    "duration": 72,
    "start_time": "2022-11-03T16:47:56.454Z"
   },
   {
    "duration": 19,
    "start_time": "2022-11-03T16:48:13.565Z"
   },
   {
    "duration": 73,
    "start_time": "2022-11-03T16:48:31.005Z"
   },
   {
    "duration": 1098,
    "start_time": "2022-11-03T16:50:35.090Z"
   },
   {
    "duration": 3,
    "start_time": "2022-11-03T16:51:05.897Z"
   },
   {
    "duration": 70,
    "start_time": "2022-11-03T16:51:05.902Z"
   },
   {
    "duration": 13,
    "start_time": "2022-11-03T16:51:05.973Z"
   },
   {
    "duration": 28,
    "start_time": "2022-11-03T16:51:05.988Z"
   },
   {
    "duration": 11,
    "start_time": "2022-11-03T16:51:06.018Z"
   },
   {
    "duration": 23,
    "start_time": "2022-11-03T16:51:06.031Z"
   },
   {
    "duration": 6,
    "start_time": "2022-11-03T16:51:06.056Z"
   },
   {
    "duration": 14,
    "start_time": "2022-11-03T16:51:06.064Z"
   },
   {
    "duration": 43,
    "start_time": "2022-11-03T16:51:06.080Z"
   },
   {
    "duration": 21,
    "start_time": "2022-11-03T16:51:06.126Z"
   },
   {
    "duration": 10,
    "start_time": "2022-11-03T16:51:06.149Z"
   },
   {
    "duration": 9,
    "start_time": "2022-11-03T16:51:06.161Z"
   },
   {
    "duration": 12,
    "start_time": "2022-11-03T16:51:06.171Z"
   },
   {
    "duration": 22,
    "start_time": "2022-11-03T16:51:06.185Z"
   },
   {
    "duration": 16,
    "start_time": "2022-11-03T16:51:06.208Z"
   },
   {
    "duration": 33,
    "start_time": "2022-11-03T16:51:06.226Z"
   },
   {
    "duration": 9,
    "start_time": "2022-11-03T16:51:06.261Z"
   },
   {
    "duration": 8,
    "start_time": "2022-11-03T16:51:06.272Z"
   },
   {
    "duration": 11,
    "start_time": "2022-11-03T16:51:06.283Z"
   },
   {
    "duration": 8,
    "start_time": "2022-11-03T16:51:06.296Z"
   },
   {
    "duration": 16,
    "start_time": "2022-11-03T16:51:06.305Z"
   },
   {
    "duration": 2,
    "start_time": "2022-11-03T16:51:06.322Z"
   },
   {
    "duration": 6,
    "start_time": "2022-11-03T16:51:06.326Z"
   },
   {
    "duration": 4,
    "start_time": "2022-11-03T16:51:06.333Z"
   },
   {
    "duration": 4,
    "start_time": "2022-11-03T16:51:06.339Z"
   },
   {
    "duration": 5,
    "start_time": "2022-11-03T16:51:06.344Z"
   },
   {
    "duration": 20,
    "start_time": "2022-11-03T16:54:42.662Z"
   },
   {
    "duration": 2,
    "start_time": "2022-11-03T16:54:46.636Z"
   },
   {
    "duration": 87,
    "start_time": "2022-11-03T16:54:46.640Z"
   },
   {
    "duration": 13,
    "start_time": "2022-11-03T16:54:46.728Z"
   },
   {
    "duration": 20,
    "start_time": "2022-11-03T16:54:46.743Z"
   },
   {
    "duration": 19,
    "start_time": "2022-11-03T16:54:46.764Z"
   },
   {
    "duration": 27,
    "start_time": "2022-11-03T16:54:46.784Z"
   },
   {
    "duration": 5,
    "start_time": "2022-11-03T16:54:46.813Z"
   },
   {
    "duration": 31,
    "start_time": "2022-11-03T16:54:46.819Z"
   },
   {
    "duration": 25,
    "start_time": "2022-11-03T16:54:46.852Z"
   },
   {
    "duration": 16,
    "start_time": "2022-11-03T16:54:46.878Z"
   },
   {
    "duration": 6,
    "start_time": "2022-11-03T16:54:46.896Z"
   },
   {
    "duration": 16,
    "start_time": "2022-11-03T16:54:46.903Z"
   },
   {
    "duration": 18,
    "start_time": "2022-11-03T16:54:46.921Z"
   },
   {
    "duration": 8,
    "start_time": "2022-11-03T16:54:46.940Z"
   },
   {
    "duration": 27,
    "start_time": "2022-11-03T16:54:46.949Z"
   },
   {
    "duration": 22,
    "start_time": "2022-11-03T16:54:46.977Z"
   },
   {
    "duration": 7,
    "start_time": "2022-11-03T16:54:47.001Z"
   },
   {
    "duration": 10,
    "start_time": "2022-11-03T16:54:47.010Z"
   },
   {
    "duration": 14,
    "start_time": "2022-11-03T16:54:47.022Z"
   },
   {
    "duration": 7,
    "start_time": "2022-11-03T16:54:47.037Z"
   },
   {
    "duration": 27,
    "start_time": "2022-11-03T16:54:47.045Z"
   },
   {
    "duration": 12,
    "start_time": "2022-11-03T16:54:47.074Z"
   },
   {
    "duration": 19,
    "start_time": "2022-11-03T16:54:47.088Z"
   },
   {
    "duration": 18,
    "start_time": "2022-11-03T16:54:47.109Z"
   },
   {
    "duration": 27,
    "start_time": "2022-11-03T16:54:47.128Z"
   },
   {
    "duration": 30,
    "start_time": "2022-11-03T16:54:47.157Z"
   },
   {
    "duration": 18,
    "start_time": "2022-11-03T17:00:58.000Z"
   },
   {
    "duration": 3,
    "start_time": "2022-11-03T17:01:03.106Z"
   },
   {
    "duration": 75,
    "start_time": "2022-11-03T17:01:03.110Z"
   },
   {
    "duration": 14,
    "start_time": "2022-11-03T17:01:03.187Z"
   },
   {
    "duration": 47,
    "start_time": "2022-11-03T17:01:03.202Z"
   },
   {
    "duration": 30,
    "start_time": "2022-11-03T17:01:03.251Z"
   },
   {
    "duration": 21,
    "start_time": "2022-11-03T17:01:03.282Z"
   },
   {
    "duration": 6,
    "start_time": "2022-11-03T17:01:03.304Z"
   },
   {
    "duration": 42,
    "start_time": "2022-11-03T17:01:03.311Z"
   },
   {
    "duration": 29,
    "start_time": "2022-11-03T17:01:03.355Z"
   },
   {
    "duration": 18,
    "start_time": "2022-11-03T17:01:03.386Z"
   },
   {
    "duration": 9,
    "start_time": "2022-11-03T17:01:03.406Z"
   },
   {
    "duration": 20,
    "start_time": "2022-11-03T17:01:03.416Z"
   },
   {
    "duration": 12,
    "start_time": "2022-11-03T17:01:03.437Z"
   },
   {
    "duration": 8,
    "start_time": "2022-11-03T17:01:03.450Z"
   },
   {
    "duration": 26,
    "start_time": "2022-11-03T17:01:03.459Z"
   },
   {
    "duration": 20,
    "start_time": "2022-11-03T17:01:03.487Z"
   },
   {
    "duration": 8,
    "start_time": "2022-11-03T17:01:03.509Z"
   },
   {
    "duration": 22,
    "start_time": "2022-11-03T17:01:03.519Z"
   },
   {
    "duration": 25,
    "start_time": "2022-11-03T17:01:03.542Z"
   },
   {
    "duration": 0,
    "start_time": "2022-11-03T17:01:03.568Z"
   },
   {
    "duration": 0,
    "start_time": "2022-11-03T17:01:03.569Z"
   },
   {
    "duration": 0,
    "start_time": "2022-11-03T17:01:03.570Z"
   },
   {
    "duration": 0,
    "start_time": "2022-11-03T17:01:03.571Z"
   },
   {
    "duration": 0,
    "start_time": "2022-11-03T17:01:03.572Z"
   },
   {
    "duration": 0,
    "start_time": "2022-11-03T17:01:03.574Z"
   },
   {
    "duration": 0,
    "start_time": "2022-11-03T17:01:03.575Z"
   },
   {
    "duration": 3,
    "start_time": "2022-11-03T17:04:55.579Z"
   },
   {
    "duration": 80,
    "start_time": "2022-11-03T17:04:55.583Z"
   },
   {
    "duration": 23,
    "start_time": "2022-11-03T17:04:55.665Z"
   },
   {
    "duration": 17,
    "start_time": "2022-11-03T17:04:55.690Z"
   },
   {
    "duration": 26,
    "start_time": "2022-11-03T17:04:55.709Z"
   },
   {
    "duration": 17,
    "start_time": "2022-11-03T17:04:55.737Z"
   },
   {
    "duration": 5,
    "start_time": "2022-11-03T17:04:55.755Z"
   },
   {
    "duration": 7,
    "start_time": "2022-11-03T17:04:55.762Z"
   },
   {
    "duration": 22,
    "start_time": "2022-11-03T17:04:55.770Z"
   },
   {
    "duration": 47,
    "start_time": "2022-11-03T17:04:55.793Z"
   },
   {
    "duration": 8,
    "start_time": "2022-11-03T17:04:55.842Z"
   },
   {
    "duration": 4,
    "start_time": "2022-11-03T17:04:55.851Z"
   },
   {
    "duration": 7,
    "start_time": "2022-11-03T17:04:55.857Z"
   },
   {
    "duration": 6,
    "start_time": "2022-11-03T17:04:55.866Z"
   },
   {
    "duration": 24,
    "start_time": "2022-11-03T17:04:55.873Z"
   },
   {
    "duration": 2,
    "start_time": "2022-11-03T17:04:55.899Z"
   },
   {
    "duration": 26,
    "start_time": "2022-11-03T17:04:55.903Z"
   },
   {
    "duration": 8,
    "start_time": "2022-11-03T17:04:55.930Z"
   },
   {
    "duration": 6,
    "start_time": "2022-11-03T17:04:55.940Z"
   },
   {
    "duration": 0,
    "start_time": "2022-11-03T17:04:55.947Z"
   },
   {
    "duration": 0,
    "start_time": "2022-11-03T17:04:55.949Z"
   },
   {
    "duration": 0,
    "start_time": "2022-11-03T17:04:55.950Z"
   },
   {
    "duration": 0,
    "start_time": "2022-11-03T17:04:55.951Z"
   },
   {
    "duration": 0,
    "start_time": "2022-11-03T17:04:55.952Z"
   },
   {
    "duration": 0,
    "start_time": "2022-11-03T17:04:55.953Z"
   },
   {
    "duration": 0,
    "start_time": "2022-11-03T17:04:55.954Z"
   },
   {
    "duration": 8,
    "start_time": "2022-11-03T17:08:48.340Z"
   },
   {
    "duration": 7,
    "start_time": "2022-11-03T17:09:03.147Z"
   },
   {
    "duration": 2,
    "start_time": "2022-11-03T17:09:04.940Z"
   },
   {
    "duration": 2,
    "start_time": "2022-11-03T17:09:15.584Z"
   },
   {
    "duration": 89,
    "start_time": "2022-11-03T17:09:15.588Z"
   },
   {
    "duration": 14,
    "start_time": "2022-11-03T17:09:15.678Z"
   },
   {
    "duration": 41,
    "start_time": "2022-11-03T17:09:15.694Z"
   },
   {
    "duration": 11,
    "start_time": "2022-11-03T17:09:15.737Z"
   },
   {
    "duration": 18,
    "start_time": "2022-11-03T17:09:15.750Z"
   },
   {
    "duration": 9,
    "start_time": "2022-11-03T17:09:15.769Z"
   },
   {
    "duration": 10,
    "start_time": "2022-11-03T17:09:15.780Z"
   },
   {
    "duration": 40,
    "start_time": "2022-11-03T17:09:15.793Z"
   },
   {
    "duration": 25,
    "start_time": "2022-11-03T17:09:15.834Z"
   },
   {
    "duration": 7,
    "start_time": "2022-11-03T17:09:15.860Z"
   },
   {
    "duration": 4,
    "start_time": "2022-11-03T17:09:15.868Z"
   },
   {
    "duration": 10,
    "start_time": "2022-11-03T17:09:15.873Z"
   },
   {
    "duration": 5,
    "start_time": "2022-11-03T17:09:15.884Z"
   },
   {
    "duration": 7,
    "start_time": "2022-11-03T17:09:15.890Z"
   },
   {
    "duration": 3,
    "start_time": "2022-11-03T17:09:15.899Z"
   },
   {
    "duration": 12,
    "start_time": "2022-11-03T17:09:15.903Z"
   },
   {
    "duration": 12,
    "start_time": "2022-11-03T17:09:15.921Z"
   },
   {
    "duration": 11,
    "start_time": "2022-11-03T17:09:15.934Z"
   },
   {
    "duration": 0,
    "start_time": "2022-11-03T17:09:15.947Z"
   },
   {
    "duration": 0,
    "start_time": "2022-11-03T17:09:15.949Z"
   },
   {
    "duration": 0,
    "start_time": "2022-11-03T17:09:15.950Z"
   },
   {
    "duration": 0,
    "start_time": "2022-11-03T17:09:15.952Z"
   },
   {
    "duration": 0,
    "start_time": "2022-11-03T17:09:15.953Z"
   },
   {
    "duration": 0,
    "start_time": "2022-11-03T17:09:15.954Z"
   },
   {
    "duration": 0,
    "start_time": "2022-11-03T17:09:15.956Z"
   },
   {
    "duration": 18,
    "start_time": "2022-11-03T17:10:00.850Z"
   },
   {
    "duration": 20,
    "start_time": "2022-11-03T17:10:52.959Z"
   },
   {
    "duration": 2,
    "start_time": "2022-11-03T17:11:10.249Z"
   },
   {
    "duration": 80,
    "start_time": "2022-11-03T17:11:10.252Z"
   },
   {
    "duration": 14,
    "start_time": "2022-11-03T17:11:10.336Z"
   },
   {
    "duration": 14,
    "start_time": "2022-11-03T17:11:10.352Z"
   },
   {
    "duration": 8,
    "start_time": "2022-11-03T17:11:10.367Z"
   },
   {
    "duration": 13,
    "start_time": "2022-11-03T17:11:10.377Z"
   },
   {
    "duration": 5,
    "start_time": "2022-11-03T17:11:10.392Z"
   },
   {
    "duration": 7,
    "start_time": "2022-11-03T17:11:10.422Z"
   },
   {
    "duration": 26,
    "start_time": "2022-11-03T17:11:10.432Z"
   },
   {
    "duration": 18,
    "start_time": "2022-11-03T17:11:10.459Z"
   },
   {
    "duration": 11,
    "start_time": "2022-11-03T17:11:10.478Z"
   },
   {
    "duration": 3,
    "start_time": "2022-11-03T17:11:10.490Z"
   },
   {
    "duration": 38,
    "start_time": "2022-11-03T17:11:10.494Z"
   },
   {
    "duration": 7,
    "start_time": "2022-11-03T17:11:10.533Z"
   },
   {
    "duration": 19,
    "start_time": "2022-11-03T17:11:10.541Z"
   },
   {
    "duration": 7,
    "start_time": "2022-11-03T17:11:10.561Z"
   },
   {
    "duration": 6,
    "start_time": "2022-11-03T17:11:10.570Z"
   },
   {
    "duration": 5,
    "start_time": "2022-11-03T17:11:10.577Z"
   },
   {
    "duration": 0,
    "start_time": "2022-11-03T17:11:10.584Z"
   },
   {
    "duration": 0,
    "start_time": "2022-11-03T17:11:10.585Z"
   },
   {
    "duration": 0,
    "start_time": "2022-11-03T17:11:10.586Z"
   },
   {
    "duration": 0,
    "start_time": "2022-11-03T17:11:10.588Z"
   },
   {
    "duration": 0,
    "start_time": "2022-11-03T17:11:10.589Z"
   },
   {
    "duration": 0,
    "start_time": "2022-11-03T17:11:10.590Z"
   },
   {
    "duration": 0,
    "start_time": "2022-11-03T17:11:10.591Z"
   },
   {
    "duration": 2,
    "start_time": "2022-11-03T17:11:39.786Z"
   },
   {
    "duration": 101,
    "start_time": "2022-11-03T17:11:39.790Z"
   },
   {
    "duration": 17,
    "start_time": "2022-11-03T17:11:39.893Z"
   },
   {
    "duration": 28,
    "start_time": "2022-11-03T17:11:39.911Z"
   },
   {
    "duration": 10,
    "start_time": "2022-11-03T17:11:39.941Z"
   },
   {
    "duration": 17,
    "start_time": "2022-11-03T17:11:39.952Z"
   },
   {
    "duration": 8,
    "start_time": "2022-11-03T17:11:39.971Z"
   },
   {
    "duration": 12,
    "start_time": "2022-11-03T17:11:39.980Z"
   },
   {
    "duration": 45,
    "start_time": "2022-11-03T17:11:39.993Z"
   },
   {
    "duration": 22,
    "start_time": "2022-11-03T17:11:40.040Z"
   },
   {
    "duration": 8,
    "start_time": "2022-11-03T17:11:40.064Z"
   },
   {
    "duration": 10,
    "start_time": "2022-11-03T17:11:40.074Z"
   },
   {
    "duration": 9,
    "start_time": "2022-11-03T17:11:40.086Z"
   },
   {
    "duration": 38,
    "start_time": "2022-11-03T17:11:40.097Z"
   },
   {
    "duration": 21,
    "start_time": "2022-11-03T17:11:40.137Z"
   },
   {
    "duration": 12,
    "start_time": "2022-11-03T17:11:40.160Z"
   },
   {
    "duration": 4,
    "start_time": "2022-11-03T17:11:40.173Z"
   },
   {
    "duration": 18,
    "start_time": "2022-11-03T17:11:40.179Z"
   },
   {
    "duration": 0,
    "start_time": "2022-11-03T17:11:40.198Z"
   },
   {
    "duration": 0,
    "start_time": "2022-11-03T17:11:40.199Z"
   },
   {
    "duration": 1,
    "start_time": "2022-11-03T17:11:40.200Z"
   },
   {
    "duration": 0,
    "start_time": "2022-11-03T17:11:40.201Z"
   },
   {
    "duration": 0,
    "start_time": "2022-11-03T17:11:40.203Z"
   },
   {
    "duration": 0,
    "start_time": "2022-11-03T17:11:40.204Z"
   },
   {
    "duration": 0,
    "start_time": "2022-11-03T17:11:40.205Z"
   },
   {
    "duration": 2,
    "start_time": "2022-11-03T17:14:56.829Z"
   },
   {
    "duration": 74,
    "start_time": "2022-11-03T17:14:56.833Z"
   },
   {
    "duration": 14,
    "start_time": "2022-11-03T17:14:56.909Z"
   },
   {
    "duration": 15,
    "start_time": "2022-11-03T17:14:56.925Z"
   },
   {
    "duration": 8,
    "start_time": "2022-11-03T17:14:56.943Z"
   },
   {
    "duration": 21,
    "start_time": "2022-11-03T17:14:56.953Z"
   },
   {
    "duration": 5,
    "start_time": "2022-11-03T17:14:56.976Z"
   },
   {
    "duration": 8,
    "start_time": "2022-11-03T17:14:56.982Z"
   },
   {
    "duration": 43,
    "start_time": "2022-11-03T17:14:56.992Z"
   },
   {
    "duration": 19,
    "start_time": "2022-11-03T17:14:57.037Z"
   },
   {
    "duration": 13,
    "start_time": "2022-11-03T17:14:57.057Z"
   },
   {
    "duration": 3,
    "start_time": "2022-11-03T17:14:57.072Z"
   },
   {
    "duration": 12,
    "start_time": "2022-11-03T17:14:57.077Z"
   },
   {
    "duration": 3,
    "start_time": "2022-11-03T17:14:57.093Z"
   },
   {
    "duration": 29,
    "start_time": "2022-11-03T17:14:57.098Z"
   },
   {
    "duration": 0,
    "start_time": "2022-11-03T17:14:57.129Z"
   },
   {
    "duration": 0,
    "start_time": "2022-11-03T17:14:57.130Z"
   },
   {
    "duration": 0,
    "start_time": "2022-11-03T17:14:57.132Z"
   },
   {
    "duration": 0,
    "start_time": "2022-11-03T17:14:57.133Z"
   },
   {
    "duration": 0,
    "start_time": "2022-11-03T17:14:57.134Z"
   },
   {
    "duration": 0,
    "start_time": "2022-11-03T17:14:57.135Z"
   },
   {
    "duration": 0,
    "start_time": "2022-11-03T17:14:57.136Z"
   },
   {
    "duration": 0,
    "start_time": "2022-11-03T17:14:57.136Z"
   },
   {
    "duration": 1,
    "start_time": "2022-11-03T17:14:57.137Z"
   },
   {
    "duration": 0,
    "start_time": "2022-11-03T17:14:57.139Z"
   },
   {
    "duration": 2,
    "start_time": "2022-11-03T17:15:27.602Z"
   },
   {
    "duration": 72,
    "start_time": "2022-11-03T17:15:27.605Z"
   },
   {
    "duration": 13,
    "start_time": "2022-11-03T17:15:27.679Z"
   },
   {
    "duration": 21,
    "start_time": "2022-11-03T17:15:27.693Z"
   },
   {
    "duration": 9,
    "start_time": "2022-11-03T17:15:27.716Z"
   },
   {
    "duration": 18,
    "start_time": "2022-11-03T17:15:27.726Z"
   },
   {
    "duration": 5,
    "start_time": "2022-11-03T17:15:27.745Z"
   },
   {
    "duration": 6,
    "start_time": "2022-11-03T17:15:27.752Z"
   },
   {
    "duration": 22,
    "start_time": "2022-11-03T17:15:27.759Z"
   },
   {
    "duration": 52,
    "start_time": "2022-11-03T17:15:27.783Z"
   },
   {
    "duration": 8,
    "start_time": "2022-11-03T17:15:27.837Z"
   },
   {
    "duration": 4,
    "start_time": "2022-11-03T17:15:27.847Z"
   },
   {
    "duration": 9,
    "start_time": "2022-11-03T17:15:27.853Z"
   },
   {
    "duration": 16,
    "start_time": "2022-11-03T17:15:27.863Z"
   },
   {
    "duration": 24,
    "start_time": "2022-11-03T17:15:27.880Z"
   },
   {
    "duration": 21,
    "start_time": "2022-11-03T17:15:27.905Z"
   },
   {
    "duration": 3,
    "start_time": "2022-11-03T17:15:27.927Z"
   },
   {
    "duration": 9,
    "start_time": "2022-11-03T17:15:27.932Z"
   },
   {
    "duration": 0,
    "start_time": "2022-11-03T17:15:27.942Z"
   },
   {
    "duration": 0,
    "start_time": "2022-11-03T17:15:27.943Z"
   },
   {
    "duration": 0,
    "start_time": "2022-11-03T17:15:27.944Z"
   },
   {
    "duration": 0,
    "start_time": "2022-11-03T17:15:27.945Z"
   },
   {
    "duration": 0,
    "start_time": "2022-11-03T17:15:27.946Z"
   },
   {
    "duration": 0,
    "start_time": "2022-11-03T17:15:27.947Z"
   },
   {
    "duration": 0,
    "start_time": "2022-11-03T17:15:27.948Z"
   },
   {
    "duration": 11,
    "start_time": "2022-11-03T17:20:24.977Z"
   },
   {
    "duration": 10,
    "start_time": "2022-11-03T17:24:34.450Z"
   },
   {
    "duration": 3,
    "start_time": "2022-11-03T17:29:28.086Z"
   },
   {
    "duration": 829,
    "start_time": "2022-11-03T17:29:37.403Z"
   },
   {
    "duration": 795,
    "start_time": "2022-11-03T17:29:39.986Z"
   },
   {
    "duration": 805,
    "start_time": "2022-11-03T17:30:48.326Z"
   },
   {
    "duration": 828,
    "start_time": "2022-11-03T17:32:08.510Z"
   },
   {
    "duration": 8,
    "start_time": "2022-11-03T17:32:28.059Z"
   },
   {
    "duration": 9,
    "start_time": "2022-11-03T17:32:38.906Z"
   },
   {
    "duration": 68,
    "start_time": "2022-11-03T17:32:50.365Z"
   },
   {
    "duration": 4,
    "start_time": "2022-11-03T17:34:57.334Z"
   },
   {
    "duration": 73,
    "start_time": "2022-11-03T17:34:57.340Z"
   },
   {
    "duration": 15,
    "start_time": "2022-11-03T17:34:57.415Z"
   },
   {
    "duration": 15,
    "start_time": "2022-11-03T17:34:57.432Z"
   },
   {
    "duration": 12,
    "start_time": "2022-11-03T17:34:57.449Z"
   },
   {
    "duration": 18,
    "start_time": "2022-11-03T17:34:57.463Z"
   },
   {
    "duration": 6,
    "start_time": "2022-11-03T17:34:57.483Z"
   },
   {
    "duration": 6,
    "start_time": "2022-11-03T17:34:57.521Z"
   },
   {
    "duration": 26,
    "start_time": "2022-11-03T17:34:57.529Z"
   },
   {
    "duration": 17,
    "start_time": "2022-11-03T17:34:57.558Z"
   },
   {
    "duration": 6,
    "start_time": "2022-11-03T17:34:57.576Z"
   },
   {
    "duration": 7,
    "start_time": "2022-11-03T17:34:57.584Z"
   },
   {
    "duration": 29,
    "start_time": "2022-11-03T17:34:57.593Z"
   },
   {
    "duration": 3,
    "start_time": "2022-11-03T17:34:57.623Z"
   },
   {
    "duration": 32,
    "start_time": "2022-11-03T17:34:57.628Z"
   },
   {
    "duration": 12,
    "start_time": "2022-11-03T17:34:57.661Z"
   },
   {
    "duration": 12,
    "start_time": "2022-11-03T17:34:57.675Z"
   },
   {
    "duration": 0,
    "start_time": "2022-11-03T17:34:57.688Z"
   },
   {
    "duration": 0,
    "start_time": "2022-11-03T17:34:57.689Z"
   },
   {
    "duration": 0,
    "start_time": "2022-11-03T17:34:57.690Z"
   },
   {
    "duration": 0,
    "start_time": "2022-11-03T17:34:57.691Z"
   },
   {
    "duration": 0,
    "start_time": "2022-11-03T17:34:57.692Z"
   },
   {
    "duration": 0,
    "start_time": "2022-11-03T17:34:57.693Z"
   },
   {
    "duration": 0,
    "start_time": "2022-11-03T17:34:57.694Z"
   },
   {
    "duration": 0,
    "start_time": "2022-11-03T17:34:57.696Z"
   },
   {
    "duration": 28,
    "start_time": "2022-11-03T17:37:25.080Z"
   },
   {
    "duration": 27,
    "start_time": "2022-11-03T17:37:39.868Z"
   },
   {
    "duration": 32,
    "start_time": "2022-11-03T17:37:58.617Z"
   },
   {
    "duration": 2,
    "start_time": "2022-11-03T17:40:08.593Z"
   },
   {
    "duration": 77,
    "start_time": "2022-11-03T17:40:08.597Z"
   },
   {
    "duration": 13,
    "start_time": "2022-11-03T17:40:08.676Z"
   },
   {
    "duration": 13,
    "start_time": "2022-11-03T17:40:08.691Z"
   },
   {
    "duration": 8,
    "start_time": "2022-11-03T17:40:08.707Z"
   },
   {
    "duration": 14,
    "start_time": "2022-11-03T17:40:08.721Z"
   },
   {
    "duration": 6,
    "start_time": "2022-11-03T17:40:08.736Z"
   },
   {
    "duration": 6,
    "start_time": "2022-11-03T17:40:08.743Z"
   },
   {
    "duration": 20,
    "start_time": "2022-11-03T17:40:08.750Z"
   },
   {
    "duration": 17,
    "start_time": "2022-11-03T17:40:08.771Z"
   },
   {
    "duration": 37,
    "start_time": "2022-11-03T17:40:08.789Z"
   },
   {
    "duration": 3,
    "start_time": "2022-11-03T17:40:08.828Z"
   },
   {
    "duration": 8,
    "start_time": "2022-11-03T17:40:08.832Z"
   },
   {
    "duration": 6,
    "start_time": "2022-11-03T17:40:08.842Z"
   },
   {
    "duration": 37,
    "start_time": "2022-11-03T17:40:08.849Z"
   },
   {
    "duration": 9,
    "start_time": "2022-11-03T17:40:08.887Z"
   },
   {
    "duration": 11,
    "start_time": "2022-11-03T17:40:08.921Z"
   },
   {
    "duration": 0,
    "start_time": "2022-11-03T17:40:08.934Z"
   },
   {
    "duration": 0,
    "start_time": "2022-11-03T17:40:08.935Z"
   },
   {
    "duration": 0,
    "start_time": "2022-11-03T17:40:08.935Z"
   },
   {
    "duration": 0,
    "start_time": "2022-11-03T17:40:08.936Z"
   },
   {
    "duration": 0,
    "start_time": "2022-11-03T17:40:08.937Z"
   },
   {
    "duration": 0,
    "start_time": "2022-11-03T17:40:08.938Z"
   },
   {
    "duration": 0,
    "start_time": "2022-11-03T17:40:08.939Z"
   },
   {
    "duration": 0,
    "start_time": "2022-11-03T17:40:08.940Z"
   },
   {
    "duration": 29,
    "start_time": "2022-11-03T17:44:15.318Z"
   },
   {
    "duration": 26,
    "start_time": "2022-11-03T17:44:52.207Z"
   },
   {
    "duration": 25,
    "start_time": "2022-11-03T17:45:21.265Z"
   },
   {
    "duration": 3,
    "start_time": "2022-11-03T17:45:28.925Z"
   },
   {
    "duration": 79,
    "start_time": "2022-11-03T17:45:28.930Z"
   },
   {
    "duration": 13,
    "start_time": "2022-11-03T17:45:29.011Z"
   },
   {
    "duration": 15,
    "start_time": "2022-11-03T17:45:29.026Z"
   },
   {
    "duration": 8,
    "start_time": "2022-11-03T17:45:29.043Z"
   },
   {
    "duration": 23,
    "start_time": "2022-11-03T17:45:29.052Z"
   },
   {
    "duration": 5,
    "start_time": "2022-11-03T17:45:29.076Z"
   },
   {
    "duration": 21,
    "start_time": "2022-11-03T17:45:29.082Z"
   },
   {
    "duration": 32,
    "start_time": "2022-11-03T17:45:29.104Z"
   },
   {
    "duration": 17,
    "start_time": "2022-11-03T17:45:29.137Z"
   },
   {
    "duration": 15,
    "start_time": "2022-11-03T17:45:29.156Z"
   },
   {
    "duration": 10,
    "start_time": "2022-11-03T17:45:29.172Z"
   },
   {
    "duration": 23,
    "start_time": "2022-11-03T17:45:29.183Z"
   },
   {
    "duration": 6,
    "start_time": "2022-11-03T17:45:29.208Z"
   },
   {
    "duration": 22,
    "start_time": "2022-11-03T17:45:29.215Z"
   },
   {
    "duration": 8,
    "start_time": "2022-11-03T17:45:29.239Z"
   },
   {
    "duration": 16,
    "start_time": "2022-11-03T17:45:29.249Z"
   },
   {
    "duration": 11,
    "start_time": "2022-11-03T17:45:29.267Z"
   },
   {
    "duration": 0,
    "start_time": "2022-11-03T17:45:29.279Z"
   },
   {
    "duration": 0,
    "start_time": "2022-11-03T17:45:29.280Z"
   },
   {
    "duration": 0,
    "start_time": "2022-11-03T17:45:29.282Z"
   },
   {
    "duration": 0,
    "start_time": "2022-11-03T17:45:29.283Z"
   },
   {
    "duration": 0,
    "start_time": "2022-11-03T17:45:29.284Z"
   },
   {
    "duration": 0,
    "start_time": "2022-11-03T17:45:29.286Z"
   },
   {
    "duration": 0,
    "start_time": "2022-11-03T17:45:29.287Z"
   },
   {
    "duration": 3,
    "start_time": "2022-11-03T17:46:22.988Z"
   },
   {
    "duration": 72,
    "start_time": "2022-11-03T17:46:22.992Z"
   },
   {
    "duration": 15,
    "start_time": "2022-11-03T17:46:23.065Z"
   },
   {
    "duration": 20,
    "start_time": "2022-11-03T17:46:23.083Z"
   },
   {
    "duration": 18,
    "start_time": "2022-11-03T17:46:23.105Z"
   },
   {
    "duration": 14,
    "start_time": "2022-11-03T17:46:23.124Z"
   },
   {
    "duration": 5,
    "start_time": "2022-11-03T17:46:23.140Z"
   },
   {
    "duration": 7,
    "start_time": "2022-11-03T17:46:23.146Z"
   },
   {
    "duration": 22,
    "start_time": "2022-11-03T17:46:23.155Z"
   },
   {
    "duration": 43,
    "start_time": "2022-11-03T17:46:23.179Z"
   },
   {
    "duration": 7,
    "start_time": "2022-11-03T17:46:23.223Z"
   },
   {
    "duration": 12,
    "start_time": "2022-11-03T17:46:23.232Z"
   },
   {
    "duration": 9,
    "start_time": "2022-11-03T17:46:23.245Z"
   },
   {
    "duration": 13,
    "start_time": "2022-11-03T17:46:23.256Z"
   },
   {
    "duration": 26,
    "start_time": "2022-11-03T17:46:23.270Z"
   },
   {
    "duration": 8,
    "start_time": "2022-11-03T17:46:23.298Z"
   },
   {
    "duration": 6,
    "start_time": "2022-11-03T17:46:23.307Z"
   },
   {
    "duration": 9,
    "start_time": "2022-11-03T17:46:23.314Z"
   },
   {
    "duration": 0,
    "start_time": "2022-11-03T17:46:23.324Z"
   },
   {
    "duration": 0,
    "start_time": "2022-11-03T17:46:23.326Z"
   },
   {
    "duration": 0,
    "start_time": "2022-11-03T17:46:23.327Z"
   },
   {
    "duration": 0,
    "start_time": "2022-11-03T17:46:23.329Z"
   },
   {
    "duration": 1,
    "start_time": "2022-11-03T17:46:23.330Z"
   },
   {
    "duration": 0,
    "start_time": "2022-11-03T17:46:23.332Z"
   },
   {
    "duration": 0,
    "start_time": "2022-11-03T17:46:23.333Z"
   },
   {
    "duration": 22,
    "start_time": "2022-11-03T17:47:04.920Z"
   },
   {
    "duration": 3,
    "start_time": "2022-11-03T17:47:32.434Z"
   },
   {
    "duration": 92,
    "start_time": "2022-11-03T17:47:32.439Z"
   },
   {
    "duration": 15,
    "start_time": "2022-11-03T17:47:32.533Z"
   },
   {
    "duration": 15,
    "start_time": "2022-11-03T17:47:32.550Z"
   },
   {
    "duration": 15,
    "start_time": "2022-11-03T17:47:32.566Z"
   },
   {
    "duration": 20,
    "start_time": "2022-11-03T17:47:32.582Z"
   },
   {
    "duration": 13,
    "start_time": "2022-11-03T17:47:32.604Z"
   },
   {
    "duration": 34,
    "start_time": "2022-11-03T17:47:32.622Z"
   },
   {
    "duration": 49,
    "start_time": "2022-11-03T17:47:32.659Z"
   },
   {
    "duration": 53,
    "start_time": "2022-11-03T17:47:32.709Z"
   },
   {
    "duration": 9,
    "start_time": "2022-11-03T17:47:32.764Z"
   },
   {
    "duration": 45,
    "start_time": "2022-11-03T17:47:32.775Z"
   },
   {
    "duration": 27,
    "start_time": "2022-11-03T17:47:32.822Z"
   },
   {
    "duration": 30,
    "start_time": "2022-11-03T17:47:32.851Z"
   },
   {
    "duration": 46,
    "start_time": "2022-11-03T17:47:32.883Z"
   },
   {
    "duration": 8,
    "start_time": "2022-11-03T17:47:32.931Z"
   },
   {
    "duration": 15,
    "start_time": "2022-11-03T17:47:32.941Z"
   },
   {
    "duration": 22,
    "start_time": "2022-11-03T17:47:32.957Z"
   },
   {
    "duration": 0,
    "start_time": "2022-11-03T17:47:32.980Z"
   },
   {
    "duration": 0,
    "start_time": "2022-11-03T17:47:32.981Z"
   },
   {
    "duration": 0,
    "start_time": "2022-11-03T17:47:32.983Z"
   },
   {
    "duration": 0,
    "start_time": "2022-11-03T17:47:32.984Z"
   },
   {
    "duration": 0,
    "start_time": "2022-11-03T17:47:32.985Z"
   },
   {
    "duration": 0,
    "start_time": "2022-11-03T17:47:32.986Z"
   },
   {
    "duration": 0,
    "start_time": "2022-11-03T17:47:32.988Z"
   },
   {
    "duration": 2,
    "start_time": "2022-11-03T17:47:49.591Z"
   },
   {
    "duration": 68,
    "start_time": "2022-11-03T17:47:49.595Z"
   },
   {
    "duration": 14,
    "start_time": "2022-11-03T17:47:49.665Z"
   },
   {
    "duration": 15,
    "start_time": "2022-11-03T17:47:49.680Z"
   },
   {
    "duration": 8,
    "start_time": "2022-11-03T17:47:49.696Z"
   },
   {
    "duration": 27,
    "start_time": "2022-11-03T17:47:49.705Z"
   },
   {
    "duration": 4,
    "start_time": "2022-11-03T17:47:49.734Z"
   },
   {
    "duration": 8,
    "start_time": "2022-11-03T17:47:49.740Z"
   },
   {
    "duration": 20,
    "start_time": "2022-11-03T17:47:49.749Z"
   },
   {
    "duration": 18,
    "start_time": "2022-11-03T17:47:49.771Z"
   },
   {
    "duration": 34,
    "start_time": "2022-11-03T17:47:49.791Z"
   },
   {
    "duration": 3,
    "start_time": "2022-11-03T17:47:49.827Z"
   },
   {
    "duration": 9,
    "start_time": "2022-11-03T17:47:49.831Z"
   },
   {
    "duration": 4,
    "start_time": "2022-11-03T17:47:49.841Z"
   },
   {
    "duration": 17,
    "start_time": "2022-11-03T17:47:49.846Z"
   },
   {
    "duration": 8,
    "start_time": "2022-11-03T17:47:49.864Z"
   },
   {
    "duration": 5,
    "start_time": "2022-11-03T17:47:49.873Z"
   },
   {
    "duration": 12,
    "start_time": "2022-11-03T17:47:49.879Z"
   },
   {
    "duration": 7,
    "start_time": "2022-11-03T17:47:49.893Z"
   },
   {
    "duration": 5,
    "start_time": "2022-11-03T17:47:49.901Z"
   },
   {
    "duration": 16,
    "start_time": "2022-11-03T17:47:49.907Z"
   },
   {
    "duration": 7,
    "start_time": "2022-11-03T17:47:49.924Z"
   },
   {
    "duration": 6,
    "start_time": "2022-11-03T17:47:49.932Z"
   },
   {
    "duration": 4,
    "start_time": "2022-11-03T17:47:49.939Z"
   },
   {
    "duration": 4,
    "start_time": "2022-11-03T17:47:49.945Z"
   },
   {
    "duration": 22,
    "start_time": "2022-11-03T17:48:46.127Z"
   },
   {
    "duration": 19,
    "start_time": "2022-11-03T17:53:09.756Z"
   },
   {
    "duration": 3,
    "start_time": "2022-11-03T17:53:20.086Z"
   },
   {
    "duration": 88,
    "start_time": "2022-11-03T17:53:20.090Z"
   },
   {
    "duration": 14,
    "start_time": "2022-11-03T17:53:20.179Z"
   },
   {
    "duration": 15,
    "start_time": "2022-11-03T17:53:20.194Z"
   },
   {
    "duration": 8,
    "start_time": "2022-11-03T17:53:20.211Z"
   },
   {
    "duration": 17,
    "start_time": "2022-11-03T17:53:20.220Z"
   },
   {
    "duration": 5,
    "start_time": "2022-11-03T17:53:20.238Z"
   },
   {
    "duration": 13,
    "start_time": "2022-11-03T17:53:20.244Z"
   },
   {
    "duration": 32,
    "start_time": "2022-11-03T17:53:20.258Z"
   },
   {
    "duration": 16,
    "start_time": "2022-11-03T17:53:20.292Z"
   },
   {
    "duration": 13,
    "start_time": "2022-11-03T17:53:20.309Z"
   },
   {
    "duration": 3,
    "start_time": "2022-11-03T17:53:20.323Z"
   },
   {
    "duration": 9,
    "start_time": "2022-11-03T17:53:20.328Z"
   },
   {
    "duration": 16,
    "start_time": "2022-11-03T17:53:20.338Z"
   },
   {
    "duration": 23,
    "start_time": "2022-11-03T17:53:20.356Z"
   },
   {
    "duration": 9,
    "start_time": "2022-11-03T17:53:20.380Z"
   },
   {
    "duration": 3,
    "start_time": "2022-11-03T17:53:20.390Z"
   },
   {
    "duration": 6,
    "start_time": "2022-11-03T17:53:20.394Z"
   },
   {
    "duration": 8,
    "start_time": "2022-11-03T17:53:20.401Z"
   },
   {
    "duration": 12,
    "start_time": "2022-11-03T17:53:20.410Z"
   },
   {
    "duration": 8,
    "start_time": "2022-11-03T17:53:20.423Z"
   },
   {
    "duration": 17,
    "start_time": "2022-11-03T17:53:20.433Z"
   },
   {
    "duration": 7,
    "start_time": "2022-11-03T17:53:20.451Z"
   },
   {
    "duration": 6,
    "start_time": "2022-11-03T17:53:20.460Z"
   },
   {
    "duration": 7,
    "start_time": "2022-11-03T17:53:20.467Z"
   },
   {
    "duration": 11,
    "start_time": "2022-11-03T18:01:51.782Z"
   },
   {
    "duration": 34,
    "start_time": "2022-11-03T18:03:58.988Z"
   },
   {
    "duration": 17,
    "start_time": "2022-11-03T18:05:31.533Z"
   },
   {
    "duration": 1157,
    "start_time": "2022-11-03T18:11:08.623Z"
   },
   {
    "duration": 1174,
    "start_time": "2022-11-03T18:19:14.210Z"
   },
   {
    "duration": 3,
    "start_time": "2022-11-03T18:19:22.312Z"
   },
   {
    "duration": 72,
    "start_time": "2022-11-03T18:19:22.317Z"
   },
   {
    "duration": 14,
    "start_time": "2022-11-03T18:19:22.390Z"
   },
   {
    "duration": 13,
    "start_time": "2022-11-03T18:19:22.407Z"
   },
   {
    "duration": 10,
    "start_time": "2022-11-03T18:19:22.422Z"
   },
   {
    "duration": 19,
    "start_time": "2022-11-03T18:19:22.433Z"
   },
   {
    "duration": 5,
    "start_time": "2022-11-03T18:19:22.454Z"
   },
   {
    "duration": 5,
    "start_time": "2022-11-03T18:19:22.460Z"
   },
   {
    "duration": 18,
    "start_time": "2022-11-03T18:19:22.467Z"
   },
   {
    "duration": 44,
    "start_time": "2022-11-03T18:19:22.487Z"
   },
   {
    "duration": 8,
    "start_time": "2022-11-03T18:19:22.532Z"
   },
   {
    "duration": 3,
    "start_time": "2022-11-03T18:19:22.541Z"
   },
   {
    "duration": 8,
    "start_time": "2022-11-03T18:19:22.546Z"
   },
   {
    "duration": 4,
    "start_time": "2022-11-03T18:19:22.555Z"
   },
   {
    "duration": 21,
    "start_time": "2022-11-03T18:19:22.560Z"
   },
   {
    "duration": 8,
    "start_time": "2022-11-03T18:19:22.582Z"
   },
   {
    "duration": 40,
    "start_time": "2022-11-03T18:19:22.591Z"
   },
   {
    "duration": 10,
    "start_time": "2022-11-03T18:19:22.632Z"
   },
   {
    "duration": 1133,
    "start_time": "2022-11-03T18:19:22.643Z"
   },
   {
    "duration": 3,
    "start_time": "2022-11-03T18:19:23.778Z"
   },
   {
    "duration": 14,
    "start_time": "2022-11-03T18:19:23.783Z"
   },
   {
    "duration": 5,
    "start_time": "2022-11-03T18:19:23.799Z"
   },
   {
    "duration": 5,
    "start_time": "2022-11-03T18:19:23.806Z"
   },
   {
    "duration": 8,
    "start_time": "2022-11-03T18:19:23.812Z"
   },
   {
    "duration": 13,
    "start_time": "2022-11-03T18:24:00.411Z"
   },
   {
    "duration": 7,
    "start_time": "2022-11-03T18:30:12.027Z"
   },
   {
    "duration": 18,
    "start_time": "2022-11-03T18:30:19.793Z"
   },
   {
    "duration": 44,
    "start_time": "2022-11-03T18:31:27.478Z"
   },
   {
    "duration": 3,
    "start_time": "2022-11-03T18:31:30.875Z"
   },
   {
    "duration": 95,
    "start_time": "2022-11-03T18:31:30.880Z"
   },
   {
    "duration": 14,
    "start_time": "2022-11-03T18:31:30.977Z"
   },
   {
    "duration": 61,
    "start_time": "2022-11-03T18:31:30.993Z"
   },
   {
    "duration": 9,
    "start_time": "2022-11-03T18:31:31.056Z"
   },
   {
    "duration": 23,
    "start_time": "2022-11-03T18:31:31.067Z"
   },
   {
    "duration": 7,
    "start_time": "2022-11-03T18:31:31.092Z"
   },
   {
    "duration": 19,
    "start_time": "2022-11-03T18:31:31.102Z"
   },
   {
    "duration": 30,
    "start_time": "2022-11-03T18:31:31.123Z"
   },
   {
    "duration": 17,
    "start_time": "2022-11-03T18:31:31.154Z"
   },
   {
    "duration": 7,
    "start_time": "2022-11-03T18:31:31.173Z"
   },
   {
    "duration": 6,
    "start_time": "2022-11-03T18:31:31.181Z"
   },
   {
    "duration": 10,
    "start_time": "2022-11-03T18:31:31.189Z"
   },
   {
    "duration": 6,
    "start_time": "2022-11-03T18:31:31.200Z"
   },
   {
    "duration": 26,
    "start_time": "2022-11-03T18:31:31.208Z"
   },
   {
    "duration": 8,
    "start_time": "2022-11-03T18:31:31.235Z"
   },
   {
    "duration": 14,
    "start_time": "2022-11-03T18:31:31.245Z"
   },
   {
    "duration": 10,
    "start_time": "2022-11-03T18:31:31.260Z"
   },
   {
    "duration": 65,
    "start_time": "2022-11-03T18:31:31.271Z"
   },
   {
    "duration": 2,
    "start_time": "2022-11-03T18:31:31.338Z"
   },
   {
    "duration": 8,
    "start_time": "2022-11-03T18:31:31.341Z"
   },
   {
    "duration": 19,
    "start_time": "2022-11-03T18:31:31.350Z"
   },
   {
    "duration": 17,
    "start_time": "2022-11-03T18:31:31.370Z"
   },
   {
    "duration": 21,
    "start_time": "2022-11-03T18:31:31.389Z"
   },
   {
    "duration": 17,
    "start_time": "2022-11-03T18:34:46.590Z"
   },
   {
    "duration": 16,
    "start_time": "2022-11-03T18:38:43.993Z"
   },
   {
    "duration": 29,
    "start_time": "2022-11-03T18:39:25.569Z"
   },
   {
    "duration": 3,
    "start_time": "2022-11-03T18:41:16.621Z"
   },
   {
    "duration": 91,
    "start_time": "2022-11-03T18:41:16.627Z"
   },
   {
    "duration": 15,
    "start_time": "2022-11-03T18:41:16.719Z"
   },
   {
    "duration": 25,
    "start_time": "2022-11-03T18:41:16.736Z"
   },
   {
    "duration": 10,
    "start_time": "2022-11-03T18:41:16.763Z"
   },
   {
    "duration": 22,
    "start_time": "2022-11-03T18:41:16.774Z"
   },
   {
    "duration": 5,
    "start_time": "2022-11-03T18:41:16.797Z"
   },
   {
    "duration": 18,
    "start_time": "2022-11-03T18:41:16.804Z"
   },
   {
    "duration": 30,
    "start_time": "2022-11-03T18:41:16.824Z"
   },
   {
    "duration": 20,
    "start_time": "2022-11-03T18:41:16.856Z"
   },
   {
    "duration": 7,
    "start_time": "2022-11-03T18:41:16.877Z"
   },
   {
    "duration": 4,
    "start_time": "2022-11-03T18:41:16.886Z"
   },
   {
    "duration": 18,
    "start_time": "2022-11-03T18:41:16.891Z"
   },
   {
    "duration": 11,
    "start_time": "2022-11-03T18:41:16.911Z"
   },
   {
    "duration": 25,
    "start_time": "2022-11-03T18:41:16.924Z"
   },
   {
    "duration": 13,
    "start_time": "2022-11-03T18:41:16.951Z"
   },
   {
    "duration": 27,
    "start_time": "2022-11-03T18:41:16.966Z"
   },
   {
    "duration": 33,
    "start_time": "2022-11-03T18:41:16.995Z"
   },
   {
    "duration": 54,
    "start_time": "2022-11-03T18:41:17.030Z"
   },
   {
    "duration": 2,
    "start_time": "2022-11-03T18:41:17.086Z"
   },
   {
    "duration": 16,
    "start_time": "2022-11-03T18:41:17.089Z"
   },
   {
    "duration": 18,
    "start_time": "2022-11-03T18:41:17.107Z"
   },
   {
    "duration": 10,
    "start_time": "2022-11-03T18:41:17.127Z"
   },
   {
    "duration": 19,
    "start_time": "2022-11-03T18:41:17.139Z"
   },
   {
    "duration": 17,
    "start_time": "2022-11-03T18:41:52.545Z"
   },
   {
    "duration": 36,
    "start_time": "2022-11-03T18:43:58.973Z"
   },
   {
    "duration": 30,
    "start_time": "2022-11-03T18:44:19.198Z"
   },
   {
    "duration": 41,
    "start_time": "2022-11-03T18:50:33.242Z"
   },
   {
    "duration": 2,
    "start_time": "2022-11-03T18:52:41.232Z"
   },
   {
    "duration": 2,
    "start_time": "2022-11-03T18:52:43.516Z"
   },
   {
    "duration": 71,
    "start_time": "2022-11-03T18:52:43.520Z"
   },
   {
    "duration": 16,
    "start_time": "2022-11-03T18:52:43.593Z"
   },
   {
    "duration": 14,
    "start_time": "2022-11-03T18:52:43.611Z"
   },
   {
    "duration": 9,
    "start_time": "2022-11-03T18:52:43.626Z"
   },
   {
    "duration": 15,
    "start_time": "2022-11-03T18:52:43.637Z"
   },
   {
    "duration": 5,
    "start_time": "2022-11-03T18:52:43.654Z"
   },
   {
    "duration": 8,
    "start_time": "2022-11-03T18:52:43.661Z"
   },
   {
    "duration": 19,
    "start_time": "2022-11-03T18:52:43.672Z"
   },
   {
    "duration": 46,
    "start_time": "2022-11-03T18:52:43.692Z"
   },
   {
    "duration": 8,
    "start_time": "2022-11-03T18:52:43.739Z"
   },
   {
    "duration": 5,
    "start_time": "2022-11-03T18:52:43.748Z"
   },
   {
    "duration": 11,
    "start_time": "2022-11-03T18:52:43.755Z"
   },
   {
    "duration": 4,
    "start_time": "2022-11-03T18:52:43.767Z"
   },
   {
    "duration": 19,
    "start_time": "2022-11-03T18:52:43.773Z"
   },
   {
    "duration": 38,
    "start_time": "2022-11-03T18:52:43.794Z"
   },
   {
    "duration": 13,
    "start_time": "2022-11-03T18:52:43.833Z"
   },
   {
    "duration": 11,
    "start_time": "2022-11-03T18:52:43.848Z"
   },
   {
    "duration": 19,
    "start_time": "2022-11-03T18:52:43.860Z"
   },
   {
    "duration": 20,
    "start_time": "2022-11-03T18:52:43.881Z"
   },
   {
    "duration": 20,
    "start_time": "2022-11-03T18:52:43.902Z"
   },
   {
    "duration": 12,
    "start_time": "2022-11-03T18:52:43.924Z"
   },
   {
    "duration": 26,
    "start_time": "2022-11-03T18:52:43.937Z"
   },
   {
    "duration": 8,
    "start_time": "2022-11-03T18:52:43.965Z"
   },
   {
    "duration": 17,
    "start_time": "2022-11-03T18:53:29.453Z"
   },
   {
    "duration": 16,
    "start_time": "2022-11-03T18:54:59.431Z"
   },
   {
    "duration": 43,
    "start_time": "2022-11-03T18:56:43.146Z"
   },
   {
    "duration": 38,
    "start_time": "2022-11-03T18:57:06.014Z"
   },
   {
    "duration": 18,
    "start_time": "2022-11-03T19:00:48.336Z"
   },
   {
    "duration": 16,
    "start_time": "2022-11-03T19:00:59.652Z"
   },
   {
    "duration": 6,
    "start_time": "2022-11-03T19:03:44.051Z"
   },
   {
    "duration": 48,
    "start_time": "2022-11-03T19:04:28.313Z"
   },
   {
    "duration": 36,
    "start_time": "2022-11-03T19:04:44.660Z"
   },
   {
    "duration": 25,
    "start_time": "2022-11-03T19:07:59.840Z"
   },
   {
    "duration": 31,
    "start_time": "2022-11-03T19:14:55.105Z"
   },
   {
    "duration": 16,
    "start_time": "2022-11-03T19:16:14.675Z"
   },
   {
    "duration": 7,
    "start_time": "2022-11-03T19:30:57.075Z"
   },
   {
    "duration": 4,
    "start_time": "2022-11-03T19:32:10.352Z"
   },
   {
    "duration": 4,
    "start_time": "2022-11-03T19:36:36.712Z"
   },
   {
    "duration": 288,
    "start_time": "2022-11-03T19:44:39.990Z"
   },
   {
    "duration": 13,
    "start_time": "2022-11-03T19:57:25.403Z"
   },
   {
    "duration": 3,
    "start_time": "2022-11-03T19:57:35.504Z"
   },
   {
    "duration": 79,
    "start_time": "2022-11-03T19:57:35.509Z"
   },
   {
    "duration": 15,
    "start_time": "2022-11-03T19:57:35.590Z"
   },
   {
    "duration": 25,
    "start_time": "2022-11-03T19:57:35.607Z"
   },
   {
    "duration": 9,
    "start_time": "2022-11-03T19:57:35.633Z"
   },
   {
    "duration": 14,
    "start_time": "2022-11-03T19:57:35.644Z"
   },
   {
    "duration": 5,
    "start_time": "2022-11-03T19:57:35.659Z"
   },
   {
    "duration": 8,
    "start_time": "2022-11-03T19:57:35.665Z"
   },
   {
    "duration": 19,
    "start_time": "2022-11-03T19:57:35.674Z"
   },
   {
    "duration": 44,
    "start_time": "2022-11-03T19:57:35.696Z"
   },
   {
    "duration": 7,
    "start_time": "2022-11-03T19:57:35.741Z"
   },
   {
    "duration": 6,
    "start_time": "2022-11-03T19:57:35.749Z"
   },
   {
    "duration": 8,
    "start_time": "2022-11-03T19:57:35.756Z"
   },
   {
    "duration": 4,
    "start_time": "2022-11-03T19:57:35.765Z"
   },
   {
    "duration": 21,
    "start_time": "2022-11-03T19:57:35.771Z"
   },
   {
    "duration": 40,
    "start_time": "2022-11-03T19:57:35.793Z"
   },
   {
    "duration": 13,
    "start_time": "2022-11-03T19:57:35.835Z"
   },
   {
    "duration": 11,
    "start_time": "2022-11-03T19:57:35.850Z"
   },
   {
    "duration": 32,
    "start_time": "2022-11-03T19:57:35.863Z"
   },
   {
    "duration": 40,
    "start_time": "2022-11-03T19:57:35.897Z"
   },
   {
    "duration": 4,
    "start_time": "2022-11-03T19:57:35.940Z"
   },
   {
    "duration": 14,
    "start_time": "2022-11-03T19:57:35.945Z"
   },
   {
    "duration": 0,
    "start_time": "2022-11-03T19:57:35.960Z"
   },
   {
    "duration": 0,
    "start_time": "2022-11-03T19:57:35.961Z"
   },
   {
    "duration": 0,
    "start_time": "2022-11-03T19:57:35.962Z"
   },
   {
    "duration": 3,
    "start_time": "2022-11-03T20:02:37.268Z"
   },
   {
    "duration": 81,
    "start_time": "2022-11-03T20:02:37.272Z"
   },
   {
    "duration": 16,
    "start_time": "2022-11-03T20:02:37.355Z"
   },
   {
    "duration": 19,
    "start_time": "2022-11-03T20:02:37.372Z"
   },
   {
    "duration": 9,
    "start_time": "2022-11-03T20:02:37.394Z"
   },
   {
    "duration": 16,
    "start_time": "2022-11-03T20:02:37.436Z"
   },
   {
    "duration": 18,
    "start_time": "2022-11-03T20:02:37.454Z"
   },
   {
    "duration": 6,
    "start_time": "2022-11-03T20:02:37.473Z"
   },
   {
    "duration": 22,
    "start_time": "2022-11-03T20:02:37.480Z"
   },
   {
    "duration": 28,
    "start_time": "2022-11-03T20:02:37.504Z"
   },
   {
    "duration": 8,
    "start_time": "2022-11-03T20:02:37.536Z"
   },
   {
    "duration": 7,
    "start_time": "2022-11-03T20:02:37.545Z"
   },
   {
    "duration": 8,
    "start_time": "2022-11-03T20:02:37.553Z"
   },
   {
    "duration": 4,
    "start_time": "2022-11-03T20:02:37.563Z"
   },
   {
    "duration": 25,
    "start_time": "2022-11-03T20:02:37.569Z"
   },
   {
    "duration": 39,
    "start_time": "2022-11-03T20:02:37.596Z"
   },
   {
    "duration": 15,
    "start_time": "2022-11-03T20:02:37.637Z"
   },
   {
    "duration": 13,
    "start_time": "2022-11-03T20:02:37.654Z"
   },
   {
    "duration": 65,
    "start_time": "2022-11-03T20:02:37.669Z"
   },
   {
    "duration": 17,
    "start_time": "2022-11-03T20:02:37.736Z"
   },
   {
    "duration": 5,
    "start_time": "2022-11-03T20:02:37.755Z"
   },
   {
    "duration": 16,
    "start_time": "2022-11-03T20:02:37.762Z"
   },
   {
    "duration": 5,
    "start_time": "2022-11-03T20:02:37.780Z"
   },
   {
    "duration": 10,
    "start_time": "2022-11-03T20:02:37.787Z"
   },
   {
    "duration": 5,
    "start_time": "2022-11-03T20:02:37.798Z"
   },
   {
    "duration": 2,
    "start_time": "2022-11-03T20:02:51.749Z"
   },
   {
    "duration": 88,
    "start_time": "2022-11-03T20:02:51.753Z"
   },
   {
    "duration": 14,
    "start_time": "2022-11-03T20:02:51.842Z"
   },
   {
    "duration": 16,
    "start_time": "2022-11-03T20:02:51.858Z"
   },
   {
    "duration": 8,
    "start_time": "2022-11-03T20:02:51.875Z"
   },
   {
    "duration": 21,
    "start_time": "2022-11-03T20:02:51.884Z"
   },
   {
    "duration": 24,
    "start_time": "2022-11-03T20:02:51.906Z"
   },
   {
    "duration": 6,
    "start_time": "2022-11-03T20:02:51.932Z"
   },
   {
    "duration": 20,
    "start_time": "2022-11-03T20:02:51.940Z"
   },
   {
    "duration": 20,
    "start_time": "2022-11-03T20:02:51.963Z"
   },
   {
    "duration": 6,
    "start_time": "2022-11-03T20:02:51.985Z"
   },
   {
    "duration": 10,
    "start_time": "2022-11-03T20:02:51.993Z"
   },
   {
    "duration": 26,
    "start_time": "2022-11-03T20:02:52.004Z"
   },
   {
    "duration": 4,
    "start_time": "2022-11-03T20:02:52.032Z"
   },
   {
    "duration": 24,
    "start_time": "2022-11-03T20:02:52.037Z"
   },
   {
    "duration": 8,
    "start_time": "2022-11-03T20:02:52.062Z"
   },
   {
    "duration": 14,
    "start_time": "2022-11-03T20:02:52.072Z"
   },
   {
    "duration": 11,
    "start_time": "2022-11-03T20:02:52.088Z"
   },
   {
    "duration": 53,
    "start_time": "2022-11-03T20:02:52.101Z"
   },
   {
    "duration": 14,
    "start_time": "2022-11-03T20:02:52.156Z"
   },
   {
    "duration": 4,
    "start_time": "2022-11-03T20:02:52.172Z"
   },
   {
    "duration": 53,
    "start_time": "2022-11-03T20:02:52.177Z"
   },
   {
    "duration": 2,
    "start_time": "2022-11-03T20:02:52.232Z"
   },
   {
    "duration": 7,
    "start_time": "2022-11-03T20:02:52.236Z"
   },
   {
    "duration": 5,
    "start_time": "2022-11-03T20:02:52.244Z"
   },
   {
    "duration": 2,
    "start_time": "2022-11-03T20:04:23.887Z"
   },
   {
    "duration": 73,
    "start_time": "2022-11-03T20:04:23.891Z"
   },
   {
    "duration": 15,
    "start_time": "2022-11-03T20:04:23.965Z"
   },
   {
    "duration": 13,
    "start_time": "2022-11-03T20:04:23.982Z"
   },
   {
    "duration": 28,
    "start_time": "2022-11-03T20:04:23.998Z"
   },
   {
    "duration": 16,
    "start_time": "2022-11-03T20:04:24.028Z"
   },
   {
    "duration": 7,
    "start_time": "2022-11-03T20:04:24.046Z"
   },
   {
    "duration": 11,
    "start_time": "2022-11-03T20:04:24.055Z"
   },
   {
    "duration": 23,
    "start_time": "2022-11-03T20:04:24.067Z"
   },
   {
    "duration": 42,
    "start_time": "2022-11-03T20:04:24.091Z"
   },
   {
    "duration": 10,
    "start_time": "2022-11-03T20:04:24.134Z"
   },
   {
    "duration": 5,
    "start_time": "2022-11-03T20:04:24.147Z"
   },
   {
    "duration": 15,
    "start_time": "2022-11-03T20:04:24.154Z"
   },
   {
    "duration": 11,
    "start_time": "2022-11-03T20:04:24.172Z"
   },
   {
    "duration": 22,
    "start_time": "2022-11-03T20:04:24.185Z"
   },
   {
    "duration": 22,
    "start_time": "2022-11-03T20:04:24.208Z"
   },
   {
    "duration": 22,
    "start_time": "2022-11-03T20:04:24.232Z"
   },
   {
    "duration": 11,
    "start_time": "2022-11-03T20:04:24.256Z"
   },
   {
    "duration": 50,
    "start_time": "2022-11-03T20:04:24.268Z"
   },
   {
    "duration": 19,
    "start_time": "2022-11-03T20:04:24.319Z"
   },
   {
    "duration": 97,
    "start_time": "2022-11-03T20:04:24.340Z"
   },
   {
    "duration": 54,
    "start_time": "2022-11-03T20:04:24.441Z"
   },
   {
    "duration": 2,
    "start_time": "2022-11-03T20:04:24.497Z"
   },
   {
    "duration": 17,
    "start_time": "2022-11-03T20:04:24.501Z"
   },
   {
    "duration": 22,
    "start_time": "2022-11-03T20:04:24.520Z"
   },
   {
    "duration": 2,
    "start_time": "2022-11-03T20:04:58.942Z"
   },
   {
    "duration": 88,
    "start_time": "2022-11-03T20:04:58.946Z"
   },
   {
    "duration": 15,
    "start_time": "2022-11-03T20:04:59.036Z"
   },
   {
    "duration": 14,
    "start_time": "2022-11-03T20:04:59.054Z"
   },
   {
    "duration": 8,
    "start_time": "2022-11-03T20:04:59.070Z"
   },
   {
    "duration": 15,
    "start_time": "2022-11-03T20:04:59.080Z"
   },
   {
    "duration": 5,
    "start_time": "2022-11-03T20:04:59.096Z"
   },
   {
    "duration": 16,
    "start_time": "2022-11-03T20:04:59.121Z"
   },
   {
    "duration": 23,
    "start_time": "2022-11-03T20:04:59.139Z"
   },
   {
    "duration": 21,
    "start_time": "2022-11-03T20:04:59.164Z"
   },
   {
    "duration": 11,
    "start_time": "2022-11-03T20:04:59.187Z"
   },
   {
    "duration": 3,
    "start_time": "2022-11-03T20:04:59.199Z"
   },
   {
    "duration": 11,
    "start_time": "2022-11-03T20:04:59.223Z"
   },
   {
    "duration": 7,
    "start_time": "2022-11-03T20:04:59.237Z"
   },
   {
    "duration": 22,
    "start_time": "2022-11-03T20:04:59.246Z"
   },
   {
    "duration": 9,
    "start_time": "2022-11-03T20:04:59.270Z"
   },
   {
    "duration": 16,
    "start_time": "2022-11-03T20:04:59.280Z"
   },
   {
    "duration": 42,
    "start_time": "2022-11-03T20:04:59.298Z"
   },
   {
    "duration": 35,
    "start_time": "2022-11-03T20:04:59.342Z"
   },
   {
    "duration": 15,
    "start_time": "2022-11-03T20:04:59.379Z"
   },
   {
    "duration": 4,
    "start_time": "2022-11-03T20:04:59.396Z"
   },
   {
    "duration": 39,
    "start_time": "2022-11-03T20:04:59.401Z"
   },
   {
    "duration": 2,
    "start_time": "2022-11-03T20:04:59.441Z"
   },
   {
    "duration": 11,
    "start_time": "2022-11-03T20:04:59.445Z"
   },
   {
    "duration": 7,
    "start_time": "2022-11-03T20:04:59.458Z"
   },
   {
    "duration": 5,
    "start_time": "2022-11-03T20:09:30.995Z"
   },
   {
    "duration": 4,
    "start_time": "2022-11-03T20:31:30.857Z"
   },
   {
    "duration": 8,
    "start_time": "2022-11-03T20:46:13.864Z"
   },
   {
    "duration": 6,
    "start_time": "2022-11-03T20:48:11.203Z"
   },
   {
    "duration": 9,
    "start_time": "2022-11-03T20:48:22.659Z"
   },
   {
    "duration": 4,
    "start_time": "2022-11-03T20:54:05.660Z"
   },
   {
    "duration": 4,
    "start_time": "2022-11-03T20:54:12.637Z"
   },
   {
    "duration": 3,
    "start_time": "2022-11-03T21:00:18.304Z"
   },
   {
    "duration": 1171,
    "start_time": "2022-11-03T21:00:33.498Z"
   },
   {
    "duration": 2,
    "start_time": "2022-11-03T21:00:42.672Z"
   },
   {
    "duration": 88,
    "start_time": "2022-11-03T21:00:42.676Z"
   },
   {
    "duration": 14,
    "start_time": "2022-11-03T21:00:42.765Z"
   },
   {
    "duration": 13,
    "start_time": "2022-11-03T21:00:42.782Z"
   },
   {
    "duration": 9,
    "start_time": "2022-11-03T21:00:42.796Z"
   },
   {
    "duration": 31,
    "start_time": "2022-11-03T21:00:42.806Z"
   },
   {
    "duration": 7,
    "start_time": "2022-11-03T21:00:42.839Z"
   },
   {
    "duration": 8,
    "start_time": "2022-11-03T21:00:42.847Z"
   },
   {
    "duration": 25,
    "start_time": "2022-11-03T21:00:42.856Z"
   },
   {
    "duration": 52,
    "start_time": "2022-11-03T21:00:42.884Z"
   },
   {
    "duration": 8,
    "start_time": "2022-11-03T21:00:42.938Z"
   },
   {
    "duration": 5,
    "start_time": "2022-11-03T21:00:42.947Z"
   },
   {
    "duration": 9,
    "start_time": "2022-11-03T21:00:42.954Z"
   },
   {
    "duration": 5,
    "start_time": "2022-11-03T21:00:42.964Z"
   },
   {
    "duration": 20,
    "start_time": "2022-11-03T21:00:42.971Z"
   },
   {
    "duration": 8,
    "start_time": "2022-11-03T21:00:42.993Z"
   },
   {
    "duration": 31,
    "start_time": "2022-11-03T21:00:43.002Z"
   },
   {
    "duration": 17,
    "start_time": "2022-11-03T21:00:43.036Z"
   },
   {
    "duration": 31,
    "start_time": "2022-11-03T21:00:43.055Z"
   },
   {
    "duration": 15,
    "start_time": "2022-11-03T21:00:43.087Z"
   },
   {
    "duration": 28,
    "start_time": "2022-11-03T21:00:43.103Z"
   },
   {
    "duration": 28,
    "start_time": "2022-11-03T21:00:43.133Z"
   },
   {
    "duration": 9,
    "start_time": "2022-11-03T21:00:43.162Z"
   },
   {
    "duration": 5,
    "start_time": "2022-11-03T21:00:43.173Z"
   },
   {
    "duration": 1222,
    "start_time": "2022-11-03T21:00:43.180Z"
   },
   {
    "duration": 1145,
    "start_time": "2022-11-03T21:02:30.813Z"
   },
   {
    "duration": 3,
    "start_time": "2022-11-03T21:02:37.193Z"
   },
   {
    "duration": 89,
    "start_time": "2022-11-03T21:02:37.198Z"
   },
   {
    "duration": 16,
    "start_time": "2022-11-03T21:02:37.289Z"
   },
   {
    "duration": 49,
    "start_time": "2022-11-03T21:02:37.306Z"
   },
   {
    "duration": 27,
    "start_time": "2022-11-03T21:02:37.357Z"
   },
   {
    "duration": 24,
    "start_time": "2022-11-03T21:02:37.385Z"
   },
   {
    "duration": 34,
    "start_time": "2022-11-03T21:02:37.411Z"
   },
   {
    "duration": 20,
    "start_time": "2022-11-03T21:02:37.447Z"
   },
   {
    "duration": 50,
    "start_time": "2022-11-03T21:02:37.468Z"
   },
   {
    "duration": 23,
    "start_time": "2022-11-03T21:02:37.519Z"
   },
   {
    "duration": 17,
    "start_time": "2022-11-03T21:02:37.544Z"
   },
   {
    "duration": 24,
    "start_time": "2022-11-03T21:02:37.562Z"
   },
   {
    "duration": 22,
    "start_time": "2022-11-03T21:02:37.587Z"
   },
   {
    "duration": 24,
    "start_time": "2022-11-03T21:02:37.610Z"
   },
   {
    "duration": 49,
    "start_time": "2022-11-03T21:02:37.636Z"
   },
   {
    "duration": 12,
    "start_time": "2022-11-03T21:02:37.686Z"
   },
   {
    "duration": 34,
    "start_time": "2022-11-03T21:02:37.699Z"
   },
   {
    "duration": 19,
    "start_time": "2022-11-03T21:02:37.735Z"
   },
   {
    "duration": 57,
    "start_time": "2022-11-03T21:02:37.756Z"
   },
   {
    "duration": 22,
    "start_time": "2022-11-03T21:02:37.815Z"
   },
   {
    "duration": 7,
    "start_time": "2022-11-03T21:02:37.839Z"
   },
   {
    "duration": 47,
    "start_time": "2022-11-03T21:02:37.847Z"
   },
   {
    "duration": 16,
    "start_time": "2022-11-03T21:02:37.896Z"
   },
   {
    "duration": 31,
    "start_time": "2022-11-03T21:02:37.914Z"
   },
   {
    "duration": 1206,
    "start_time": "2022-11-03T21:02:37.947Z"
   },
   {
    "duration": 39,
    "start_time": "2022-11-03T21:03:47.322Z"
   },
   {
    "duration": 4,
    "start_time": "2022-11-03T21:30:50.753Z"
   },
   {
    "duration": 3,
    "start_time": "2022-11-03T21:31:10.362Z"
   },
   {
    "duration": 84,
    "start_time": "2022-11-03T21:31:10.366Z"
   },
   {
    "duration": 13,
    "start_time": "2022-11-03T21:31:10.451Z"
   },
   {
    "duration": 42,
    "start_time": "2022-11-03T21:31:10.466Z"
   },
   {
    "duration": 28,
    "start_time": "2022-11-03T21:31:10.509Z"
   },
   {
    "duration": 23,
    "start_time": "2022-11-03T21:31:10.538Z"
   },
   {
    "duration": 7,
    "start_time": "2022-11-03T21:31:10.563Z"
   },
   {
    "duration": 8,
    "start_time": "2022-11-03T21:31:10.572Z"
   },
   {
    "duration": 40,
    "start_time": "2022-11-03T21:31:10.583Z"
   },
   {
    "duration": 19,
    "start_time": "2022-11-03T21:31:10.625Z"
   },
   {
    "duration": 7,
    "start_time": "2022-11-03T21:31:10.646Z"
   },
   {
    "duration": 10,
    "start_time": "2022-11-03T21:31:10.655Z"
   },
   {
    "duration": 19,
    "start_time": "2022-11-03T21:31:10.666Z"
   },
   {
    "duration": 15,
    "start_time": "2022-11-03T21:31:10.686Z"
   },
   {
    "duration": 31,
    "start_time": "2022-11-03T21:31:10.702Z"
   },
   {
    "duration": 19,
    "start_time": "2022-11-03T21:31:10.735Z"
   },
   {
    "duration": 13,
    "start_time": "2022-11-03T21:31:10.755Z"
   },
   {
    "duration": 13,
    "start_time": "2022-11-03T21:31:10.770Z"
   },
   {
    "duration": 44,
    "start_time": "2022-11-03T21:31:10.785Z"
   },
   {
    "duration": 17,
    "start_time": "2022-11-03T21:31:10.831Z"
   },
   {
    "duration": 4,
    "start_time": "2022-11-03T21:31:10.849Z"
   },
   {
    "duration": 33,
    "start_time": "2022-11-03T21:31:10.854Z"
   },
   {
    "duration": 4,
    "start_time": "2022-11-03T21:31:10.888Z"
   },
   {
    "duration": 4,
    "start_time": "2022-11-03T21:31:10.894Z"
   },
   {
    "duration": 41,
    "start_time": "2022-11-03T21:31:10.899Z"
   },
   {
    "duration": 3,
    "start_time": "2022-11-03T21:38:25.399Z"
   },
   {
    "duration": 3,
    "start_time": "2022-11-03T21:40:06.865Z"
   },
   {
    "duration": 81,
    "start_time": "2022-11-03T21:40:06.870Z"
   },
   {
    "duration": 14,
    "start_time": "2022-11-03T21:40:06.953Z"
   },
   {
    "duration": 19,
    "start_time": "2022-11-03T21:40:06.968Z"
   },
   {
    "duration": 8,
    "start_time": "2022-11-03T21:40:06.989Z"
   },
   {
    "duration": 29,
    "start_time": "2022-11-03T21:40:06.999Z"
   },
   {
    "duration": 5,
    "start_time": "2022-11-03T21:40:07.029Z"
   },
   {
    "duration": 8,
    "start_time": "2022-11-03T21:40:07.035Z"
   },
   {
    "duration": 31,
    "start_time": "2022-11-03T21:40:07.045Z"
   },
   {
    "duration": 16,
    "start_time": "2022-11-03T21:40:07.077Z"
   },
   {
    "duration": 6,
    "start_time": "2022-11-03T21:40:07.095Z"
   },
   {
    "duration": 3,
    "start_time": "2022-11-03T21:40:07.102Z"
   },
   {
    "duration": 10,
    "start_time": "2022-11-03T21:40:07.122Z"
   },
   {
    "duration": 8,
    "start_time": "2022-11-03T21:40:07.135Z"
   },
   {
    "duration": 20,
    "start_time": "2022-11-03T21:40:07.144Z"
   },
   {
    "duration": 8,
    "start_time": "2022-11-03T21:40:07.165Z"
   },
   {
    "duration": 3,
    "start_time": "2022-11-03T21:40:07.174Z"
   },
   {
    "duration": 762,
    "start_time": "2022-11-03T21:40:07.178Z"
   },
   {
    "duration": 0,
    "start_time": "2022-11-03T21:40:07.959Z"
   },
   {
    "duration": 0,
    "start_time": "2022-11-03T21:40:07.960Z"
   },
   {
    "duration": 0,
    "start_time": "2022-11-03T21:40:07.961Z"
   },
   {
    "duration": 0,
    "start_time": "2022-11-03T21:40:07.962Z"
   },
   {
    "duration": 0,
    "start_time": "2022-11-03T21:40:07.963Z"
   },
   {
    "duration": 0,
    "start_time": "2022-11-03T21:40:07.964Z"
   },
   {
    "duration": 0,
    "start_time": "2022-11-03T21:40:07.965Z"
   },
   {
    "duration": 0,
    "start_time": "2022-11-03T21:40:07.966Z"
   },
   {
    "duration": 0,
    "start_time": "2022-11-03T21:40:07.966Z"
   },
   {
    "duration": 4,
    "start_time": "2022-11-03T21:42:16.837Z"
   },
   {
    "duration": 3,
    "start_time": "2022-11-03T21:44:29.433Z"
   },
   {
    "duration": 9,
    "start_time": "2022-11-03T21:57:20.396Z"
   },
   {
    "duration": 11,
    "start_time": "2022-11-03T21:59:25.233Z"
   },
   {
    "duration": 7,
    "start_time": "2022-11-03T21:59:43.084Z"
   },
   {
    "duration": 408,
    "start_time": "2022-11-04T18:23:25.893Z"
   },
   {
    "duration": 70,
    "start_time": "2022-11-04T18:23:26.303Z"
   },
   {
    "duration": 20,
    "start_time": "2022-11-04T18:23:26.375Z"
   },
   {
    "duration": 16,
    "start_time": "2022-11-04T18:23:26.396Z"
   },
   {
    "duration": 9,
    "start_time": "2022-11-04T18:23:26.414Z"
   },
   {
    "duration": 17,
    "start_time": "2022-11-04T18:23:26.424Z"
   },
   {
    "duration": 5,
    "start_time": "2022-11-04T18:23:26.443Z"
   },
   {
    "duration": 5,
    "start_time": "2022-11-04T18:23:26.450Z"
   },
   {
    "duration": 20,
    "start_time": "2022-11-04T18:23:26.492Z"
   },
   {
    "duration": 20,
    "start_time": "2022-11-04T18:23:26.513Z"
   },
   {
    "duration": 10,
    "start_time": "2022-11-04T18:23:26.534Z"
   },
   {
    "duration": 5,
    "start_time": "2022-11-04T18:23:26.546Z"
   },
   {
    "duration": 40,
    "start_time": "2022-11-04T18:23:26.553Z"
   },
   {
    "duration": 4,
    "start_time": "2022-11-04T18:23:26.596Z"
   },
   {
    "duration": 26,
    "start_time": "2022-11-04T18:23:26.602Z"
   },
   {
    "duration": 11,
    "start_time": "2022-11-04T18:23:26.630Z"
   },
   {
    "duration": 56,
    "start_time": "2022-11-04T18:23:26.643Z"
   },
   {
    "duration": 16,
    "start_time": "2022-11-04T18:23:26.702Z"
   },
   {
    "duration": 40,
    "start_time": "2022-11-04T18:23:26.720Z"
   },
   {
    "duration": 41,
    "start_time": "2022-11-04T18:23:26.762Z"
   },
   {
    "duration": 5,
    "start_time": "2022-11-04T18:23:26.805Z"
   },
   {
    "duration": 27,
    "start_time": "2022-11-04T18:23:26.812Z"
   },
   {
    "duration": 5,
    "start_time": "2022-11-04T18:23:26.840Z"
   },
   {
    "duration": 5,
    "start_time": "2022-11-04T18:23:26.846Z"
   },
   {
    "duration": 57,
    "start_time": "2022-11-04T18:23:26.852Z"
   },
   {
    "duration": 451,
    "start_time": "2022-11-09T12:43:54.085Z"
   },
   {
    "duration": 121,
    "start_time": "2022-11-09T12:43:54.538Z"
   },
   {
    "duration": 23,
    "start_time": "2022-11-09T12:43:54.661Z"
   },
   {
    "duration": 17,
    "start_time": "2022-11-09T12:43:54.686Z"
   },
   {
    "duration": 17,
    "start_time": "2022-11-09T12:43:54.705Z"
   },
   {
    "duration": 17,
    "start_time": "2022-11-09T12:43:54.725Z"
   },
   {
    "duration": 7,
    "start_time": "2022-11-09T12:43:54.744Z"
   },
   {
    "duration": 6,
    "start_time": "2022-11-09T12:43:54.753Z"
   },
   {
    "duration": 56,
    "start_time": "2022-11-09T12:43:54.761Z"
   },
   {
    "duration": 22,
    "start_time": "2022-11-09T12:43:54.819Z"
   },
   {
    "duration": 8,
    "start_time": "2022-11-09T12:43:54.842Z"
   },
   {
    "duration": 4,
    "start_time": "2022-11-09T12:43:54.851Z"
   },
   {
    "duration": 7,
    "start_time": "2022-11-09T12:43:54.857Z"
   },
   {
    "duration": 3,
    "start_time": "2022-11-09T12:43:54.866Z"
   },
   {
    "duration": 57,
    "start_time": "2022-11-09T12:43:54.871Z"
   },
   {
    "duration": 10,
    "start_time": "2022-11-09T12:43:54.930Z"
   },
   {
    "duration": 17,
    "start_time": "2022-11-09T12:43:54.942Z"
   },
   {
    "duration": 15,
    "start_time": "2022-11-09T12:43:54.962Z"
   },
   {
    "duration": 73,
    "start_time": "2022-11-09T12:43:54.979Z"
   },
   {
    "duration": 20,
    "start_time": "2022-11-09T12:43:55.054Z"
   },
   {
    "duration": 37,
    "start_time": "2022-11-09T12:43:55.076Z"
   },
   {
    "duration": 31,
    "start_time": "2022-11-09T12:43:55.116Z"
   },
   {
    "duration": 6,
    "start_time": "2022-11-09T12:43:55.148Z"
   },
   {
    "duration": 5,
    "start_time": "2022-11-09T12:43:55.155Z"
   },
   {
    "duration": 60,
    "start_time": "2022-11-09T12:43:55.162Z"
   }
  ],
  "colab": {
   "provenance": []
  },
  "kernelspec": {
   "display_name": "Python 3 (ipykernel)",
   "language": "python",
   "name": "python3"
  },
  "language_info": {
   "codemirror_mode": {
    "name": "ipython",
    "version": 3
   },
   "file_extension": ".py",
   "mimetype": "text/x-python",
   "name": "python",
   "nbconvert_exporter": "python",
   "pygments_lexer": "ipython3",
   "version": "3.9.5"
  },
  "toc": {
   "base_numbering": 1,
   "nav_menu": {},
   "number_sections": true,
   "sideBar": true,
   "skip_h1_title": true,
   "title_cell": "Table of Contents",
   "title_sidebar": "Contents",
   "toc_cell": false,
   "toc_position": {
    "height": "calc(100% - 180px)",
    "left": "10px",
    "top": "150px",
    "width": "347.986px"
   },
   "toc_section_display": true,
   "toc_window_display": false
  }
 },
 "nbformat": 4,
 "nbformat_minor": 5
}
