{
 "cells": [
  {
   "cell_type": "markdown",
   "metadata": {},
   "source": [
    "# Рекомендация тарифов"
   ]
  },
  {
   "cell_type": "markdown",
   "metadata": {},
   "source": [
    "__Описание проекта__\n",
    "\n",
    "__Оператор мобильной связи «Мегалайн» выяснил: многие клиенты пользуются архивными тарифами. Они хотят построить систему, способную проанализировать поведение клиентов и предложить пользователям новый тариф: «Смарт» или «Ультра».В вашем распоряжении данные о поведении клиентов, которые уже перешли на эти тарифы (из проекта курса «Статистический анализ данных»). Нужно построить модель для задачи классификации, которая выберет подходящий тариф. Предобработка данных не понадобится — вы её уже сделали.Постройте модель с максимально большим значением accuracy. Чтобы сдать проект успешно, нужно довести долю правильных ответов по крайней мере до 0.75. Проверьте accuracy на тестовой выборке самостоятельно.__\n"
   ]
  },
  {
   "cell_type": "markdown",
   "metadata": {},
   "source": [
    "## Откройте и изучите файл"
   ]
  },
  {
   "cell_type": "code",
   "execution_count": 30,
   "metadata": {},
   "outputs": [],
   "source": [
    "# импортирум необходимые библиотеки\n",
    "import pandas as pd\n",
    "from scipy import stats as st\n",
    "import numpy as np\n",
    "from sklearn.tree import DecisionTreeClassifier\n",
    "from sklearn.ensemble import RandomForestClassifier\n",
    "from sklearn.linear_model import LogisticRegression\n",
    "from sklearn.metrics import accuracy_score\n",
    "from sklearn.model_selection import train_test_split\n",
    "# на случай ошибок поставим игнор\n",
    "import warnings\n",
    "warnings.filterwarnings(\"ignore\")"
   ]
  },
  {
   "cell_type": "code",
   "execution_count": 31,
   "metadata": {
    "scrolled": true
   },
   "outputs": [
    {
     "data": {
      "text/html": [
       "<div>\n",
       "<style scoped>\n",
       "    .dataframe tbody tr th:only-of-type {\n",
       "        vertical-align: middle;\n",
       "    }\n",
       "\n",
       "    .dataframe tbody tr th {\n",
       "        vertical-align: top;\n",
       "    }\n",
       "\n",
       "    .dataframe thead th {\n",
       "        text-align: right;\n",
       "    }\n",
       "</style>\n",
       "<table border=\"1\" class=\"dataframe\">\n",
       "  <thead>\n",
       "    <tr style=\"text-align: right;\">\n",
       "      <th></th>\n",
       "      <th>calls</th>\n",
       "      <th>minutes</th>\n",
       "      <th>messages</th>\n",
       "      <th>mb_used</th>\n",
       "      <th>is_ultra</th>\n",
       "    </tr>\n",
       "  </thead>\n",
       "  <tbody>\n",
       "    <tr>\n",
       "      <th>0</th>\n",
       "      <td>40.0</td>\n",
       "      <td>311.90</td>\n",
       "      <td>83.0</td>\n",
       "      <td>19915.42</td>\n",
       "      <td>0</td>\n",
       "    </tr>\n",
       "    <tr>\n",
       "      <th>1</th>\n",
       "      <td>85.0</td>\n",
       "      <td>516.75</td>\n",
       "      <td>56.0</td>\n",
       "      <td>22696.96</td>\n",
       "      <td>0</td>\n",
       "    </tr>\n",
       "    <tr>\n",
       "      <th>2</th>\n",
       "      <td>77.0</td>\n",
       "      <td>467.66</td>\n",
       "      <td>86.0</td>\n",
       "      <td>21060.45</td>\n",
       "      <td>0</td>\n",
       "    </tr>\n",
       "    <tr>\n",
       "      <th>3</th>\n",
       "      <td>106.0</td>\n",
       "      <td>745.53</td>\n",
       "      <td>81.0</td>\n",
       "      <td>8437.39</td>\n",
       "      <td>1</td>\n",
       "    </tr>\n",
       "    <tr>\n",
       "      <th>4</th>\n",
       "      <td>66.0</td>\n",
       "      <td>418.74</td>\n",
       "      <td>1.0</td>\n",
       "      <td>14502.75</td>\n",
       "      <td>0</td>\n",
       "    </tr>\n",
       "    <tr>\n",
       "      <th>5</th>\n",
       "      <td>58.0</td>\n",
       "      <td>344.56</td>\n",
       "      <td>21.0</td>\n",
       "      <td>15823.37</td>\n",
       "      <td>0</td>\n",
       "    </tr>\n",
       "    <tr>\n",
       "      <th>6</th>\n",
       "      <td>57.0</td>\n",
       "      <td>431.64</td>\n",
       "      <td>20.0</td>\n",
       "      <td>3738.90</td>\n",
       "      <td>1</td>\n",
       "    </tr>\n",
       "    <tr>\n",
       "      <th>7</th>\n",
       "      <td>15.0</td>\n",
       "      <td>132.40</td>\n",
       "      <td>6.0</td>\n",
       "      <td>21911.60</td>\n",
       "      <td>0</td>\n",
       "    </tr>\n",
       "    <tr>\n",
       "      <th>8</th>\n",
       "      <td>7.0</td>\n",
       "      <td>43.39</td>\n",
       "      <td>3.0</td>\n",
       "      <td>2538.67</td>\n",
       "      <td>1</td>\n",
       "    </tr>\n",
       "    <tr>\n",
       "      <th>9</th>\n",
       "      <td>90.0</td>\n",
       "      <td>665.41</td>\n",
       "      <td>38.0</td>\n",
       "      <td>17358.61</td>\n",
       "      <td>0</td>\n",
       "    </tr>\n",
       "  </tbody>\n",
       "</table>\n",
       "</div>"
      ],
      "text/plain": [
       "   calls  minutes  messages   mb_used  is_ultra\n",
       "0   40.0   311.90      83.0  19915.42         0\n",
       "1   85.0   516.75      56.0  22696.96         0\n",
       "2   77.0   467.66      86.0  21060.45         0\n",
       "3  106.0   745.53      81.0   8437.39         1\n",
       "4   66.0   418.74       1.0  14502.75         0\n",
       "5   58.0   344.56      21.0  15823.37         0\n",
       "6   57.0   431.64      20.0   3738.90         1\n",
       "7   15.0   132.40       6.0  21911.60         0\n",
       "8    7.0    43.39       3.0   2538.67         1\n",
       "9   90.0   665.41      38.0  17358.61         0"
      ]
     },
     "execution_count": 31,
     "metadata": {},
     "output_type": "execute_result"
    }
   ],
   "source": [
    "# откроем датасет и выведем первые 30 строк\n",
    "df = pd.read_csv('/datasets/users_behavior.csv')\n",
    "df.head(10)"
   ]
  },
  {
   "cell_type": "code",
   "execution_count": 32,
   "metadata": {
    "scrolled": true
   },
   "outputs": [
    {
     "name": "stdout",
     "output_type": "stream",
     "text": [
      "<class 'pandas.core.frame.DataFrame'>\n",
      "RangeIndex: 3214 entries, 0 to 3213\n",
      "Data columns (total 5 columns):\n",
      " #   Column    Non-Null Count  Dtype  \n",
      "---  ------    --------------  -----  \n",
      " 0   calls     3214 non-null   float64\n",
      " 1   minutes   3214 non-null   float64\n",
      " 2   messages  3214 non-null   float64\n",
      " 3   mb_used   3214 non-null   float64\n",
      " 4   is_ultra  3214 non-null   int64  \n",
      "dtypes: float64(4), int64(1)\n",
      "memory usage: 125.7 KB\n"
     ]
    },
    {
     "data": {
      "text/plain": [
       "(3214, 5)"
      ]
     },
     "execution_count": 32,
     "metadata": {},
     "output_type": "execute_result"
    }
   ],
   "source": [
    "# посмотрим общую информацию и размеры таблицы \n",
    "df.info()\n",
    "df.shape"
   ]
  },
  {
   "cell_type": "markdown",
   "metadata": {},
   "source": [
    "`В нашей таблице 5 столбцов и 3214 значений. Так как ранее уже делали предобработку данных, то сразу переходим к выборкам и моделям.`"
   ]
  },
  {
   "cell_type": "markdown",
   "metadata": {},
   "source": [
    "`Задание: построить модель для задачи классификации, которая выберет подходящий тариф. В таблице столбец is_ultra со значениями 1 и 0. Это: 1 - да,подходит тариф Ultra; 0 - вам не подходит данный тариф. Получается качественный тип данных. И, соответственно, целевым признаком является данный столбец.`"
   ]
  },
  {
   "cell_type": "markdown",
   "metadata": {},
   "source": [
    "## Разбейте данные на выборки"
   ]
  },
  {
   "cell_type": "markdown",
   "metadata": {},
   "source": [
    "`Разделим набор данных на выборки:` \n",
    "* обучающую (df_train) для обучения модели(60% исходных данных);\n",
    "* валидационную (df_valid) для проверки, переобучилась ли модель (20% данных);\n",
    "* тестовую (df_test) для оценки качества(20%).\n",
    "\n",
    "В random_state укажем значение 12345. \n",
    "Для начала разделим на обучающую выборку и валидационную, а затем данные разделим поровну на тестовую выборку и валидационную.`"
   ]
  },
  {
   "cell_type": "code",
   "execution_count": 33,
   "metadata": {},
   "outputs": [
    {
     "name": "stdout",
     "output_type": "stream",
     "text": [
      "(1928, 5)\n",
      "(1607, 5)\n",
      "(1607, 5)\n"
     ]
    }
   ],
   "source": [
    "# обучающая,валидационная и тестовая выборки. Выведем их размеры для самопроверки \n",
    "df_train, df_valid = train_test_split(df, test_size=0.4, random_state=12345)\n",
    "df_test, df_valid = train_test_split(df, test_size=0.5, random_state=12345)\n",
    "print(df_train.shape)\n",
    "print(df_valid.shape)\n",
    "print(df_test.shape)"
   ]
  },
  {
   "cell_type": "markdown",
   "metadata": {},
   "source": [
    "`Теперь,когда у нас есть три таблицы, нужно подготовить к классификации и сохранить в переменных признаки.`"
   ]
  },
  {
   "cell_type": "code",
   "execution_count": 34,
   "metadata": {},
   "outputs": [],
   "source": [
    "# создаем переменные для признаков и целевого признака\n",
    "# обучающий набор признаков\n",
    "features_train = df_train.drop(['is_ultra'], axis=1)\n",
    "target_train = df_train['is_ultra'] #целевой\n",
    "# валидационный\n",
    "features_valid = df_valid.drop(['is_ultra'], axis=1)\n",
    "target_valid = df_valid['is_ultra'] # целевой\n",
    "# тестовый\n",
    "features_test = df_test.drop(['is_ultra'], axis=1)\n",
    "target_test = df_test['is_ultra'] # целевой"
   ]
  },
  {
   "cell_type": "markdown",
   "metadata": {},
   "source": [
    "## Исследуйте модели"
   ]
  },
  {
   "cell_type": "markdown",
   "metadata": {},
   "source": [
    "Для нашего анализа рассмотрим три модели:\n",
    "* дерево решений\n",
    "* случайный лес\n",
    "* логистическая регрессия "
   ]
  },
  {
   "cell_type": "markdown",
   "metadata": {},
   "source": [
    "__Начнем с дерева решений. Важный гиперпараметр решающего дерева — max_depth__"
   ]
  },
  {
   "cell_type": "code",
   "execution_count": 35,
   "metadata": {},
   "outputs": [
    {
     "name": "stdout",
     "output_type": "stream",
     "text": [
      "При максимальной глубине = 7 - accuracy наилучшей модели на валидационной выборке: 0.8046048537647791\n"
     ]
    }
   ],
   "source": [
    "best_model = None\n",
    "best_result = 0\n",
    "maximum_depth = 0\n",
    "for depth in range(1, 10):\n",
    "    model = DecisionTreeClassifier(random_state=12345, max_depth=depth) # создадим модель, указав max_depth=depth \n",
    "    model.fit(features_train, target_train) # обучим модель на обучающем наборе \n",
    "    predictions_valid = model.predict(features_valid) # проверим модель на валид.наборе\n",
    "    result = accuracy_score(target_valid, predictions_valid) # посчитаем качество модели\n",
    "    if result>best_result:\n",
    "        best_model = model\n",
    "        best_result = result\n",
    "        maximum_depth = depth\n",
    "print('При максимальной глубине =',maximum_depth, '- accuracy наилучшей модели на валидационной выборке:', best_result)\n"
   ]
  },
  {
   "cell_type": "markdown",
   "metadata": {},
   "source": [
    "`Аccuracy наилучшей модели равна 0.8046048537647791 с гиперпараметром max_depth=7`"
   ]
  },
  {
   "cell_type": "markdown",
   "metadata": {},
   "source": [
    "__Одного дерева недостаточно, нужен целый лес! Рассмотрим модель Cлучайный лес__"
   ]
  },
  {
   "cell_type": "code",
   "execution_count": 36,
   "metadata": {},
   "outputs": [
    {
     "name": "stdout",
     "output_type": "stream",
     "text": [
      "При максимальной глубине = 8 и количестве деревьев 6 - accuracy наилучшей модели на валидационной выборке: 0.8139390168014935\n"
     ]
    }
   ],
   "source": [
    "best_model = None\n",
    "best_result = 0\n",
    "maximum_depth = 0\n",
    "maximum_est = 0\n",
    "for est in range(1, 10):\n",
    "    for depth in range(1, 10):\n",
    "        model = RandomForestClassifier(random_state=12345, n_estimators=est,max_depth = depth) # обучите модель с заданным количеством деревьев\n",
    "        model.fit(features_train, target_train) # обучите модель на обуч. выборке \n",
    "        predictions_valid = model.predict(features_valid) # проверим модель на валид.наборе\n",
    "        result = accuracy_score(target_valid, predictions_valid) # посчитаем качество модели\n",
    "        if result>best_result:\n",
    "            best_model = model\n",
    "            best_result = result\n",
    "            maximum_depth = depth\n",
    "            maximum_est = est\n",
    "print('При максимальной глубине =',maximum_depth, 'и количестве деревьев',maximum_est, '- accuracy наилучшей модели на валидационной выборке:', best_result)"
   ]
  },
  {
   "cell_type": "markdown",
   "metadata": {},
   "source": [
    "`Аccuracy наилучшей модели равна 0.8139390168014935 с гиперпараметром max_depth=8 и количестве деревьев=6`"
   ]
  },
  {
   "cell_type": "markdown",
   "metadata": {},
   "source": [
    "__Проверим модель Логистическая регрессия__\n"
   ]
  },
  {
   "cell_type": "code",
   "execution_count": 37,
   "metadata": {},
   "outputs": [
    {
     "name": "stdout",
     "output_type": "stream",
     "text": [
      "Аccuracy наилучшей модели равна 0.7131300560049783\n"
     ]
    }
   ],
   "source": [
    "model = LogisticRegression(random_state=12345, solver='lbfgs', max_iter=1000)\n",
    "model.fit(features_train, target_train)# обучите модель на обуч. выборке \n",
    "predictions_valid = model.predict(features_valid) # проверим модель на валид.наборе\n",
    "#dump(model, 'model_9_1.joblib')\n",
    "accuracy = accuracy_score(predictions_valid, target_valid)\n",
    "print('Аccuracy наилучшей модели равна', accuracy)"
   ]
  },
  {
   "cell_type": "markdown",
   "metadata": {},
   "source": [
    "__Итак, рассмотрев три модели, определили их лучшие результаты.__\n",
    "* В модели дерева решений при максимальной глубине равной 7 accuracy составило 0.8046048537647791\n",
    "* В модели случайного леса при максимальной глубине равной 8 и количестве деревьев равном 6 accuracy составило 0.8139390168014935\n",
    "* В модели логистической регрессии аccuracy составило 0.7131300560049783\n",
    "\n",
    "__Исходя из данных значений, видим,что модель случайного леса показала себя с лучшей стороны, поэтому именно эту модель бюудем тестировать дальше.__"
   ]
  },
  {
   "cell_type": "markdown",
   "metadata": {},
   "source": [
    "## Проверьте модель на тестовой выборке"
   ]
  },
  {
   "cell_type": "code",
   "execution_count": 38,
   "metadata": {},
   "outputs": [
    {
     "name": "stdout",
     "output_type": "stream",
     "text": [
      "Accuracy при тестовой выборке показывает значение: 0.8730553827006845\n"
     ]
    }
   ],
   "source": [
    "model = RandomForestClassifier(random_state=12345, n_estimators=est,max_depth = depth)\n",
    "model.fit(features_train, target_train)\n",
    "predictions_test = model.predict(features_test)\n",
    "result_test = accuracy_score(predictions_test, target_test)\n",
    "print('Accuracy при тестовой выборке показывает значение:', result_test)"
   ]
  },
  {
   "cell_type": "markdown",
   "metadata": {},
   "source": [
    "__Тестовая выборка показала значение аccuracy равной 0.8730553827006845. Это аж 87% правильных ответов!__"
   ]
  },
  {
   "cell_type": "markdown",
   "metadata": {},
   "source": [
    "## (бонус) Проверьте модели на адекватность"
   ]
  },
  {
   "cell_type": "markdown",
   "metadata": {},
   "source": [
    "__Общий вывод.__\n",
    "__Мы рассмотрели три модели выборок(случайного леса, логистической регрессии и дерева решений), при которых нашли самые оптимальные значения правильных ответов. В ходе анализа выявили,что модель случайного леса показало себя с лучшей стороны и поэтому именно эту модель мы протестировали на тестовой выборке. Тестовая выборка показала 87% правильных ответов. Таким образов, данную модель можно использовать для первоначальной задачи,предложения выбранных тарифов.__"
   ]
  }
 ],
 "metadata": {
  "ExecuteTimeLog": [
   {
    "duration": 43,
    "start_time": "2022-12-29T17:22:21.584Z"
   },
   {
    "duration": 784,
    "start_time": "2022-12-29T17:23:16.032Z"
   },
   {
    "duration": 81,
    "start_time": "2022-12-29T17:23:16.818Z"
   },
   {
    "duration": 47,
    "start_time": "2022-12-29T17:41:10.376Z"
   },
   {
    "duration": 269,
    "start_time": "2022-12-29T17:44:35.593Z"
   },
   {
    "duration": 38,
    "start_time": "2022-12-29T17:44:36.158Z"
   },
   {
    "duration": 5,
    "start_time": "2022-12-29T17:44:39.424Z"
   },
   {
    "duration": 40,
    "start_time": "2022-12-29T17:51:45.924Z"
   },
   {
    "duration": 4,
    "start_time": "2022-12-29T17:54:59.334Z"
   },
   {
    "duration": 14,
    "start_time": "2022-12-29T17:55:21.673Z"
   },
   {
    "duration": 12,
    "start_time": "2022-12-29T17:55:40.783Z"
   },
   {
    "duration": 11,
    "start_time": "2022-12-29T18:00:30.137Z"
   },
   {
    "duration": 35,
    "start_time": "2022-12-29T19:02:41.370Z"
   },
   {
    "duration": 25,
    "start_time": "2022-12-29T19:08:41.767Z"
   },
   {
    "duration": 5,
    "start_time": "2022-12-29T19:08:42.395Z"
   },
   {
    "duration": 4,
    "start_time": "2022-12-29T19:15:29.447Z"
   },
   {
    "duration": 5,
    "start_time": "2022-12-29T19:15:32.015Z"
   },
   {
    "duration": 12,
    "start_time": "2022-12-29T19:24:05.420Z"
   },
   {
    "duration": 6,
    "start_time": "2022-12-29T19:39:21.458Z"
   },
   {
    "duration": 7,
    "start_time": "2022-12-29T19:46:22.649Z"
   },
   {
    "duration": 7,
    "start_time": "2022-12-29T19:47:24.416Z"
   },
   {
    "duration": 7,
    "start_time": "2022-12-29T19:52:05.593Z"
   },
   {
    "duration": 14,
    "start_time": "2022-12-29T20:00:01.528Z"
   },
   {
    "duration": 124,
    "start_time": "2022-12-29T20:19:33.474Z"
   },
   {
    "duration": 81,
    "start_time": "2022-12-29T20:24:12.719Z"
   },
   {
    "duration": 15,
    "start_time": "2022-12-29T20:33:17.501Z"
   },
   {
    "duration": 59,
    "start_time": "2022-12-29T20:33:33.223Z"
   },
   {
    "duration": 75,
    "start_time": "2022-12-29T20:42:28.461Z"
   },
   {
    "duration": 69,
    "start_time": "2022-12-29T20:42:59.374Z"
   },
   {
    "duration": 102,
    "start_time": "2022-12-29T20:43:42.393Z"
   },
   {
    "duration": 66,
    "start_time": "2022-12-29T20:43:49.206Z"
   },
   {
    "duration": 60,
    "start_time": "2022-12-29T21:08:08.441Z"
   },
   {
    "duration": 1270,
    "start_time": "2022-12-29T21:08:30.576Z"
   },
   {
    "duration": 93,
    "start_time": "2022-12-29T21:08:31.850Z"
   },
   {
    "duration": 19,
    "start_time": "2022-12-29T21:08:31.945Z"
   },
   {
    "duration": 10,
    "start_time": "2022-12-29T21:08:34.541Z"
   },
   {
    "duration": 8,
    "start_time": "2022-12-29T21:08:40.283Z"
   },
   {
    "duration": 73,
    "start_time": "2022-12-29T21:08:42.135Z"
   },
   {
    "duration": 1422,
    "start_time": "2022-12-29T21:08:47.221Z"
   },
   {
    "duration": 1470,
    "start_time": "2022-12-29T21:09:49.615Z"
   },
   {
    "duration": 4,
    "start_time": "2022-12-29T21:19:24.293Z"
   },
   {
    "duration": 39,
    "start_time": "2022-12-29T21:19:24.952Z"
   },
   {
    "duration": 13,
    "start_time": "2022-12-29T21:19:25.653Z"
   },
   {
    "duration": 8,
    "start_time": "2022-12-29T21:19:28.777Z"
   },
   {
    "duration": 6,
    "start_time": "2022-12-29T21:19:30.479Z"
   },
   {
    "duration": 62,
    "start_time": "2022-12-29T21:19:33.664Z"
   },
   {
    "duration": 1341,
    "start_time": "2022-12-29T21:19:38.400Z"
   },
   {
    "duration": 40,
    "start_time": "2022-12-29T21:19:43.829Z"
   },
   {
    "duration": 72,
    "start_time": "2022-12-29T21:29:15.737Z"
   },
   {
    "duration": 5,
    "start_time": "2022-12-29T21:29:28.517Z"
   },
   {
    "duration": 48,
    "start_time": "2022-12-29T21:29:28.525Z"
   },
   {
    "duration": 12,
    "start_time": "2022-12-29T21:29:28.575Z"
   },
   {
    "duration": 69,
    "start_time": "2022-12-29T21:29:28.589Z"
   },
   {
    "duration": 6,
    "start_time": "2022-12-29T21:29:28.659Z"
   },
   {
    "duration": 69,
    "start_time": "2022-12-29T21:29:28.666Z"
   },
   {
    "duration": 1419,
    "start_time": "2022-12-29T21:29:28.751Z"
   },
   {
    "duration": 33,
    "start_time": "2022-12-29T21:29:30.172Z"
   },
   {
    "duration": 39,
    "start_time": "2022-12-29T21:29:30.207Z"
   },
   {
    "duration": 40,
    "start_time": "2022-12-29T21:30:34.193Z"
   },
   {
    "duration": 78,
    "start_time": "2022-12-29T21:40:01.942Z"
   },
   {
    "duration": 4,
    "start_time": "2022-12-29T21:40:41.247Z"
   },
   {
    "duration": 44,
    "start_time": "2022-12-29T21:40:41.253Z"
   },
   {
    "duration": 11,
    "start_time": "2022-12-29T21:40:41.299Z"
   },
   {
    "duration": 15,
    "start_time": "2022-12-29T21:40:41.311Z"
   },
   {
    "duration": 9,
    "start_time": "2022-12-29T21:40:41.328Z"
   },
   {
    "duration": 62,
    "start_time": "2022-12-29T21:40:41.339Z"
   },
   {
    "duration": 1330,
    "start_time": "2022-12-29T21:40:41.403Z"
   },
   {
    "duration": 32,
    "start_time": "2022-12-29T21:40:42.734Z"
   },
   {
    "duration": 40,
    "start_time": "2022-12-29T21:40:42.768Z"
   }
  ],
  "kernelspec": {
   "display_name": "Python 3 (ipykernel)",
   "language": "python",
   "name": "python3"
  },
  "language_info": {
   "codemirror_mode": {
    "name": "ipython",
    "version": 3
   },
   "file_extension": ".py",
   "mimetype": "text/x-python",
   "name": "python",
   "nbconvert_exporter": "python",
   "pygments_lexer": "ipython3",
   "version": "3.9.5"
  },
  "toc": {
   "base_numbering": 1,
   "nav_menu": {},
   "number_sections": true,
   "sideBar": true,
   "skip_h1_title": true,
   "title_cell": "Table of Contents",
   "title_sidebar": "Contents",
   "toc_cell": false,
   "toc_position": {},
   "toc_section_display": true,
   "toc_window_display": false
  }
 },
 "nbformat": 4,
 "nbformat_minor": 2
}
