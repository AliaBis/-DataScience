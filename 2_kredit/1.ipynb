{
 "cells": [
  {
   "cell_type": "markdown",
   "id": "f06186b6",
   "metadata": {
    "deletable": false,
    "editable": false,
    "id": "c81daeeb"
   },
   "source": [
    "# Исследование надежности заемщиков\n"
   ]
  },
  {
   "cell_type": "markdown",
   "id": "9f2487f1",
   "metadata": {
    "deletable": false,
    "editable": false,
    "id": "827c20bf"
   },
   "source": [
    "Во второй части проекта вы выполните шаги 3 и 4. Их вручную проверит ревьюер.\n",
    "Чтобы вам не пришлось писать код заново для шагов 1 и 2, мы добавили авторские решения в ячейки с кодом. \n",
    "\n"
   ]
  },
  {
   "attachments": {},
   "cell_type": "markdown",
   "id": "88b20f8f",
   "metadata": {
    "deletable": false,
    "editable": false,
    "id": "744d7639"
   },
   "source": [
    "## Откроем таблицу и изучим общую информацию о данных"
   ]
  },
  {
   "attachments": {},
   "cell_type": "markdown",
   "id": "b7b23edf",
   "metadata": {
    "deletable": false,
    "editable": false,
    "id": "e7a14c31"
   },
   "source": [
    "**Импортируем библиотеку pandas. Посчитаем данные из csv-файла в датафрейм и сохраним в переменную `data`. Путь к файлу:**\n",
    "\n",
    "`/datasets/data.csv`"
   ]
  },
  {
   "cell_type": "code",
   "execution_count": 722,
   "id": "57ccc2ad",
   "metadata": {
    "deletable": false,
    "id": "7bcf75c9"
   },
   "outputs": [],
   "source": [
    "import pandas as pd\n",
    "\n",
    "try:\n",
    "    data = pd.read_csv('/datasets/data.csv')\n",
    "except:\n",
    "    data = pd.read_csv('https://code.s3.yandex.net/datasets/data.csv')"
   ]
  },
  {
   "attachments": {},
   "cell_type": "markdown",
   "id": "a494ce24",
   "metadata": {
    "deletable": false,
    "editable": false,
    "id": "b8038fe3"
   },
   "source": [
    "**Выведем первые 20 строчек датафрейма `data` на экран.**"
   ]
  },
  {
   "cell_type": "code",
   "execution_count": 723,
   "id": "77115b77",
   "metadata": {
    "deletable": false,
    "id": "2a7cab99",
    "outputId": "1a8f3ef2-d323-4ec2-ddf7-89670b5944c4"
   },
   "outputs": [
    {
     "data": {
      "text/html": [
       "<div>\n",
       "<style scoped>\n",
       "    .dataframe tbody tr th:only-of-type {\n",
       "        vertical-align: middle;\n",
       "    }\n",
       "\n",
       "    .dataframe tbody tr th {\n",
       "        vertical-align: top;\n",
       "    }\n",
       "\n",
       "    .dataframe thead th {\n",
       "        text-align: right;\n",
       "    }\n",
       "</style>\n",
       "<table border=\"1\" class=\"dataframe\">\n",
       "  <thead>\n",
       "    <tr style=\"text-align: right;\">\n",
       "      <th></th>\n",
       "      <th>children</th>\n",
       "      <th>days_employed</th>\n",
       "      <th>dob_years</th>\n",
       "      <th>education</th>\n",
       "      <th>education_id</th>\n",
       "      <th>family_status</th>\n",
       "      <th>family_status_id</th>\n",
       "      <th>gender</th>\n",
       "      <th>income_type</th>\n",
       "      <th>debt</th>\n",
       "      <th>total_income</th>\n",
       "      <th>purpose</th>\n",
       "    </tr>\n",
       "  </thead>\n",
       "  <tbody>\n",
       "    <tr>\n",
       "      <th>0</th>\n",
       "      <td>1</td>\n",
       "      <td>-8437.673028</td>\n",
       "      <td>42</td>\n",
       "      <td>высшее</td>\n",
       "      <td>0</td>\n",
       "      <td>женат / замужем</td>\n",
       "      <td>0</td>\n",
       "      <td>F</td>\n",
       "      <td>сотрудник</td>\n",
       "      <td>0</td>\n",
       "      <td>253875.639453</td>\n",
       "      <td>покупка жилья</td>\n",
       "    </tr>\n",
       "    <tr>\n",
       "      <th>1</th>\n",
       "      <td>1</td>\n",
       "      <td>-4024.803754</td>\n",
       "      <td>36</td>\n",
       "      <td>среднее</td>\n",
       "      <td>1</td>\n",
       "      <td>женат / замужем</td>\n",
       "      <td>0</td>\n",
       "      <td>F</td>\n",
       "      <td>сотрудник</td>\n",
       "      <td>0</td>\n",
       "      <td>112080.014102</td>\n",
       "      <td>приобретение автомобиля</td>\n",
       "    </tr>\n",
       "    <tr>\n",
       "      <th>2</th>\n",
       "      <td>0</td>\n",
       "      <td>-5623.422610</td>\n",
       "      <td>33</td>\n",
       "      <td>Среднее</td>\n",
       "      <td>1</td>\n",
       "      <td>женат / замужем</td>\n",
       "      <td>0</td>\n",
       "      <td>M</td>\n",
       "      <td>сотрудник</td>\n",
       "      <td>0</td>\n",
       "      <td>145885.952297</td>\n",
       "      <td>покупка жилья</td>\n",
       "    </tr>\n",
       "    <tr>\n",
       "      <th>3</th>\n",
       "      <td>3</td>\n",
       "      <td>-4124.747207</td>\n",
       "      <td>32</td>\n",
       "      <td>среднее</td>\n",
       "      <td>1</td>\n",
       "      <td>женат / замужем</td>\n",
       "      <td>0</td>\n",
       "      <td>M</td>\n",
       "      <td>сотрудник</td>\n",
       "      <td>0</td>\n",
       "      <td>267628.550329</td>\n",
       "      <td>дополнительное образование</td>\n",
       "    </tr>\n",
       "    <tr>\n",
       "      <th>4</th>\n",
       "      <td>0</td>\n",
       "      <td>340266.072047</td>\n",
       "      <td>53</td>\n",
       "      <td>среднее</td>\n",
       "      <td>1</td>\n",
       "      <td>гражданский брак</td>\n",
       "      <td>1</td>\n",
       "      <td>F</td>\n",
       "      <td>пенсионер</td>\n",
       "      <td>0</td>\n",
       "      <td>158616.077870</td>\n",
       "      <td>сыграть свадьбу</td>\n",
       "    </tr>\n",
       "    <tr>\n",
       "      <th>5</th>\n",
       "      <td>0</td>\n",
       "      <td>-926.185831</td>\n",
       "      <td>27</td>\n",
       "      <td>высшее</td>\n",
       "      <td>0</td>\n",
       "      <td>гражданский брак</td>\n",
       "      <td>1</td>\n",
       "      <td>M</td>\n",
       "      <td>компаньон</td>\n",
       "      <td>0</td>\n",
       "      <td>255763.565419</td>\n",
       "      <td>покупка жилья</td>\n",
       "    </tr>\n",
       "    <tr>\n",
       "      <th>6</th>\n",
       "      <td>0</td>\n",
       "      <td>-2879.202052</td>\n",
       "      <td>43</td>\n",
       "      <td>высшее</td>\n",
       "      <td>0</td>\n",
       "      <td>женат / замужем</td>\n",
       "      <td>0</td>\n",
       "      <td>F</td>\n",
       "      <td>компаньон</td>\n",
       "      <td>0</td>\n",
       "      <td>240525.971920</td>\n",
       "      <td>операции с жильем</td>\n",
       "    </tr>\n",
       "    <tr>\n",
       "      <th>7</th>\n",
       "      <td>0</td>\n",
       "      <td>-152.779569</td>\n",
       "      <td>50</td>\n",
       "      <td>СРЕДНЕЕ</td>\n",
       "      <td>1</td>\n",
       "      <td>женат / замужем</td>\n",
       "      <td>0</td>\n",
       "      <td>M</td>\n",
       "      <td>сотрудник</td>\n",
       "      <td>0</td>\n",
       "      <td>135823.934197</td>\n",
       "      <td>образование</td>\n",
       "    </tr>\n",
       "    <tr>\n",
       "      <th>8</th>\n",
       "      <td>2</td>\n",
       "      <td>-6929.865299</td>\n",
       "      <td>35</td>\n",
       "      <td>ВЫСШЕЕ</td>\n",
       "      <td>0</td>\n",
       "      <td>гражданский брак</td>\n",
       "      <td>1</td>\n",
       "      <td>F</td>\n",
       "      <td>сотрудник</td>\n",
       "      <td>0</td>\n",
       "      <td>95856.832424</td>\n",
       "      <td>на проведение свадьбы</td>\n",
       "    </tr>\n",
       "    <tr>\n",
       "      <th>9</th>\n",
       "      <td>0</td>\n",
       "      <td>-2188.756445</td>\n",
       "      <td>41</td>\n",
       "      <td>среднее</td>\n",
       "      <td>1</td>\n",
       "      <td>женат / замужем</td>\n",
       "      <td>0</td>\n",
       "      <td>M</td>\n",
       "      <td>сотрудник</td>\n",
       "      <td>0</td>\n",
       "      <td>144425.938277</td>\n",
       "      <td>покупка жилья для семьи</td>\n",
       "    </tr>\n",
       "    <tr>\n",
       "      <th>10</th>\n",
       "      <td>2</td>\n",
       "      <td>-4171.483647</td>\n",
       "      <td>36</td>\n",
       "      <td>высшее</td>\n",
       "      <td>0</td>\n",
       "      <td>женат / замужем</td>\n",
       "      <td>0</td>\n",
       "      <td>M</td>\n",
       "      <td>компаньон</td>\n",
       "      <td>0</td>\n",
       "      <td>113943.491460</td>\n",
       "      <td>покупка недвижимости</td>\n",
       "    </tr>\n",
       "    <tr>\n",
       "      <th>11</th>\n",
       "      <td>0</td>\n",
       "      <td>-792.701887</td>\n",
       "      <td>40</td>\n",
       "      <td>среднее</td>\n",
       "      <td>1</td>\n",
       "      <td>женат / замужем</td>\n",
       "      <td>0</td>\n",
       "      <td>F</td>\n",
       "      <td>сотрудник</td>\n",
       "      <td>0</td>\n",
       "      <td>77069.234271</td>\n",
       "      <td>покупка коммерческой недвижимости</td>\n",
       "    </tr>\n",
       "    <tr>\n",
       "      <th>12</th>\n",
       "      <td>0</td>\n",
       "      <td>NaN</td>\n",
       "      <td>65</td>\n",
       "      <td>среднее</td>\n",
       "      <td>1</td>\n",
       "      <td>гражданский брак</td>\n",
       "      <td>1</td>\n",
       "      <td>M</td>\n",
       "      <td>пенсионер</td>\n",
       "      <td>0</td>\n",
       "      <td>NaN</td>\n",
       "      <td>сыграть свадьбу</td>\n",
       "    </tr>\n",
       "    <tr>\n",
       "      <th>13</th>\n",
       "      <td>0</td>\n",
       "      <td>-1846.641941</td>\n",
       "      <td>54</td>\n",
       "      <td>неоконченное высшее</td>\n",
       "      <td>2</td>\n",
       "      <td>женат / замужем</td>\n",
       "      <td>0</td>\n",
       "      <td>F</td>\n",
       "      <td>сотрудник</td>\n",
       "      <td>0</td>\n",
       "      <td>130458.228857</td>\n",
       "      <td>приобретение автомобиля</td>\n",
       "    </tr>\n",
       "    <tr>\n",
       "      <th>14</th>\n",
       "      <td>0</td>\n",
       "      <td>-1844.956182</td>\n",
       "      <td>56</td>\n",
       "      <td>высшее</td>\n",
       "      <td>0</td>\n",
       "      <td>гражданский брак</td>\n",
       "      <td>1</td>\n",
       "      <td>F</td>\n",
       "      <td>компаньон</td>\n",
       "      <td>1</td>\n",
       "      <td>165127.911772</td>\n",
       "      <td>покупка жилой недвижимости</td>\n",
       "    </tr>\n",
       "    <tr>\n",
       "      <th>15</th>\n",
       "      <td>1</td>\n",
       "      <td>-972.364419</td>\n",
       "      <td>26</td>\n",
       "      <td>среднее</td>\n",
       "      <td>1</td>\n",
       "      <td>женат / замужем</td>\n",
       "      <td>0</td>\n",
       "      <td>F</td>\n",
       "      <td>сотрудник</td>\n",
       "      <td>0</td>\n",
       "      <td>116820.904450</td>\n",
       "      <td>строительство собственной недвижимости</td>\n",
       "    </tr>\n",
       "    <tr>\n",
       "      <th>16</th>\n",
       "      <td>0</td>\n",
       "      <td>-1719.934226</td>\n",
       "      <td>35</td>\n",
       "      <td>среднее</td>\n",
       "      <td>1</td>\n",
       "      <td>женат / замужем</td>\n",
       "      <td>0</td>\n",
       "      <td>F</td>\n",
       "      <td>сотрудник</td>\n",
       "      <td>0</td>\n",
       "      <td>289202.704229</td>\n",
       "      <td>недвижимость</td>\n",
       "    </tr>\n",
       "    <tr>\n",
       "      <th>17</th>\n",
       "      <td>0</td>\n",
       "      <td>-2369.999720</td>\n",
       "      <td>33</td>\n",
       "      <td>высшее</td>\n",
       "      <td>0</td>\n",
       "      <td>гражданский брак</td>\n",
       "      <td>1</td>\n",
       "      <td>M</td>\n",
       "      <td>сотрудник</td>\n",
       "      <td>0</td>\n",
       "      <td>90410.586745</td>\n",
       "      <td>строительство недвижимости</td>\n",
       "    </tr>\n",
       "    <tr>\n",
       "      <th>18</th>\n",
       "      <td>0</td>\n",
       "      <td>400281.136913</td>\n",
       "      <td>53</td>\n",
       "      <td>среднее</td>\n",
       "      <td>1</td>\n",
       "      <td>вдовец / вдова</td>\n",
       "      <td>2</td>\n",
       "      <td>F</td>\n",
       "      <td>пенсионер</td>\n",
       "      <td>0</td>\n",
       "      <td>56823.777243</td>\n",
       "      <td>на покупку подержанного автомобиля</td>\n",
       "    </tr>\n",
       "    <tr>\n",
       "      <th>19</th>\n",
       "      <td>0</td>\n",
       "      <td>-10038.818549</td>\n",
       "      <td>48</td>\n",
       "      <td>СРЕДНЕЕ</td>\n",
       "      <td>1</td>\n",
       "      <td>в разводе</td>\n",
       "      <td>3</td>\n",
       "      <td>F</td>\n",
       "      <td>сотрудник</td>\n",
       "      <td>0</td>\n",
       "      <td>242831.107982</td>\n",
       "      <td>на покупку своего автомобиля</td>\n",
       "    </tr>\n",
       "  </tbody>\n",
       "</table>\n",
       "</div>"
      ],
      "text/plain": [
       "    children  days_employed  dob_years            education  education_id  \\\n",
       "0          1   -8437.673028         42               высшее             0   \n",
       "1          1   -4024.803754         36              среднее             1   \n",
       "2          0   -5623.422610         33              Среднее             1   \n",
       "3          3   -4124.747207         32              среднее             1   \n",
       "4          0  340266.072047         53              среднее             1   \n",
       "5          0    -926.185831         27               высшее             0   \n",
       "6          0   -2879.202052         43               высшее             0   \n",
       "7          0    -152.779569         50              СРЕДНЕЕ             1   \n",
       "8          2   -6929.865299         35               ВЫСШЕЕ             0   \n",
       "9          0   -2188.756445         41              среднее             1   \n",
       "10         2   -4171.483647         36               высшее             0   \n",
       "11         0    -792.701887         40              среднее             1   \n",
       "12         0            NaN         65              среднее             1   \n",
       "13         0   -1846.641941         54  неоконченное высшее             2   \n",
       "14         0   -1844.956182         56               высшее             0   \n",
       "15         1    -972.364419         26              среднее             1   \n",
       "16         0   -1719.934226         35              среднее             1   \n",
       "17         0   -2369.999720         33               высшее             0   \n",
       "18         0  400281.136913         53              среднее             1   \n",
       "19         0  -10038.818549         48              СРЕДНЕЕ             1   \n",
       "\n",
       "       family_status  family_status_id gender income_type  debt  \\\n",
       "0    женат / замужем                 0      F   сотрудник     0   \n",
       "1    женат / замужем                 0      F   сотрудник     0   \n",
       "2    женат / замужем                 0      M   сотрудник     0   \n",
       "3    женат / замужем                 0      M   сотрудник     0   \n",
       "4   гражданский брак                 1      F   пенсионер     0   \n",
       "5   гражданский брак                 1      M   компаньон     0   \n",
       "6    женат / замужем                 0      F   компаньон     0   \n",
       "7    женат / замужем                 0      M   сотрудник     0   \n",
       "8   гражданский брак                 1      F   сотрудник     0   \n",
       "9    женат / замужем                 0      M   сотрудник     0   \n",
       "10   женат / замужем                 0      M   компаньон     0   \n",
       "11   женат / замужем                 0      F   сотрудник     0   \n",
       "12  гражданский брак                 1      M   пенсионер     0   \n",
       "13   женат / замужем                 0      F   сотрудник     0   \n",
       "14  гражданский брак                 1      F   компаньон     1   \n",
       "15   женат / замужем                 0      F   сотрудник     0   \n",
       "16   женат / замужем                 0      F   сотрудник     0   \n",
       "17  гражданский брак                 1      M   сотрудник     0   \n",
       "18    вдовец / вдова                 2      F   пенсионер     0   \n",
       "19         в разводе                 3      F   сотрудник     0   \n",
       "\n",
       "     total_income                                 purpose  \n",
       "0   253875.639453                           покупка жилья  \n",
       "1   112080.014102                 приобретение автомобиля  \n",
       "2   145885.952297                           покупка жилья  \n",
       "3   267628.550329              дополнительное образование  \n",
       "4   158616.077870                         сыграть свадьбу  \n",
       "5   255763.565419                           покупка жилья  \n",
       "6   240525.971920                       операции с жильем  \n",
       "7   135823.934197                             образование  \n",
       "8    95856.832424                   на проведение свадьбы  \n",
       "9   144425.938277                 покупка жилья для семьи  \n",
       "10  113943.491460                    покупка недвижимости  \n",
       "11   77069.234271       покупка коммерческой недвижимости  \n",
       "12            NaN                         сыграть свадьбу  \n",
       "13  130458.228857                 приобретение автомобиля  \n",
       "14  165127.911772              покупка жилой недвижимости  \n",
       "15  116820.904450  строительство собственной недвижимости  \n",
       "16  289202.704229                            недвижимость  \n",
       "17   90410.586745              строительство недвижимости  \n",
       "18   56823.777243      на покупку подержанного автомобиля  \n",
       "19  242831.107982            на покупку своего автомобиля  "
      ]
     },
     "execution_count": 723,
     "metadata": {},
     "output_type": "execute_result"
    }
   ],
   "source": [
    "data.head(20)"
   ]
  },
  {
   "attachments": {},
   "cell_type": "markdown",
   "id": "b9802981",
   "metadata": {
    "deletable": false,
    "editable": false,
    "id": "1c12e233"
   },
   "source": [
    "**Выведем основную информацию о датафрейме с помощью метода `info()`.**"
   ]
  },
  {
   "cell_type": "code",
   "execution_count": 724,
   "id": "ab4abe3b",
   "metadata": {
    "deletable": false,
    "id": "2b757bca",
    "outputId": "15376089-8dad-46c9-b520-c05248d43158"
   },
   "outputs": [
    {
     "name": "stdout",
     "output_type": "stream",
     "text": [
      "<class 'pandas.core.frame.DataFrame'>\n",
      "RangeIndex: 21525 entries, 0 to 21524\n",
      "Data columns (total 12 columns):\n",
      " #   Column            Non-Null Count  Dtype  \n",
      "---  ------            --------------  -----  \n",
      " 0   children          21525 non-null  int64  \n",
      " 1   days_employed     19351 non-null  float64\n",
      " 2   dob_years         21525 non-null  int64  \n",
      " 3   education         21525 non-null  object \n",
      " 4   education_id      21525 non-null  int64  \n",
      " 5   family_status     21525 non-null  object \n",
      " 6   family_status_id  21525 non-null  int64  \n",
      " 7   gender            21525 non-null  object \n",
      " 8   income_type       21525 non-null  object \n",
      " 9   debt              21525 non-null  int64  \n",
      " 10  total_income      19351 non-null  float64\n",
      " 11  purpose           21525 non-null  object \n",
      "dtypes: float64(2), int64(5), object(5)\n",
      "memory usage: 2.0+ MB\n"
     ]
    }
   ],
   "source": [
    "data.info()"
   ]
  },
  {
   "cell_type": "markdown",
   "id": "50154bbf",
   "metadata": {
    "deletable": false,
    "editable": false,
    "id": "333ec665"
   },
   "source": [
    "## Предобработка данных"
   ]
  },
  {
   "cell_type": "markdown",
   "id": "4357facb",
   "metadata": {
    "deletable": false,
    "editable": false,
    "id": "02d92d53"
   },
   "source": [
    "### Удаление пропусков"
   ]
  },
  {
   "attachments": {},
   "cell_type": "markdown",
   "id": "a6744702",
   "metadata": {
    "deletable": false,
    "editable": false,
    "id": "cd84967c"
   },
   "source": [
    "**Выведем количество пропущенных значений для каждого столбца. Используйте комбинацию двух методов.**"
   ]
  },
  {
   "cell_type": "code",
   "execution_count": 725,
   "id": "59d7c960",
   "metadata": {
    "deletable": false,
    "id": "7f9b2309",
    "outputId": "81f4d817-781c-465c-ed15-91ce4446810d"
   },
   "outputs": [
    {
     "data": {
      "text/plain": [
       "children               0\n",
       "days_employed       2174\n",
       "dob_years              0\n",
       "education              0\n",
       "education_id           0\n",
       "family_status          0\n",
       "family_status_id       0\n",
       "gender                 0\n",
       "income_type            0\n",
       "debt                   0\n",
       "total_income        2174\n",
       "purpose                0\n",
       "dtype: int64"
      ]
     },
     "execution_count": 725,
     "metadata": {},
     "output_type": "execute_result"
    }
   ],
   "source": [
    "data.isna().sum()"
   ]
  },
  {
   "attachments": {},
   "cell_type": "markdown",
   "id": "7f5407f5",
   "metadata": {
    "deletable": false,
    "editable": false,
    "id": "db86e27b"
   },
   "source": [
    "**В двух столбцах есть пропущенные значения. Один из них — `days_employed`. Пропуски в этом столбце вы обработаете на следующем этапе. Другой столбец с пропущенными значениями — `total_income` — хранит данные о доходах. На сумму дохода сильнее всего влияет тип занятости, поэтому заполнить пропуски в этом столбце нужно медианным значением по каждому типу из столбца `income_type`. Например, у человека с типом занятости `сотрудник` пропуск в столбце `total_income` должен быть заполнен медианным доходом среди всех записей с тем же типом.**"
   ]
  },
  {
   "cell_type": "code",
   "execution_count": 726,
   "id": "d5e19b8a",
   "metadata": {
    "deletable": false,
    "id": "42006a93"
   },
   "outputs": [],
   "source": [
    "for t in data['income_type'].unique():\n",
    "    data.loc[(data['income_type'] == t) & (data['total_income'].isna()), 'total_income'] = \\\n",
    "    data.loc[(data['income_type'] == t), 'total_income'].median()"
   ]
  },
  {
   "cell_type": "markdown",
   "id": "5452dde6",
   "metadata": {
    "deletable": false,
    "editable": false,
    "id": "89da5ece"
   },
   "source": [
    "### Обработка аномальных значений"
   ]
  },
  {
   "attachments": {},
   "cell_type": "markdown",
   "id": "01599eec",
   "metadata": {
    "deletable": false,
    "editable": false,
    "id": "57964554"
   },
   "source": [
    "**В данных могут встречаться артефакты (аномалии) — значения, которые не отражают действительность и появились по какой-то ошибке. таким артефактом будет отрицательное количество дней трудового стажа в столбце `days_employed`. Для реальных данных это нормально. Обработаем значения в этом столбце: заменим все отрицательные значения положительными с помощью метода `abs()`.**"
   ]
  },
  {
   "cell_type": "code",
   "execution_count": 727,
   "id": "b05806e9",
   "metadata": {
    "deletable": false,
    "id": "f6f055bf"
   },
   "outputs": [],
   "source": [
    "data['days_employed'] = data['days_employed'].abs()"
   ]
  },
  {
   "attachments": {},
   "cell_type": "markdown",
   "id": "979dff48",
   "metadata": {
    "deletable": false,
    "editable": false,
    "id": "6107dd2f"
   },
   "source": [
    "**Для каждого типа занятости выведем медианное значение трудового стажа `days_employed` в днях.**"
   ]
  },
  {
   "cell_type": "code",
   "execution_count": 728,
   "id": "db35671c",
   "metadata": {
    "deletable": false,
    "id": "85a5faf6",
    "outputId": "801ef80e-522b-4668-f34e-565af7432bcf"
   },
   "outputs": [
    {
     "data": {
      "text/plain": [
       "income_type\n",
       "безработный        366413.652744\n",
       "в декрете            3296.759962\n",
       "госслужащий          2689.368353\n",
       "компаньон            1547.382223\n",
       "пенсионер          365213.306266\n",
       "предприниматель       520.848083\n",
       "сотрудник            1574.202821\n",
       "студент               578.751554\n",
       "Name: days_employed, dtype: float64"
      ]
     },
     "execution_count": 728,
     "metadata": {},
     "output_type": "execute_result"
    }
   ],
   "source": [
    "data.groupby('income_type')['days_employed'].agg('median')"
   ]
  },
  {
   "attachments": {},
   "cell_type": "markdown",
   "id": "17752c2d",
   "metadata": {
    "deletable": false,
    "editable": false,
    "id": "38d1a030"
   },
   "source": [
    "У двух типов (безработные и пенсионеры) получатся аномально большие значения. Исправим такие значения сложно, поэтому оставим их как есть. Тем более этот столбец не понадобится нам для исследования."
   ]
  },
  {
   "attachments": {},
   "cell_type": "markdown",
   "id": "e1022d87",
   "metadata": {
    "deletable": false,
    "editable": false,
    "id": "d8a9f147"
   },
   "source": [
    "**Выведем перечень уникальных значений столбца `children`.**"
   ]
  },
  {
   "cell_type": "code",
   "execution_count": 729,
   "id": "f82c73b1",
   "metadata": {
    "deletable": false,
    "id": "ef5056eb",
    "outputId": "6975b15c-7f95-4697-d16d-a0c79b657b03"
   },
   "outputs": [
    {
     "data": {
      "text/plain": [
       "array([ 1,  0,  3,  2, -1,  4, 20,  5])"
      ]
     },
     "execution_count": 729,
     "metadata": {},
     "output_type": "execute_result"
    }
   ],
   "source": [
    "data['children'].unique()"
   ]
  },
  {
   "attachments": {},
   "cell_type": "markdown",
   "id": "a5b5b47c",
   "metadata": {
    "deletable": false,
    "editable": false,
    "id": "40b9ebf2"
   },
   "source": [
    "**В столбце `children` есть два аномальных значения. Удалим строки, в которых встречаются такие аномальные значения из датафрейма `data`.**"
   ]
  },
  {
   "cell_type": "code",
   "execution_count": 730,
   "id": "2ea910d4",
   "metadata": {
    "deletable": false,
    "id": "3ff9801d"
   },
   "outputs": [],
   "source": [
    "data = data[(data['children'] != -1) & (data['children'] != 20)]"
   ]
  },
  {
   "attachments": {},
   "cell_type": "markdown",
   "id": "454c68d1",
   "metadata": {
    "deletable": false,
    "editable": false,
    "id": "bbc4d0ce"
   },
   "source": [
    "**Ещё раз выведем перечень уникальных значений столбца `children`, чтобы убедиться, что артефакты удалены.**"
   ]
  },
  {
   "cell_type": "code",
   "execution_count": 731,
   "id": "8683e92e",
   "metadata": {
    "deletable": false,
    "id": "ad4fa8b7",
    "outputId": "b2097101-d49d-44d9-901b-32a65c9463d1"
   },
   "outputs": [
    {
     "data": {
      "text/plain": [
       "array([1, 0, 3, 2, 4, 5])"
      ]
     },
     "execution_count": 731,
     "metadata": {},
     "output_type": "execute_result"
    }
   ],
   "source": [
    "data['children'].unique()"
   ]
  },
  {
   "cell_type": "markdown",
   "id": "cc350892",
   "metadata": {
    "deletable": false,
    "editable": false,
    "id": "75440b63"
   },
   "source": [
    "### Удаление пропусков (продолжение)"
   ]
  },
  {
   "attachments": {},
   "cell_type": "markdown",
   "id": "ba871e7b",
   "metadata": {
    "deletable": false,
    "editable": false,
    "id": "f4ea573f"
   },
   "source": [
    "**Заполним пропуски в столбце `days_employed` медианными значениями по каждого типа занятости `income_type`.**"
   ]
  },
  {
   "cell_type": "code",
   "execution_count": 732,
   "id": "05c62771",
   "metadata": {
    "deletable": false,
    "id": "af6b1a7e"
   },
   "outputs": [],
   "source": [
    "for t in data['income_type'].unique():\n",
    "    data.loc[(data['income_type'] == t) & (data['days_employed'].isna()), 'days_employed'] = \\\n",
    "    data.loc[(data['income_type'] == t), 'days_employed'].median()"
   ]
  },
  {
   "attachments": {},
   "cell_type": "markdown",
   "id": "2ef4a36a",
   "metadata": {
    "deletable": false,
    "editable": false,
    "id": "2753f40d"
   },
   "source": [
    "**Убедимся, что все пропуски заполнены. Проверим ещё раз, выведем количество пропущенных значений для каждого столбца с помощью двух методов.**"
   ]
  },
  {
   "cell_type": "code",
   "execution_count": 733,
   "id": "dc972580",
   "metadata": {
    "deletable": false,
    "id": "55f78bc2",
    "outputId": "8da1e4e1-358e-4e87-98c9-f261bce0a7b2"
   },
   "outputs": [
    {
     "data": {
      "text/plain": [
       "children            0\n",
       "days_employed       0\n",
       "dob_years           0\n",
       "education           0\n",
       "education_id        0\n",
       "family_status       0\n",
       "family_status_id    0\n",
       "gender              0\n",
       "income_type         0\n",
       "debt                0\n",
       "total_income        0\n",
       "purpose             0\n",
       "dtype: int64"
      ]
     },
     "execution_count": 733,
     "metadata": {},
     "output_type": "execute_result"
    }
   ],
   "source": [
    "data.isna().sum()"
   ]
  },
  {
   "cell_type": "markdown",
   "id": "c464a6ed",
   "metadata": {
    "deletable": false,
    "editable": false,
    "id": "ddc81e43"
   },
   "source": [
    "### Изменение типов данных"
   ]
  },
  {
   "attachments": {},
   "cell_type": "markdown",
   "id": "7fa4c869",
   "metadata": {
    "deletable": false,
    "editable": false,
    "id": "42d19d24"
   },
   "source": [
    "**Заменим вещественный тип данных в столбце `total_income` на целочисленный с помощью метода `astype()`.**"
   ]
  },
  {
   "cell_type": "code",
   "execution_count": 734,
   "id": "38f1a4c5",
   "metadata": {
    "deletable": false,
    "id": "920b65ad"
   },
   "outputs": [],
   "source": [
    "data['total_income'] = data['total_income'].astype(int)"
   ]
  },
  {
   "cell_type": "markdown",
   "id": "159bb4fc",
   "metadata": {
    "deletable": false,
    "editable": false,
    "id": "80c420ba"
   },
   "source": [
    "### Обработка дубликатов"
   ]
  },
  {
   "attachments": {},
   "cell_type": "markdown",
   "id": "6646c42e",
   "metadata": {
    "deletable": false,
    "editable": false
   },
   "source": [
    "**Обработаем неявные дубликаты в столбце `education`. В этом столбце есть одни и те же значения, но записанные по-разному: с использованием заглавных и строчных букв. Приведем их к нижнему регистру. Проверим остальные столбцы.**"
   ]
  },
  {
   "cell_type": "code",
   "execution_count": 735,
   "id": "8547d24f",
   "metadata": {
    "deletable": false
   },
   "outputs": [],
   "source": [
    "data['education'] = data['education'].str.lower()"
   ]
  },
  {
   "attachments": {},
   "cell_type": "markdown",
   "id": "cf51add1",
   "metadata": {
    "deletable": false,
    "editable": false,
    "id": "dc587695"
   },
   "source": [
    "**Выведем на экран количество строк-дубликатов в данных. Если такие строки присутствуют, удалим их.**"
   ]
  },
  {
   "cell_type": "code",
   "execution_count": 736,
   "id": "7e397438",
   "metadata": {
    "deletable": false,
    "id": "3ee445e4",
    "outputId": "9684deba-1934-42d1-99e1-cda61740f822"
   },
   "outputs": [
    {
     "data": {
      "text/plain": [
       "71"
      ]
     },
     "execution_count": 736,
     "metadata": {},
     "output_type": "execute_result"
    }
   ],
   "source": [
    "data.duplicated().sum()"
   ]
  },
  {
   "cell_type": "code",
   "execution_count": 737,
   "id": "bb3e74bb",
   "metadata": {
    "deletable": false,
    "id": "8575fe05"
   },
   "outputs": [],
   "source": [
    "data = data.drop_duplicates()"
   ]
  },
  {
   "cell_type": "markdown",
   "id": "6f9f0b0f",
   "metadata": {
    "deletable": false,
    "editable": false,
    "id": "9904cf55"
   },
   "source": [
    "### Категоризация данных"
   ]
  },
  {
   "attachments": {},
   "cell_type": "markdown",
   "id": "29cac9fd",
   "metadata": {
    "deletable": false,
    "editable": false,
    "id": "72fcc8a2"
   },
   "source": [
    "**На основании диапазонов, указанных ниже, создадим в датафрейме `data` столбец `total_income_category` с категориями:**\n",
    "\n",
    "- 0–30000 — `'E'`;\n",
    "- 30001–50000 — `'D'`;\n",
    "- 50001–200000 — `'C'`;\n",
    "- 200001–1000000 — `'B'`;\n",
    "- 1000001 и выше — `'A'`.\n",
    "\n",
    "\n",
    "**Например, кредитополучателю с доходом 25000 нужно назначить категорию `'E'`, а клиенту, получающему 235000, — `'B'`. Используем собственную функцию с именем `categorize_income()` и метод `apply()`.**"
   ]
  },
  {
   "cell_type": "code",
   "execution_count": 738,
   "id": "77dd72a5",
   "metadata": {
    "deletable": false,
    "id": "e1771346"
   },
   "outputs": [],
   "source": [
    "def categorize_income(income):\n",
    "    try:\n",
    "        if 0 <= income <= 30000:\n",
    "            return 'E'\n",
    "        elif 30001 <= income <= 50000:\n",
    "            return 'D'\n",
    "        elif 50001 <= income <= 200000:\n",
    "            return 'C'\n",
    "        elif 200001 <= income <= 1000000:\n",
    "            return 'B'\n",
    "        elif income >= 1000001:\n",
    "            return 'A'\n",
    "    except:\n",
    "        pass"
   ]
  },
  {
   "cell_type": "code",
   "execution_count": 739,
   "id": "f1d7ba4b",
   "metadata": {
    "deletable": false,
    "id": "d5f3586d"
   },
   "outputs": [],
   "source": [
    "data['total_income_category'] = data['total_income'].apply(categorize_income)"
   ]
  },
  {
   "attachments": {},
   "cell_type": "markdown",
   "id": "0969a901",
   "metadata": {
    "deletable": false,
    "editable": false,
    "id": "dde49b5c"
   },
   "source": [
    "**Выведем на экран перечень уникальных целей взятия кредита из столбца `purpose`.**"
   ]
  },
  {
   "cell_type": "code",
   "execution_count": 740,
   "id": "470d627b",
   "metadata": {
    "deletable": false,
    "id": "f67ce9b3",
    "outputId": "673c12d9-7d7e-4ae0-9812-c622c89dd244"
   },
   "outputs": [
    {
     "data": {
      "text/plain": [
       "array(['покупка жилья', 'приобретение автомобиля',\n",
       "       'дополнительное образование', 'сыграть свадьбу',\n",
       "       'операции с жильем', 'образование', 'на проведение свадьбы',\n",
       "       'покупка жилья для семьи', 'покупка недвижимости',\n",
       "       'покупка коммерческой недвижимости', 'покупка жилой недвижимости',\n",
       "       'строительство собственной недвижимости', 'недвижимость',\n",
       "       'строительство недвижимости', 'на покупку подержанного автомобиля',\n",
       "       'на покупку своего автомобиля',\n",
       "       'операции с коммерческой недвижимостью',\n",
       "       'строительство жилой недвижимости', 'жилье',\n",
       "       'операции со своей недвижимостью', 'автомобили',\n",
       "       'заняться образованием', 'сделка с подержанным автомобилем',\n",
       "       'получение образования', 'автомобиль', 'свадьба',\n",
       "       'получение дополнительного образования', 'покупка своего жилья',\n",
       "       'операции с недвижимостью', 'получение высшего образования',\n",
       "       'свой автомобиль', 'сделка с автомобилем',\n",
       "       'профильное образование', 'высшее образование',\n",
       "       'покупка жилья для сдачи', 'на покупку автомобиля', 'ремонт жилью',\n",
       "       'заняться высшим образованием'], dtype=object)"
      ]
     },
     "execution_count": 740,
     "metadata": {},
     "output_type": "execute_result"
    }
   ],
   "source": [
    "data['purpose'].unique()"
   ]
  },
  {
   "attachments": {},
   "cell_type": "markdown",
   "id": "f98b37eb",
   "metadata": {
    "deletable": false,
    "editable": false,
    "id": "85d0aef0"
   },
   "source": [
    "**Создадим функцию, которая на основании данных из столбца `purpose` сформирует новый столбец `purpose_category`, в который войдут следующие категории:**\n",
    "\n",
    "- `'операции с автомобилем'`,\n",
    "- `'операции с недвижимостью'`,\n",
    "- `'проведение свадьбы'`,\n",
    "- `'получение образования'`.\n",
    "\n",
    "**Например, если в столбце `purpose` находится подстрока `'на покупку автомобиля'`, то в столбце `purpose_category` должна появиться строка `'операции с автомобилем'`.**\n",
    "\n",
    "**Используем собственную функцию с именем `categorize_purpose()` и метод `apply()`. Изучим данные в столбце `purpose` и определим, какие подстроки помогут нам правильно определить категорию.**"
   ]
  },
  {
   "cell_type": "code",
   "execution_count": 741,
   "id": "da02ccd7",
   "metadata": {
    "deletable": false,
    "id": "e149fab4"
   },
   "outputs": [],
   "source": [
    "def categorize_purpose(row):\n",
    "    try:\n",
    "        if 'автом' in row:\n",
    "            return 'операции с автомобилем'\n",
    "        elif 'жил' in row or 'недвиж' in row:\n",
    "            return 'операции с недвижимостью'\n",
    "        elif 'свад' in row:\n",
    "            return 'проведение свадьбы'\n",
    "        elif 'образов' in row:\n",
    "            return 'получение образования'\n",
    "    except:\n",
    "        return 'нет категории'"
   ]
  },
  {
   "cell_type": "code",
   "execution_count": 742,
   "id": "62bc2774",
   "metadata": {
    "deletable": false,
    "id": "bf36e69b"
   },
   "outputs": [],
   "source": [
    "data['purpose_category'] = data['purpose'].apply(categorize_purpose)"
   ]
  },
  {
   "attachments": {},
   "cell_type": "markdown",
   "id": "6f22861a",
   "metadata": {
    "deletable": false,
    "editable": false,
    "id": "09b242bf"
   },
   "source": [
    "### Шаг 3. Исследуем данные и ответим на вопросы"
   ]
  },
  {
   "cell_type": "markdown",
   "id": "f6a35762",
   "metadata": {
    "deletable": false,
    "editable": false,
    "id": "c5d66278"
   },
   "source": [
    "#### 3.1 Есть ли зависимость между количеством детей и возвратом кредита в срок?"
   ]
  },
  {
   "cell_type": "code",
   "execution_count": 743,
   "id": "d950877c",
   "metadata": {
    "deletable": false,
    "id": "2cacfc4a",
    "scrolled": true
   },
   "outputs": [],
   "source": [
    "#children_debt=data.groupby('children').agg({'debt':['count','sum']})\n",
    "#children_debt"
   ]
  },
  {
   "cell_type": "markdown",
   "id": "a085de3b",
   "metadata": {},
   "source": [
    "`Оставлю закомментированными свои первичные действия и добавлю новые`"
   ]
  },
  {
   "cell_type": "code",
   "execution_count": 744,
   "id": "a063662e",
   "metadata": {},
   "outputs": [],
   "source": [
    "#children_proportion=children_debt['debt']['sum']/children_debt['debt']['count']\n",
    "#children_proportion"
   ]
  },
  {
   "cell_type": "code",
   "execution_count": 745,
   "id": "ed96f2fb",
   "metadata": {},
   "outputs": [
    {
     "data": {
      "text/plain": [
       "Нет детей      14091\n",
       "1 ребенок       4808\n",
       "2 ребенка       2052\n",
       "Много детей      380\n",
       "Name: children_category, dtype: int64"
      ]
     },
     "execution_count": 745,
     "metadata": {},
     "output_type": "execute_result"
    }
   ],
   "source": [
    "# Так как в нашей стране с 3 и более детьми считаются многодетными семьями, то лучше объединить эти группы\n",
    "def make_children_category(children):\n",
    "    if children == 1:\n",
    "        return '1 ребенок'\n",
    "    if children == 2:\n",
    "        return '2 ребенка'\n",
    "    if children >= 3:\n",
    "        return 'Много детей'\n",
    "    return 'Нет детей'\n",
    "\n",
    "# добавим столбец children_category в общую таблицу\n",
    "data['children_category'] = data['children'].apply(make_children_category)\n",
    "data # проверим таблицу\n",
    "# подсчитаем значения каждой категории\n",
    "data['children_category'].value_counts()"
   ]
  },
  {
   "cell_type": "markdown",
   "id": "694508b6",
   "metadata": {},
   "source": [
    "`Как же много клиентов из категории без детей! Интересно, вовремя ли они погашают свои задолжности?`"
   ]
  },
  {
   "cell_type": "code",
   "execution_count": 746,
   "id": "04a290bc",
   "metadata": {},
   "outputs": [
    {
     "data": {
      "text/html": [
       "<div>\n",
       "<style scoped>\n",
       "    .dataframe tbody tr th:only-of-type {\n",
       "        vertical-align: middle;\n",
       "    }\n",
       "\n",
       "    .dataframe tbody tr th {\n",
       "        vertical-align: top;\n",
       "    }\n",
       "\n",
       "    .dataframe thead tr th {\n",
       "        text-align: left;\n",
       "    }\n",
       "\n",
       "    .dataframe thead tr:last-of-type th {\n",
       "        text-align: right;\n",
       "    }\n",
       "</style>\n",
       "<table border=\"1\" class=\"dataframe\">\n",
       "  <thead>\n",
       "    <tr>\n",
       "      <th></th>\n",
       "      <th colspan=\"2\" halign=\"left\">debt</th>\n",
       "    </tr>\n",
       "    <tr>\n",
       "      <th></th>\n",
       "      <th>count</th>\n",
       "      <th>sum</th>\n",
       "    </tr>\n",
       "    <tr>\n",
       "      <th>children_category</th>\n",
       "      <th></th>\n",
       "      <th></th>\n",
       "    </tr>\n",
       "  </thead>\n",
       "  <tbody>\n",
       "    <tr>\n",
       "      <th>1 ребенок</th>\n",
       "      <td>4808</td>\n",
       "      <td>444</td>\n",
       "    </tr>\n",
       "    <tr>\n",
       "      <th>2 ребенка</th>\n",
       "      <td>2052</td>\n",
       "      <td>194</td>\n",
       "    </tr>\n",
       "    <tr>\n",
       "      <th>Много детей</th>\n",
       "      <td>380</td>\n",
       "      <td>31</td>\n",
       "    </tr>\n",
       "    <tr>\n",
       "      <th>Нет детей</th>\n",
       "      <td>14091</td>\n",
       "      <td>1063</td>\n",
       "    </tr>\n",
       "  </tbody>\n",
       "</table>\n",
       "</div>"
      ],
      "text/plain": [
       "                    debt      \n",
       "                   count   sum\n",
       "children_category             \n",
       "1 ребенок           4808   444\n",
       "2 ребенка           2052   194\n",
       "Много детей          380    31\n",
       "Нет детей          14091  1063"
      ]
     },
     "execution_count": 746,
     "metadata": {},
     "output_type": "execute_result"
    }
   ],
   "source": [
    "# определим количество задолжности клиентов с детьми и без \n",
    "children_debt=data.groupby('children_category').agg({'debt':['count','sum']})\n",
    "children_debt"
   ]
  },
  {
   "cell_type": "code",
   "execution_count": 747,
   "id": "dc429aa4",
   "metadata": {
    "scrolled": true
   },
   "outputs": [
    {
     "data": {
      "text/plain": [
       "children_category\n",
       "1 ребенок      9.234609\n",
       "2 ребенка      9.454191\n",
       "Много детей    8.157895\n",
       "Нет детей      7.543822\n",
       "dtype: float64"
      ]
     },
     "execution_count": 747,
     "metadata": {},
     "output_type": "execute_result"
    }
   ],
   "source": [
    "# посчитаем долю просрочек по отношению к количеству детей, умножим 100 для лучшего визуального изучения\n",
    "children_proportion=(children_debt['debt']['sum']/children_debt['debt']['count'])*100\n",
    "children_proportion"
   ]
  },
  {
   "cell_type": "markdown",
   "id": "cc62d2b4",
   "metadata": {},
   "source": [
    "`Видим, что количество просрочек у заемщиков без детей составляет 1063, это больше,чем в 1,5 раза больше,чем у всех клиентов с детьми. Но если смотреть их долю в 7%, можно сказать, что эта группа не самая безответственная. Судя по цифрам, семьи с детьми, причем с любым количеством детей, имеют задолжности и, возможно, банк предусматривает данный риск и повышает проценты.`"
   ]
  },
  {
   "cell_type": "markdown",
   "id": "b4dc0f9e",
   "metadata": {
    "deletable": false,
    "id": "3a6b99ec"
   },
   "source": [
    "**Вывод:** Видим, что количество просрочек у заемщиков без детей составляет 1063, это больше,чем в 1,5 раза больше,чем у всех клиентов с детьми. Но если смотреть их долю в 7%, можно сказать, что эта группа не самая безответственная. Судя по цифрам, семьи с детьми, причем с любым количеством детей, имеют задолжности и, возможно, банк предусматривает данный риск и повышает проценты."
   ]
  },
  {
   "cell_type": "markdown",
   "id": "ea85c583",
   "metadata": {
    "deletable": false,
    "editable": false,
    "id": "97be82ca"
   },
   "source": [
    "#### 3.2 Есть ли зависимость между семейным положением и возвратом кредита в срок?"
   ]
  },
  {
   "cell_type": "code",
   "execution_count": 748,
   "id": "3c565c50",
   "metadata": {
    "scrolled": true
   },
   "outputs": [
    {
     "data": {
      "text/html": [
       "<div>\n",
       "<style scoped>\n",
       "    .dataframe tbody tr th:only-of-type {\n",
       "        vertical-align: middle;\n",
       "    }\n",
       "\n",
       "    .dataframe tbody tr th {\n",
       "        vertical-align: top;\n",
       "    }\n",
       "\n",
       "    .dataframe thead th {\n",
       "        text-align: right;\n",
       "    }\n",
       "</style>\n",
       "<table border=\"1\" class=\"dataframe\">\n",
       "  <thead>\n",
       "    <tr style=\"text-align: right;\">\n",
       "      <th></th>\n",
       "      <th>children</th>\n",
       "      <th>days_employed</th>\n",
       "      <th>dob_years</th>\n",
       "      <th>education</th>\n",
       "      <th>education_id</th>\n",
       "      <th>family_status</th>\n",
       "      <th>family_status_id</th>\n",
       "      <th>gender</th>\n",
       "      <th>income_type</th>\n",
       "      <th>debt</th>\n",
       "      <th>total_income</th>\n",
       "      <th>purpose</th>\n",
       "      <th>total_income_category</th>\n",
       "      <th>purpose_category</th>\n",
       "      <th>children_category</th>\n",
       "    </tr>\n",
       "  </thead>\n",
       "  <tbody>\n",
       "    <tr>\n",
       "      <th>0</th>\n",
       "      <td>1</td>\n",
       "      <td>8437.673028</td>\n",
       "      <td>42</td>\n",
       "      <td>высшее</td>\n",
       "      <td>0</td>\n",
       "      <td>женат / замужем</td>\n",
       "      <td>0</td>\n",
       "      <td>F</td>\n",
       "      <td>сотрудник</td>\n",
       "      <td>0</td>\n",
       "      <td>253875</td>\n",
       "      <td>покупка жилья</td>\n",
       "      <td>B</td>\n",
       "      <td>операции с недвижимостью</td>\n",
       "      <td>1 ребенок</td>\n",
       "    </tr>\n",
       "    <tr>\n",
       "      <th>1</th>\n",
       "      <td>1</td>\n",
       "      <td>4024.803754</td>\n",
       "      <td>36</td>\n",
       "      <td>среднее</td>\n",
       "      <td>1</td>\n",
       "      <td>женат / замужем</td>\n",
       "      <td>0</td>\n",
       "      <td>F</td>\n",
       "      <td>сотрудник</td>\n",
       "      <td>0</td>\n",
       "      <td>112080</td>\n",
       "      <td>приобретение автомобиля</td>\n",
       "      <td>C</td>\n",
       "      <td>операции с автомобилем</td>\n",
       "      <td>1 ребенок</td>\n",
       "    </tr>\n",
       "    <tr>\n",
       "      <th>2</th>\n",
       "      <td>0</td>\n",
       "      <td>5623.422610</td>\n",
       "      <td>33</td>\n",
       "      <td>среднее</td>\n",
       "      <td>1</td>\n",
       "      <td>женат / замужем</td>\n",
       "      <td>0</td>\n",
       "      <td>M</td>\n",
       "      <td>сотрудник</td>\n",
       "      <td>0</td>\n",
       "      <td>145885</td>\n",
       "      <td>покупка жилья</td>\n",
       "      <td>C</td>\n",
       "      <td>операции с недвижимостью</td>\n",
       "      <td>Нет детей</td>\n",
       "    </tr>\n",
       "    <tr>\n",
       "      <th>3</th>\n",
       "      <td>3</td>\n",
       "      <td>4124.747207</td>\n",
       "      <td>32</td>\n",
       "      <td>среднее</td>\n",
       "      <td>1</td>\n",
       "      <td>женат / замужем</td>\n",
       "      <td>0</td>\n",
       "      <td>M</td>\n",
       "      <td>сотрудник</td>\n",
       "      <td>0</td>\n",
       "      <td>267628</td>\n",
       "      <td>дополнительное образование</td>\n",
       "      <td>B</td>\n",
       "      <td>получение образования</td>\n",
       "      <td>Много детей</td>\n",
       "    </tr>\n",
       "    <tr>\n",
       "      <th>4</th>\n",
       "      <td>0</td>\n",
       "      <td>340266.072047</td>\n",
       "      <td>53</td>\n",
       "      <td>среднее</td>\n",
       "      <td>1</td>\n",
       "      <td>гражданский брак</td>\n",
       "      <td>1</td>\n",
       "      <td>F</td>\n",
       "      <td>пенсионер</td>\n",
       "      <td>0</td>\n",
       "      <td>158616</td>\n",
       "      <td>сыграть свадьбу</td>\n",
       "      <td>C</td>\n",
       "      <td>проведение свадьбы</td>\n",
       "      <td>Нет детей</td>\n",
       "    </tr>\n",
       "    <tr>\n",
       "      <th>...</th>\n",
       "      <td>...</td>\n",
       "      <td>...</td>\n",
       "      <td>...</td>\n",
       "      <td>...</td>\n",
       "      <td>...</td>\n",
       "      <td>...</td>\n",
       "      <td>...</td>\n",
       "      <td>...</td>\n",
       "      <td>...</td>\n",
       "      <td>...</td>\n",
       "      <td>...</td>\n",
       "      <td>...</td>\n",
       "      <td>...</td>\n",
       "      <td>...</td>\n",
       "      <td>...</td>\n",
       "    </tr>\n",
       "    <tr>\n",
       "      <th>21520</th>\n",
       "      <td>1</td>\n",
       "      <td>4529.316663</td>\n",
       "      <td>43</td>\n",
       "      <td>среднее</td>\n",
       "      <td>1</td>\n",
       "      <td>гражданский брак</td>\n",
       "      <td>1</td>\n",
       "      <td>F</td>\n",
       "      <td>компаньон</td>\n",
       "      <td>0</td>\n",
       "      <td>224791</td>\n",
       "      <td>операции с жильем</td>\n",
       "      <td>B</td>\n",
       "      <td>операции с недвижимостью</td>\n",
       "      <td>1 ребенок</td>\n",
       "    </tr>\n",
       "    <tr>\n",
       "      <th>21521</th>\n",
       "      <td>0</td>\n",
       "      <td>343937.404131</td>\n",
       "      <td>67</td>\n",
       "      <td>среднее</td>\n",
       "      <td>1</td>\n",
       "      <td>женат / замужем</td>\n",
       "      <td>0</td>\n",
       "      <td>F</td>\n",
       "      <td>пенсионер</td>\n",
       "      <td>0</td>\n",
       "      <td>155999</td>\n",
       "      <td>сделка с автомобилем</td>\n",
       "      <td>C</td>\n",
       "      <td>операции с автомобилем</td>\n",
       "      <td>Нет детей</td>\n",
       "    </tr>\n",
       "    <tr>\n",
       "      <th>21522</th>\n",
       "      <td>1</td>\n",
       "      <td>2113.346888</td>\n",
       "      <td>38</td>\n",
       "      <td>среднее</td>\n",
       "      <td>1</td>\n",
       "      <td>гражданский брак</td>\n",
       "      <td>1</td>\n",
       "      <td>M</td>\n",
       "      <td>сотрудник</td>\n",
       "      <td>1</td>\n",
       "      <td>89672</td>\n",
       "      <td>недвижимость</td>\n",
       "      <td>C</td>\n",
       "      <td>операции с недвижимостью</td>\n",
       "      <td>1 ребенок</td>\n",
       "    </tr>\n",
       "    <tr>\n",
       "      <th>21523</th>\n",
       "      <td>3</td>\n",
       "      <td>3112.481705</td>\n",
       "      <td>38</td>\n",
       "      <td>среднее</td>\n",
       "      <td>1</td>\n",
       "      <td>женат / замужем</td>\n",
       "      <td>0</td>\n",
       "      <td>M</td>\n",
       "      <td>сотрудник</td>\n",
       "      <td>1</td>\n",
       "      <td>244093</td>\n",
       "      <td>на покупку своего автомобиля</td>\n",
       "      <td>B</td>\n",
       "      <td>операции с автомобилем</td>\n",
       "      <td>Много детей</td>\n",
       "    </tr>\n",
       "    <tr>\n",
       "      <th>21524</th>\n",
       "      <td>2</td>\n",
       "      <td>1984.507589</td>\n",
       "      <td>40</td>\n",
       "      <td>среднее</td>\n",
       "      <td>1</td>\n",
       "      <td>женат / замужем</td>\n",
       "      <td>0</td>\n",
       "      <td>F</td>\n",
       "      <td>сотрудник</td>\n",
       "      <td>0</td>\n",
       "      <td>82047</td>\n",
       "      <td>на покупку автомобиля</td>\n",
       "      <td>C</td>\n",
       "      <td>операции с автомобилем</td>\n",
       "      <td>2 ребенка</td>\n",
       "    </tr>\n",
       "  </tbody>\n",
       "</table>\n",
       "<p>21331 rows × 15 columns</p>\n",
       "</div>"
      ],
      "text/plain": [
       "       children  days_employed  dob_years education  education_id  \\\n",
       "0             1    8437.673028         42    высшее             0   \n",
       "1             1    4024.803754         36   среднее             1   \n",
       "2             0    5623.422610         33   среднее             1   \n",
       "3             3    4124.747207         32   среднее             1   \n",
       "4             0  340266.072047         53   среднее             1   \n",
       "...         ...            ...        ...       ...           ...   \n",
       "21520         1    4529.316663         43   среднее             1   \n",
       "21521         0  343937.404131         67   среднее             1   \n",
       "21522         1    2113.346888         38   среднее             1   \n",
       "21523         3    3112.481705         38   среднее             1   \n",
       "21524         2    1984.507589         40   среднее             1   \n",
       "\n",
       "          family_status  family_status_id gender income_type  debt  \\\n",
       "0       женат / замужем                 0      F   сотрудник     0   \n",
       "1       женат / замужем                 0      F   сотрудник     0   \n",
       "2       женат / замужем                 0      M   сотрудник     0   \n",
       "3       женат / замужем                 0      M   сотрудник     0   \n",
       "4      гражданский брак                 1      F   пенсионер     0   \n",
       "...                 ...               ...    ...         ...   ...   \n",
       "21520  гражданский брак                 1      F   компаньон     0   \n",
       "21521   женат / замужем                 0      F   пенсионер     0   \n",
       "21522  гражданский брак                 1      M   сотрудник     1   \n",
       "21523   женат / замужем                 0      M   сотрудник     1   \n",
       "21524   женат / замужем                 0      F   сотрудник     0   \n",
       "\n",
       "       total_income                       purpose total_income_category  \\\n",
       "0            253875                 покупка жилья                     B   \n",
       "1            112080       приобретение автомобиля                     C   \n",
       "2            145885                 покупка жилья                     C   \n",
       "3            267628    дополнительное образование                     B   \n",
       "4            158616               сыграть свадьбу                     C   \n",
       "...             ...                           ...                   ...   \n",
       "21520        224791             операции с жильем                     B   \n",
       "21521        155999          сделка с автомобилем                     C   \n",
       "21522         89672                  недвижимость                     C   \n",
       "21523        244093  на покупку своего автомобиля                     B   \n",
       "21524         82047         на покупку автомобиля                     C   \n",
       "\n",
       "               purpose_category children_category  \n",
       "0      операции с недвижимостью         1 ребенок  \n",
       "1        операции с автомобилем         1 ребенок  \n",
       "2      операции с недвижимостью         Нет детей  \n",
       "3         получение образования       Много детей  \n",
       "4            проведение свадьбы         Нет детей  \n",
       "...                         ...               ...  \n",
       "21520  операции с недвижимостью         1 ребенок  \n",
       "21521    операции с автомобилем         Нет детей  \n",
       "21522  операции с недвижимостью         1 ребенок  \n",
       "21523    операции с автомобилем       Много детей  \n",
       "21524    операции с автомобилем         2 ребенка  \n",
       "\n",
       "[21331 rows x 15 columns]"
      ]
     },
     "execution_count": 748,
     "metadata": {},
     "output_type": "execute_result"
    }
   ],
   "source": [
    "data # вспомним данные таблицы"
   ]
  },
  {
   "cell_type": "code",
   "execution_count": 749,
   "id": "4c125de3",
   "metadata": {
    "deletable": false,
    "id": "dc3f7ee8"
   },
   "outputs": [
    {
     "data": {
      "text/html": [
       "<div>\n",
       "<style scoped>\n",
       "    .dataframe tbody tr th:only-of-type {\n",
       "        vertical-align: middle;\n",
       "    }\n",
       "\n",
       "    .dataframe tbody tr th {\n",
       "        vertical-align: top;\n",
       "    }\n",
       "\n",
       "    .dataframe thead tr th {\n",
       "        text-align: left;\n",
       "    }\n",
       "\n",
       "    .dataframe thead tr:last-of-type th {\n",
       "        text-align: right;\n",
       "    }\n",
       "</style>\n",
       "<table border=\"1\" class=\"dataframe\">\n",
       "  <thead>\n",
       "    <tr>\n",
       "      <th></th>\n",
       "      <th colspan=\"2\" halign=\"left\">debt</th>\n",
       "    </tr>\n",
       "    <tr>\n",
       "      <th></th>\n",
       "      <th>count</th>\n",
       "      <th>sum</th>\n",
       "    </tr>\n",
       "    <tr>\n",
       "      <th>family_status</th>\n",
       "      <th></th>\n",
       "      <th></th>\n",
       "    </tr>\n",
       "  </thead>\n",
       "  <tbody>\n",
       "    <tr>\n",
       "      <th>Не женат / не замужем</th>\n",
       "      <td>2796</td>\n",
       "      <td>273</td>\n",
       "    </tr>\n",
       "    <tr>\n",
       "      <th>в разводе</th>\n",
       "      <td>1189</td>\n",
       "      <td>84</td>\n",
       "    </tr>\n",
       "    <tr>\n",
       "      <th>вдовец / вдова</th>\n",
       "      <td>951</td>\n",
       "      <td>63</td>\n",
       "    </tr>\n",
       "    <tr>\n",
       "      <th>гражданский брак</th>\n",
       "      <td>4134</td>\n",
       "      <td>385</td>\n",
       "    </tr>\n",
       "    <tr>\n",
       "      <th>женат / замужем</th>\n",
       "      <td>12261</td>\n",
       "      <td>927</td>\n",
       "    </tr>\n",
       "  </tbody>\n",
       "</table>\n",
       "</div>"
      ],
      "text/plain": [
       "                        debt     \n",
       "                       count  sum\n",
       "family_status                    \n",
       "Не женат / не замужем   2796  273\n",
       "в разводе               1189   84\n",
       "вдовец / вдова           951   63\n",
       "гражданский брак        4134  385\n",
       "женат / замужем        12261  927"
      ]
     },
     "execution_count": 749,
     "metadata": {},
     "output_type": "execute_result"
    }
   ],
   "source": [
    "\n",
    "# группируем столбцы о семейном положении и просрочке\n",
    "family_debt=data.groupby('family_status').agg({'debt':['count','sum']})\n",
    "family_debt\n"
   ]
  },
  {
   "cell_type": "code",
   "execution_count": 750,
   "id": "161d0c3f",
   "metadata": {
    "scrolled": true
   },
   "outputs": [
    {
     "data": {
      "text/plain": [
       "family_status\n",
       "Не женат / не замужем    0.097639\n",
       "в разводе                0.070648\n",
       "вдовец / вдова           0.066246\n",
       "гражданский брак         0.093130\n",
       "женат / замужем          0.075606\n",
       "dtype: float64"
      ]
     },
     "execution_count": 750,
     "metadata": {},
     "output_type": "execute_result"
    }
   ],
   "source": [
    "# находим долю\n",
    "family_proportion=family_debt['debt']['sum']/family_debt['debt']['count']\n",
    "family_proportion"
   ]
  },
  {
   "cell_type": "code",
   "execution_count": 751,
   "id": "60cad02e",
   "metadata": {
    "scrolled": false
   },
   "outputs": [
    {
     "data": {
      "text/html": [
       "<div>\n",
       "<style scoped>\n",
       "    .dataframe tbody tr th:only-of-type {\n",
       "        vertical-align: middle;\n",
       "    }\n",
       "\n",
       "    .dataframe tbody tr th {\n",
       "        vertical-align: top;\n",
       "    }\n",
       "\n",
       "    .dataframe thead th {\n",
       "        text-align: right;\n",
       "    }\n",
       "</style>\n",
       "<table border=\"1\" class=\"dataframe\">\n",
       "  <thead>\n",
       "    <tr style=\"text-align: right;\">\n",
       "      <th>family_status_id</th>\n",
       "      <th>0</th>\n",
       "      <th>1</th>\n",
       "      <th>2</th>\n",
       "      <th>3</th>\n",
       "      <th>4</th>\n",
       "    </tr>\n",
       "    <tr>\n",
       "      <th>family_status</th>\n",
       "      <th></th>\n",
       "      <th></th>\n",
       "      <th></th>\n",
       "      <th></th>\n",
       "      <th></th>\n",
       "    </tr>\n",
       "  </thead>\n",
       "  <tbody>\n",
       "    <tr>\n",
       "      <th>Не женат / не замужем</th>\n",
       "      <td>NaN</td>\n",
       "      <td>NaN</td>\n",
       "      <td>NaN</td>\n",
       "      <td>NaN</td>\n",
       "      <td>273.0</td>\n",
       "    </tr>\n",
       "    <tr>\n",
       "      <th>в разводе</th>\n",
       "      <td>NaN</td>\n",
       "      <td>NaN</td>\n",
       "      <td>NaN</td>\n",
       "      <td>84.0</td>\n",
       "      <td>NaN</td>\n",
       "    </tr>\n",
       "    <tr>\n",
       "      <th>вдовец / вдова</th>\n",
       "      <td>NaN</td>\n",
       "      <td>NaN</td>\n",
       "      <td>63.0</td>\n",
       "      <td>NaN</td>\n",
       "      <td>NaN</td>\n",
       "    </tr>\n",
       "    <tr>\n",
       "      <th>гражданский брак</th>\n",
       "      <td>NaN</td>\n",
       "      <td>385.0</td>\n",
       "      <td>NaN</td>\n",
       "      <td>NaN</td>\n",
       "      <td>NaN</td>\n",
       "    </tr>\n",
       "    <tr>\n",
       "      <th>женат / замужем</th>\n",
       "      <td>927.0</td>\n",
       "      <td>NaN</td>\n",
       "      <td>NaN</td>\n",
       "      <td>NaN</td>\n",
       "      <td>NaN</td>\n",
       "    </tr>\n",
       "  </tbody>\n",
       "</table>\n",
       "</div>"
      ],
      "text/plain": [
       "family_status_id           0      1     2     3      4\n",
       "family_status                                         \n",
       "Не женат / не замужем    NaN    NaN   NaN   NaN  273.0\n",
       "в разводе                NaN    NaN   NaN  84.0    NaN\n",
       "вдовец / вдова           NaN    NaN  63.0   NaN    NaN\n",
       "гражданский брак         NaN  385.0   NaN   NaN    NaN\n",
       "женат / замужем        927.0    NaN   NaN   NaN    NaN"
      ]
     },
     "execution_count": 751,
     "metadata": {},
     "output_type": "execute_result"
    }
   ],
   "source": [
    "# таблицу группируем по столбцу family_status и выводим числовые значения столбца debt\n",
    "data_pivot_family_status = data.pivot_table(index=['family_status'],\n",
    "                                        columns='family_status_id', values='debt', aggfunc='sum')\n",
    "data_pivot_family_status.head(10)"
   ]
  },
  {
   "cell_type": "code",
   "execution_count": 752,
   "id": "277e3b09",
   "metadata": {
    "scrolled": true
   },
   "outputs": [
    {
     "data": {
      "text/html": [
       "<div>\n",
       "<style scoped>\n",
       "    .dataframe tbody tr th:only-of-type {\n",
       "        vertical-align: middle;\n",
       "    }\n",
       "\n",
       "    .dataframe tbody tr th {\n",
       "        vertical-align: top;\n",
       "    }\n",
       "\n",
       "    .dataframe thead th {\n",
       "        text-align: right;\n",
       "    }\n",
       "</style>\n",
       "<table border=\"1\" class=\"dataframe\">\n",
       "  <thead>\n",
       "    <tr style=\"text-align: right;\">\n",
       "      <th>family_status_id</th>\n",
       "      <th>0</th>\n",
       "      <th>1</th>\n",
       "      <th>2</th>\n",
       "      <th>3</th>\n",
       "      <th>4</th>\n",
       "    </tr>\n",
       "    <tr>\n",
       "      <th>family_status</th>\n",
       "      <th></th>\n",
       "      <th></th>\n",
       "      <th></th>\n",
       "      <th></th>\n",
       "      <th></th>\n",
       "    </tr>\n",
       "  </thead>\n",
       "  <tbody>\n",
       "    <tr>\n",
       "      <th>Не женат / не замужем</th>\n",
       "      <td>NaN</td>\n",
       "      <td>NaN</td>\n",
       "      <td>NaN</td>\n",
       "      <td>NaN</td>\n",
       "      <td>0.097639</td>\n",
       "    </tr>\n",
       "    <tr>\n",
       "      <th>в разводе</th>\n",
       "      <td>NaN</td>\n",
       "      <td>NaN</td>\n",
       "      <td>NaN</td>\n",
       "      <td>0.070648</td>\n",
       "      <td>NaN</td>\n",
       "    </tr>\n",
       "    <tr>\n",
       "      <th>вдовец / вдова</th>\n",
       "      <td>NaN</td>\n",
       "      <td>NaN</td>\n",
       "      <td>0.066246</td>\n",
       "      <td>NaN</td>\n",
       "      <td>NaN</td>\n",
       "    </tr>\n",
       "    <tr>\n",
       "      <th>гражданский брак</th>\n",
       "      <td>NaN</td>\n",
       "      <td>0.09313</td>\n",
       "      <td>NaN</td>\n",
       "      <td>NaN</td>\n",
       "      <td>NaN</td>\n",
       "    </tr>\n",
       "    <tr>\n",
       "      <th>женат / замужем</th>\n",
       "      <td>0.075606</td>\n",
       "      <td>NaN</td>\n",
       "      <td>NaN</td>\n",
       "      <td>NaN</td>\n",
       "      <td>NaN</td>\n",
       "    </tr>\n",
       "  </tbody>\n",
       "</table>\n",
       "</div>"
      ],
      "text/plain": [
       "family_status_id              0        1         2         3         4\n",
       "family_status                                                         \n",
       "Не женат / не замужем       NaN      NaN       NaN       NaN  0.097639\n",
       "в разводе                   NaN      NaN       NaN  0.070648       NaN\n",
       "вдовец / вдова              NaN      NaN  0.066246       NaN       NaN\n",
       "гражданский брак            NaN  0.09313       NaN       NaN       NaN\n",
       "женат / замужем        0.075606      NaN       NaN       NaN       NaN"
      ]
     },
     "execution_count": 752,
     "metadata": {},
     "output_type": "execute_result"
    }
   ],
   "source": [
    "data_pivot_family_status = data.pivot_table(index=['family_status'],\n",
    "                                        columns='family_status_id', values='debt', aggfunc='mean')\n",
    "data_pivot_family_status"
   ]
  },
  {
   "cell_type": "code",
   "execution_count": 753,
   "id": "62b64381",
   "metadata": {},
   "outputs": [
    {
     "data": {
      "text/html": [
       "<div>\n",
       "<style scoped>\n",
       "    .dataframe tbody tr th:only-of-type {\n",
       "        vertical-align: middle;\n",
       "    }\n",
       "\n",
       "    .dataframe tbody tr th {\n",
       "        vertical-align: top;\n",
       "    }\n",
       "\n",
       "    .dataframe thead tr th {\n",
       "        text-align: left;\n",
       "    }\n",
       "\n",
       "    .dataframe thead tr:last-of-type th {\n",
       "        text-align: right;\n",
       "    }\n",
       "</style>\n",
       "<table border=\"1\" class=\"dataframe\">\n",
       "  <thead>\n",
       "    <tr>\n",
       "      <th></th>\n",
       "      <th colspan=\"3\" halign=\"left\">debt</th>\n",
       "    </tr>\n",
       "    <tr>\n",
       "      <th></th>\n",
       "      <th>count</th>\n",
       "      <th>sum</th>\n",
       "      <th>mean</th>\n",
       "    </tr>\n",
       "    <tr>\n",
       "      <th>family_status</th>\n",
       "      <th></th>\n",
       "      <th></th>\n",
       "      <th></th>\n",
       "    </tr>\n",
       "  </thead>\n",
       "  <tbody>\n",
       "    <tr>\n",
       "      <th>Не женат / не замужем</th>\n",
       "      <td>2796</td>\n",
       "      <td>273</td>\n",
       "      <td>0.097639</td>\n",
       "    </tr>\n",
       "    <tr>\n",
       "      <th>в разводе</th>\n",
       "      <td>1189</td>\n",
       "      <td>84</td>\n",
       "      <td>0.070648</td>\n",
       "    </tr>\n",
       "    <tr>\n",
       "      <th>вдовец / вдова</th>\n",
       "      <td>951</td>\n",
       "      <td>63</td>\n",
       "      <td>0.066246</td>\n",
       "    </tr>\n",
       "    <tr>\n",
       "      <th>гражданский брак</th>\n",
       "      <td>4134</td>\n",
       "      <td>385</td>\n",
       "      <td>0.093130</td>\n",
       "    </tr>\n",
       "    <tr>\n",
       "      <th>женат / замужем</th>\n",
       "      <td>12261</td>\n",
       "      <td>927</td>\n",
       "      <td>0.075606</td>\n",
       "    </tr>\n",
       "  </tbody>\n",
       "</table>\n",
       "</div>"
      ],
      "text/plain": [
       "                        debt               \n",
       "                       count  sum      mean\n",
       "family_status                              \n",
       "Не женат / не замужем   2796  273  0.097639\n",
       "в разводе               1189   84  0.070648\n",
       "вдовец / вдова           951   63  0.066246\n",
       "гражданский брак        4134  385  0.093130\n",
       "женат / замужем        12261  927  0.075606"
      ]
     },
     "execution_count": 753,
     "metadata": {},
     "output_type": "execute_result"
    }
   ],
   "source": [
    "# добавлю агрегированную функцию для проверки и корректности выводов\n",
    "family_grouped = data.groupby('family_status').agg({'debt':['count','sum', 'mean']})\n",
    "family_grouped"
   ]
  },
  {
   "cell_type": "markdown",
   "id": "8f9aeb70",
   "metadata": {
    "deletable": false,
    "id": "1cef7837"
   },
   "source": [
    "**Вывод:** Самая большая доля просрочек у людей, состоящих в браке(надеятся на лучшее и на супругов) и у клиентов без официальных отношений(\"ветер в моей голове\"). А клиенты, побывавшие в браке, реже допускают просрочки по кредитам."
   ]
  },
  {
   "cell_type": "markdown",
   "id": "b12fa348",
   "metadata": {
    "deletable": false,
    "editable": false,
    "id": "1e8b2fca"
   },
   "source": [
    "#### 3.3 Есть ли зависимость между уровнем дохода и возвратом кредита в срок?"
   ]
  },
  {
   "cell_type": "markdown",
   "id": "5a536ae6",
   "metadata": {},
   "source": [
    "напоминание групп\n",
    "- 0–30000 — `'E'`;\n",
    "- 30001–50000 — `'D'`;\n",
    "- 50001–200000 — `'C'`;\n",
    "- 200001–1000000 — `'B'`;\n",
    "- 1000001 и выше — `'A'.\n",
    "`\n"
   ]
  },
  {
   "cell_type": "code",
   "execution_count": 765,
   "id": "4b81f67b",
   "metadata": {},
   "outputs": [],
   "source": [
    "# создадим функцию для группировки данных\n",
    "# сгруппируем данные по col и debt\n",
    "# count покажет общее количество наблюдений в данной категории \n",
    "# sum просуммирует все единички (т.е. невозвраты), и мы получим количество клиентов, у которых есть просрочка\n",
    "# сохраним полученные данные в ДатаФрейм\n",
    "# рассчитаем % невозврата в каждой группе и сохраним результат в столбец debt_proportion\n",
    "# рассчитаем % невозврата в разрезе групп col\n",
    "# для этого количество невозврата по данной группе разделим на общее количество невозвратов\n",
    "def data_group(data,col):\n",
    "    data_debt = data.groupby(col)['debt'].agg(['count','sum'])\n",
    "    data_debt['debt_proportion'] = data_debt['sum']/data_debt['count']*100\n",
    "    data_debt['debt_group']=data_debt['sum']/data['debt'].sum()*100\n",
    "    return data_debt"
   ]
  },
  {
   "cell_type": "code",
   "execution_count": 766,
   "id": "cb90f35d",
   "metadata": {},
   "outputs": [
    {
     "data": {
      "text/html": [
       "<div>\n",
       "<style scoped>\n",
       "    .dataframe tbody tr th:only-of-type {\n",
       "        vertical-align: middle;\n",
       "    }\n",
       "\n",
       "    .dataframe tbody tr th {\n",
       "        vertical-align: top;\n",
       "    }\n",
       "\n",
       "    .dataframe thead th {\n",
       "        text-align: right;\n",
       "    }\n",
       "</style>\n",
       "<table border=\"1\" class=\"dataframe\">\n",
       "  <thead>\n",
       "    <tr style=\"text-align: right;\">\n",
       "      <th></th>\n",
       "      <th>count</th>\n",
       "      <th>sum</th>\n",
       "      <th>debt_proportion</th>\n",
       "      <th>debt_group</th>\n",
       "    </tr>\n",
       "    <tr>\n",
       "      <th>total_income_category</th>\n",
       "      <th></th>\n",
       "      <th></th>\n",
       "      <th></th>\n",
       "      <th></th>\n",
       "    </tr>\n",
       "  </thead>\n",
       "  <tbody>\n",
       "    <tr>\n",
       "      <th>A</th>\n",
       "      <td>25</td>\n",
       "      <td>2</td>\n",
       "      <td>8.000000</td>\n",
       "      <td>0.115473</td>\n",
       "    </tr>\n",
       "    <tr>\n",
       "      <th>B</th>\n",
       "      <td>5014</td>\n",
       "      <td>354</td>\n",
       "      <td>7.060231</td>\n",
       "      <td>20.438799</td>\n",
       "    </tr>\n",
       "    <tr>\n",
       "      <th>C</th>\n",
       "      <td>15921</td>\n",
       "      <td>1353</td>\n",
       "      <td>8.498210</td>\n",
       "      <td>78.117783</td>\n",
       "    </tr>\n",
       "    <tr>\n",
       "      <th>D</th>\n",
       "      <td>349</td>\n",
       "      <td>21</td>\n",
       "      <td>6.017192</td>\n",
       "      <td>1.212471</td>\n",
       "    </tr>\n",
       "    <tr>\n",
       "      <th>E</th>\n",
       "      <td>22</td>\n",
       "      <td>2</td>\n",
       "      <td>9.090909</td>\n",
       "      <td>0.115473</td>\n",
       "    </tr>\n",
       "  </tbody>\n",
       "</table>\n",
       "</div>"
      ],
      "text/plain": [
       "                       count   sum  debt_proportion  debt_group\n",
       "total_income_category                                          \n",
       "A                         25     2         8.000000    0.115473\n",
       "B                       5014   354         7.060231   20.438799\n",
       "C                      15921  1353         8.498210   78.117783\n",
       "D                        349    21         6.017192    1.212471\n",
       "E                         22     2         9.090909    0.115473"
      ]
     },
     "execution_count": 766,
     "metadata": {},
     "output_type": "execute_result"
    }
   ],
   "source": [
    "data_total_income_debt = data_group(data,'total_income_category')\n",
    "data_total_income_debt"
   ]
  },
  {
   "cell_type": "code",
   "execution_count": 768,
   "id": "7138db2d",
   "metadata": {
    "scrolled": true
   },
   "outputs": [
    {
     "data": {
      "text/html": [
       "<div>\n",
       "<style scoped>\n",
       "    .dataframe tbody tr th:only-of-type {\n",
       "        vertical-align: middle;\n",
       "    }\n",
       "\n",
       "    .dataframe tbody tr th {\n",
       "        vertical-align: top;\n",
       "    }\n",
       "\n",
       "    .dataframe thead th {\n",
       "        text-align: right;\n",
       "    }\n",
       "</style>\n",
       "<table border=\"1\" class=\"dataframe\">\n",
       "  <thead>\n",
       "    <tr style=\"text-align: right;\">\n",
       "      <th>gender</th>\n",
       "      <th>F</th>\n",
       "      <th>M</th>\n",
       "      <th>XNA</th>\n",
       "    </tr>\n",
       "    <tr>\n",
       "      <th>total_income_category</th>\n",
       "      <th></th>\n",
       "      <th></th>\n",
       "      <th></th>\n",
       "    </tr>\n",
       "  </thead>\n",
       "  <tbody>\n",
       "    <tr>\n",
       "      <th>A</th>\n",
       "      <td>0.0</td>\n",
       "      <td>2.0</td>\n",
       "      <td>NaN</td>\n",
       "    </tr>\n",
       "    <tr>\n",
       "      <th>B</th>\n",
       "      <td>162.0</td>\n",
       "      <td>192.0</td>\n",
       "      <td>0.0</td>\n",
       "    </tr>\n",
       "    <tr>\n",
       "      <th>C</th>\n",
       "      <td>810.0</td>\n",
       "      <td>543.0</td>\n",
       "      <td>NaN</td>\n",
       "    </tr>\n",
       "    <tr>\n",
       "      <th>D</th>\n",
       "      <td>15.0</td>\n",
       "      <td>6.0</td>\n",
       "      <td>NaN</td>\n",
       "    </tr>\n",
       "    <tr>\n",
       "      <th>E</th>\n",
       "      <td>2.0</td>\n",
       "      <td>0.0</td>\n",
       "      <td>NaN</td>\n",
       "    </tr>\n",
       "  </tbody>\n",
       "</table>\n",
       "</div>"
      ],
      "text/plain": [
       "gender                     F      M  XNA\n",
       "total_income_category                   \n",
       "A                        0.0    2.0  NaN\n",
       "B                      162.0  192.0  0.0\n",
       "C                      810.0  543.0  NaN\n",
       "D                       15.0    6.0  NaN\n",
       "E                        2.0    0.0  NaN"
      ]
     },
     "execution_count": 768,
     "metadata": {},
     "output_type": "execute_result"
    }
   ],
   "source": [
    "# добавлю свою сводную таблицу для выводов\n",
    "# группируем по total_income_category, числовые значения-это debt\n",
    "data_pivot_total_income = data.pivot_table(index=['total_income_category'],\n",
    "                                        columns='gender', values='debt', aggfunc='sum')\n",
    "data_pivot_total_income"
   ]
  },
  {
   "cell_type": "code",
   "execution_count": 769,
   "id": "e0fde2c2",
   "metadata": {
    "deletable": false,
    "id": "cd7e3720",
    "scrolled": true
   },
   "outputs": [
    {
     "name": "stdout",
     "output_type": "stream",
     "text": [
      "165342.74576906848\n"
     ]
    }
   ],
   "source": [
    "print(data['total_income'].mean())"
   ]
  },
  {
   "cell_type": "markdown",
   "id": "d23e21d6",
   "metadata": {
    "deletable": false,
    "id": "e8593def"
   },
   "source": [
    "**Вывод:** Видим из таблиц, что основная группа клиентов банка приходится на категории B(200001–1000000) и C(50001–200000). Интересно то, что с понижением дохода клиенты имеют бОльший процент просрочек. Клиенты категории B имеют 7% невозратов, а заемщики группы C - 8,5%."
   ]
  },
  {
   "cell_type": "markdown",
   "id": "952dee24",
   "metadata": {
    "deletable": false,
    "editable": false,
    "id": "99ecbd1f"
   },
   "source": [
    "#### 3.4 Как разные цели кредита влияют на его возврат в срок?"
   ]
  },
  {
   "cell_type": "code",
   "execution_count": 760,
   "id": "14108046",
   "metadata": {},
   "outputs": [
    {
     "data": {
      "text/plain": [
       "свадьба                                   790\n",
       "на проведение свадьбы                     763\n",
       "сыграть свадьбу                           760\n",
       "операции с недвижимостью                  672\n",
       "покупка коммерческой недвижимости         658\n",
       "покупка жилья для сдачи                   649\n",
       "операции с жильем                         647\n",
       "операции с коммерческой недвижимостью     645\n",
       "жилье                                     641\n",
       "покупка жилья                             640\n",
       "покупка жилья для семьи                   637\n",
       "недвижимость                              631\n",
       "строительство собственной недвижимости    628\n",
       "операции со своей недвижимостью           623\n",
       "строительство жилой недвижимости          620\n",
       "покупка своего жилья                      619\n",
       "строительство недвижимости                619\n",
       "покупка недвижимости                      616\n",
       "ремонт жилью                              604\n",
       "покупка жилой недвижимости                602\n",
       "на покупку своего автомобиля              504\n",
       "заняться высшим образованием              496\n",
       "автомобиль                                491\n",
       "сделка с подержанным автомобилем          481\n",
       "автомобили                                476\n",
       "свой автомобиль                           473\n",
       "на покупку подержанного автомобиля        471\n",
       "на покупку автомобиля                     469\n",
       "приобретение автомобиля                   459\n",
       "сделка с автомобилем                      455\n",
       "дополнительное образование                455\n",
       "высшее образование                        446\n",
       "получение дополнительного образования     444\n",
       "образование                               442\n",
       "получение образования                     440\n",
       "профильное образование                    432\n",
       "получение высшего образования             425\n",
       "заняться образованием                     408\n",
       "Name: purpose, dtype: int64"
      ]
     },
     "execution_count": 760,
     "metadata": {},
     "output_type": "execute_result"
    }
   ],
   "source": [
    "# посмотрим, как распределились цели кредитов\n",
    "data['purpose'].value_counts()"
   ]
  },
  {
   "cell_type": "code",
   "execution_count": 774,
   "id": "0b1c455a",
   "metadata": {
    "deletable": false,
    "id": "2b687290"
   },
   "outputs": [
    {
     "data": {
      "text/html": [
       "<div>\n",
       "<style scoped>\n",
       "    .dataframe tbody tr th:only-of-type {\n",
       "        vertical-align: middle;\n",
       "    }\n",
       "\n",
       "    .dataframe tbody tr th {\n",
       "        vertical-align: top;\n",
       "    }\n",
       "\n",
       "    .dataframe thead th {\n",
       "        text-align: right;\n",
       "    }\n",
       "</style>\n",
       "<table border=\"1\" class=\"dataframe\">\n",
       "  <thead>\n",
       "    <tr style=\"text-align: right;\">\n",
       "      <th></th>\n",
       "      <th>count</th>\n",
       "      <th>sum</th>\n",
       "      <th>debt_proportion</th>\n",
       "      <th>debt_group</th>\n",
       "    </tr>\n",
       "    <tr>\n",
       "      <th>purpose_category</th>\n",
       "      <th></th>\n",
       "      <th></th>\n",
       "      <th></th>\n",
       "      <th></th>\n",
       "    </tr>\n",
       "  </thead>\n",
       "  <tbody>\n",
       "    <tr>\n",
       "      <th>операции с автомобилем</th>\n",
       "      <td>4279</td>\n",
       "      <td>400</td>\n",
       "      <td>9.347978</td>\n",
       "      <td>23.094688</td>\n",
       "    </tr>\n",
       "    <tr>\n",
       "      <th>операции с недвижимостью</th>\n",
       "      <td>10751</td>\n",
       "      <td>780</td>\n",
       "      <td>7.255139</td>\n",
       "      <td>45.034642</td>\n",
       "    </tr>\n",
       "    <tr>\n",
       "      <th>получение образования</th>\n",
       "      <td>3988</td>\n",
       "      <td>369</td>\n",
       "      <td>9.252758</td>\n",
       "      <td>21.304850</td>\n",
       "    </tr>\n",
       "    <tr>\n",
       "      <th>проведение свадьбы</th>\n",
       "      <td>2313</td>\n",
       "      <td>183</td>\n",
       "      <td>7.911803</td>\n",
       "      <td>10.565820</td>\n",
       "    </tr>\n",
       "  </tbody>\n",
       "</table>\n",
       "</div>"
      ],
      "text/plain": [
       "                          count  sum  debt_proportion  debt_group\n",
       "purpose_category                                                 \n",
       "операции с автомобилем     4279  400         9.347978   23.094688\n",
       "операции с недвижимостью  10751  780         7.255139   45.034642\n",
       "получение образования      3988  369         9.252758   21.304850\n",
       "проведение свадьбы         2313  183         7.911803   10.565820"
      ]
     },
     "execution_count": 774,
     "metadata": {},
     "output_type": "execute_result"
    }
   ],
   "source": [
    "# воспользуемся вышеуказанной функцией и посмотрим на таблицу\n",
    "data_purpose_debt = data_group(data,'purpose_category')\n",
    "data_purpose_debt"
   ]
  },
  {
   "cell_type": "code",
   "execution_count": 773,
   "id": "ed9ee3a7",
   "metadata": {
    "scrolled": true
   },
   "outputs": [
    {
     "data": {
      "text/html": [
       "<div>\n",
       "<style scoped>\n",
       "    .dataframe tbody tr th:only-of-type {\n",
       "        vertical-align: middle;\n",
       "    }\n",
       "\n",
       "    .dataframe tbody tr th {\n",
       "        vertical-align: top;\n",
       "    }\n",
       "\n",
       "    .dataframe thead th {\n",
       "        text-align: right;\n",
       "    }\n",
       "</style>\n",
       "<table border=\"1\" class=\"dataframe\">\n",
       "  <thead>\n",
       "    <tr style=\"text-align: right;\">\n",
       "      <th>gender</th>\n",
       "      <th>F</th>\n",
       "      <th>M</th>\n",
       "      <th>XNA</th>\n",
       "    </tr>\n",
       "    <tr>\n",
       "      <th>purpose_category</th>\n",
       "      <th></th>\n",
       "      <th></th>\n",
       "      <th></th>\n",
       "    </tr>\n",
       "  </thead>\n",
       "  <tbody>\n",
       "    <tr>\n",
       "      <th>операции с автомобилем</th>\n",
       "      <td>232.0</td>\n",
       "      <td>168.0</td>\n",
       "      <td>NaN</td>\n",
       "    </tr>\n",
       "    <tr>\n",
       "      <th>операции с недвижимостью</th>\n",
       "      <td>444.0</td>\n",
       "      <td>336.0</td>\n",
       "      <td>0.0</td>\n",
       "    </tr>\n",
       "    <tr>\n",
       "      <th>получение образования</th>\n",
       "      <td>206.0</td>\n",
       "      <td>163.0</td>\n",
       "      <td>NaN</td>\n",
       "    </tr>\n",
       "    <tr>\n",
       "      <th>проведение свадьбы</th>\n",
       "      <td>107.0</td>\n",
       "      <td>76.0</td>\n",
       "      <td>NaN</td>\n",
       "    </tr>\n",
       "  </tbody>\n",
       "</table>\n",
       "</div>"
      ],
      "text/plain": [
       "gender                        F      M  XNA\n",
       "purpose_category                           \n",
       "операции с автомобилем    232.0  168.0  NaN\n",
       "операции с недвижимостью  444.0  336.0  0.0\n",
       "получение образования     206.0  163.0  NaN\n",
       "проведение свадьбы        107.0   76.0  NaN"
      ]
     },
     "execution_count": 773,
     "metadata": {},
     "output_type": "execute_result"
    }
   ],
   "source": [
    "# добавлю свою сводную таблицу для более сжатых выводов данных\n",
    "# группируем по purpose_category, числовые значения-это debt, и мне интересен пол\n",
    "data_pivot_purpose = data.pivot_table(index=['purpose_category'],\n",
    "                                        columns='gender', values='debt', aggfunc='sum')\n",
    "data_pivot_purpose"
   ]
  },
  {
   "cell_type": "markdown",
   "id": "cfd02272",
   "metadata": {
    "deletable": false,
    "id": "b4bb2ce6"
   },
   "source": [
    "**Вывод:** Беря деньги на покупку авто и образование, клиенты банка не спешат оплачивать долги. Самая маленькая просрочка у должников за недвижимость. Видимо, потому что долг и срок слишком большие и хочется побыстрее избавиться от них. "
   ]
  },
  {
   "attachments": {},
   "cell_type": "markdown",
   "id": "4080b40d",
   "metadata": {
    "deletable": false,
    "editable": false,
    "id": "09c3ac4c"
   },
   "source": [
    "#### 3.5 Приведем возможные причины появления пропусков в исходных данных."
   ]
  },
  {
   "cell_type": "markdown",
   "id": "08866b16",
   "metadata": {
    "deletable": false,
    "id": "9da2ceda"
   },
   "source": [
    "`Причинами появления пропусков в данных могут быть: сбой в системе программирования банка, нежелание клиентов делиться необходимой информацией, невнимательность оператора банка.`"
   ]
  },
  {
   "attachments": {},
   "cell_type": "markdown",
   "id": "5f1f2479",
   "metadata": {
    "deletable": false,
    "editable": false,
    "id": "7b0487d6"
   },
   "source": [
    "#### 3.6 Объясним, почему заполнить пропуски медианным значением — лучшее решение для количественных переменных."
   ]
  },
  {
   "cell_type": "markdown",
   "id": "cc238947",
   "metadata": {
    "deletable": false,
    "id": "7ecf2b8e"
   },
   "source": [
    "`Для заполнения пропусков значений лучше использовать медианное значение, так как оно является более точным и достоверным источником информации по сравнению со средним значением. Количественные данные могут сильно отличаться друг от друга, и среднее значение в анализе даст неверный вывод`"
   ]
  },
  {
   "cell_type": "markdown",
   "id": "fbd914de",
   "metadata": {},
   "source": [
    "`Ради интереса и для общих выводов сделаем еще пару небольших выборок`"
   ]
  },
  {
   "cell_type": "code",
   "execution_count": 763,
   "id": "1175aa6e",
   "metadata": {
    "scrolled": true
   },
   "outputs": [
    {
     "name": "stdout",
     "output_type": "stream",
     "text": [
      "43.27795227603019\n"
     ]
    }
   ],
   "source": [
    "print(data['dob_years'].mean()) # средний возраст заемщика"
   ]
  },
  {
   "cell_type": "code",
   "execution_count": 775,
   "id": "86cfb214",
   "metadata": {},
   "outputs": [
    {
     "name": "stdout",
     "output_type": "stream",
     "text": [
      "142594.0\n"
     ]
    }
   ],
   "source": [
    "print(data['total_income'].median()) # медианное значение общего дохода клиентов банка"
   ]
  },
  {
   "cell_type": "code",
   "execution_count": 764,
   "id": "892bf80c",
   "metadata": {},
   "outputs": [
    {
     "data": {
      "text/plain": [
       "0    19599\n",
       "1     1732\n",
       "Name: debt, dtype: int64"
      ]
     },
     "execution_count": 764,
     "metadata": {},
     "output_type": "execute_result"
    }
   ],
   "source": [
    "data['debt'].value_counts() # из 20 тыс.клиентов банка 19 тысю не имеют задолженности по возврату кредита,а у 1,7 тыс. заемщиков есть проблемы с возвратом денег."
   ]
  },
  {
   "cell_type": "code",
   "execution_count": 786,
   "id": "f3386dc1",
   "metadata": {},
   "outputs": [
    {
     "name": "stdout",
     "output_type": "stream",
     "text": [
      "F      14092\n",
      "M       7238\n",
      "XNA        1\n",
      "Name: gender, dtype: int64\n"
     ]
    }
   ],
   "source": [
    "print(data['gender'].value_counts()) # найдем, кто больше берет кредитов, муж или жен"
   ]
  },
  {
   "cell_type": "markdown",
   "id": "e5cb233b",
   "metadata": {
    "deletable": false,
    "editable": false,
    "id": "6db5255a"
   },
   "source": [
    "### Шаг 4: общий вывод."
   ]
  },
  {
   "cell_type": "markdown",
   "id": "3eee0200",
   "metadata": {
    "deletable": false,
    "id": "bad65432"
   },
   "source": [
    "В ходе анализа входных данных банка были проверены 4 случая:\n",
    "\n",
    "- Есть ли зависимость между количеством детей и возвратом кредита в срок?\n",
    "Зависимость существует, но она незначительная, хотя в ходе анализа было выявлено,что все-таки наличие детей отрицательно сказывается на возврат кредитов.\n",
    "\n",
    "- Есть ли зависимость между семейным положением и возвратом кредита в срок?\n",
    "Самыми ненадежными заемщиками банка являются клиенты, не состоящие в браке. Процент просрочек в данной категории составляет 9%. Процент невозврата кредита у клиентов, состоящих в официальном браке составляет 7%. А самыми надежными заемщиками банка являются клиенты, уже побывавшие в браке.\n",
    "\n",
    "- Есть ли зависимость между уровнем дохода и возвратом кредита в срок?\n",
    "Конечно, при приеме документов банк в первую очередь обращает внимание на доход клиента, соответственно, зависимость существует. Основная группа клиентов банка приходится на заемщиков с доходом от 5 тыс. до 1 млн. у.е., это категории B и С. Чем ниже доход, тем количество просрочек больше. Клиенты с доходом в 50001–200000(группа С) имеют 8.5% невозвратов, а заемщики с доходом в 200001–1000000(группа B) имеют 7% просрочек. Заемщики группы D с доходом 30001–50000 имеют всего 6% невозратов кредита. Но я думаю,что для более подробного анализа зависимости между уровнем дохода и возвратом кредита не достаточно данных. Мне кажется, нужно учитывать еще срок, на который берут заемщики кредит. Ведь нужно смотреть на ежемесячную сумму. Многие люди, беря кредит, думают, что потянут ежемесячные взносы, а на деле получаются просрочки.\n",
    "\n",
    "- Как разные цели кредита влияют на его возврат в срок?\n",
    "Самое большое количество кредитов(10751) клиенты берут на покупку недвижимости, но ответственно выплачивают задолжности. Здесь процент просрочек самый маленький - 7.2%. Так же небольшой процент невозврата кредита в 7.9% у клиентов, пожелавших направить деньги на свадьбу. А самое большое количество просрочек у клиентов, которые берут автокредиты и заем на получение образования. В данных группах по 9% невозврата кредита.\n",
    "\n",
    "Дополнительные интересности из анализа:\n",
    "+ средний возраст заемщика составляет 43 года;\n",
    "+ из 20 тыс.клиентов банка 19 тыс. не имеют задолженности по возврату кредита,а у 1,7 тыс. заемщиков есть проблемы с возвратом денег\n",
    "+ медианное значение общего дохода среди всех клиентов равняется 142594.0 у.е\n",
    "+ больше всего берут кредиты женщины. Их количество 14092 против 7238 мужских.\n",
    "\n",
    "Таким образом, можно сказать: не зря банк очень тщательно рассматривает документы и требует заполнять все пункты по вышеуказанным вопросам. Ведь все анализируемые данные влияют на своевременный возврат денег банку."
   ]
  },
  {
   "cell_type": "code",
   "execution_count": null,
   "id": "bbc5bd79",
   "metadata": {},
   "outputs": [],
   "source": []
  }
 ],
 "metadata": {
  "ExecuteTimeLog": [
   {
    "duration": 48,
    "start_time": "2022-11-03T22:06:18.889Z"
   },
   {
    "duration": 442,
    "start_time": "2022-11-03T22:06:25.775Z"
   },
   {
    "duration": 30,
    "start_time": "2022-11-03T22:06:26.218Z"
   },
   {
    "duration": 12,
    "start_time": "2022-11-03T22:06:26.249Z"
   },
   {
    "duration": 7,
    "start_time": "2022-11-03T22:06:26.263Z"
   },
   {
    "duration": 30,
    "start_time": "2022-11-03T22:06:26.271Z"
   },
   {
    "duration": 3,
    "start_time": "2022-11-03T22:06:26.303Z"
   },
   {
    "duration": 9,
    "start_time": "2022-11-03T22:06:26.327Z"
   },
   {
    "duration": 4,
    "start_time": "2022-11-03T22:06:26.337Z"
   },
   {
    "duration": 11,
    "start_time": "2022-11-03T22:06:26.342Z"
   },
   {
    "duration": 4,
    "start_time": "2022-11-03T22:06:26.355Z"
   },
   {
    "duration": 29,
    "start_time": "2022-11-03T22:06:26.360Z"
   },
   {
    "duration": 7,
    "start_time": "2022-11-03T22:06:26.391Z"
   },
   {
    "duration": 22,
    "start_time": "2022-11-03T22:06:26.400Z"
   },
   {
    "duration": 15,
    "start_time": "2022-11-03T22:06:26.423Z"
   },
   {
    "duration": 20,
    "start_time": "2022-11-03T22:06:26.440Z"
   },
   {
    "duration": 14,
    "start_time": "2022-11-03T22:06:26.462Z"
   },
   {
    "duration": 3,
    "start_time": "2022-11-03T22:06:26.478Z"
   },
   {
    "duration": 16,
    "start_time": "2022-11-03T22:06:26.482Z"
   },
   {
    "duration": 5,
    "start_time": "2022-11-03T22:06:26.499Z"
   },
   {
    "duration": 21,
    "start_time": "2022-11-03T22:06:26.506Z"
   },
   {
    "duration": 8,
    "start_time": "2022-11-03T22:06:26.529Z"
   },
   {
    "duration": 25,
    "start_time": "2022-11-03T22:06:26.538Z"
   },
   {
    "duration": 2,
    "start_time": "2022-11-03T22:06:26.564Z"
   },
   {
    "duration": 6,
    "start_time": "2022-11-03T22:06:26.567Z"
   },
   {
    "duration": 7,
    "start_time": "2022-11-03T22:06:26.574Z"
   },
   {
    "duration": 11,
    "start_time": "2022-11-03T22:08:56.759Z"
   },
   {
    "duration": 30,
    "start_time": "2022-11-03T22:10:30.858Z"
   },
   {
    "duration": 66,
    "start_time": "2022-11-03T22:10:34.442Z"
   },
   {
    "duration": 24,
    "start_time": "2022-11-03T22:10:34.510Z"
   },
   {
    "duration": 13,
    "start_time": "2022-11-03T22:10:34.536Z"
   },
   {
    "duration": 9,
    "start_time": "2022-11-03T22:10:34.550Z"
   },
   {
    "duration": 27,
    "start_time": "2022-11-03T22:10:34.561Z"
   },
   {
    "duration": 2,
    "start_time": "2022-11-03T22:10:34.590Z"
   },
   {
    "duration": 10,
    "start_time": "2022-11-03T22:10:34.593Z"
   },
   {
    "duration": 3,
    "start_time": "2022-11-03T22:10:34.604Z"
   },
   {
    "duration": 4,
    "start_time": "2022-11-03T22:10:34.631Z"
   },
   {
    "duration": 8,
    "start_time": "2022-11-03T22:10:34.637Z"
   },
   {
    "duration": 30,
    "start_time": "2022-11-03T22:10:34.647Z"
   },
   {
    "duration": 8,
    "start_time": "2022-11-03T22:10:34.678Z"
   },
   {
    "duration": 3,
    "start_time": "2022-11-03T22:10:34.688Z"
   },
   {
    "duration": 12,
    "start_time": "2022-11-03T22:10:34.693Z"
   },
   {
    "duration": 30,
    "start_time": "2022-11-03T22:10:34.706Z"
   },
   {
    "duration": 15,
    "start_time": "2022-11-03T22:10:34.737Z"
   },
   {
    "duration": 3,
    "start_time": "2022-11-03T22:10:34.753Z"
   },
   {
    "duration": 12,
    "start_time": "2022-11-03T22:10:34.757Z"
   },
   {
    "duration": 8,
    "start_time": "2022-11-03T22:10:34.771Z"
   },
   {
    "duration": 4,
    "start_time": "2022-11-03T22:10:34.780Z"
   },
   {
    "duration": 21,
    "start_time": "2022-11-03T22:10:34.786Z"
   },
   {
    "duration": 28,
    "start_time": "2022-11-03T22:10:34.808Z"
   },
   {
    "duration": 9,
    "start_time": "2022-11-03T22:10:34.837Z"
   },
   {
    "duration": 7,
    "start_time": "2022-11-03T22:10:34.847Z"
   },
   {
    "duration": 0,
    "start_time": "2022-11-03T22:10:34.855Z"
   },
   {
    "duration": 0,
    "start_time": "2022-11-03T22:10:34.857Z"
   },
   {
    "duration": 4,
    "start_time": "2022-11-03T22:12:01.798Z"
   },
   {
    "duration": 77,
    "start_time": "2022-11-03T22:12:06.343Z"
   },
   {
    "duration": 18,
    "start_time": "2022-11-03T22:12:06.423Z"
   },
   {
    "duration": 21,
    "start_time": "2022-11-03T22:12:06.442Z"
   },
   {
    "duration": 13,
    "start_time": "2022-11-03T22:12:06.465Z"
   },
   {
    "duration": 57,
    "start_time": "2022-11-03T22:12:06.479Z"
   },
   {
    "duration": 3,
    "start_time": "2022-11-03T22:12:06.537Z"
   },
   {
    "duration": 20,
    "start_time": "2022-11-03T22:12:06.542Z"
   },
   {
    "duration": 17,
    "start_time": "2022-11-03T22:12:06.564Z"
   },
   {
    "duration": 8,
    "start_time": "2022-11-03T22:12:06.582Z"
   },
   {
    "duration": 17,
    "start_time": "2022-11-03T22:12:06.592Z"
   },
   {
    "duration": 38,
    "start_time": "2022-11-03T22:12:06.610Z"
   },
   {
    "duration": 7,
    "start_time": "2022-11-03T22:12:06.650Z"
   },
   {
    "duration": 22,
    "start_time": "2022-11-03T22:12:06.658Z"
   },
   {
    "duration": 22,
    "start_time": "2022-11-03T22:12:06.682Z"
   },
   {
    "duration": 30,
    "start_time": "2022-11-03T22:12:06.706Z"
   },
   {
    "duration": 23,
    "start_time": "2022-11-03T22:12:06.737Z"
   },
   {
    "duration": 4,
    "start_time": "2022-11-03T22:12:06.762Z"
   },
   {
    "duration": 32,
    "start_time": "2022-11-03T22:12:06.768Z"
   },
   {
    "duration": 25,
    "start_time": "2022-11-03T22:12:06.801Z"
   },
   {
    "duration": 20,
    "start_time": "2022-11-03T22:12:06.827Z"
   },
   {
    "duration": 20,
    "start_time": "2022-11-03T22:12:06.849Z"
   },
   {
    "duration": 24,
    "start_time": "2022-11-03T22:12:06.870Z"
   },
   {
    "duration": 25,
    "start_time": "2022-11-03T22:12:06.895Z"
   },
   {
    "duration": 10,
    "start_time": "2022-11-03T22:12:06.921Z"
   },
   {
    "duration": 20,
    "start_time": "2022-11-03T22:12:06.932Z"
   },
   {
    "duration": 11,
    "start_time": "2022-11-03T22:12:06.953Z"
   },
   {
    "duration": 6,
    "start_time": "2022-11-03T22:12:18.633Z"
   },
   {
    "duration": 66,
    "start_time": "2022-11-03T22:21:22.467Z"
   },
   {
    "duration": 75,
    "start_time": "2022-11-03T22:21:25.602Z"
   },
   {
    "duration": 14,
    "start_time": "2022-11-03T22:21:25.679Z"
   },
   {
    "duration": 13,
    "start_time": "2022-11-03T22:21:25.695Z"
   },
   {
    "duration": 18,
    "start_time": "2022-11-03T22:21:25.710Z"
   },
   {
    "duration": 29,
    "start_time": "2022-11-03T22:21:25.729Z"
   },
   {
    "duration": 3,
    "start_time": "2022-11-03T22:21:25.760Z"
   },
   {
    "duration": 8,
    "start_time": "2022-11-03T22:21:25.765Z"
   },
   {
    "duration": 5,
    "start_time": "2022-11-03T22:21:25.774Z"
   },
   {
    "duration": 6,
    "start_time": "2022-11-03T22:21:25.780Z"
   },
   {
    "duration": 35,
    "start_time": "2022-11-03T22:21:25.789Z"
   },
   {
    "duration": 30,
    "start_time": "2022-11-03T22:21:25.825Z"
   },
   {
    "duration": 9,
    "start_time": "2022-11-03T22:21:25.856Z"
   },
   {
    "duration": 4,
    "start_time": "2022-11-03T22:21:25.867Z"
   },
   {
    "duration": 11,
    "start_time": "2022-11-03T22:21:25.872Z"
   },
   {
    "duration": 43,
    "start_time": "2022-11-03T22:21:25.885Z"
   },
   {
    "duration": 15,
    "start_time": "2022-11-03T22:21:25.930Z"
   },
   {
    "duration": 4,
    "start_time": "2022-11-03T22:21:25.946Z"
   },
   {
    "duration": 11,
    "start_time": "2022-11-03T22:21:25.951Z"
   },
   {
    "duration": 6,
    "start_time": "2022-11-03T22:21:25.963Z"
   },
   {
    "duration": 4,
    "start_time": "2022-11-03T22:21:25.971Z"
   },
   {
    "duration": 12,
    "start_time": "2022-11-03T22:21:25.976Z"
   },
   {
    "duration": 44,
    "start_time": "2022-11-03T22:21:25.989Z"
   },
   {
    "duration": 12,
    "start_time": "2022-11-03T22:21:26.035Z"
   },
   {
    "duration": 10,
    "start_time": "2022-11-03T22:21:26.049Z"
   },
   {
    "duration": 6,
    "start_time": "2022-11-03T22:21:26.060Z"
   },
   {
    "duration": 86,
    "start_time": "2022-11-03T22:21:26.067Z"
   },
   {
    "duration": 10,
    "start_time": "2022-11-03T22:25:44.467Z"
   },
   {
    "duration": 65,
    "start_time": "2022-11-03T22:25:47.384Z"
   },
   {
    "duration": 15,
    "start_time": "2022-11-03T22:25:47.451Z"
   },
   {
    "duration": 13,
    "start_time": "2022-11-03T22:25:47.468Z"
   },
   {
    "duration": 9,
    "start_time": "2022-11-03T22:25:47.483Z"
   },
   {
    "duration": 47,
    "start_time": "2022-11-03T22:25:47.493Z"
   },
   {
    "duration": 3,
    "start_time": "2022-11-03T22:25:47.541Z"
   },
   {
    "duration": 14,
    "start_time": "2022-11-03T22:25:47.546Z"
   },
   {
    "duration": 5,
    "start_time": "2022-11-03T22:25:47.561Z"
   },
   {
    "duration": 6,
    "start_time": "2022-11-03T22:25:47.567Z"
   },
   {
    "duration": 7,
    "start_time": "2022-11-03T22:25:47.575Z"
   },
   {
    "duration": 46,
    "start_time": "2022-11-03T22:25:47.583Z"
   },
   {
    "duration": 7,
    "start_time": "2022-11-03T22:25:47.631Z"
   },
   {
    "duration": 9,
    "start_time": "2022-11-03T22:25:47.639Z"
   },
   {
    "duration": 10,
    "start_time": "2022-11-03T22:25:47.649Z"
   },
   {
    "duration": 19,
    "start_time": "2022-11-03T22:25:47.661Z"
   },
   {
    "duration": 15,
    "start_time": "2022-11-03T22:25:47.681Z"
   },
   {
    "duration": 3,
    "start_time": "2022-11-03T22:25:47.697Z"
   },
   {
    "duration": 27,
    "start_time": "2022-11-03T22:25:47.702Z"
   },
   {
    "duration": 7,
    "start_time": "2022-11-03T22:25:47.731Z"
   },
   {
    "duration": 3,
    "start_time": "2022-11-03T22:25:47.739Z"
   },
   {
    "duration": 9,
    "start_time": "2022-11-03T22:25:47.744Z"
   },
   {
    "duration": 17,
    "start_time": "2022-11-03T22:25:47.754Z"
   },
   {
    "duration": 11,
    "start_time": "2022-11-03T22:25:47.772Z"
   },
   {
    "duration": 8,
    "start_time": "2022-11-03T22:25:47.784Z"
   },
   {
    "duration": 36,
    "start_time": "2022-11-03T22:25:47.793Z"
   },
   {
    "duration": 1050,
    "start_time": "2022-11-03T22:25:47.831Z"
   },
   {
    "duration": 0,
    "start_time": "2022-11-03T22:25:48.882Z"
   },
   {
    "duration": 15,
    "start_time": "2022-11-03T22:28:49.130Z"
   },
   {
    "duration": 66,
    "start_time": "2022-11-03T22:28:51.554Z"
   },
   {
    "duration": 14,
    "start_time": "2022-11-03T22:28:51.621Z"
   },
   {
    "duration": 14,
    "start_time": "2022-11-03T22:28:51.637Z"
   },
   {
    "duration": 8,
    "start_time": "2022-11-03T22:28:51.652Z"
   },
   {
    "duration": 27,
    "start_time": "2022-11-03T22:28:51.662Z"
   },
   {
    "duration": 3,
    "start_time": "2022-11-03T22:28:51.690Z"
   },
   {
    "duration": 28,
    "start_time": "2022-11-03T22:28:51.694Z"
   },
   {
    "duration": 3,
    "start_time": "2022-11-03T22:28:51.723Z"
   },
   {
    "duration": 10,
    "start_time": "2022-11-03T22:28:51.728Z"
   },
   {
    "duration": 4,
    "start_time": "2022-11-03T22:28:51.740Z"
   },
   {
    "duration": 47,
    "start_time": "2022-11-03T22:28:51.746Z"
   },
   {
    "duration": 7,
    "start_time": "2022-11-03T22:28:51.795Z"
   },
   {
    "duration": 4,
    "start_time": "2022-11-03T22:28:51.804Z"
   },
   {
    "duration": 13,
    "start_time": "2022-11-03T22:28:51.809Z"
   },
   {
    "duration": 15,
    "start_time": "2022-11-03T22:28:51.823Z"
   },
   {
    "duration": 16,
    "start_time": "2022-11-03T22:28:51.839Z"
   },
   {
    "duration": 3,
    "start_time": "2022-11-03T22:28:51.856Z"
   },
   {
    "duration": 13,
    "start_time": "2022-11-03T22:28:51.860Z"
   },
   {
    "duration": 6,
    "start_time": "2022-11-03T22:28:51.874Z"
   },
   {
    "duration": 3,
    "start_time": "2022-11-03T22:28:51.882Z"
   },
   {
    "duration": 10,
    "start_time": "2022-11-03T22:28:51.886Z"
   },
   {
    "duration": 31,
    "start_time": "2022-11-03T22:28:51.897Z"
   },
   {
    "duration": 14,
    "start_time": "2022-11-03T22:28:51.930Z"
   },
   {
    "duration": 10,
    "start_time": "2022-11-03T22:28:51.945Z"
   },
   {
    "duration": 16,
    "start_time": "2022-11-03T22:28:51.956Z"
   },
   {
    "duration": 1055,
    "start_time": "2022-11-03T22:28:51.974Z"
   },
   {
    "duration": 0,
    "start_time": "2022-11-03T22:28:53.030Z"
   },
   {
    "duration": 64,
    "start_time": "2022-11-03T22:29:25.126Z"
   },
   {
    "duration": 13,
    "start_time": "2022-11-03T22:29:25.194Z"
   },
   {
    "duration": 37,
    "start_time": "2022-11-03T22:29:25.208Z"
   },
   {
    "duration": 8,
    "start_time": "2022-11-03T22:29:25.246Z"
   },
   {
    "duration": 63,
    "start_time": "2022-11-03T22:29:25.256Z"
   },
   {
    "duration": 3,
    "start_time": "2022-11-03T22:29:25.320Z"
   },
   {
    "duration": 15,
    "start_time": "2022-11-03T22:29:25.324Z"
   },
   {
    "duration": 21,
    "start_time": "2022-11-03T22:29:25.340Z"
   },
   {
    "duration": 16,
    "start_time": "2022-11-03T22:29:25.362Z"
   },
   {
    "duration": 31,
    "start_time": "2022-11-03T22:29:25.380Z"
   },
   {
    "duration": 43,
    "start_time": "2022-11-03T22:29:25.412Z"
   },
   {
    "duration": 8,
    "start_time": "2022-11-03T22:29:25.456Z"
   },
   {
    "duration": 13,
    "start_time": "2022-11-03T22:29:25.465Z"
   },
   {
    "duration": 33,
    "start_time": "2022-11-03T22:29:25.479Z"
   },
   {
    "duration": 34,
    "start_time": "2022-11-03T22:29:25.513Z"
   },
   {
    "duration": 24,
    "start_time": "2022-11-03T22:29:25.548Z"
   },
   {
    "duration": 5,
    "start_time": "2022-11-03T22:29:25.573Z"
   },
   {
    "duration": 41,
    "start_time": "2022-11-03T22:29:25.580Z"
   },
   {
    "duration": 23,
    "start_time": "2022-11-03T22:29:25.622Z"
   },
   {
    "duration": 17,
    "start_time": "2022-11-03T22:29:25.647Z"
   },
   {
    "duration": 28,
    "start_time": "2022-11-03T22:29:25.665Z"
   },
   {
    "duration": 15,
    "start_time": "2022-11-03T22:29:25.695Z"
   },
   {
    "duration": 18,
    "start_time": "2022-11-03T22:29:25.711Z"
   },
   {
    "duration": 24,
    "start_time": "2022-11-03T22:29:25.730Z"
   },
   {
    "duration": 38,
    "start_time": "2022-11-03T22:29:25.756Z"
   },
   {
    "duration": 20,
    "start_time": "2022-11-03T22:29:25.796Z"
   },
   {
    "duration": 59,
    "start_time": "2022-11-03T22:29:25.817Z"
   },
   {
    "duration": 4,
    "start_time": "2022-11-03T22:35:14.481Z"
   },
   {
    "duration": 132,
    "start_time": "2022-11-03T22:38:52.845Z"
   },
   {
    "duration": 68,
    "start_time": "2022-11-03T22:39:33.999Z"
   },
   {
    "duration": 8,
    "start_time": "2022-11-03T22:40:52.125Z"
   },
   {
    "duration": 71,
    "start_time": "2022-11-03T22:43:26.325Z"
   },
   {
    "duration": 14,
    "start_time": "2022-11-03T22:43:26.398Z"
   },
   {
    "duration": 15,
    "start_time": "2022-11-03T22:43:26.413Z"
   },
   {
    "duration": 8,
    "start_time": "2022-11-03T22:43:26.430Z"
   },
   {
    "duration": 31,
    "start_time": "2022-11-03T22:43:26.439Z"
   },
   {
    "duration": 3,
    "start_time": "2022-11-03T22:43:26.472Z"
   },
   {
    "duration": 10,
    "start_time": "2022-11-03T22:43:26.476Z"
   },
   {
    "duration": 6,
    "start_time": "2022-11-03T22:43:26.487Z"
   },
   {
    "duration": 27,
    "start_time": "2022-11-03T22:43:26.495Z"
   },
   {
    "duration": 4,
    "start_time": "2022-11-03T22:43:26.524Z"
   },
   {
    "duration": 32,
    "start_time": "2022-11-03T22:43:26.529Z"
   },
   {
    "duration": 8,
    "start_time": "2022-11-03T22:43:26.563Z"
   },
   {
    "duration": 4,
    "start_time": "2022-11-03T22:43:26.572Z"
   },
   {
    "duration": 27,
    "start_time": "2022-11-03T22:43:26.577Z"
   },
   {
    "duration": 39,
    "start_time": "2022-11-03T22:43:26.605Z"
   },
   {
    "duration": 15,
    "start_time": "2022-11-03T22:43:26.646Z"
   },
   {
    "duration": 4,
    "start_time": "2022-11-03T22:43:26.662Z"
   },
   {
    "duration": 11,
    "start_time": "2022-11-03T22:43:26.667Z"
   },
   {
    "duration": 6,
    "start_time": "2022-11-03T22:43:26.679Z"
   },
   {
    "duration": 8,
    "start_time": "2022-11-03T22:43:26.686Z"
   },
   {
    "duration": 16,
    "start_time": "2022-11-03T22:43:26.695Z"
   },
   {
    "duration": 49,
    "start_time": "2022-11-03T22:43:26.712Z"
   },
   {
    "duration": 11,
    "start_time": "2022-11-03T22:43:26.762Z"
   },
   {
    "duration": 5,
    "start_time": "2022-11-03T22:43:26.775Z"
   },
   {
    "duration": 17,
    "start_time": "2022-11-03T22:43:26.782Z"
   },
   {
    "duration": 7,
    "start_time": "2022-11-03T22:43:26.822Z"
   },
   {
    "duration": 5,
    "start_time": "2022-11-03T22:43:26.830Z"
   },
   {
    "duration": 15,
    "start_time": "2022-11-03T22:43:26.838Z"
   },
   {
    "duration": 1103,
    "start_time": "2022-11-03T22:43:26.854Z"
   },
   {
    "duration": 0,
    "start_time": "2022-11-03T22:43:27.959Z"
   },
   {
    "duration": 0,
    "start_time": "2022-11-03T22:43:27.960Z"
   },
   {
    "duration": 72,
    "start_time": "2022-11-03T22:43:48.504Z"
   },
   {
    "duration": 14,
    "start_time": "2022-11-03T22:43:48.577Z"
   },
   {
    "duration": 20,
    "start_time": "2022-11-03T22:43:48.592Z"
   },
   {
    "duration": 10,
    "start_time": "2022-11-03T22:43:48.614Z"
   },
   {
    "duration": 32,
    "start_time": "2022-11-03T22:43:48.626Z"
   },
   {
    "duration": 3,
    "start_time": "2022-11-03T22:43:48.660Z"
   },
   {
    "duration": 15,
    "start_time": "2022-11-03T22:43:48.665Z"
   },
   {
    "duration": 5,
    "start_time": "2022-11-03T22:43:48.681Z"
   },
   {
    "duration": 7,
    "start_time": "2022-11-03T22:43:48.687Z"
   },
   {
    "duration": 26,
    "start_time": "2022-11-03T22:43:48.697Z"
   },
   {
    "duration": 34,
    "start_time": "2022-11-03T22:43:48.725Z"
   },
   {
    "duration": 9,
    "start_time": "2022-11-03T22:43:48.761Z"
   },
   {
    "duration": 5,
    "start_time": "2022-11-03T22:43:48.773Z"
   },
   {
    "duration": 13,
    "start_time": "2022-11-03T22:43:48.780Z"
   },
   {
    "duration": 38,
    "start_time": "2022-11-03T22:43:48.794Z"
   },
   {
    "duration": 20,
    "start_time": "2022-11-03T22:43:48.834Z"
   },
   {
    "duration": 3,
    "start_time": "2022-11-03T22:43:48.856Z"
   },
   {
    "duration": 13,
    "start_time": "2022-11-03T22:43:48.861Z"
   },
   {
    "duration": 9,
    "start_time": "2022-11-03T22:43:48.876Z"
   },
   {
    "duration": 7,
    "start_time": "2022-11-03T22:43:48.886Z"
   },
   {
    "duration": 29,
    "start_time": "2022-11-03T22:43:48.895Z"
   },
   {
    "duration": 11,
    "start_time": "2022-11-03T22:43:48.926Z"
   },
   {
    "duration": 11,
    "start_time": "2022-11-03T22:43:48.938Z"
   },
   {
    "duration": 6,
    "start_time": "2022-11-03T22:43:48.951Z"
   },
   {
    "duration": 18,
    "start_time": "2022-11-03T22:43:48.959Z"
   },
   {
    "duration": 7,
    "start_time": "2022-11-03T22:43:48.979Z"
   },
   {
    "duration": 4,
    "start_time": "2022-11-03T22:43:49.022Z"
   },
   {
    "duration": 18,
    "start_time": "2022-11-03T22:43:49.029Z"
   },
   {
    "duration": 11,
    "start_time": "2022-11-03T22:43:49.049Z"
   },
   {
    "duration": 5,
    "start_time": "2022-11-03T22:43:49.062Z"
   },
   {
    "duration": 10,
    "start_time": "2022-11-03T22:43:49.068Z"
   },
   {
    "duration": 65,
    "start_time": "2022-11-03T22:56:26.143Z"
   },
   {
    "duration": 14,
    "start_time": "2022-11-03T22:56:26.210Z"
   },
   {
    "duration": 13,
    "start_time": "2022-11-03T22:56:26.226Z"
   },
   {
    "duration": 7,
    "start_time": "2022-11-03T22:56:26.241Z"
   },
   {
    "duration": 27,
    "start_time": "2022-11-03T22:56:26.249Z"
   },
   {
    "duration": 2,
    "start_time": "2022-11-03T22:56:26.278Z"
   },
   {
    "duration": 11,
    "start_time": "2022-11-03T22:56:26.282Z"
   },
   {
    "duration": 30,
    "start_time": "2022-11-03T22:56:26.294Z"
   },
   {
    "duration": 5,
    "start_time": "2022-11-03T22:56:26.325Z"
   },
   {
    "duration": 7,
    "start_time": "2022-11-03T22:56:26.332Z"
   },
   {
    "duration": 30,
    "start_time": "2022-11-03T22:56:26.340Z"
   },
   {
    "duration": 8,
    "start_time": "2022-11-03T22:56:26.371Z"
   },
   {
    "duration": 6,
    "start_time": "2022-11-03T22:56:26.380Z"
   },
   {
    "duration": 22,
    "start_time": "2022-11-03T22:56:26.387Z"
   },
   {
    "duration": 24,
    "start_time": "2022-11-03T22:56:26.410Z"
   },
   {
    "duration": 15,
    "start_time": "2022-11-03T22:56:26.435Z"
   },
   {
    "duration": 4,
    "start_time": "2022-11-03T22:56:26.452Z"
   },
   {
    "duration": 29,
    "start_time": "2022-11-03T22:56:26.457Z"
   },
   {
    "duration": 17,
    "start_time": "2022-11-03T22:56:26.488Z"
   },
   {
    "duration": 13,
    "start_time": "2022-11-03T22:56:26.507Z"
   },
   {
    "duration": 20,
    "start_time": "2022-11-03T22:56:26.522Z"
   },
   {
    "duration": 21,
    "start_time": "2022-11-03T22:56:26.544Z"
   },
   {
    "duration": 19,
    "start_time": "2022-11-03T22:56:26.567Z"
   },
   {
    "duration": 13,
    "start_time": "2022-11-03T22:56:26.588Z"
   },
   {
    "duration": 24,
    "start_time": "2022-11-03T22:56:26.602Z"
   },
   {
    "duration": 15,
    "start_time": "2022-11-03T22:56:26.628Z"
   },
   {
    "duration": 12,
    "start_time": "2022-11-03T22:56:26.645Z"
   },
   {
    "duration": 27,
    "start_time": "2022-11-03T22:56:26.659Z"
   },
   {
    "duration": 7,
    "start_time": "2022-11-03T22:56:26.687Z"
   },
   {
    "duration": 29,
    "start_time": "2022-11-03T22:56:26.695Z"
   },
   {
    "duration": 74,
    "start_time": "2022-11-04T12:34:10.984Z"
   },
   {
    "duration": 7,
    "start_time": "2022-11-04T12:35:24.645Z"
   },
   {
    "duration": 561,
    "start_time": "2022-11-04T12:35:27.486Z"
   },
   {
    "duration": 22,
    "start_time": "2022-11-04T12:35:28.049Z"
   },
   {
    "duration": 22,
    "start_time": "2022-11-04T12:35:28.073Z"
   },
   {
    "duration": 12,
    "start_time": "2022-11-04T12:35:28.100Z"
   },
   {
    "duration": 35,
    "start_time": "2022-11-04T12:35:28.114Z"
   },
   {
    "duration": 4,
    "start_time": "2022-11-04T12:35:28.150Z"
   },
   {
    "duration": 19,
    "start_time": "2022-11-04T12:35:28.156Z"
   },
   {
    "duration": 4,
    "start_time": "2022-11-04T12:35:28.177Z"
   },
   {
    "duration": 16,
    "start_time": "2022-11-04T12:35:28.191Z"
   },
   {
    "duration": 5,
    "start_time": "2022-11-04T12:35:28.210Z"
   },
   {
    "duration": 38,
    "start_time": "2022-11-04T12:35:28.216Z"
   },
   {
    "duration": 10,
    "start_time": "2022-11-04T12:35:28.256Z"
   },
   {
    "duration": 31,
    "start_time": "2022-11-04T12:35:28.267Z"
   },
   {
    "duration": 13,
    "start_time": "2022-11-04T12:35:28.302Z"
   },
   {
    "duration": 29,
    "start_time": "2022-11-04T12:35:28.317Z"
   },
   {
    "duration": 16,
    "start_time": "2022-11-04T12:35:28.348Z"
   },
   {
    "duration": 4,
    "start_time": "2022-11-04T12:35:28.365Z"
   },
   {
    "duration": 27,
    "start_time": "2022-11-04T12:35:28.371Z"
   },
   {
    "duration": 16,
    "start_time": "2022-11-04T12:35:28.401Z"
   },
   {
    "duration": 4,
    "start_time": "2022-11-04T12:35:28.420Z"
   },
   {
    "duration": 22,
    "start_time": "2022-11-04T12:35:28.426Z"
   },
   {
    "duration": 14,
    "start_time": "2022-11-04T12:35:28.451Z"
   },
   {
    "duration": 8,
    "start_time": "2022-11-04T12:35:28.467Z"
   },
   {
    "duration": 28,
    "start_time": "2022-11-04T12:35:28.477Z"
   },
   {
    "duration": 10,
    "start_time": "2022-11-04T12:35:28.506Z"
   },
   {
    "duration": 18,
    "start_time": "2022-11-04T12:35:28.517Z"
   },
   {
    "duration": 7,
    "start_time": "2022-11-04T12:35:28.537Z"
   },
   {
    "duration": 7,
    "start_time": "2022-11-04T12:35:28.547Z"
   },
   {
    "duration": 47,
    "start_time": "2022-11-04T12:35:28.556Z"
   },
   {
    "duration": 8,
    "start_time": "2022-11-04T12:35:28.606Z"
   },
   {
    "duration": 7,
    "start_time": "2022-11-04T12:35:28.616Z"
   },
   {
    "duration": 67,
    "start_time": "2022-11-04T13:27:27.008Z"
   },
   {
    "duration": 74,
    "start_time": "2022-11-04T13:33:32.911Z"
   },
   {
    "duration": 27,
    "start_time": "2022-11-04T13:33:32.987Z"
   },
   {
    "duration": 14,
    "start_time": "2022-11-04T13:33:33.016Z"
   },
   {
    "duration": 10,
    "start_time": "2022-11-04T13:33:33.032Z"
   },
   {
    "duration": 68,
    "start_time": "2022-11-04T13:33:33.044Z"
   },
   {
    "duration": 5,
    "start_time": "2022-11-04T13:33:33.114Z"
   },
   {
    "duration": 14,
    "start_time": "2022-11-04T13:33:33.121Z"
   },
   {
    "duration": 5,
    "start_time": "2022-11-04T13:33:33.137Z"
   },
   {
    "duration": 8,
    "start_time": "2022-11-04T13:33:33.144Z"
   },
   {
    "duration": 6,
    "start_time": "2022-11-04T13:33:33.154Z"
   },
   {
    "duration": 42,
    "start_time": "2022-11-04T13:33:33.193Z"
   },
   {
    "duration": 10,
    "start_time": "2022-11-04T13:33:33.237Z"
   },
   {
    "duration": 4,
    "start_time": "2022-11-04T13:33:33.248Z"
   },
   {
    "duration": 11,
    "start_time": "2022-11-04T13:33:33.255Z"
   },
   {
    "duration": 75,
    "start_time": "2022-11-04T13:33:33.267Z"
   },
   {
    "duration": 18,
    "start_time": "2022-11-04T13:33:33.344Z"
   },
   {
    "duration": 14,
    "start_time": "2022-11-04T13:33:33.364Z"
   },
   {
    "duration": 57,
    "start_time": "2022-11-04T13:33:33.379Z"
   },
   {
    "duration": 66,
    "start_time": "2022-11-04T13:33:33.438Z"
   },
   {
    "duration": 52,
    "start_time": "2022-11-04T13:33:33.506Z"
   },
   {
    "duration": 71,
    "start_time": "2022-11-04T13:33:33.560Z"
   },
   {
    "duration": 40,
    "start_time": "2022-11-04T13:33:33.632Z"
   },
   {
    "duration": 45,
    "start_time": "2022-11-04T13:33:33.674Z"
   },
   {
    "duration": 40,
    "start_time": "2022-11-04T13:33:33.722Z"
   },
   {
    "duration": 34,
    "start_time": "2022-11-04T13:33:33.765Z"
   },
   {
    "duration": 0,
    "start_time": "2022-11-04T13:33:33.802Z"
   },
   {
    "duration": 0,
    "start_time": "2022-11-04T13:33:33.805Z"
   },
   {
    "duration": 0,
    "start_time": "2022-11-04T13:33:33.806Z"
   },
   {
    "duration": 0,
    "start_time": "2022-11-04T13:33:33.808Z"
   },
   {
    "duration": 0,
    "start_time": "2022-11-04T13:33:33.809Z"
   },
   {
    "duration": 0,
    "start_time": "2022-11-04T13:33:33.811Z"
   },
   {
    "duration": 0,
    "start_time": "2022-11-04T13:33:33.811Z"
   },
   {
    "duration": 0,
    "start_time": "2022-11-04T13:33:33.812Z"
   },
   {
    "duration": 0,
    "start_time": "2022-11-04T13:33:33.813Z"
   },
   {
    "duration": 33,
    "start_time": "2022-11-04T13:34:05.567Z"
   },
   {
    "duration": 12,
    "start_time": "2022-11-04T13:41:37.225Z"
   },
   {
    "duration": 1364,
    "start_time": "2022-11-04T13:43:12.621Z"
   },
   {
    "duration": 68,
    "start_time": "2022-11-04T13:56:43.817Z"
   },
   {
    "duration": 29,
    "start_time": "2022-11-04T13:56:43.888Z"
   },
   {
    "duration": 14,
    "start_time": "2022-11-04T13:56:43.922Z"
   },
   {
    "duration": 10,
    "start_time": "2022-11-04T13:56:43.938Z"
   },
   {
    "duration": 55,
    "start_time": "2022-11-04T13:56:43.951Z"
   },
   {
    "duration": 6,
    "start_time": "2022-11-04T13:56:44.008Z"
   },
   {
    "duration": 19,
    "start_time": "2022-11-04T13:56:44.016Z"
   },
   {
    "duration": 4,
    "start_time": "2022-11-04T13:56:44.037Z"
   },
   {
    "duration": 7,
    "start_time": "2022-11-04T13:56:44.043Z"
   },
   {
    "duration": 5,
    "start_time": "2022-11-04T13:56:44.051Z"
   },
   {
    "duration": 61,
    "start_time": "2022-11-04T13:56:44.057Z"
   },
   {
    "duration": 9,
    "start_time": "2022-11-04T13:56:44.120Z"
   },
   {
    "duration": 5,
    "start_time": "2022-11-04T13:56:44.131Z"
   },
   {
    "duration": 12,
    "start_time": "2022-11-04T13:56:44.140Z"
   },
   {
    "duration": 47,
    "start_time": "2022-11-04T13:56:44.154Z"
   },
   {
    "duration": 23,
    "start_time": "2022-11-04T13:56:44.210Z"
   },
   {
    "duration": 4,
    "start_time": "2022-11-04T13:56:44.235Z"
   },
   {
    "duration": 13,
    "start_time": "2022-11-04T13:56:44.241Z"
   },
   {
    "duration": 10,
    "start_time": "2022-11-04T13:56:44.255Z"
   },
   {
    "duration": 3,
    "start_time": "2022-11-04T13:56:44.267Z"
   },
   {
    "duration": 33,
    "start_time": "2022-11-04T13:56:44.272Z"
   },
   {
    "duration": 4,
    "start_time": "2022-11-04T13:56:44.307Z"
   },
   {
    "duration": 31,
    "start_time": "2022-11-04T13:56:44.316Z"
   },
   {
    "duration": 14,
    "start_time": "2022-11-04T13:56:44.349Z"
   },
   {
    "duration": 3,
    "start_time": "2022-11-04T13:56:44.365Z"
   },
   {
    "duration": 1407,
    "start_time": "2022-11-04T13:56:44.370Z"
   },
   {
    "duration": 0,
    "start_time": "2022-11-04T13:56:45.779Z"
   },
   {
    "duration": 0,
    "start_time": "2022-11-04T13:56:45.781Z"
   },
   {
    "duration": 0,
    "start_time": "2022-11-04T13:56:45.782Z"
   },
   {
    "duration": 0,
    "start_time": "2022-11-04T13:56:45.783Z"
   },
   {
    "duration": 0,
    "start_time": "2022-11-04T13:56:45.784Z"
   },
   {
    "duration": 0,
    "start_time": "2022-11-04T13:56:45.785Z"
   },
   {
    "duration": 0,
    "start_time": "2022-11-04T13:56:45.787Z"
   },
   {
    "duration": 0,
    "start_time": "2022-11-04T13:56:45.788Z"
   },
   {
    "duration": 0,
    "start_time": "2022-11-04T13:56:45.789Z"
   },
   {
    "duration": 0,
    "start_time": "2022-11-04T13:56:45.792Z"
   },
   {
    "duration": 0,
    "start_time": "2022-11-04T13:56:45.793Z"
   },
   {
    "duration": 92,
    "start_time": "2022-11-04T13:58:27.420Z"
   },
   {
    "duration": 20,
    "start_time": "2022-11-04T13:58:27.514Z"
   },
   {
    "duration": 20,
    "start_time": "2022-11-04T13:58:27.536Z"
   },
   {
    "duration": 13,
    "start_time": "2022-11-04T13:58:27.558Z"
   },
   {
    "duration": 74,
    "start_time": "2022-11-04T13:58:27.574Z"
   },
   {
    "duration": 4,
    "start_time": "2022-11-04T13:58:27.650Z"
   },
   {
    "duration": 15,
    "start_time": "2022-11-04T13:58:27.657Z"
   },
   {
    "duration": 5,
    "start_time": "2022-11-04T13:58:27.675Z"
   },
   {
    "duration": 26,
    "start_time": "2022-11-04T13:58:27.681Z"
   },
   {
    "duration": 4,
    "start_time": "2022-11-04T13:58:27.709Z"
   },
   {
    "duration": 42,
    "start_time": "2022-11-04T13:58:27.715Z"
   },
   {
    "duration": 11,
    "start_time": "2022-11-04T13:58:27.759Z"
   },
   {
    "duration": 4,
    "start_time": "2022-11-04T13:58:27.773Z"
   },
   {
    "duration": 21,
    "start_time": "2022-11-04T13:58:27.790Z"
   },
   {
    "duration": 28,
    "start_time": "2022-11-04T13:58:27.817Z"
   },
   {
    "duration": 16,
    "start_time": "2022-11-04T13:58:27.847Z"
   },
   {
    "duration": 4,
    "start_time": "2022-11-04T13:58:27.864Z"
   },
   {
    "duration": 27,
    "start_time": "2022-11-04T13:58:27.870Z"
   },
   {
    "duration": 7,
    "start_time": "2022-11-04T13:58:27.909Z"
   },
   {
    "duration": 4,
    "start_time": "2022-11-04T13:58:27.921Z"
   },
   {
    "duration": 13,
    "start_time": "2022-11-04T13:58:27.927Z"
   },
   {
    "duration": 5,
    "start_time": "2022-11-04T13:58:27.941Z"
   },
   {
    "duration": 29,
    "start_time": "2022-11-04T13:58:27.948Z"
   },
   {
    "duration": 24,
    "start_time": "2022-11-04T13:58:27.978Z"
   },
   {
    "duration": 4,
    "start_time": "2022-11-04T13:58:28.006Z"
   },
   {
    "duration": 16,
    "start_time": "2022-11-04T13:58:28.011Z"
   },
   {
    "duration": 3,
    "start_time": "2022-11-04T13:58:28.028Z"
   },
   {
    "duration": 7,
    "start_time": "2022-11-04T13:58:28.032Z"
   },
   {
    "duration": 5,
    "start_time": "2022-11-04T13:58:28.040Z"
   },
   {
    "duration": 20,
    "start_time": "2022-11-04T13:58:28.047Z"
   },
   {
    "duration": 30,
    "start_time": "2022-11-04T13:58:28.069Z"
   },
   {
    "duration": 19,
    "start_time": "2022-11-04T13:58:28.101Z"
   },
   {
    "duration": 11,
    "start_time": "2022-11-04T13:58:28.126Z"
   },
   {
    "duration": 4,
    "start_time": "2022-11-04T13:58:28.139Z"
   },
   {
    "duration": 17,
    "start_time": "2022-11-04T13:58:28.145Z"
   },
   {
    "duration": 40,
    "start_time": "2022-11-04T13:58:28.164Z"
   },
   {
    "duration": 5,
    "start_time": "2022-11-04T13:58:28.205Z"
   },
   {
    "duration": 98,
    "start_time": "2022-11-04T14:00:56.049Z"
   },
   {
    "duration": 26,
    "start_time": "2022-11-04T14:00:56.150Z"
   },
   {
    "duration": 26,
    "start_time": "2022-11-04T14:00:56.190Z"
   },
   {
    "duration": 14,
    "start_time": "2022-11-04T14:00:56.218Z"
   },
   {
    "duration": 47,
    "start_time": "2022-11-04T14:00:56.234Z"
   },
   {
    "duration": 16,
    "start_time": "2022-11-04T14:00:56.283Z"
   },
   {
    "duration": 19,
    "start_time": "2022-11-04T14:00:56.300Z"
   },
   {
    "duration": 11,
    "start_time": "2022-11-04T14:00:56.320Z"
   },
   {
    "duration": 13,
    "start_time": "2022-11-04T14:00:56.334Z"
   },
   {
    "duration": 9,
    "start_time": "2022-11-04T14:00:56.349Z"
   },
   {
    "duration": 55,
    "start_time": "2022-11-04T14:00:56.360Z"
   },
   {
    "duration": 17,
    "start_time": "2022-11-04T14:00:56.420Z"
   },
   {
    "duration": 5,
    "start_time": "2022-11-04T14:00:56.443Z"
   },
   {
    "duration": 15,
    "start_time": "2022-11-04T14:00:56.451Z"
   },
   {
    "duration": 36,
    "start_time": "2022-11-04T14:00:56.470Z"
   },
   {
    "duration": 27,
    "start_time": "2022-11-04T14:00:56.509Z"
   },
   {
    "duration": 4,
    "start_time": "2022-11-04T14:00:56.541Z"
   },
   {
    "duration": 32,
    "start_time": "2022-11-04T14:00:56.547Z"
   },
   {
    "duration": 7,
    "start_time": "2022-11-04T14:00:56.581Z"
   },
   {
    "duration": 7,
    "start_time": "2022-11-04T14:00:56.592Z"
   },
   {
    "duration": 29,
    "start_time": "2022-11-04T14:00:56.601Z"
   },
   {
    "duration": 17,
    "start_time": "2022-11-04T14:00:56.640Z"
   },
   {
    "duration": 54,
    "start_time": "2022-11-04T14:00:56.662Z"
   },
   {
    "duration": 14,
    "start_time": "2022-11-04T14:00:56.720Z"
   },
   {
    "duration": 8,
    "start_time": "2022-11-04T14:00:56.736Z"
   },
   {
    "duration": 24,
    "start_time": "2022-11-04T14:00:56.749Z"
   },
   {
    "duration": 3,
    "start_time": "2022-11-04T14:00:56.775Z"
   },
   {
    "duration": 11,
    "start_time": "2022-11-04T14:00:56.779Z"
   },
   {
    "duration": 14,
    "start_time": "2022-11-04T14:00:56.793Z"
   },
   {
    "duration": 21,
    "start_time": "2022-11-04T14:00:56.809Z"
   },
   {
    "duration": 14,
    "start_time": "2022-11-04T14:00:56.832Z"
   },
   {
    "duration": 20,
    "start_time": "2022-11-04T14:00:56.849Z"
   },
   {
    "duration": 10,
    "start_time": "2022-11-04T14:00:56.871Z"
   },
   {
    "duration": 17,
    "start_time": "2022-11-04T14:00:56.883Z"
   },
   {
    "duration": 29,
    "start_time": "2022-11-04T14:00:56.907Z"
   },
   {
    "duration": 12,
    "start_time": "2022-11-04T14:00:56.943Z"
   },
   {
    "duration": 6,
    "start_time": "2022-11-04T14:00:56.958Z"
   },
   {
    "duration": 12,
    "start_time": "2022-11-04T14:21:24.017Z"
   },
   {
    "duration": 104,
    "start_time": "2022-11-04T14:21:26.707Z"
   },
   {
    "duration": 26,
    "start_time": "2022-11-04T14:21:26.813Z"
   },
   {
    "duration": 23,
    "start_time": "2022-11-04T14:21:26.842Z"
   },
   {
    "duration": 17,
    "start_time": "2022-11-04T14:21:26.867Z"
   },
   {
    "duration": 50,
    "start_time": "2022-11-04T14:21:26.887Z"
   },
   {
    "duration": 4,
    "start_time": "2022-11-04T14:21:26.939Z"
   },
   {
    "duration": 10,
    "start_time": "2022-11-04T14:21:26.945Z"
   },
   {
    "duration": 5,
    "start_time": "2022-11-04T14:21:26.957Z"
   },
   {
    "duration": 7,
    "start_time": "2022-11-04T14:21:26.963Z"
   },
   {
    "duration": 22,
    "start_time": "2022-11-04T14:21:26.972Z"
   },
   {
    "duration": 80,
    "start_time": "2022-11-04T14:21:26.997Z"
   },
   {
    "duration": 23,
    "start_time": "2022-11-04T14:21:27.079Z"
   },
   {
    "duration": 14,
    "start_time": "2022-11-04T14:21:27.104Z"
   },
   {
    "duration": 11,
    "start_time": "2022-11-04T14:21:27.124Z"
   },
   {
    "duration": 21,
    "start_time": "2022-11-04T14:21:27.137Z"
   },
   {
    "duration": 34,
    "start_time": "2022-11-04T14:21:27.159Z"
   },
   {
    "duration": 14,
    "start_time": "2022-11-04T14:21:27.194Z"
   },
   {
    "duration": 22,
    "start_time": "2022-11-04T14:21:27.210Z"
   },
   {
    "duration": 6,
    "start_time": "2022-11-04T14:21:27.234Z"
   },
   {
    "duration": 3,
    "start_time": "2022-11-04T14:21:27.242Z"
   },
   {
    "duration": 10,
    "start_time": "2022-11-04T14:21:27.247Z"
   },
   {
    "duration": 5,
    "start_time": "2022-11-04T14:21:27.259Z"
   },
   {
    "duration": 53,
    "start_time": "2022-11-04T14:21:27.265Z"
   },
   {
    "duration": 14,
    "start_time": "2022-11-04T14:21:27.321Z"
   },
   {
    "duration": 4,
    "start_time": "2022-11-04T14:21:27.337Z"
   },
   {
    "duration": 27,
    "start_time": "2022-11-04T14:21:27.343Z"
   },
   {
    "duration": 11,
    "start_time": "2022-11-04T14:21:27.371Z"
   },
   {
    "duration": 0,
    "start_time": "2022-11-04T14:21:27.395Z"
   },
   {
    "duration": 0,
    "start_time": "2022-11-04T14:21:27.396Z"
   },
   {
    "duration": 0,
    "start_time": "2022-11-04T14:21:27.399Z"
   },
   {
    "duration": 1,
    "start_time": "2022-11-04T14:21:27.399Z"
   },
   {
    "duration": 0,
    "start_time": "2022-11-04T14:21:27.403Z"
   },
   {
    "duration": 0,
    "start_time": "2022-11-04T14:21:27.404Z"
   },
   {
    "duration": 0,
    "start_time": "2022-11-04T14:21:27.404Z"
   },
   {
    "duration": 0,
    "start_time": "2022-11-04T14:21:27.406Z"
   },
   {
    "duration": 0,
    "start_time": "2022-11-04T14:21:27.407Z"
   },
   {
    "duration": 0,
    "start_time": "2022-11-04T14:21:27.408Z"
   },
   {
    "duration": 20,
    "start_time": "2022-11-04T14:24:16.589Z"
   },
   {
    "duration": 76,
    "start_time": "2022-11-04T14:24:18.798Z"
   },
   {
    "duration": 18,
    "start_time": "2022-11-04T14:24:18.876Z"
   },
   {
    "duration": 28,
    "start_time": "2022-11-04T14:24:18.896Z"
   },
   {
    "duration": 9,
    "start_time": "2022-11-04T14:24:18.927Z"
   },
   {
    "duration": 32,
    "start_time": "2022-11-04T14:24:18.937Z"
   },
   {
    "duration": 3,
    "start_time": "2022-11-04T14:24:18.971Z"
   },
   {
    "duration": 25,
    "start_time": "2022-11-04T14:24:18.991Z"
   },
   {
    "duration": 5,
    "start_time": "2022-11-04T14:24:19.020Z"
   },
   {
    "duration": 12,
    "start_time": "2022-11-04T14:24:19.027Z"
   },
   {
    "duration": 5,
    "start_time": "2022-11-04T14:24:19.041Z"
   },
   {
    "duration": 31,
    "start_time": "2022-11-04T14:24:19.048Z"
   },
   {
    "duration": 30,
    "start_time": "2022-11-04T14:24:19.081Z"
   },
   {
    "duration": 8,
    "start_time": "2022-11-04T14:24:19.112Z"
   },
   {
    "duration": 11,
    "start_time": "2022-11-04T14:24:19.127Z"
   },
   {
    "duration": 29,
    "start_time": "2022-11-04T14:24:19.139Z"
   },
   {
    "duration": 26,
    "start_time": "2022-11-04T14:24:19.170Z"
   },
   {
    "duration": 5,
    "start_time": "2022-11-04T14:24:19.203Z"
   },
   {
    "duration": 27,
    "start_time": "2022-11-04T14:24:19.209Z"
   },
   {
    "duration": 8,
    "start_time": "2022-11-04T14:24:19.238Z"
   },
   {
    "duration": 15,
    "start_time": "2022-11-04T14:24:19.248Z"
   },
   {
    "duration": 25,
    "start_time": "2022-11-04T14:24:19.264Z"
   },
   {
    "duration": 17,
    "start_time": "2022-11-04T14:24:19.291Z"
   },
   {
    "duration": 36,
    "start_time": "2022-11-04T14:24:19.309Z"
   },
   {
    "duration": 32,
    "start_time": "2022-11-04T14:24:19.347Z"
   },
   {
    "duration": 0,
    "start_time": "2022-11-04T14:24:19.381Z"
   },
   {
    "duration": 0,
    "start_time": "2022-11-04T14:24:19.382Z"
   },
   {
    "duration": 1,
    "start_time": "2022-11-04T14:24:19.383Z"
   },
   {
    "duration": 0,
    "start_time": "2022-11-04T14:24:19.385Z"
   },
   {
    "duration": 0,
    "start_time": "2022-11-04T14:24:19.385Z"
   },
   {
    "duration": 0,
    "start_time": "2022-11-04T14:24:19.386Z"
   },
   {
    "duration": 0,
    "start_time": "2022-11-04T14:24:19.387Z"
   },
   {
    "duration": 0,
    "start_time": "2022-11-04T14:24:19.387Z"
   },
   {
    "duration": 0,
    "start_time": "2022-11-04T14:24:19.388Z"
   },
   {
    "duration": 0,
    "start_time": "2022-11-04T14:24:19.390Z"
   },
   {
    "duration": 0,
    "start_time": "2022-11-04T14:24:19.397Z"
   },
   {
    "duration": 0,
    "start_time": "2022-11-04T14:24:19.399Z"
   },
   {
    "duration": 0,
    "start_time": "2022-11-04T14:24:19.404Z"
   },
   {
    "duration": 22,
    "start_time": "2022-11-04T14:25:11.989Z"
   },
   {
    "duration": 1780,
    "start_time": "2022-11-04T14:25:33.384Z"
   },
   {
    "duration": 12,
    "start_time": "2022-11-04T14:28:01.341Z"
   },
   {
    "duration": 95,
    "start_time": "2022-11-04T14:28:38.657Z"
   },
   {
    "duration": 15,
    "start_time": "2022-11-04T14:28:38.754Z"
   },
   {
    "duration": 16,
    "start_time": "2022-11-04T14:28:38.770Z"
   },
   {
    "duration": 20,
    "start_time": "2022-11-04T14:28:38.788Z"
   },
   {
    "duration": 38,
    "start_time": "2022-11-04T14:28:38.813Z"
   },
   {
    "duration": 4,
    "start_time": "2022-11-04T14:28:38.853Z"
   },
   {
    "duration": 8,
    "start_time": "2022-11-04T14:28:38.858Z"
   },
   {
    "duration": 4,
    "start_time": "2022-11-04T14:28:38.868Z"
   },
   {
    "duration": 22,
    "start_time": "2022-11-04T14:28:38.874Z"
   },
   {
    "duration": 9,
    "start_time": "2022-11-04T14:28:38.898Z"
   },
   {
    "duration": 44,
    "start_time": "2022-11-04T14:28:38.909Z"
   },
   {
    "duration": 10,
    "start_time": "2022-11-04T14:28:38.955Z"
   },
   {
    "duration": 4,
    "start_time": "2022-11-04T14:28:38.967Z"
   },
   {
    "duration": 18,
    "start_time": "2022-11-04T14:28:38.994Z"
   },
   {
    "duration": 41,
    "start_time": "2022-11-04T14:28:39.017Z"
   },
   {
    "duration": 17,
    "start_time": "2022-11-04T14:28:39.060Z"
   },
   {
    "duration": 4,
    "start_time": "2022-11-04T14:28:39.078Z"
   },
   {
    "duration": 34,
    "start_time": "2022-11-04T14:28:39.084Z"
   },
   {
    "duration": 13,
    "start_time": "2022-11-04T14:28:39.122Z"
   },
   {
    "duration": 33,
    "start_time": "2022-11-04T14:28:39.137Z"
   },
   {
    "duration": 50,
    "start_time": "2022-11-04T14:28:39.172Z"
   },
   {
    "duration": 28,
    "start_time": "2022-11-04T14:28:39.223Z"
   },
   {
    "duration": 35,
    "start_time": "2022-11-04T14:28:39.253Z"
   },
   {
    "duration": 38,
    "start_time": "2022-11-04T14:28:39.290Z"
   },
   {
    "duration": 36,
    "start_time": "2022-11-04T14:28:39.330Z"
   },
   {
    "duration": 56,
    "start_time": "2022-11-04T14:28:39.368Z"
   },
   {
    "duration": 8,
    "start_time": "2022-11-04T14:28:39.425Z"
   },
   {
    "duration": 4,
    "start_time": "2022-11-04T14:28:39.434Z"
   },
   {
    "duration": 15,
    "start_time": "2022-11-04T14:28:39.440Z"
   },
   {
    "duration": 8,
    "start_time": "2022-11-04T14:28:39.456Z"
   },
   {
    "duration": 4,
    "start_time": "2022-11-04T14:28:39.465Z"
   },
   {
    "duration": 8,
    "start_time": "2022-11-04T14:35:40.133Z"
   },
   {
    "duration": 6,
    "start_time": "2022-11-04T14:36:23.149Z"
   },
   {
    "duration": 1920,
    "start_time": "2022-11-04T14:45:16.344Z"
   },
   {
    "duration": 109,
    "start_time": "2022-11-04T14:45:23.572Z"
   },
   {
    "duration": 22,
    "start_time": "2022-11-04T14:45:23.683Z"
   },
   {
    "duration": 29,
    "start_time": "2022-11-04T14:45:23.707Z"
   },
   {
    "duration": 17,
    "start_time": "2022-11-04T14:45:23.739Z"
   },
   {
    "duration": 52,
    "start_time": "2022-11-04T14:45:23.760Z"
   },
   {
    "duration": 4,
    "start_time": "2022-11-04T14:45:23.814Z"
   },
   {
    "duration": 13,
    "start_time": "2022-11-04T14:45:23.820Z"
   },
   {
    "duration": 5,
    "start_time": "2022-11-04T14:45:23.835Z"
   },
   {
    "duration": 7,
    "start_time": "2022-11-04T14:45:23.842Z"
   },
   {
    "duration": 5,
    "start_time": "2022-11-04T14:45:23.853Z"
   },
   {
    "duration": 79,
    "start_time": "2022-11-04T14:45:23.860Z"
   },
   {
    "duration": 20,
    "start_time": "2022-11-04T14:45:23.943Z"
   },
   {
    "duration": 5,
    "start_time": "2022-11-04T14:45:23.965Z"
   },
   {
    "duration": 13,
    "start_time": "2022-11-04T14:45:23.972Z"
   },
   {
    "duration": 36,
    "start_time": "2022-11-04T14:45:23.994Z"
   },
   {
    "duration": 27,
    "start_time": "2022-11-04T14:45:24.032Z"
   },
   {
    "duration": 5,
    "start_time": "2022-11-04T14:45:24.063Z"
   },
   {
    "duration": 31,
    "start_time": "2022-11-04T14:45:24.069Z"
   },
   {
    "duration": 23,
    "start_time": "2022-11-04T14:45:24.102Z"
   },
   {
    "duration": 10,
    "start_time": "2022-11-04T14:45:24.129Z"
   },
   {
    "duration": 19,
    "start_time": "2022-11-04T14:45:24.141Z"
   },
   {
    "duration": 17,
    "start_time": "2022-11-04T14:45:24.162Z"
   },
   {
    "duration": 7,
    "start_time": "2022-11-04T14:45:24.181Z"
   },
   {
    "duration": 1548,
    "start_time": "2022-11-04T14:45:24.191Z"
   },
   {
    "duration": 0,
    "start_time": "2022-11-04T14:45:25.741Z"
   },
   {
    "duration": 0,
    "start_time": "2022-11-04T14:45:25.742Z"
   },
   {
    "duration": 0,
    "start_time": "2022-11-04T14:45:25.744Z"
   },
   {
    "duration": 0,
    "start_time": "2022-11-04T14:45:25.745Z"
   },
   {
    "duration": 0,
    "start_time": "2022-11-04T14:45:25.746Z"
   },
   {
    "duration": 0,
    "start_time": "2022-11-04T14:45:25.747Z"
   },
   {
    "duration": 0,
    "start_time": "2022-11-04T14:45:25.748Z"
   },
   {
    "duration": 0,
    "start_time": "2022-11-04T14:45:25.749Z"
   },
   {
    "duration": 0,
    "start_time": "2022-11-04T14:45:25.750Z"
   },
   {
    "duration": 19,
    "start_time": "2022-11-04T14:47:40.870Z"
   },
   {
    "duration": 1790,
    "start_time": "2022-11-04T14:49:50.055Z"
   },
   {
    "duration": 77,
    "start_time": "2022-11-04T14:49:54.735Z"
   },
   {
    "duration": 20,
    "start_time": "2022-11-04T14:49:54.815Z"
   },
   {
    "duration": 19,
    "start_time": "2022-11-04T14:49:54.837Z"
   },
   {
    "duration": 12,
    "start_time": "2022-11-04T14:49:54.858Z"
   },
   {
    "duration": 63,
    "start_time": "2022-11-04T14:49:54.872Z"
   },
   {
    "duration": 4,
    "start_time": "2022-11-04T14:49:54.937Z"
   },
   {
    "duration": 9,
    "start_time": "2022-11-04T14:49:54.943Z"
   },
   {
    "duration": 4,
    "start_time": "2022-11-04T14:49:54.954Z"
   },
   {
    "duration": 8,
    "start_time": "2022-11-04T14:49:54.959Z"
   },
   {
    "duration": 5,
    "start_time": "2022-11-04T14:49:54.970Z"
   },
   {
    "duration": 45,
    "start_time": "2022-11-04T14:49:54.991Z"
   },
   {
    "duration": 10,
    "start_time": "2022-11-04T14:49:55.038Z"
   },
   {
    "duration": 4,
    "start_time": "2022-11-04T14:49:55.050Z"
   },
   {
    "duration": 18,
    "start_time": "2022-11-04T14:49:55.056Z"
   },
   {
    "duration": 31,
    "start_time": "2022-11-04T14:49:55.091Z"
   },
   {
    "duration": 18,
    "start_time": "2022-11-04T14:49:55.125Z"
   },
   {
    "duration": 4,
    "start_time": "2022-11-04T14:49:55.145Z"
   },
   {
    "duration": 14,
    "start_time": "2022-11-04T14:49:55.151Z"
   },
   {
    "duration": 29,
    "start_time": "2022-11-04T14:49:55.167Z"
   },
   {
    "duration": 12,
    "start_time": "2022-11-04T14:49:55.198Z"
   },
   {
    "duration": 15,
    "start_time": "2022-11-04T14:49:55.212Z"
   },
   {
    "duration": 11,
    "start_time": "2022-11-04T14:49:55.229Z"
   },
   {
    "duration": 6,
    "start_time": "2022-11-04T14:49:55.242Z"
   },
   {
    "duration": 12,
    "start_time": "2022-11-04T14:49:55.250Z"
   },
   {
    "duration": 1404,
    "start_time": "2022-11-04T14:49:55.263Z"
   },
   {
    "duration": 0,
    "start_time": "2022-11-04T14:49:56.670Z"
   },
   {
    "duration": 0,
    "start_time": "2022-11-04T14:49:56.672Z"
   },
   {
    "duration": 0,
    "start_time": "2022-11-04T14:49:56.673Z"
   },
   {
    "duration": 0,
    "start_time": "2022-11-04T14:49:56.677Z"
   },
   {
    "duration": 0,
    "start_time": "2022-11-04T14:49:56.678Z"
   },
   {
    "duration": 0,
    "start_time": "2022-11-04T14:49:56.679Z"
   },
   {
    "duration": 0,
    "start_time": "2022-11-04T14:49:56.680Z"
   },
   {
    "duration": 0,
    "start_time": "2022-11-04T14:49:56.681Z"
   },
   {
    "duration": 1300,
    "start_time": "2022-11-04T14:51:08.126Z"
   },
   {
    "duration": 8,
    "start_time": "2022-11-04T14:59:35.568Z"
   },
   {
    "duration": 27,
    "start_time": "2022-11-04T15:04:27.523Z"
   },
   {
    "duration": 85,
    "start_time": "2022-11-04T15:04:30.951Z"
   },
   {
    "duration": 16,
    "start_time": "2022-11-04T15:04:31.039Z"
   },
   {
    "duration": 28,
    "start_time": "2022-11-04T15:04:31.057Z"
   },
   {
    "duration": 18,
    "start_time": "2022-11-04T15:04:31.087Z"
   },
   {
    "duration": 44,
    "start_time": "2022-11-04T15:04:31.107Z"
   },
   {
    "duration": 3,
    "start_time": "2022-11-04T15:04:31.153Z"
   },
   {
    "duration": 18,
    "start_time": "2022-11-04T15:04:31.158Z"
   },
   {
    "duration": 15,
    "start_time": "2022-11-04T15:04:31.178Z"
   },
   {
    "duration": 14,
    "start_time": "2022-11-04T15:04:31.195Z"
   },
   {
    "duration": 6,
    "start_time": "2022-11-04T15:04:31.212Z"
   },
   {
    "duration": 38,
    "start_time": "2022-11-04T15:04:31.220Z"
   },
   {
    "duration": 10,
    "start_time": "2022-11-04T15:04:31.260Z"
   },
   {
    "duration": 23,
    "start_time": "2022-11-04T15:04:31.271Z"
   },
   {
    "duration": 25,
    "start_time": "2022-11-04T15:04:31.297Z"
   },
   {
    "duration": 23,
    "start_time": "2022-11-04T15:04:31.325Z"
   },
   {
    "duration": 27,
    "start_time": "2022-11-04T15:04:31.351Z"
   },
   {
    "duration": 10,
    "start_time": "2022-11-04T15:04:31.390Z"
   },
   {
    "duration": 18,
    "start_time": "2022-11-04T15:04:31.402Z"
   },
   {
    "duration": 16,
    "start_time": "2022-11-04T15:04:31.423Z"
   },
   {
    "duration": 4,
    "start_time": "2022-11-04T15:04:31.442Z"
   },
   {
    "duration": 13,
    "start_time": "2022-11-04T15:04:31.448Z"
   },
   {
    "duration": 16,
    "start_time": "2022-11-04T15:04:31.463Z"
   },
   {
    "duration": 9,
    "start_time": "2022-11-04T15:04:31.495Z"
   },
   {
    "duration": 26,
    "start_time": "2022-11-04T15:04:31.506Z"
   },
   {
    "duration": 42,
    "start_time": "2022-11-04T15:04:31.533Z"
   },
   {
    "duration": 0,
    "start_time": "2022-11-04T15:04:31.577Z"
   },
   {
    "duration": 0,
    "start_time": "2022-11-04T15:04:31.578Z"
   },
   {
    "duration": 0,
    "start_time": "2022-11-04T15:04:31.579Z"
   },
   {
    "duration": 0,
    "start_time": "2022-11-04T15:04:31.591Z"
   },
   {
    "duration": 0,
    "start_time": "2022-11-04T15:04:31.592Z"
   },
   {
    "duration": 0,
    "start_time": "2022-11-04T15:04:31.593Z"
   },
   {
    "duration": 0,
    "start_time": "2022-11-04T15:04:31.594Z"
   },
   {
    "duration": 0,
    "start_time": "2022-11-04T15:04:31.595Z"
   },
   {
    "duration": 0,
    "start_time": "2022-11-04T15:04:31.596Z"
   },
   {
    "duration": 30,
    "start_time": "2022-11-04T15:06:13.276Z"
   },
   {
    "duration": 11,
    "start_time": "2022-11-04T15:07:10.131Z"
   },
   {
    "duration": 26,
    "start_time": "2022-11-04T15:07:34.677Z"
   },
   {
    "duration": 30,
    "start_time": "2022-11-04T15:11:42.168Z"
   },
   {
    "duration": 13,
    "start_time": "2022-11-04T15:13:01.376Z"
   },
   {
    "duration": 88,
    "start_time": "2022-11-04T15:24:01.329Z"
   },
   {
    "duration": 57,
    "start_time": "2022-11-04T15:24:08.028Z"
   },
   {
    "duration": 78,
    "start_time": "2022-11-04T15:24:20.722Z"
   },
   {
    "duration": 21,
    "start_time": "2022-11-04T15:24:20.802Z"
   },
   {
    "duration": 16,
    "start_time": "2022-11-04T15:24:20.825Z"
   },
   {
    "duration": 9,
    "start_time": "2022-11-04T15:24:20.843Z"
   },
   {
    "duration": 50,
    "start_time": "2022-11-04T15:24:20.854Z"
   },
   {
    "duration": 7,
    "start_time": "2022-11-04T15:24:20.907Z"
   },
   {
    "duration": 10,
    "start_time": "2022-11-04T15:24:20.915Z"
   },
   {
    "duration": 4,
    "start_time": "2022-11-04T15:24:20.926Z"
   },
   {
    "duration": 7,
    "start_time": "2022-11-04T15:24:20.932Z"
   },
   {
    "duration": 4,
    "start_time": "2022-11-04T15:24:20.941Z"
   },
   {
    "duration": 69,
    "start_time": "2022-11-04T15:24:20.947Z"
   },
   {
    "duration": 11,
    "start_time": "2022-11-04T15:24:21.021Z"
   },
   {
    "duration": 4,
    "start_time": "2022-11-04T15:24:21.033Z"
   },
   {
    "duration": 13,
    "start_time": "2022-11-04T15:24:21.040Z"
   },
   {
    "duration": 20,
    "start_time": "2022-11-04T15:24:21.054Z"
   },
   {
    "duration": 49,
    "start_time": "2022-11-04T15:24:21.076Z"
   },
   {
    "duration": 4,
    "start_time": "2022-11-04T15:24:21.128Z"
   },
   {
    "duration": 14,
    "start_time": "2022-11-04T15:24:21.134Z"
   },
   {
    "duration": 7,
    "start_time": "2022-11-04T15:24:21.150Z"
   },
   {
    "duration": 4,
    "start_time": "2022-11-04T15:24:21.159Z"
   },
   {
    "duration": 29,
    "start_time": "2022-11-04T15:24:21.165Z"
   },
   {
    "duration": 17,
    "start_time": "2022-11-04T15:24:21.205Z"
   },
   {
    "duration": 6,
    "start_time": "2022-11-04T15:24:21.226Z"
   },
   {
    "duration": 19,
    "start_time": "2022-11-04T15:24:21.234Z"
   },
   {
    "duration": 39,
    "start_time": "2022-11-04T15:24:21.255Z"
   },
   {
    "duration": 22,
    "start_time": "2022-11-04T15:24:21.304Z"
   },
   {
    "duration": 6,
    "start_time": "2022-11-04T15:24:21.328Z"
   },
   {
    "duration": 64,
    "start_time": "2022-11-04T15:24:21.336Z"
   },
   {
    "duration": 23,
    "start_time": "2022-11-04T15:24:21.402Z"
   },
   {
    "duration": 9,
    "start_time": "2022-11-04T15:24:21.426Z"
   },
   {
    "duration": 4,
    "start_time": "2022-11-04T15:24:21.436Z"
   },
   {
    "duration": 8,
    "start_time": "2022-11-04T15:24:21.442Z"
   },
   {
    "duration": 44,
    "start_time": "2022-11-04T15:24:21.452Z"
   },
   {
    "duration": 15,
    "start_time": "2022-11-04T15:24:21.502Z"
   },
   {
    "duration": 8,
    "start_time": "2022-11-04T15:24:21.521Z"
   },
   {
    "duration": 66,
    "start_time": "2022-11-04T15:41:18.472Z"
   },
   {
    "duration": 14,
    "start_time": "2022-11-04T15:41:18.540Z"
   },
   {
    "duration": 18,
    "start_time": "2022-11-04T15:41:18.556Z"
   },
   {
    "duration": 10,
    "start_time": "2022-11-04T15:41:18.590Z"
   },
   {
    "duration": 34,
    "start_time": "2022-11-04T15:41:18.602Z"
   },
   {
    "duration": 3,
    "start_time": "2022-11-04T15:41:18.638Z"
   },
   {
    "duration": 11,
    "start_time": "2022-11-04T15:41:18.642Z"
   },
   {
    "duration": 11,
    "start_time": "2022-11-04T15:41:18.654Z"
   },
   {
    "duration": 8,
    "start_time": "2022-11-04T15:41:18.691Z"
   },
   {
    "duration": 8,
    "start_time": "2022-11-04T15:41:18.701Z"
   },
   {
    "duration": 34,
    "start_time": "2022-11-04T15:41:18.711Z"
   },
   {
    "duration": 10,
    "start_time": "2022-11-04T15:41:18.746Z"
   },
   {
    "duration": 4,
    "start_time": "2022-11-04T15:41:18.758Z"
   },
   {
    "duration": 33,
    "start_time": "2022-11-04T15:41:18.765Z"
   },
   {
    "duration": 27,
    "start_time": "2022-11-04T15:41:18.800Z"
   },
   {
    "duration": 19,
    "start_time": "2022-11-04T15:41:18.828Z"
   },
   {
    "duration": 3,
    "start_time": "2022-11-04T15:41:18.849Z"
   },
   {
    "duration": 18,
    "start_time": "2022-11-04T15:41:18.854Z"
   },
   {
    "duration": 20,
    "start_time": "2022-11-04T15:41:18.873Z"
   },
   {
    "duration": 3,
    "start_time": "2022-11-04T15:41:18.895Z"
   },
   {
    "duration": 10,
    "start_time": "2022-11-04T15:41:18.900Z"
   },
   {
    "duration": 11,
    "start_time": "2022-11-04T15:41:18.911Z"
   },
   {
    "duration": 7,
    "start_time": "2022-11-04T15:41:18.923Z"
   },
   {
    "duration": 29,
    "start_time": "2022-11-04T15:41:18.931Z"
   },
   {
    "duration": 26,
    "start_time": "2022-11-04T15:41:18.990Z"
   },
   {
    "duration": 12,
    "start_time": "2022-11-04T15:41:19.017Z"
   },
   {
    "duration": 10,
    "start_time": "2022-11-04T15:41:19.031Z"
   },
   {
    "duration": 81,
    "start_time": "2022-11-04T15:41:19.043Z"
   },
   {
    "duration": 17,
    "start_time": "2022-11-04T15:41:19.125Z"
   },
   {
    "duration": 7,
    "start_time": "2022-11-04T15:41:19.144Z"
   },
   {
    "duration": 4,
    "start_time": "2022-11-04T15:41:19.153Z"
   },
   {
    "duration": 33,
    "start_time": "2022-11-04T15:41:19.159Z"
   },
   {
    "duration": 15,
    "start_time": "2022-11-04T15:41:19.193Z"
   },
   {
    "duration": 7,
    "start_time": "2022-11-04T15:41:19.210Z"
   },
   {
    "duration": 4,
    "start_time": "2022-11-04T15:41:19.219Z"
   },
   {
    "duration": 11,
    "start_time": "2022-11-04T15:42:05.602Z"
   },
   {
    "duration": 68,
    "start_time": "2022-11-04T15:44:29.932Z"
   },
   {
    "duration": 69,
    "start_time": "2022-11-04T15:44:32.863Z"
   },
   {
    "duration": 21,
    "start_time": "2022-11-04T15:48:59.959Z"
   },
   {
    "duration": 13,
    "start_time": "2022-11-04T15:56:30.501Z"
   },
   {
    "duration": 29,
    "start_time": "2022-11-04T15:56:40.985Z"
   },
   {
    "duration": 29,
    "start_time": "2022-11-04T15:57:15.825Z"
   },
   {
    "duration": 11,
    "start_time": "2022-11-04T15:57:22.722Z"
   },
   {
    "duration": 73,
    "start_time": "2022-11-04T15:58:54.095Z"
   },
   {
    "duration": 15,
    "start_time": "2022-11-04T15:58:54.171Z"
   },
   {
    "duration": 14,
    "start_time": "2022-11-04T15:58:54.187Z"
   },
   {
    "duration": 9,
    "start_time": "2022-11-04T15:58:54.203Z"
   },
   {
    "duration": 33,
    "start_time": "2022-11-04T15:58:54.214Z"
   },
   {
    "duration": 4,
    "start_time": "2022-11-04T15:58:54.248Z"
   },
   {
    "duration": 10,
    "start_time": "2022-11-04T15:58:54.254Z"
   },
   {
    "duration": 4,
    "start_time": "2022-11-04T15:58:54.292Z"
   },
   {
    "duration": 6,
    "start_time": "2022-11-04T15:58:54.298Z"
   },
   {
    "duration": 4,
    "start_time": "2022-11-04T15:58:54.306Z"
   },
   {
    "duration": 34,
    "start_time": "2022-11-04T15:58:54.311Z"
   },
   {
    "duration": 10,
    "start_time": "2022-11-04T15:58:54.347Z"
   },
   {
    "duration": 34,
    "start_time": "2022-11-04T15:58:54.359Z"
   },
   {
    "duration": 11,
    "start_time": "2022-11-04T15:58:54.394Z"
   },
   {
    "duration": 22,
    "start_time": "2022-11-04T15:58:54.407Z"
   },
   {
    "duration": 23,
    "start_time": "2022-11-04T15:58:54.431Z"
   },
   {
    "duration": 4,
    "start_time": "2022-11-04T15:58:54.456Z"
   },
   {
    "duration": 35,
    "start_time": "2022-11-04T15:58:54.463Z"
   },
   {
    "duration": 6,
    "start_time": "2022-11-04T15:58:54.500Z"
   },
   {
    "duration": 4,
    "start_time": "2022-11-04T15:58:54.507Z"
   },
   {
    "duration": 11,
    "start_time": "2022-11-04T15:58:54.513Z"
   },
   {
    "duration": 3,
    "start_time": "2022-11-04T15:58:54.526Z"
   },
   {
    "duration": 6,
    "start_time": "2022-11-04T15:58:54.530Z"
   },
   {
    "duration": 14,
    "start_time": "2022-11-04T15:58:54.537Z"
   },
   {
    "duration": 44,
    "start_time": "2022-11-04T15:58:54.552Z"
   },
   {
    "duration": 25,
    "start_time": "2022-11-04T15:58:54.599Z"
   },
   {
    "duration": 13,
    "start_time": "2022-11-04T15:58:54.625Z"
   },
   {
    "duration": 7,
    "start_time": "2022-11-04T15:58:54.641Z"
   },
   {
    "duration": 87,
    "start_time": "2022-11-04T15:58:54.650Z"
   },
   {
    "duration": 15,
    "start_time": "2022-11-04T15:58:54.739Z"
   },
   {
    "duration": 7,
    "start_time": "2022-11-04T15:58:54.756Z"
   },
   {
    "duration": 3,
    "start_time": "2022-11-04T15:58:54.765Z"
   },
   {
    "duration": 6,
    "start_time": "2022-11-04T15:58:54.791Z"
   },
   {
    "duration": 16,
    "start_time": "2022-11-04T15:58:54.799Z"
   },
   {
    "duration": 7,
    "start_time": "2022-11-04T15:58:54.817Z"
   },
   {
    "duration": 5,
    "start_time": "2022-11-04T15:58:54.825Z"
   },
   {
    "duration": 13,
    "start_time": "2022-11-04T16:01:02.182Z"
   },
   {
    "duration": 9,
    "start_time": "2022-11-04T16:10:44.457Z"
   },
   {
    "duration": 7,
    "start_time": "2022-11-04T16:13:51.216Z"
   },
   {
    "duration": 7,
    "start_time": "2022-11-04T16:22:24.683Z"
   },
   {
    "duration": 68,
    "start_time": "2022-11-04T16:22:30.771Z"
   },
   {
    "duration": 18,
    "start_time": "2022-11-04T16:22:30.841Z"
   },
   {
    "duration": 30,
    "start_time": "2022-11-04T16:22:30.861Z"
   },
   {
    "duration": 10,
    "start_time": "2022-11-04T16:22:30.893Z"
   },
   {
    "duration": 44,
    "start_time": "2022-11-04T16:22:30.905Z"
   },
   {
    "duration": 3,
    "start_time": "2022-11-04T16:22:30.951Z"
   },
   {
    "duration": 24,
    "start_time": "2022-11-04T16:22:30.956Z"
   },
   {
    "duration": 8,
    "start_time": "2022-11-04T16:22:30.982Z"
   },
   {
    "duration": 51,
    "start_time": "2022-11-04T16:22:30.992Z"
   },
   {
    "duration": 36,
    "start_time": "2022-11-04T16:22:31.044Z"
   },
   {
    "duration": 49,
    "start_time": "2022-11-04T16:22:31.082Z"
   },
   {
    "duration": 10,
    "start_time": "2022-11-04T16:22:31.133Z"
   },
   {
    "duration": 14,
    "start_time": "2022-11-04T16:22:31.145Z"
   },
   {
    "duration": 21,
    "start_time": "2022-11-04T16:22:31.162Z"
   },
   {
    "duration": 53,
    "start_time": "2022-11-04T16:22:31.184Z"
   },
   {
    "duration": 30,
    "start_time": "2022-11-04T16:22:31.239Z"
   },
   {
    "duration": 20,
    "start_time": "2022-11-04T16:22:31.271Z"
   },
   {
    "duration": 25,
    "start_time": "2022-11-04T16:22:31.292Z"
   },
   {
    "duration": 17,
    "start_time": "2022-11-04T16:22:31.319Z"
   },
   {
    "duration": 19,
    "start_time": "2022-11-04T16:22:31.337Z"
   },
   {
    "duration": 29,
    "start_time": "2022-11-04T16:22:31.357Z"
   },
   {
    "duration": 21,
    "start_time": "2022-11-04T16:22:31.388Z"
   },
   {
    "duration": 45,
    "start_time": "2022-11-04T16:22:31.411Z"
   },
   {
    "duration": 31,
    "start_time": "2022-11-04T16:22:31.458Z"
   },
   {
    "duration": 23,
    "start_time": "2022-11-04T16:22:31.491Z"
   },
   {
    "duration": 15,
    "start_time": "2022-11-04T16:22:31.516Z"
   },
   {
    "duration": 30,
    "start_time": "2022-11-04T16:22:31.542Z"
   },
   {
    "duration": 32,
    "start_time": "2022-11-04T16:22:31.573Z"
   },
   {
    "duration": 16,
    "start_time": "2022-11-04T16:22:31.606Z"
   },
   {
    "duration": 79,
    "start_time": "2022-11-04T16:22:31.623Z"
   },
   {
    "duration": 17,
    "start_time": "2022-11-04T16:22:31.704Z"
   },
   {
    "duration": 7,
    "start_time": "2022-11-04T16:22:31.723Z"
   },
   {
    "duration": 16,
    "start_time": "2022-11-04T16:22:31.732Z"
   },
   {
    "duration": 14,
    "start_time": "2022-11-04T16:22:31.749Z"
   },
   {
    "duration": 28,
    "start_time": "2022-11-04T16:22:31.765Z"
   },
   {
    "duration": 8,
    "start_time": "2022-11-04T16:22:31.795Z"
   },
   {
    "duration": 8,
    "start_time": "2022-11-04T16:22:31.804Z"
   },
   {
    "duration": 25,
    "start_time": "2022-11-04T16:22:53.832Z"
   },
   {
    "duration": 23,
    "start_time": "2022-11-04T16:24:53.865Z"
   },
   {
    "duration": 26,
    "start_time": "2022-11-04T16:25:04.825Z"
   },
   {
    "duration": 9,
    "start_time": "2022-11-04T16:25:33.727Z"
   },
   {
    "duration": 79,
    "start_time": "2022-11-04T16:25:38.725Z"
   },
   {
    "duration": 15,
    "start_time": "2022-11-04T16:25:38.806Z"
   },
   {
    "duration": 15,
    "start_time": "2022-11-04T16:25:38.823Z"
   },
   {
    "duration": 16,
    "start_time": "2022-11-04T16:25:38.841Z"
   },
   {
    "duration": 61,
    "start_time": "2022-11-04T16:25:38.859Z"
   },
   {
    "duration": 4,
    "start_time": "2022-11-04T16:25:38.922Z"
   },
   {
    "duration": 10,
    "start_time": "2022-11-04T16:25:38.927Z"
   },
   {
    "duration": 4,
    "start_time": "2022-11-04T16:25:38.939Z"
   },
   {
    "duration": 6,
    "start_time": "2022-11-04T16:25:38.945Z"
   },
   {
    "duration": 5,
    "start_time": "2022-11-04T16:25:38.990Z"
   },
   {
    "duration": 32,
    "start_time": "2022-11-04T16:25:38.997Z"
   },
   {
    "duration": 10,
    "start_time": "2022-11-04T16:25:39.030Z"
   },
   {
    "duration": 3,
    "start_time": "2022-11-04T16:25:39.042Z"
   },
   {
    "duration": 46,
    "start_time": "2022-11-04T16:25:39.048Z"
   },
   {
    "duration": 20,
    "start_time": "2022-11-04T16:25:39.095Z"
   },
   {
    "duration": 18,
    "start_time": "2022-11-04T16:25:39.117Z"
   },
   {
    "duration": 4,
    "start_time": "2022-11-04T16:25:39.137Z"
   },
   {
    "duration": 13,
    "start_time": "2022-11-04T16:25:39.143Z"
   },
   {
    "duration": 40,
    "start_time": "2022-11-04T16:25:39.158Z"
   },
   {
    "duration": 4,
    "start_time": "2022-11-04T16:25:39.200Z"
   },
   {
    "duration": 12,
    "start_time": "2022-11-04T16:25:39.206Z"
   },
   {
    "duration": 3,
    "start_time": "2022-11-04T16:25:39.220Z"
   },
   {
    "duration": 6,
    "start_time": "2022-11-04T16:25:39.225Z"
   },
   {
    "duration": 21,
    "start_time": "2022-11-04T16:25:39.233Z"
   },
   {
    "duration": 20,
    "start_time": "2022-11-04T16:25:39.290Z"
   },
   {
    "duration": 10,
    "start_time": "2022-11-04T16:25:39.313Z"
   },
   {
    "duration": 30,
    "start_time": "2022-11-04T16:25:39.325Z"
   },
   {
    "duration": 74,
    "start_time": "2022-11-04T16:25:39.356Z"
   },
   {
    "duration": 12,
    "start_time": "2022-11-04T16:25:39.431Z"
   },
   {
    "duration": 7,
    "start_time": "2022-11-04T16:25:39.444Z"
   },
   {
    "duration": 85,
    "start_time": "2022-11-04T16:25:39.453Z"
   },
   {
    "duration": 17,
    "start_time": "2022-11-04T16:25:39.540Z"
   },
   {
    "duration": 10,
    "start_time": "2022-11-04T16:25:39.558Z"
   },
   {
    "duration": 21,
    "start_time": "2022-11-04T16:25:39.570Z"
   },
   {
    "duration": 8,
    "start_time": "2022-11-04T16:25:39.593Z"
   },
   {
    "duration": 25,
    "start_time": "2022-11-04T16:25:39.602Z"
   },
   {
    "duration": 12,
    "start_time": "2022-11-04T16:25:39.629Z"
   },
   {
    "duration": 5,
    "start_time": "2022-11-04T16:25:39.644Z"
   },
   {
    "duration": 897,
    "start_time": "2022-11-04T16:28:29.259Z"
   },
   {
    "duration": 9,
    "start_time": "2022-11-04T16:29:37.023Z"
   },
   {
    "duration": 32,
    "start_time": "2022-11-04T16:29:55.236Z"
   },
   {
    "duration": 25,
    "start_time": "2022-11-04T16:30:47.244Z"
   },
   {
    "duration": 9,
    "start_time": "2022-11-04T16:31:01.882Z"
   },
   {
    "duration": 68,
    "start_time": "2022-11-04T16:35:53.937Z"
   },
   {
    "duration": 73,
    "start_time": "2022-11-04T16:36:05.925Z"
   },
   {
    "duration": 16,
    "start_time": "2022-11-04T16:36:06.000Z"
   },
   {
    "duration": 15,
    "start_time": "2022-11-04T16:36:06.017Z"
   },
   {
    "duration": 9,
    "start_time": "2022-11-04T16:36:06.034Z"
   },
   {
    "duration": 53,
    "start_time": "2022-11-04T16:36:06.044Z"
   },
   {
    "duration": 4,
    "start_time": "2022-11-04T16:36:06.099Z"
   },
   {
    "duration": 12,
    "start_time": "2022-11-04T16:36:06.104Z"
   },
   {
    "duration": 4,
    "start_time": "2022-11-04T16:36:06.118Z"
   },
   {
    "duration": 6,
    "start_time": "2022-11-04T16:36:06.124Z"
   },
   {
    "duration": 4,
    "start_time": "2022-11-04T16:36:06.133Z"
   },
   {
    "duration": 63,
    "start_time": "2022-11-04T16:36:06.139Z"
   },
   {
    "duration": 10,
    "start_time": "2022-11-04T16:36:06.204Z"
   },
   {
    "duration": 5,
    "start_time": "2022-11-04T16:36:06.215Z"
   },
   {
    "duration": 12,
    "start_time": "2022-11-04T16:36:06.221Z"
   },
   {
    "duration": 17,
    "start_time": "2022-11-04T16:36:06.235Z"
   },
   {
    "duration": 50,
    "start_time": "2022-11-04T16:36:06.253Z"
   },
   {
    "duration": 4,
    "start_time": "2022-11-04T16:36:06.304Z"
   },
   {
    "duration": 11,
    "start_time": "2022-11-04T16:36:06.310Z"
   },
   {
    "duration": 12,
    "start_time": "2022-11-04T16:36:06.323Z"
   },
   {
    "duration": 4,
    "start_time": "2022-11-04T16:36:06.336Z"
   },
   {
    "duration": 11,
    "start_time": "2022-11-04T16:36:06.341Z"
   },
   {
    "duration": 4,
    "start_time": "2022-11-04T16:36:06.353Z"
   },
   {
    "duration": 4,
    "start_time": "2022-11-04T16:36:06.358Z"
   },
   {
    "duration": 12,
    "start_time": "2022-11-04T16:36:06.391Z"
   },
   {
    "duration": 16,
    "start_time": "2022-11-04T16:36:06.404Z"
   },
   {
    "duration": 8,
    "start_time": "2022-11-04T16:36:06.421Z"
   },
   {
    "duration": 90,
    "start_time": "2022-11-04T16:36:06.431Z"
   },
   {
    "duration": 6,
    "start_time": "2022-11-04T16:36:06.524Z"
   },
   {
    "duration": 94,
    "start_time": "2022-11-04T16:36:06.532Z"
   },
   {
    "duration": 21,
    "start_time": "2022-11-04T16:36:06.629Z"
   },
   {
    "duration": 11,
    "start_time": "2022-11-04T16:36:06.653Z"
   },
   {
    "duration": 26,
    "start_time": "2022-11-04T16:36:06.667Z"
   },
   {
    "duration": 9,
    "start_time": "2022-11-04T16:36:06.695Z"
   },
   {
    "duration": 18,
    "start_time": "2022-11-04T16:36:06.706Z"
   },
   {
    "duration": 12,
    "start_time": "2022-11-04T16:36:06.726Z"
   },
   {
    "duration": 5,
    "start_time": "2022-11-04T16:36:06.740Z"
   },
   {
    "duration": 34,
    "start_time": "2022-11-04T16:37:44.397Z"
   },
   {
    "duration": 13,
    "start_time": "2022-11-04T16:38:35.700Z"
   },
   {
    "duration": 19,
    "start_time": "2022-11-04T16:40:18.885Z"
   },
   {
    "duration": 13,
    "start_time": "2022-11-04T16:41:13.246Z"
   },
   {
    "duration": 8,
    "start_time": "2022-11-04T16:43:08.333Z"
   },
   {
    "duration": 13,
    "start_time": "2022-11-04T16:48:51.100Z"
   },
   {
    "duration": 22,
    "start_time": "2022-11-04T16:53:11.061Z"
   },
   {
    "duration": 8,
    "start_time": "2022-11-04T16:54:41.544Z"
   },
   {
    "duration": 12,
    "start_time": "2022-11-04T16:56:22.456Z"
   },
   {
    "duration": 69,
    "start_time": "2022-11-04T16:58:30.878Z"
   },
   {
    "duration": 16,
    "start_time": "2022-11-04T16:58:30.949Z"
   },
   {
    "duration": 33,
    "start_time": "2022-11-04T16:58:30.966Z"
   },
   {
    "duration": 34,
    "start_time": "2022-11-04T16:58:31.001Z"
   },
   {
    "duration": 48,
    "start_time": "2022-11-04T16:58:31.036Z"
   },
   {
    "duration": 3,
    "start_time": "2022-11-04T16:58:31.086Z"
   },
   {
    "duration": 11,
    "start_time": "2022-11-04T16:58:31.091Z"
   },
   {
    "duration": 4,
    "start_time": "2022-11-04T16:58:31.104Z"
   },
   {
    "duration": 10,
    "start_time": "2022-11-04T16:58:31.109Z"
   },
   {
    "duration": 4,
    "start_time": "2022-11-04T16:58:31.122Z"
   },
   {
    "duration": 35,
    "start_time": "2022-11-04T16:58:31.128Z"
   },
   {
    "duration": 27,
    "start_time": "2022-11-04T16:58:31.165Z"
   },
   {
    "duration": 3,
    "start_time": "2022-11-04T16:58:31.194Z"
   },
   {
    "duration": 14,
    "start_time": "2022-11-04T16:58:31.199Z"
   },
   {
    "duration": 21,
    "start_time": "2022-11-04T16:58:31.215Z"
   },
   {
    "duration": 19,
    "start_time": "2022-11-04T16:58:31.239Z"
   },
   {
    "duration": 32,
    "start_time": "2022-11-04T16:58:31.259Z"
   },
   {
    "duration": 17,
    "start_time": "2022-11-04T16:58:31.293Z"
   },
   {
    "duration": 11,
    "start_time": "2022-11-04T16:58:31.312Z"
   },
   {
    "duration": 4,
    "start_time": "2022-11-04T16:58:31.325Z"
   },
   {
    "duration": 21,
    "start_time": "2022-11-04T16:58:31.331Z"
   },
   {
    "duration": 5,
    "start_time": "2022-11-04T16:58:31.354Z"
   },
   {
    "duration": 5,
    "start_time": "2022-11-04T16:58:31.361Z"
   },
   {
    "duration": 12,
    "start_time": "2022-11-04T16:58:31.368Z"
   },
   {
    "duration": 22,
    "start_time": "2022-11-04T16:58:31.382Z"
   },
   {
    "duration": 6,
    "start_time": "2022-11-04T16:58:31.406Z"
   },
   {
    "duration": 25,
    "start_time": "2022-11-04T16:58:31.414Z"
   },
   {
    "duration": 12,
    "start_time": "2022-11-04T16:58:31.442Z"
   },
   {
    "duration": 6,
    "start_time": "2022-11-04T16:58:31.456Z"
   },
   {
    "duration": 114,
    "start_time": "2022-11-04T16:58:31.490Z"
   },
   {
    "duration": 0,
    "start_time": "2022-11-04T16:58:31.606Z"
   },
   {
    "duration": 0,
    "start_time": "2022-11-04T16:58:31.607Z"
   },
   {
    "duration": 0,
    "start_time": "2022-11-04T16:58:31.608Z"
   },
   {
    "duration": 0,
    "start_time": "2022-11-04T16:58:31.609Z"
   },
   {
    "duration": 0,
    "start_time": "2022-11-04T16:58:31.610Z"
   },
   {
    "duration": 0,
    "start_time": "2022-11-04T16:58:31.611Z"
   },
   {
    "duration": 0,
    "start_time": "2022-11-04T16:58:31.612Z"
   },
   {
    "duration": 20,
    "start_time": "2022-11-04T16:59:22.439Z"
   },
   {
    "duration": 21,
    "start_time": "2022-11-04T16:59:33.491Z"
   },
   {
    "duration": 21,
    "start_time": "2022-11-04T17:02:02.508Z"
   },
   {
    "duration": 17,
    "start_time": "2022-11-04T17:24:04.368Z"
   },
   {
    "duration": 23,
    "start_time": "2022-11-04T17:24:17.061Z"
   },
   {
    "duration": 11,
    "start_time": "2022-11-04T17:25:39.745Z"
   },
   {
    "duration": 11,
    "start_time": "2022-11-04T17:26:47.032Z"
   },
   {
    "duration": 9,
    "start_time": "2022-11-04T17:27:02.615Z"
   },
   {
    "duration": 9,
    "start_time": "2022-11-04T17:30:15.115Z"
   },
   {
    "duration": 7,
    "start_time": "2022-11-04T17:31:05.882Z"
   },
   {
    "duration": 11,
    "start_time": "2022-11-04T17:35:12.235Z"
   },
   {
    "duration": 69,
    "start_time": "2022-11-04T17:35:15.062Z"
   },
   {
    "duration": 15,
    "start_time": "2022-11-04T17:35:15.134Z"
   },
   {
    "duration": 14,
    "start_time": "2022-11-04T17:35:15.151Z"
   },
   {
    "duration": 29,
    "start_time": "2022-11-04T17:35:15.167Z"
   },
   {
    "duration": 34,
    "start_time": "2022-11-04T17:35:15.199Z"
   },
   {
    "duration": 3,
    "start_time": "2022-11-04T17:35:15.235Z"
   },
   {
    "duration": 9,
    "start_time": "2022-11-04T17:35:15.240Z"
   },
   {
    "duration": 6,
    "start_time": "2022-11-04T17:35:15.251Z"
   },
   {
    "duration": 37,
    "start_time": "2022-11-04T17:35:15.258Z"
   },
   {
    "duration": 4,
    "start_time": "2022-11-04T17:35:15.297Z"
   },
   {
    "duration": 32,
    "start_time": "2022-11-04T17:35:15.303Z"
   },
   {
    "duration": 9,
    "start_time": "2022-11-04T17:35:15.337Z"
   },
   {
    "duration": 5,
    "start_time": "2022-11-04T17:35:15.347Z"
   },
   {
    "duration": 39,
    "start_time": "2022-11-04T17:35:15.354Z"
   },
   {
    "duration": 27,
    "start_time": "2022-11-04T17:35:15.395Z"
   },
   {
    "duration": 19,
    "start_time": "2022-11-04T17:35:15.424Z"
   },
   {
    "duration": 4,
    "start_time": "2022-11-04T17:35:15.444Z"
   },
   {
    "duration": 18,
    "start_time": "2022-11-04T17:35:15.450Z"
   },
   {
    "duration": 8,
    "start_time": "2022-11-04T17:35:15.470Z"
   },
   {
    "duration": 6,
    "start_time": "2022-11-04T17:35:15.492Z"
   },
   {
    "duration": 10,
    "start_time": "2022-11-04T17:35:15.499Z"
   },
   {
    "duration": 3,
    "start_time": "2022-11-04T17:35:15.511Z"
   },
   {
    "duration": 7,
    "start_time": "2022-11-04T17:35:15.515Z"
   },
   {
    "duration": 14,
    "start_time": "2022-11-04T17:35:15.523Z"
   },
   {
    "duration": 18,
    "start_time": "2022-11-04T17:35:15.539Z"
   },
   {
    "duration": 8,
    "start_time": "2022-11-04T17:35:15.590Z"
   },
   {
    "duration": 22,
    "start_time": "2022-11-04T17:35:15.599Z"
   },
   {
    "duration": 13,
    "start_time": "2022-11-04T17:35:15.622Z"
   },
   {
    "duration": 7,
    "start_time": "2022-11-04T17:35:15.637Z"
   },
   {
    "duration": 11,
    "start_time": "2022-11-04T17:35:15.645Z"
   },
   {
    "duration": 0,
    "start_time": "2022-11-04T17:35:15.691Z"
   },
   {
    "duration": 0,
    "start_time": "2022-11-04T17:35:15.692Z"
   },
   {
    "duration": 0,
    "start_time": "2022-11-04T17:35:15.694Z"
   },
   {
    "duration": 0,
    "start_time": "2022-11-04T17:35:15.695Z"
   },
   {
    "duration": 0,
    "start_time": "2022-11-04T17:35:15.696Z"
   },
   {
    "duration": 0,
    "start_time": "2022-11-04T17:35:15.697Z"
   },
   {
    "duration": 0,
    "start_time": "2022-11-04T17:35:15.698Z"
   },
   {
    "duration": 0,
    "start_time": "2022-11-04T17:35:15.699Z"
   },
   {
    "duration": 1138,
    "start_time": "2022-11-04T17:37:26.330Z"
   },
   {
    "duration": 9,
    "start_time": "2022-11-04T17:37:38.767Z"
   },
   {
    "duration": 14,
    "start_time": "2022-11-04T17:44:15.621Z"
   },
   {
    "duration": 21,
    "start_time": "2022-11-04T17:46:30.088Z"
   },
   {
    "duration": 22,
    "start_time": "2022-11-04T17:55:44.773Z"
   },
   {
    "duration": 20,
    "start_time": "2022-11-04T17:56:59.283Z"
   },
   {
    "duration": 14,
    "start_time": "2022-11-04T17:58:25.762Z"
   },
   {
    "duration": 32,
    "start_time": "2022-11-04T17:58:56.068Z"
   },
   {
    "duration": 14,
    "start_time": "2022-11-04T17:59:06.778Z"
   },
   {
    "duration": 13,
    "start_time": "2022-11-04T17:59:10.701Z"
   },
   {
    "duration": 68,
    "start_time": "2022-11-04T17:59:18.630Z"
   },
   {
    "duration": 16,
    "start_time": "2022-11-04T17:59:18.700Z"
   },
   {
    "duration": 31,
    "start_time": "2022-11-04T17:59:18.718Z"
   },
   {
    "duration": 20,
    "start_time": "2022-11-04T17:59:18.751Z"
   },
   {
    "duration": 39,
    "start_time": "2022-11-04T17:59:18.773Z"
   },
   {
    "duration": 3,
    "start_time": "2022-11-04T17:59:18.814Z"
   },
   {
    "duration": 24,
    "start_time": "2022-11-04T17:59:18.818Z"
   },
   {
    "duration": 6,
    "start_time": "2022-11-04T17:59:18.843Z"
   },
   {
    "duration": 10,
    "start_time": "2022-11-04T17:59:18.850Z"
   },
   {
    "duration": 7,
    "start_time": "2022-11-04T17:59:18.861Z"
   },
   {
    "duration": 37,
    "start_time": "2022-11-04T17:59:18.869Z"
   },
   {
    "duration": 9,
    "start_time": "2022-11-04T17:59:18.907Z"
   },
   {
    "duration": 4,
    "start_time": "2022-11-04T17:59:18.917Z"
   },
   {
    "duration": 13,
    "start_time": "2022-11-04T17:59:18.923Z"
   },
   {
    "duration": 18,
    "start_time": "2022-11-04T17:59:18.938Z"
   },
   {
    "duration": 36,
    "start_time": "2022-11-04T17:59:18.958Z"
   },
   {
    "duration": 3,
    "start_time": "2022-11-04T17:59:18.996Z"
   },
   {
    "duration": 10,
    "start_time": "2022-11-04T17:59:19.001Z"
   },
   {
    "duration": 6,
    "start_time": "2022-11-04T17:59:19.012Z"
   },
   {
    "duration": 4,
    "start_time": "2022-11-04T17:59:19.019Z"
   },
   {
    "duration": 10,
    "start_time": "2022-11-04T17:59:19.024Z"
   },
   {
    "duration": 2,
    "start_time": "2022-11-04T17:59:19.035Z"
   },
   {
    "duration": 4,
    "start_time": "2022-11-04T17:59:19.039Z"
   },
   {
    "duration": 12,
    "start_time": "2022-11-04T17:59:19.045Z"
   },
   {
    "duration": 42,
    "start_time": "2022-11-04T17:59:19.058Z"
   },
   {
    "duration": 6,
    "start_time": "2022-11-04T17:59:19.102Z"
   },
   {
    "duration": 20,
    "start_time": "2022-11-04T17:59:19.109Z"
   },
   {
    "duration": 11,
    "start_time": "2022-11-04T17:59:19.130Z"
   },
   {
    "duration": 6,
    "start_time": "2022-11-04T17:59:19.142Z"
   },
   {
    "duration": 56,
    "start_time": "2022-11-04T17:59:19.150Z"
   },
   {
    "duration": 21,
    "start_time": "2022-11-04T17:59:19.208Z"
   },
   {
    "duration": 13,
    "start_time": "2022-11-04T17:59:19.231Z"
   },
   {
    "duration": 15,
    "start_time": "2022-11-04T17:59:19.246Z"
   },
   {
    "duration": 7,
    "start_time": "2022-11-04T17:59:19.292Z"
   },
   {
    "duration": 5,
    "start_time": "2022-11-04T17:59:19.301Z"
   },
   {
    "duration": 8,
    "start_time": "2022-11-04T17:59:19.308Z"
   },
   {
    "duration": 16,
    "start_time": "2022-11-04T17:59:19.318Z"
   },
   {
    "duration": 7,
    "start_time": "2022-11-04T17:59:19.336Z"
   },
   {
    "duration": 4,
    "start_time": "2022-11-04T17:59:19.345Z"
   },
   {
    "duration": 27,
    "start_time": "2022-11-04T17:59:36.741Z"
   },
   {
    "duration": 14,
    "start_time": "2022-11-04T17:59:39.481Z"
   },
   {
    "duration": 6,
    "start_time": "2022-11-04T18:01:24.205Z"
   },
   {
    "duration": 24,
    "start_time": "2022-11-04T18:15:24.068Z"
   },
   {
    "duration": 23,
    "start_time": "2022-11-04T18:15:27.794Z"
   },
   {
    "duration": 15,
    "start_time": "2022-11-04T18:27:38.456Z"
   },
   {
    "duration": 15,
    "start_time": "2022-11-04T18:27:47.163Z"
   },
   {
    "duration": 37,
    "start_time": "2022-11-04T18:27:57.939Z"
   },
   {
    "duration": 72,
    "start_time": "2022-11-04T18:28:42.829Z"
   },
   {
    "duration": 44,
    "start_time": "2022-11-04T18:29:20.623Z"
   },
   {
    "duration": 39,
    "start_time": "2022-11-04T18:29:52.606Z"
   },
   {
    "duration": 36,
    "start_time": "2022-11-04T18:30:01.744Z"
   },
   {
    "duration": 37,
    "start_time": "2022-11-04T18:30:09.917Z"
   },
   {
    "duration": 7,
    "start_time": "2022-11-04T18:31:51.625Z"
   },
   {
    "duration": 6,
    "start_time": "2022-11-04T18:32:53.866Z"
   },
   {
    "duration": 67,
    "start_time": "2022-11-04T18:38:22.935Z"
   },
   {
    "duration": 15,
    "start_time": "2022-11-04T18:38:23.004Z"
   },
   {
    "duration": 14,
    "start_time": "2022-11-04T18:38:23.021Z"
   },
   {
    "duration": 9,
    "start_time": "2022-11-04T18:38:23.037Z"
   },
   {
    "duration": 63,
    "start_time": "2022-11-04T18:38:23.048Z"
   },
   {
    "duration": 3,
    "start_time": "2022-11-04T18:38:23.113Z"
   },
   {
    "duration": 10,
    "start_time": "2022-11-04T18:38:23.118Z"
   },
   {
    "duration": 4,
    "start_time": "2022-11-04T18:38:23.129Z"
   },
   {
    "duration": 6,
    "start_time": "2022-11-04T18:38:23.135Z"
   },
   {
    "duration": 4,
    "start_time": "2022-11-04T18:38:23.143Z"
   },
   {
    "duration": 56,
    "start_time": "2022-11-04T18:38:23.149Z"
   },
   {
    "duration": 8,
    "start_time": "2022-11-04T18:38:23.207Z"
   },
   {
    "duration": 7,
    "start_time": "2022-11-04T18:38:23.217Z"
   },
   {
    "duration": 21,
    "start_time": "2022-11-04T18:38:23.226Z"
   },
   {
    "duration": 23,
    "start_time": "2022-11-04T18:38:23.248Z"
   },
   {
    "duration": 25,
    "start_time": "2022-11-04T18:38:23.273Z"
   },
   {
    "duration": 3,
    "start_time": "2022-11-04T18:38:23.300Z"
   },
   {
    "duration": 28,
    "start_time": "2022-11-04T18:38:23.305Z"
   },
   {
    "duration": 14,
    "start_time": "2022-11-04T18:38:23.335Z"
   },
   {
    "duration": 12,
    "start_time": "2022-11-04T18:38:23.351Z"
   },
   {
    "duration": 25,
    "start_time": "2022-11-04T18:38:23.364Z"
   },
   {
    "duration": 33,
    "start_time": "2022-11-04T18:38:23.390Z"
   },
   {
    "duration": 11,
    "start_time": "2022-11-04T18:38:23.425Z"
   },
   {
    "duration": 26,
    "start_time": "2022-11-04T18:38:23.438Z"
   },
   {
    "duration": 21,
    "start_time": "2022-11-04T18:38:23.466Z"
   },
   {
    "duration": 11,
    "start_time": "2022-11-04T18:38:23.488Z"
   },
   {
    "duration": 53,
    "start_time": "2022-11-04T18:38:23.500Z"
   },
   {
    "duration": 39,
    "start_time": "2022-11-04T18:38:23.556Z"
   },
   {
    "duration": 12,
    "start_time": "2022-11-04T18:38:23.597Z"
   },
   {
    "duration": 31,
    "start_time": "2022-11-04T18:38:23.611Z"
   },
   {
    "duration": 23,
    "start_time": "2022-11-04T18:38:23.644Z"
   },
   {
    "duration": 31,
    "start_time": "2022-11-04T18:38:23.669Z"
   },
   {
    "duration": 4,
    "start_time": "2022-11-04T18:38:23.701Z"
   },
   {
    "duration": 20,
    "start_time": "2022-11-04T18:38:23.707Z"
   },
   {
    "duration": 44,
    "start_time": "2022-11-04T18:38:23.729Z"
   },
   {
    "duration": 24,
    "start_time": "2022-11-04T18:38:23.774Z"
   },
   {
    "duration": 8,
    "start_time": "2022-11-04T18:38:23.800Z"
   },
   {
    "duration": 10,
    "start_time": "2022-11-04T18:38:23.810Z"
   },
   {
    "duration": 8,
    "start_time": "2022-11-04T18:38:23.822Z"
   },
   {
    "duration": 16,
    "start_time": "2022-11-04T18:38:23.831Z"
   },
   {
    "duration": 7,
    "start_time": "2022-11-04T18:38:23.848Z"
   },
   {
    "duration": 34,
    "start_time": "2022-11-04T18:38:23.857Z"
   },
   {
    "duration": 6,
    "start_time": "2022-11-04T18:38:23.892Z"
   },
   {
    "duration": 4,
    "start_time": "2022-11-04T18:48:04.970Z"
   },
   {
    "duration": 13,
    "start_time": "2022-11-04T18:48:05.439Z"
   },
   {
    "duration": 16,
    "start_time": "2022-11-04T18:49:39.037Z"
   },
   {
    "duration": 21,
    "start_time": "2022-11-04T18:50:16.277Z"
   },
   {
    "duration": 4,
    "start_time": "2022-11-04T18:55:03.703Z"
   },
   {
    "duration": 17,
    "start_time": "2022-11-04T19:07:38.594Z"
   },
   {
    "duration": 20,
    "start_time": "2022-11-04T19:10:23.390Z"
   },
   {
    "duration": 65,
    "start_time": "2022-11-04T19:13:49.723Z"
   },
   {
    "duration": 20,
    "start_time": "2022-11-04T19:14:22.944Z"
   },
   {
    "duration": 15,
    "start_time": "2022-11-04T19:15:10.711Z"
   },
   {
    "duration": 5,
    "start_time": "2022-11-04T19:53:43.776Z"
   },
   {
    "duration": 13,
    "start_time": "2022-11-04T19:59:41.236Z"
   },
   {
    "duration": 69,
    "start_time": "2022-11-04T19:59:55.373Z"
   },
   {
    "duration": 73,
    "start_time": "2022-11-04T20:00:04.457Z"
   },
   {
    "duration": 12,
    "start_time": "2022-11-04T20:00:10.227Z"
   },
   {
    "duration": 7,
    "start_time": "2022-11-04T20:00:24.887Z"
   },
   {
    "duration": 4,
    "start_time": "2022-11-04T20:05:35.177Z"
   },
   {
    "duration": 14,
    "start_time": "2022-11-04T20:05:57.372Z"
   },
   {
    "duration": 13,
    "start_time": "2022-11-04T20:06:07.575Z"
   },
   {
    "duration": 66,
    "start_time": "2022-11-04T20:06:51.823Z"
   },
   {
    "duration": 5,
    "start_time": "2022-11-04T20:06:59.785Z"
   },
   {
    "duration": 6,
    "start_time": "2022-11-04T20:08:03.319Z"
   }
  ],
  "colab": {
   "name": "dpp_template_part2.ipynb",
   "provenance": []
  },
  "kernelspec": {
   "display_name": "Python 3",
   "language": "python",
   "name": "python3"
  },
  "language_info": {
   "codemirror_mode": {
    "name": "ipython",
    "version": 3
   },
   "file_extension": ".py",
   "mimetype": "text/x-python",
   "name": "python",
   "nbconvert_exporter": "python",
   "pygments_lexer": "ipython3",
   "version": "3.7.2 (tags/v3.7.2:9a3ffc0492, Dec 23 2018, 22:20:52) [MSC v.1916 32 bit (Intel)]"
  },
  "toc": {
   "base_numbering": 1,
   "nav_menu": {},
   "number_sections": true,
   "sideBar": true,
   "skip_h1_title": true,
   "title_cell": "Table of Contents",
   "title_sidebar": "Contents",
   "toc_cell": false,
   "toc_position": {
    "height": "calc(100% - 180px)",
    "left": "10px",
    "top": "150px",
    "width": "456.771px"
   },
   "toc_section_display": true,
   "toc_window_display": true
  },
  "vscode": {
   "interpreter": {
    "hash": "7013a621b7653606b1894ec24fb1789cda0807d86086c7fc3caf32f4edce8e7b"
   }
  }
 },
 "nbformat": 4,
 "nbformat_minor": 5
}
