{
 "cells": [
  {
   "cell_type": "markdown",
   "metadata": {
    "toc": true
   },
   "source": [
    "<h1>Содержание<span class=\"tocSkip\"></span></h1>\n",
    "<div class=\"toc\"><ul class=\"toc-item\"><li><span><a href=\"#Подготовка-данных\" data-toc-modified-id=\"Подготовка-данных-1\"><span class=\"toc-item-num\">1&nbsp;&nbsp;</span>Подготовка данных</a></span></li><li><span><a href=\"#Исследование-задачи\" data-toc-modified-id=\"Исследование-задачи-2\"><span class=\"toc-item-num\">2&nbsp;&nbsp;</span>Исследование задачи</a></span></li><li><span><a href=\"#Борьба-с-дисбалансом\" data-toc-modified-id=\"Борьба-с-дисбалансом-3\"><span class=\"toc-item-num\">3&nbsp;&nbsp;</span>Борьба с дисбалансом</a></span></li><li><span><a href=\"#Тестирование-модели\" data-toc-modified-id=\"Тестирование-модели-4\"><span class=\"toc-item-num\">4&nbsp;&nbsp;</span>Тестирование модели</a></span><ul class=\"toc-item\"><li><span><a href=\"#Вывод:\" data-toc-modified-id=\"Вывод:-4.1\"><span class=\"toc-item-num\">4.1&nbsp;&nbsp;</span>Вывод:</a></span></li></ul></li><li><span><a href=\"#Чек-лист-готовности-проекта\" data-toc-modified-id=\"Чек-лист-готовности-проекта-5\"><span class=\"toc-item-num\">5&nbsp;&nbsp;</span>Чек-лист готовности проекта</a></span></li></ul></div>"
   ]
  },
  {
   "cell_type": "markdown",
   "metadata": {},
   "source": [
    "# Отток клиентов"
   ]
  },
  {
   "cell_type": "markdown",
   "metadata": {},
   "source": [
    "Из «Бета-Банка» стали уходить клиенты. Каждый месяц. Немного, но заметно. Банковские маркетологи посчитали: сохранять текущих клиентов дешевле, чем привлекать новых.\n",
    "\n",
    "Нужно спрогнозировать, уйдёт клиент из банка в ближайшее время или нет. Вам предоставлены исторические данные о поведении клиентов и расторжении договоров с банком. \n",
    "\n",
    "Постройте модель с предельно большим значением *F1*-меры. Чтобы сдать проект успешно, нужно довести метрику до 0.59. Проверьте *F1*-меру на тестовой выборке самостоятельно.\n",
    "\n",
    "Дополнительно измеряйте *AUC-ROC*, сравнивайте её значение с *F1*-мерой.\n",
    "\n",
    "Источник данных: [https://www.kaggle.com/barelydedicated/bank-customer-churn-modeling](https://www.kaggle.com/barelydedicated/bank-customer-churn-modeling)"
   ]
  },
  {
   "cell_type": "markdown",
   "metadata": {},
   "source": [
    "## Подготовка данных"
   ]
  },
  {
   "cell_type": "code",
   "execution_count": 109,
   "metadata": {},
   "outputs": [],
   "source": [
    "# импортируем необходимые библиотеки,которые пополняются при дальнейшем анализе\n",
    "import os\n",
    "import pandas as pd\n",
    "import matplotlib.pyplot as plt\n",
    "from sklearn.tree import DecisionTreeClassifier\n",
    "from sklearn.ensemble import RandomForestClassifier\n",
    "from sklearn.linear_model import LogisticRegression\n",
    "from sklearn.model_selection import train_test_split\n",
    "from sklearn.preprocessing import OrdinalEncoder\n",
    "from sklearn.preprocessing import StandardScaler\n",
    "from sklearn.metrics import accuracy_score\n",
    "from sklearn.metrics import confusion_matrix\n",
    "from sklearn.metrics import recall_score\n",
    "from sklearn.metrics import f1_score\n",
    "from sklearn.metrics import precision_score\n",
    "from sklearn.metrics import roc_curve\n",
    "from sklearn.metrics import roc_auc_score\n",
    "from sklearn.utils import shuffle\n",
    "\n",
    "from sklearn.preprocessing import OneHotEncoder\n",
    "\n",
    "import warnings\n",
    "warnings.filterwarnings(\"ignore\")\n",
    "\n",
    "# вынеси random_state=12345 в глобальную переменную\n"
   ]
  },
  {
   "cell_type": "code",
   "execution_count": 110,
   "metadata": {
    "scrolled": true
   },
   "outputs": [
    {
     "data": {
      "text/html": [
       "<div>\n",
       "<style scoped>\n",
       "    .dataframe tbody tr th:only-of-type {\n",
       "        vertical-align: middle;\n",
       "    }\n",
       "\n",
       "    .dataframe tbody tr th {\n",
       "        vertical-align: top;\n",
       "    }\n",
       "\n",
       "    .dataframe thead th {\n",
       "        text-align: right;\n",
       "    }\n",
       "</style>\n",
       "<table border=\"1\" class=\"dataframe\">\n",
       "  <thead>\n",
       "    <tr style=\"text-align: right;\">\n",
       "      <th></th>\n",
       "      <th>RowNumber</th>\n",
       "      <th>CustomerId</th>\n",
       "      <th>Surname</th>\n",
       "      <th>CreditScore</th>\n",
       "      <th>Geography</th>\n",
       "      <th>Gender</th>\n",
       "      <th>Age</th>\n",
       "      <th>Tenure</th>\n",
       "      <th>Balance</th>\n",
       "      <th>NumOfProducts</th>\n",
       "      <th>HasCrCard</th>\n",
       "      <th>IsActiveMember</th>\n",
       "      <th>EstimatedSalary</th>\n",
       "      <th>Exited</th>\n",
       "    </tr>\n",
       "  </thead>\n",
       "  <tbody>\n",
       "    <tr>\n",
       "      <th>0</th>\n",
       "      <td>1</td>\n",
       "      <td>15634602</td>\n",
       "      <td>Hargrave</td>\n",
       "      <td>619</td>\n",
       "      <td>France</td>\n",
       "      <td>Female</td>\n",
       "      <td>42</td>\n",
       "      <td>2.0</td>\n",
       "      <td>0.00</td>\n",
       "      <td>1</td>\n",
       "      <td>1</td>\n",
       "      <td>1</td>\n",
       "      <td>101348.88</td>\n",
       "      <td>1</td>\n",
       "    </tr>\n",
       "    <tr>\n",
       "      <th>1</th>\n",
       "      <td>2</td>\n",
       "      <td>15647311</td>\n",
       "      <td>Hill</td>\n",
       "      <td>608</td>\n",
       "      <td>Spain</td>\n",
       "      <td>Female</td>\n",
       "      <td>41</td>\n",
       "      <td>1.0</td>\n",
       "      <td>83807.86</td>\n",
       "      <td>1</td>\n",
       "      <td>0</td>\n",
       "      <td>1</td>\n",
       "      <td>112542.58</td>\n",
       "      <td>0</td>\n",
       "    </tr>\n",
       "    <tr>\n",
       "      <th>2</th>\n",
       "      <td>3</td>\n",
       "      <td>15619304</td>\n",
       "      <td>Onio</td>\n",
       "      <td>502</td>\n",
       "      <td>France</td>\n",
       "      <td>Female</td>\n",
       "      <td>42</td>\n",
       "      <td>8.0</td>\n",
       "      <td>159660.80</td>\n",
       "      <td>3</td>\n",
       "      <td>1</td>\n",
       "      <td>0</td>\n",
       "      <td>113931.57</td>\n",
       "      <td>1</td>\n",
       "    </tr>\n",
       "    <tr>\n",
       "      <th>3</th>\n",
       "      <td>4</td>\n",
       "      <td>15701354</td>\n",
       "      <td>Boni</td>\n",
       "      <td>699</td>\n",
       "      <td>France</td>\n",
       "      <td>Female</td>\n",
       "      <td>39</td>\n",
       "      <td>1.0</td>\n",
       "      <td>0.00</td>\n",
       "      <td>2</td>\n",
       "      <td>0</td>\n",
       "      <td>0</td>\n",
       "      <td>93826.63</td>\n",
       "      <td>0</td>\n",
       "    </tr>\n",
       "    <tr>\n",
       "      <th>4</th>\n",
       "      <td>5</td>\n",
       "      <td>15737888</td>\n",
       "      <td>Mitchell</td>\n",
       "      <td>850</td>\n",
       "      <td>Spain</td>\n",
       "      <td>Female</td>\n",
       "      <td>43</td>\n",
       "      <td>2.0</td>\n",
       "      <td>125510.82</td>\n",
       "      <td>1</td>\n",
       "      <td>1</td>\n",
       "      <td>1</td>\n",
       "      <td>79084.10</td>\n",
       "      <td>0</td>\n",
       "    </tr>\n",
       "    <tr>\n",
       "      <th>5</th>\n",
       "      <td>6</td>\n",
       "      <td>15574012</td>\n",
       "      <td>Chu</td>\n",
       "      <td>645</td>\n",
       "      <td>Spain</td>\n",
       "      <td>Male</td>\n",
       "      <td>44</td>\n",
       "      <td>8.0</td>\n",
       "      <td>113755.78</td>\n",
       "      <td>2</td>\n",
       "      <td>1</td>\n",
       "      <td>0</td>\n",
       "      <td>149756.71</td>\n",
       "      <td>1</td>\n",
       "    </tr>\n",
       "    <tr>\n",
       "      <th>6</th>\n",
       "      <td>7</td>\n",
       "      <td>15592531</td>\n",
       "      <td>Bartlett</td>\n",
       "      <td>822</td>\n",
       "      <td>France</td>\n",
       "      <td>Male</td>\n",
       "      <td>50</td>\n",
       "      <td>7.0</td>\n",
       "      <td>0.00</td>\n",
       "      <td>2</td>\n",
       "      <td>1</td>\n",
       "      <td>1</td>\n",
       "      <td>10062.80</td>\n",
       "      <td>0</td>\n",
       "    </tr>\n",
       "    <tr>\n",
       "      <th>7</th>\n",
       "      <td>8</td>\n",
       "      <td>15656148</td>\n",
       "      <td>Obinna</td>\n",
       "      <td>376</td>\n",
       "      <td>Germany</td>\n",
       "      <td>Female</td>\n",
       "      <td>29</td>\n",
       "      <td>4.0</td>\n",
       "      <td>115046.74</td>\n",
       "      <td>4</td>\n",
       "      <td>1</td>\n",
       "      <td>0</td>\n",
       "      <td>119346.88</td>\n",
       "      <td>1</td>\n",
       "    </tr>\n",
       "    <tr>\n",
       "      <th>8</th>\n",
       "      <td>9</td>\n",
       "      <td>15792365</td>\n",
       "      <td>He</td>\n",
       "      <td>501</td>\n",
       "      <td>France</td>\n",
       "      <td>Male</td>\n",
       "      <td>44</td>\n",
       "      <td>4.0</td>\n",
       "      <td>142051.07</td>\n",
       "      <td>2</td>\n",
       "      <td>0</td>\n",
       "      <td>1</td>\n",
       "      <td>74940.50</td>\n",
       "      <td>0</td>\n",
       "    </tr>\n",
       "    <tr>\n",
       "      <th>9</th>\n",
       "      <td>10</td>\n",
       "      <td>15592389</td>\n",
       "      <td>H?</td>\n",
       "      <td>684</td>\n",
       "      <td>France</td>\n",
       "      <td>Male</td>\n",
       "      <td>27</td>\n",
       "      <td>2.0</td>\n",
       "      <td>134603.88</td>\n",
       "      <td>1</td>\n",
       "      <td>1</td>\n",
       "      <td>1</td>\n",
       "      <td>71725.73</td>\n",
       "      <td>0</td>\n",
       "    </tr>\n",
       "    <tr>\n",
       "      <th>10</th>\n",
       "      <td>11</td>\n",
       "      <td>15767821</td>\n",
       "      <td>Bearce</td>\n",
       "      <td>528</td>\n",
       "      <td>France</td>\n",
       "      <td>Male</td>\n",
       "      <td>31</td>\n",
       "      <td>6.0</td>\n",
       "      <td>102016.72</td>\n",
       "      <td>2</td>\n",
       "      <td>0</td>\n",
       "      <td>0</td>\n",
       "      <td>80181.12</td>\n",
       "      <td>0</td>\n",
       "    </tr>\n",
       "    <tr>\n",
       "      <th>11</th>\n",
       "      <td>12</td>\n",
       "      <td>15737173</td>\n",
       "      <td>Andrews</td>\n",
       "      <td>497</td>\n",
       "      <td>Spain</td>\n",
       "      <td>Male</td>\n",
       "      <td>24</td>\n",
       "      <td>3.0</td>\n",
       "      <td>0.00</td>\n",
       "      <td>2</td>\n",
       "      <td>1</td>\n",
       "      <td>0</td>\n",
       "      <td>76390.01</td>\n",
       "      <td>0</td>\n",
       "    </tr>\n",
       "    <tr>\n",
       "      <th>12</th>\n",
       "      <td>13</td>\n",
       "      <td>15632264</td>\n",
       "      <td>Kay</td>\n",
       "      <td>476</td>\n",
       "      <td>France</td>\n",
       "      <td>Female</td>\n",
       "      <td>34</td>\n",
       "      <td>10.0</td>\n",
       "      <td>0.00</td>\n",
       "      <td>2</td>\n",
       "      <td>1</td>\n",
       "      <td>0</td>\n",
       "      <td>26260.98</td>\n",
       "      <td>0</td>\n",
       "    </tr>\n",
       "    <tr>\n",
       "      <th>13</th>\n",
       "      <td>14</td>\n",
       "      <td>15691483</td>\n",
       "      <td>Chin</td>\n",
       "      <td>549</td>\n",
       "      <td>France</td>\n",
       "      <td>Female</td>\n",
       "      <td>25</td>\n",
       "      <td>5.0</td>\n",
       "      <td>0.00</td>\n",
       "      <td>2</td>\n",
       "      <td>0</td>\n",
       "      <td>0</td>\n",
       "      <td>190857.79</td>\n",
       "      <td>0</td>\n",
       "    </tr>\n",
       "    <tr>\n",
       "      <th>14</th>\n",
       "      <td>15</td>\n",
       "      <td>15600882</td>\n",
       "      <td>Scott</td>\n",
       "      <td>635</td>\n",
       "      <td>Spain</td>\n",
       "      <td>Female</td>\n",
       "      <td>35</td>\n",
       "      <td>7.0</td>\n",
       "      <td>0.00</td>\n",
       "      <td>2</td>\n",
       "      <td>1</td>\n",
       "      <td>1</td>\n",
       "      <td>65951.65</td>\n",
       "      <td>0</td>\n",
       "    </tr>\n",
       "    <tr>\n",
       "      <th>15</th>\n",
       "      <td>16</td>\n",
       "      <td>15643966</td>\n",
       "      <td>Goforth</td>\n",
       "      <td>616</td>\n",
       "      <td>Germany</td>\n",
       "      <td>Male</td>\n",
       "      <td>45</td>\n",
       "      <td>3.0</td>\n",
       "      <td>143129.41</td>\n",
       "      <td>2</td>\n",
       "      <td>0</td>\n",
       "      <td>1</td>\n",
       "      <td>64327.26</td>\n",
       "      <td>0</td>\n",
       "    </tr>\n",
       "    <tr>\n",
       "      <th>16</th>\n",
       "      <td>17</td>\n",
       "      <td>15737452</td>\n",
       "      <td>Romeo</td>\n",
       "      <td>653</td>\n",
       "      <td>Germany</td>\n",
       "      <td>Male</td>\n",
       "      <td>58</td>\n",
       "      <td>1.0</td>\n",
       "      <td>132602.88</td>\n",
       "      <td>1</td>\n",
       "      <td>1</td>\n",
       "      <td>0</td>\n",
       "      <td>5097.67</td>\n",
       "      <td>1</td>\n",
       "    </tr>\n",
       "    <tr>\n",
       "      <th>17</th>\n",
       "      <td>18</td>\n",
       "      <td>15788218</td>\n",
       "      <td>Henderson</td>\n",
       "      <td>549</td>\n",
       "      <td>Spain</td>\n",
       "      <td>Female</td>\n",
       "      <td>24</td>\n",
       "      <td>9.0</td>\n",
       "      <td>0.00</td>\n",
       "      <td>2</td>\n",
       "      <td>1</td>\n",
       "      <td>1</td>\n",
       "      <td>14406.41</td>\n",
       "      <td>0</td>\n",
       "    </tr>\n",
       "    <tr>\n",
       "      <th>18</th>\n",
       "      <td>19</td>\n",
       "      <td>15661507</td>\n",
       "      <td>Muldrow</td>\n",
       "      <td>587</td>\n",
       "      <td>Spain</td>\n",
       "      <td>Male</td>\n",
       "      <td>45</td>\n",
       "      <td>6.0</td>\n",
       "      <td>0.00</td>\n",
       "      <td>1</td>\n",
       "      <td>0</td>\n",
       "      <td>0</td>\n",
       "      <td>158684.81</td>\n",
       "      <td>0</td>\n",
       "    </tr>\n",
       "    <tr>\n",
       "      <th>19</th>\n",
       "      <td>20</td>\n",
       "      <td>15568982</td>\n",
       "      <td>Hao</td>\n",
       "      <td>726</td>\n",
       "      <td>France</td>\n",
       "      <td>Female</td>\n",
       "      <td>24</td>\n",
       "      <td>6.0</td>\n",
       "      <td>0.00</td>\n",
       "      <td>2</td>\n",
       "      <td>1</td>\n",
       "      <td>1</td>\n",
       "      <td>54724.03</td>\n",
       "      <td>0</td>\n",
       "    </tr>\n",
       "    <tr>\n",
       "      <th>20</th>\n",
       "      <td>21</td>\n",
       "      <td>15577657</td>\n",
       "      <td>McDonald</td>\n",
       "      <td>732</td>\n",
       "      <td>France</td>\n",
       "      <td>Male</td>\n",
       "      <td>41</td>\n",
       "      <td>8.0</td>\n",
       "      <td>0.00</td>\n",
       "      <td>2</td>\n",
       "      <td>1</td>\n",
       "      <td>1</td>\n",
       "      <td>170886.17</td>\n",
       "      <td>0</td>\n",
       "    </tr>\n",
       "    <tr>\n",
       "      <th>21</th>\n",
       "      <td>22</td>\n",
       "      <td>15597945</td>\n",
       "      <td>Dellucci</td>\n",
       "      <td>636</td>\n",
       "      <td>Spain</td>\n",
       "      <td>Female</td>\n",
       "      <td>32</td>\n",
       "      <td>8.0</td>\n",
       "      <td>0.00</td>\n",
       "      <td>2</td>\n",
       "      <td>1</td>\n",
       "      <td>0</td>\n",
       "      <td>138555.46</td>\n",
       "      <td>0</td>\n",
       "    </tr>\n",
       "    <tr>\n",
       "      <th>22</th>\n",
       "      <td>23</td>\n",
       "      <td>15699309</td>\n",
       "      <td>Gerasimov</td>\n",
       "      <td>510</td>\n",
       "      <td>Spain</td>\n",
       "      <td>Female</td>\n",
       "      <td>38</td>\n",
       "      <td>4.0</td>\n",
       "      <td>0.00</td>\n",
       "      <td>1</td>\n",
       "      <td>1</td>\n",
       "      <td>0</td>\n",
       "      <td>118913.53</td>\n",
       "      <td>1</td>\n",
       "    </tr>\n",
       "    <tr>\n",
       "      <th>23</th>\n",
       "      <td>24</td>\n",
       "      <td>15725737</td>\n",
       "      <td>Mosman</td>\n",
       "      <td>669</td>\n",
       "      <td>France</td>\n",
       "      <td>Male</td>\n",
       "      <td>46</td>\n",
       "      <td>3.0</td>\n",
       "      <td>0.00</td>\n",
       "      <td>2</td>\n",
       "      <td>0</td>\n",
       "      <td>1</td>\n",
       "      <td>8487.75</td>\n",
       "      <td>0</td>\n",
       "    </tr>\n",
       "    <tr>\n",
       "      <th>24</th>\n",
       "      <td>25</td>\n",
       "      <td>15625047</td>\n",
       "      <td>Yen</td>\n",
       "      <td>846</td>\n",
       "      <td>France</td>\n",
       "      <td>Female</td>\n",
       "      <td>38</td>\n",
       "      <td>5.0</td>\n",
       "      <td>0.00</td>\n",
       "      <td>1</td>\n",
       "      <td>1</td>\n",
       "      <td>1</td>\n",
       "      <td>187616.16</td>\n",
       "      <td>0</td>\n",
       "    </tr>\n",
       "    <tr>\n",
       "      <th>25</th>\n",
       "      <td>26</td>\n",
       "      <td>15738191</td>\n",
       "      <td>Maclean</td>\n",
       "      <td>577</td>\n",
       "      <td>France</td>\n",
       "      <td>Male</td>\n",
       "      <td>25</td>\n",
       "      <td>3.0</td>\n",
       "      <td>0.00</td>\n",
       "      <td>2</td>\n",
       "      <td>0</td>\n",
       "      <td>1</td>\n",
       "      <td>124508.29</td>\n",
       "      <td>0</td>\n",
       "    </tr>\n",
       "    <tr>\n",
       "      <th>26</th>\n",
       "      <td>27</td>\n",
       "      <td>15736816</td>\n",
       "      <td>Young</td>\n",
       "      <td>756</td>\n",
       "      <td>Germany</td>\n",
       "      <td>Male</td>\n",
       "      <td>36</td>\n",
       "      <td>2.0</td>\n",
       "      <td>136815.64</td>\n",
       "      <td>1</td>\n",
       "      <td>1</td>\n",
       "      <td>1</td>\n",
       "      <td>170041.95</td>\n",
       "      <td>0</td>\n",
       "    </tr>\n",
       "    <tr>\n",
       "      <th>27</th>\n",
       "      <td>28</td>\n",
       "      <td>15700772</td>\n",
       "      <td>Nebechi</td>\n",
       "      <td>571</td>\n",
       "      <td>France</td>\n",
       "      <td>Male</td>\n",
       "      <td>44</td>\n",
       "      <td>9.0</td>\n",
       "      <td>0.00</td>\n",
       "      <td>2</td>\n",
       "      <td>0</td>\n",
       "      <td>0</td>\n",
       "      <td>38433.35</td>\n",
       "      <td>0</td>\n",
       "    </tr>\n",
       "    <tr>\n",
       "      <th>28</th>\n",
       "      <td>29</td>\n",
       "      <td>15728693</td>\n",
       "      <td>McWilliams</td>\n",
       "      <td>574</td>\n",
       "      <td>Germany</td>\n",
       "      <td>Female</td>\n",
       "      <td>43</td>\n",
       "      <td>3.0</td>\n",
       "      <td>141349.43</td>\n",
       "      <td>1</td>\n",
       "      <td>1</td>\n",
       "      <td>1</td>\n",
       "      <td>100187.43</td>\n",
       "      <td>0</td>\n",
       "    </tr>\n",
       "    <tr>\n",
       "      <th>29</th>\n",
       "      <td>30</td>\n",
       "      <td>15656300</td>\n",
       "      <td>Lucciano</td>\n",
       "      <td>411</td>\n",
       "      <td>France</td>\n",
       "      <td>Male</td>\n",
       "      <td>29</td>\n",
       "      <td>0.0</td>\n",
       "      <td>59697.17</td>\n",
       "      <td>2</td>\n",
       "      <td>1</td>\n",
       "      <td>1</td>\n",
       "      <td>53483.21</td>\n",
       "      <td>0</td>\n",
       "    </tr>\n",
       "  </tbody>\n",
       "</table>\n",
       "</div>"
      ],
      "text/plain": [
       "    RowNumber  CustomerId     Surname  CreditScore Geography  Gender  Age  \\\n",
       "0           1    15634602    Hargrave          619    France  Female   42   \n",
       "1           2    15647311        Hill          608     Spain  Female   41   \n",
       "2           3    15619304        Onio          502    France  Female   42   \n",
       "3           4    15701354        Boni          699    France  Female   39   \n",
       "4           5    15737888    Mitchell          850     Spain  Female   43   \n",
       "5           6    15574012         Chu          645     Spain    Male   44   \n",
       "6           7    15592531    Bartlett          822    France    Male   50   \n",
       "7           8    15656148      Obinna          376   Germany  Female   29   \n",
       "8           9    15792365          He          501    France    Male   44   \n",
       "9          10    15592389          H?          684    France    Male   27   \n",
       "10         11    15767821      Bearce          528    France    Male   31   \n",
       "11         12    15737173     Andrews          497     Spain    Male   24   \n",
       "12         13    15632264         Kay          476    France  Female   34   \n",
       "13         14    15691483        Chin          549    France  Female   25   \n",
       "14         15    15600882       Scott          635     Spain  Female   35   \n",
       "15         16    15643966     Goforth          616   Germany    Male   45   \n",
       "16         17    15737452       Romeo          653   Germany    Male   58   \n",
       "17         18    15788218   Henderson          549     Spain  Female   24   \n",
       "18         19    15661507     Muldrow          587     Spain    Male   45   \n",
       "19         20    15568982         Hao          726    France  Female   24   \n",
       "20         21    15577657    McDonald          732    France    Male   41   \n",
       "21         22    15597945    Dellucci          636     Spain  Female   32   \n",
       "22         23    15699309   Gerasimov          510     Spain  Female   38   \n",
       "23         24    15725737      Mosman          669    France    Male   46   \n",
       "24         25    15625047         Yen          846    France  Female   38   \n",
       "25         26    15738191     Maclean          577    France    Male   25   \n",
       "26         27    15736816       Young          756   Germany    Male   36   \n",
       "27         28    15700772     Nebechi          571    France    Male   44   \n",
       "28         29    15728693  McWilliams          574   Germany  Female   43   \n",
       "29         30    15656300    Lucciano          411    France    Male   29   \n",
       "\n",
       "    Tenure    Balance  NumOfProducts  HasCrCard  IsActiveMember  \\\n",
       "0      2.0       0.00              1          1               1   \n",
       "1      1.0   83807.86              1          0               1   \n",
       "2      8.0  159660.80              3          1               0   \n",
       "3      1.0       0.00              2          0               0   \n",
       "4      2.0  125510.82              1          1               1   \n",
       "5      8.0  113755.78              2          1               0   \n",
       "6      7.0       0.00              2          1               1   \n",
       "7      4.0  115046.74              4          1               0   \n",
       "8      4.0  142051.07              2          0               1   \n",
       "9      2.0  134603.88              1          1               1   \n",
       "10     6.0  102016.72              2          0               0   \n",
       "11     3.0       0.00              2          1               0   \n",
       "12    10.0       0.00              2          1               0   \n",
       "13     5.0       0.00              2          0               0   \n",
       "14     7.0       0.00              2          1               1   \n",
       "15     3.0  143129.41              2          0               1   \n",
       "16     1.0  132602.88              1          1               0   \n",
       "17     9.0       0.00              2          1               1   \n",
       "18     6.0       0.00              1          0               0   \n",
       "19     6.0       0.00              2          1               1   \n",
       "20     8.0       0.00              2          1               1   \n",
       "21     8.0       0.00              2          1               0   \n",
       "22     4.0       0.00              1          1               0   \n",
       "23     3.0       0.00              2          0               1   \n",
       "24     5.0       0.00              1          1               1   \n",
       "25     3.0       0.00              2          0               1   \n",
       "26     2.0  136815.64              1          1               1   \n",
       "27     9.0       0.00              2          0               0   \n",
       "28     3.0  141349.43              1          1               1   \n",
       "29     0.0   59697.17              2          1               1   \n",
       "\n",
       "    EstimatedSalary  Exited  \n",
       "0         101348.88       1  \n",
       "1         112542.58       0  \n",
       "2         113931.57       1  \n",
       "3          93826.63       0  \n",
       "4          79084.10       0  \n",
       "5         149756.71       1  \n",
       "6          10062.80       0  \n",
       "7         119346.88       1  \n",
       "8          74940.50       0  \n",
       "9          71725.73       0  \n",
       "10         80181.12       0  \n",
       "11         76390.01       0  \n",
       "12         26260.98       0  \n",
       "13        190857.79       0  \n",
       "14         65951.65       0  \n",
       "15         64327.26       0  \n",
       "16          5097.67       1  \n",
       "17         14406.41       0  \n",
       "18        158684.81       0  \n",
       "19         54724.03       0  \n",
       "20        170886.17       0  \n",
       "21        138555.46       0  \n",
       "22        118913.53       1  \n",
       "23          8487.75       0  \n",
       "24        187616.16       0  \n",
       "25        124508.29       0  \n",
       "26        170041.95       0  \n",
       "27         38433.35       0  \n",
       "28        100187.43       0  \n",
       "29         53483.21       0  "
      ]
     },
     "execution_count": 110,
     "metadata": {},
     "output_type": "execute_result"
    }
   ],
   "source": [
    "# открываем таблицу для просмотра, выведем первые 30 строк\n",
    "data = pd.read_csv('/datasets/Churn.csv')\n",
    "data.head(30)"
   ]
  },
  {
   "cell_type": "code",
   "execution_count": 111,
   "metadata": {},
   "outputs": [],
   "source": [
    "# отработать замечание feature_importance\n",
    "\n",
    "#importances = model.feature_importances_\n",
    "#feature_list = list(train_features.columns)\n",
    "#feature_results = pd.data({'признак': feature_list,'важность': importances})\n",
    "#feature_results = feature_results.sort_values('важность',ascending = False).reset_index(drop=True)\n"
   ]
  },
  {
   "cell_type": "code",
   "execution_count": 112,
   "metadata": {},
   "outputs": [
    {
     "data": {
      "text/plain": [
       "(10000, 14)"
      ]
     },
     "execution_count": 112,
     "metadata": {},
     "output_type": "execute_result"
    }
   ],
   "source": [
    "# размер таблицы\n",
    "data.shape"
   ]
  },
  {
   "cell_type": "code",
   "execution_count": 113,
   "metadata": {
    "scrolled": true
   },
   "outputs": [
    {
     "name": "stdout",
     "output_type": "stream",
     "text": [
      "<class 'pandas.core.frame.DataFrame'>\n",
      "RangeIndex: 10000 entries, 0 to 9999\n",
      "Data columns (total 14 columns):\n",
      " #   Column           Non-Null Count  Dtype  \n",
      "---  ------           --------------  -----  \n",
      " 0   RowNumber        10000 non-null  int64  \n",
      " 1   CustomerId       10000 non-null  int64  \n",
      " 2   Surname          10000 non-null  object \n",
      " 3   CreditScore      10000 non-null  int64  \n",
      " 4   Geography        10000 non-null  object \n",
      " 5   Gender           10000 non-null  object \n",
      " 6   Age              10000 non-null  int64  \n",
      " 7   Tenure           9091 non-null   float64\n",
      " 8   Balance          10000 non-null  float64\n",
      " 9   NumOfProducts    10000 non-null  int64  \n",
      " 10  HasCrCard        10000 non-null  int64  \n",
      " 11  IsActiveMember   10000 non-null  int64  \n",
      " 12  EstimatedSalary  10000 non-null  float64\n",
      " 13  Exited           10000 non-null  int64  \n",
      "dtypes: float64(3), int64(8), object(3)\n",
      "memory usage: 1.1+ MB\n"
     ]
    }
   ],
   "source": [
    "# общая инфо\n",
    "data.info()"
   ]
  },
  {
   "cell_type": "code",
   "execution_count": 114,
   "metadata": {
    "scrolled": true
   },
   "outputs": [
    {
     "data": {
      "text/html": [
       "<div>\n",
       "<style scoped>\n",
       "    .dataframe tbody tr th:only-of-type {\n",
       "        vertical-align: middle;\n",
       "    }\n",
       "\n",
       "    .dataframe tbody tr th {\n",
       "        vertical-align: top;\n",
       "    }\n",
       "\n",
       "    .dataframe thead th {\n",
       "        text-align: right;\n",
       "    }\n",
       "</style>\n",
       "<table border=\"1\" class=\"dataframe\">\n",
       "  <thead>\n",
       "    <tr style=\"text-align: right;\">\n",
       "      <th></th>\n",
       "      <th>RowNumber</th>\n",
       "      <th>CustomerId</th>\n",
       "      <th>CreditScore</th>\n",
       "      <th>Age</th>\n",
       "      <th>Tenure</th>\n",
       "      <th>Balance</th>\n",
       "      <th>NumOfProducts</th>\n",
       "      <th>HasCrCard</th>\n",
       "      <th>IsActiveMember</th>\n",
       "      <th>EstimatedSalary</th>\n",
       "      <th>Exited</th>\n",
       "    </tr>\n",
       "  </thead>\n",
       "  <tbody>\n",
       "    <tr>\n",
       "      <th>count</th>\n",
       "      <td>10000.00000</td>\n",
       "      <td>1.000000e+04</td>\n",
       "      <td>10000.000000</td>\n",
       "      <td>10000.000000</td>\n",
       "      <td>9091.000000</td>\n",
       "      <td>10000.000000</td>\n",
       "      <td>10000.000000</td>\n",
       "      <td>10000.00000</td>\n",
       "      <td>10000.000000</td>\n",
       "      <td>10000.000000</td>\n",
       "      <td>10000.000000</td>\n",
       "    </tr>\n",
       "    <tr>\n",
       "      <th>mean</th>\n",
       "      <td>5000.50000</td>\n",
       "      <td>1.569094e+07</td>\n",
       "      <td>650.528800</td>\n",
       "      <td>38.921800</td>\n",
       "      <td>4.997690</td>\n",
       "      <td>76485.889288</td>\n",
       "      <td>1.530200</td>\n",
       "      <td>0.70550</td>\n",
       "      <td>0.515100</td>\n",
       "      <td>100090.239881</td>\n",
       "      <td>0.203700</td>\n",
       "    </tr>\n",
       "    <tr>\n",
       "      <th>std</th>\n",
       "      <td>2886.89568</td>\n",
       "      <td>7.193619e+04</td>\n",
       "      <td>96.653299</td>\n",
       "      <td>10.487806</td>\n",
       "      <td>2.894723</td>\n",
       "      <td>62397.405202</td>\n",
       "      <td>0.581654</td>\n",
       "      <td>0.45584</td>\n",
       "      <td>0.499797</td>\n",
       "      <td>57510.492818</td>\n",
       "      <td>0.402769</td>\n",
       "    </tr>\n",
       "    <tr>\n",
       "      <th>min</th>\n",
       "      <td>1.00000</td>\n",
       "      <td>1.556570e+07</td>\n",
       "      <td>350.000000</td>\n",
       "      <td>18.000000</td>\n",
       "      <td>0.000000</td>\n",
       "      <td>0.000000</td>\n",
       "      <td>1.000000</td>\n",
       "      <td>0.00000</td>\n",
       "      <td>0.000000</td>\n",
       "      <td>11.580000</td>\n",
       "      <td>0.000000</td>\n",
       "    </tr>\n",
       "    <tr>\n",
       "      <th>25%</th>\n",
       "      <td>2500.75000</td>\n",
       "      <td>1.562853e+07</td>\n",
       "      <td>584.000000</td>\n",
       "      <td>32.000000</td>\n",
       "      <td>2.000000</td>\n",
       "      <td>0.000000</td>\n",
       "      <td>1.000000</td>\n",
       "      <td>0.00000</td>\n",
       "      <td>0.000000</td>\n",
       "      <td>51002.110000</td>\n",
       "      <td>0.000000</td>\n",
       "    </tr>\n",
       "    <tr>\n",
       "      <th>50%</th>\n",
       "      <td>5000.50000</td>\n",
       "      <td>1.569074e+07</td>\n",
       "      <td>652.000000</td>\n",
       "      <td>37.000000</td>\n",
       "      <td>5.000000</td>\n",
       "      <td>97198.540000</td>\n",
       "      <td>1.000000</td>\n",
       "      <td>1.00000</td>\n",
       "      <td>1.000000</td>\n",
       "      <td>100193.915000</td>\n",
       "      <td>0.000000</td>\n",
       "    </tr>\n",
       "    <tr>\n",
       "      <th>75%</th>\n",
       "      <td>7500.25000</td>\n",
       "      <td>1.575323e+07</td>\n",
       "      <td>718.000000</td>\n",
       "      <td>44.000000</td>\n",
       "      <td>7.000000</td>\n",
       "      <td>127644.240000</td>\n",
       "      <td>2.000000</td>\n",
       "      <td>1.00000</td>\n",
       "      <td>1.000000</td>\n",
       "      <td>149388.247500</td>\n",
       "      <td>0.000000</td>\n",
       "    </tr>\n",
       "    <tr>\n",
       "      <th>max</th>\n",
       "      <td>10000.00000</td>\n",
       "      <td>1.581569e+07</td>\n",
       "      <td>850.000000</td>\n",
       "      <td>92.000000</td>\n",
       "      <td>10.000000</td>\n",
       "      <td>250898.090000</td>\n",
       "      <td>4.000000</td>\n",
       "      <td>1.00000</td>\n",
       "      <td>1.000000</td>\n",
       "      <td>199992.480000</td>\n",
       "      <td>1.000000</td>\n",
       "    </tr>\n",
       "  </tbody>\n",
       "</table>\n",
       "</div>"
      ],
      "text/plain": [
       "         RowNumber    CustomerId   CreditScore           Age       Tenure  \\\n",
       "count  10000.00000  1.000000e+04  10000.000000  10000.000000  9091.000000   \n",
       "mean    5000.50000  1.569094e+07    650.528800     38.921800     4.997690   \n",
       "std     2886.89568  7.193619e+04     96.653299     10.487806     2.894723   \n",
       "min        1.00000  1.556570e+07    350.000000     18.000000     0.000000   \n",
       "25%     2500.75000  1.562853e+07    584.000000     32.000000     2.000000   \n",
       "50%     5000.50000  1.569074e+07    652.000000     37.000000     5.000000   \n",
       "75%     7500.25000  1.575323e+07    718.000000     44.000000     7.000000   \n",
       "max    10000.00000  1.581569e+07    850.000000     92.000000    10.000000   \n",
       "\n",
       "             Balance  NumOfProducts    HasCrCard  IsActiveMember  \\\n",
       "count   10000.000000   10000.000000  10000.00000    10000.000000   \n",
       "mean    76485.889288       1.530200      0.70550        0.515100   \n",
       "std     62397.405202       0.581654      0.45584        0.499797   \n",
       "min         0.000000       1.000000      0.00000        0.000000   \n",
       "25%         0.000000       1.000000      0.00000        0.000000   \n",
       "50%     97198.540000       1.000000      1.00000        1.000000   \n",
       "75%    127644.240000       2.000000      1.00000        1.000000   \n",
       "max    250898.090000       4.000000      1.00000        1.000000   \n",
       "\n",
       "       EstimatedSalary        Exited  \n",
       "count     10000.000000  10000.000000  \n",
       "mean     100090.239881      0.203700  \n",
       "std       57510.492818      0.402769  \n",
       "min          11.580000      0.000000  \n",
       "25%       51002.110000      0.000000  \n",
       "50%      100193.915000      0.000000  \n",
       "75%      149388.247500      0.000000  \n",
       "max      199992.480000      1.000000  "
      ]
     },
     "execution_count": 114,
     "metadata": {},
     "output_type": "execute_result"
    }
   ],
   "source": [
    "data.describe()"
   ]
  },
  {
   "cell_type": "markdown",
   "metadata": {},
   "source": [
    "`Таблица имеет 14 столбцов и 10000 строк. Все столбцы имеют необходимый вид данных, менять не нужно. Поменять нужно названия столбцов: привести к нижнему регистру и записать через _.\n",
    "Целевой признак Exited (факт ухода клиента) для нас является важным признаком, который показывает результат анализа: 1-уйдет, 0- не уйдет. Данный признак приведен к численному типу данных(int). В таблице есть столбцы,которые,по-моему мнению, не стоит оставлять,можно удалить. Например, фамилия клиента, номер в базе данных, айди, зарплата. Если они понадобятся, вернем их. А так же проверим данные на дубликаты и пропуски и, по возможности, избавимся от них.`"
   ]
  },
  {
   "cell_type": "code",
   "execution_count": 115,
   "metadata": {},
   "outputs": [
    {
     "data": {
      "text/html": [
       "<div>\n",
       "<style scoped>\n",
       "    .dataframe tbody tr th:only-of-type {\n",
       "        vertical-align: middle;\n",
       "    }\n",
       "\n",
       "    .dataframe tbody tr th {\n",
       "        vertical-align: top;\n",
       "    }\n",
       "\n",
       "    .dataframe thead th {\n",
       "        text-align: right;\n",
       "    }\n",
       "</style>\n",
       "<table border=\"1\" class=\"dataframe\">\n",
       "  <thead>\n",
       "    <tr style=\"text-align: right;\">\n",
       "      <th></th>\n",
       "      <th>CreditScore</th>\n",
       "      <th>Geography</th>\n",
       "      <th>Gender</th>\n",
       "      <th>Age</th>\n",
       "      <th>Tenure</th>\n",
       "      <th>Balance</th>\n",
       "      <th>NumOfProducts</th>\n",
       "      <th>HasCrCard</th>\n",
       "      <th>IsActiveMember</th>\n",
       "      <th>Exited</th>\n",
       "    </tr>\n",
       "  </thead>\n",
       "  <tbody>\n",
       "    <tr>\n",
       "      <th>0</th>\n",
       "      <td>619</td>\n",
       "      <td>France</td>\n",
       "      <td>Female</td>\n",
       "      <td>42</td>\n",
       "      <td>2.0</td>\n",
       "      <td>0.00</td>\n",
       "      <td>1</td>\n",
       "      <td>1</td>\n",
       "      <td>1</td>\n",
       "      <td>1</td>\n",
       "    </tr>\n",
       "    <tr>\n",
       "      <th>1</th>\n",
       "      <td>608</td>\n",
       "      <td>Spain</td>\n",
       "      <td>Female</td>\n",
       "      <td>41</td>\n",
       "      <td>1.0</td>\n",
       "      <td>83807.86</td>\n",
       "      <td>1</td>\n",
       "      <td>0</td>\n",
       "      <td>1</td>\n",
       "      <td>0</td>\n",
       "    </tr>\n",
       "    <tr>\n",
       "      <th>2</th>\n",
       "      <td>502</td>\n",
       "      <td>France</td>\n",
       "      <td>Female</td>\n",
       "      <td>42</td>\n",
       "      <td>8.0</td>\n",
       "      <td>159660.80</td>\n",
       "      <td>3</td>\n",
       "      <td>1</td>\n",
       "      <td>0</td>\n",
       "      <td>1</td>\n",
       "    </tr>\n",
       "    <tr>\n",
       "      <th>3</th>\n",
       "      <td>699</td>\n",
       "      <td>France</td>\n",
       "      <td>Female</td>\n",
       "      <td>39</td>\n",
       "      <td>1.0</td>\n",
       "      <td>0.00</td>\n",
       "      <td>2</td>\n",
       "      <td>0</td>\n",
       "      <td>0</td>\n",
       "      <td>0</td>\n",
       "    </tr>\n",
       "    <tr>\n",
       "      <th>4</th>\n",
       "      <td>850</td>\n",
       "      <td>Spain</td>\n",
       "      <td>Female</td>\n",
       "      <td>43</td>\n",
       "      <td>2.0</td>\n",
       "      <td>125510.82</td>\n",
       "      <td>1</td>\n",
       "      <td>1</td>\n",
       "      <td>1</td>\n",
       "      <td>0</td>\n",
       "    </tr>\n",
       "    <tr>\n",
       "      <th>...</th>\n",
       "      <td>...</td>\n",
       "      <td>...</td>\n",
       "      <td>...</td>\n",
       "      <td>...</td>\n",
       "      <td>...</td>\n",
       "      <td>...</td>\n",
       "      <td>...</td>\n",
       "      <td>...</td>\n",
       "      <td>...</td>\n",
       "      <td>...</td>\n",
       "    </tr>\n",
       "    <tr>\n",
       "      <th>9995</th>\n",
       "      <td>771</td>\n",
       "      <td>France</td>\n",
       "      <td>Male</td>\n",
       "      <td>39</td>\n",
       "      <td>5.0</td>\n",
       "      <td>0.00</td>\n",
       "      <td>2</td>\n",
       "      <td>1</td>\n",
       "      <td>0</td>\n",
       "      <td>0</td>\n",
       "    </tr>\n",
       "    <tr>\n",
       "      <th>9996</th>\n",
       "      <td>516</td>\n",
       "      <td>France</td>\n",
       "      <td>Male</td>\n",
       "      <td>35</td>\n",
       "      <td>10.0</td>\n",
       "      <td>57369.61</td>\n",
       "      <td>1</td>\n",
       "      <td>1</td>\n",
       "      <td>1</td>\n",
       "      <td>0</td>\n",
       "    </tr>\n",
       "    <tr>\n",
       "      <th>9997</th>\n",
       "      <td>709</td>\n",
       "      <td>France</td>\n",
       "      <td>Female</td>\n",
       "      <td>36</td>\n",
       "      <td>7.0</td>\n",
       "      <td>0.00</td>\n",
       "      <td>1</td>\n",
       "      <td>0</td>\n",
       "      <td>1</td>\n",
       "      <td>1</td>\n",
       "    </tr>\n",
       "    <tr>\n",
       "      <th>9998</th>\n",
       "      <td>772</td>\n",
       "      <td>Germany</td>\n",
       "      <td>Male</td>\n",
       "      <td>42</td>\n",
       "      <td>3.0</td>\n",
       "      <td>75075.31</td>\n",
       "      <td>2</td>\n",
       "      <td>1</td>\n",
       "      <td>0</td>\n",
       "      <td>1</td>\n",
       "    </tr>\n",
       "    <tr>\n",
       "      <th>9999</th>\n",
       "      <td>792</td>\n",
       "      <td>France</td>\n",
       "      <td>Female</td>\n",
       "      <td>28</td>\n",
       "      <td>NaN</td>\n",
       "      <td>130142.79</td>\n",
       "      <td>1</td>\n",
       "      <td>1</td>\n",
       "      <td>0</td>\n",
       "      <td>0</td>\n",
       "    </tr>\n",
       "  </tbody>\n",
       "</table>\n",
       "<p>10000 rows × 10 columns</p>\n",
       "</div>"
      ],
      "text/plain": [
       "      CreditScore Geography  Gender  Age  Tenure    Balance  NumOfProducts  \\\n",
       "0             619    France  Female   42     2.0       0.00              1   \n",
       "1             608     Spain  Female   41     1.0   83807.86              1   \n",
       "2             502    France  Female   42     8.0  159660.80              3   \n",
       "3             699    France  Female   39     1.0       0.00              2   \n",
       "4             850     Spain  Female   43     2.0  125510.82              1   \n",
       "...           ...       ...     ...  ...     ...        ...            ...   \n",
       "9995          771    France    Male   39     5.0       0.00              2   \n",
       "9996          516    France    Male   35    10.0   57369.61              1   \n",
       "9997          709    France  Female   36     7.0       0.00              1   \n",
       "9998          772   Germany    Male   42     3.0   75075.31              2   \n",
       "9999          792    France  Female   28     NaN  130142.79              1   \n",
       "\n",
       "      HasCrCard  IsActiveMember  Exited  \n",
       "0             1               1       1  \n",
       "1             0               1       0  \n",
       "2             1               0       1  \n",
       "3             0               0       0  \n",
       "4             1               1       0  \n",
       "...         ...             ...     ...  \n",
       "9995          1               0       0  \n",
       "9996          1               1       0  \n",
       "9997          0               1       1  \n",
       "9998          1               0       1  \n",
       "9999          1               0       0  \n",
       "\n",
       "[10000 rows x 10 columns]"
      ]
     },
     "execution_count": 115,
     "metadata": {},
     "output_type": "execute_result"
    }
   ],
   "source": [
    "# для начала удалим ненужные столбцы методом drop\n",
    "data = data.drop(['RowNumber','CustomerId', 'EstimatedSalary', 'Surname'], axis=1)\n",
    "data"
   ]
  },
  {
   "cell_type": "code",
   "execution_count": 116,
   "metadata": {},
   "outputs": [
    {
     "data": {
      "text/html": [
       "<div>\n",
       "<style scoped>\n",
       "    .dataframe tbody tr th:only-of-type {\n",
       "        vertical-align: middle;\n",
       "    }\n",
       "\n",
       "    .dataframe tbody tr th {\n",
       "        vertical-align: top;\n",
       "    }\n",
       "\n",
       "    .dataframe thead th {\n",
       "        text-align: right;\n",
       "    }\n",
       "</style>\n",
       "<table border=\"1\" class=\"dataframe\">\n",
       "  <thead>\n",
       "    <tr style=\"text-align: right;\">\n",
       "      <th></th>\n",
       "      <th>credit_score</th>\n",
       "      <th>Geography</th>\n",
       "      <th>Gender</th>\n",
       "      <th>Age</th>\n",
       "      <th>Tenure</th>\n",
       "      <th>Balance</th>\n",
       "      <th>num_of_products</th>\n",
       "      <th>has_cr_card</th>\n",
       "      <th>is-active_member</th>\n",
       "      <th>Exited</th>\n",
       "    </tr>\n",
       "  </thead>\n",
       "  <tbody>\n",
       "    <tr>\n",
       "      <th>0</th>\n",
       "      <td>619</td>\n",
       "      <td>France</td>\n",
       "      <td>Female</td>\n",
       "      <td>42</td>\n",
       "      <td>2.0</td>\n",
       "      <td>0.00</td>\n",
       "      <td>1</td>\n",
       "      <td>1</td>\n",
       "      <td>1</td>\n",
       "      <td>1</td>\n",
       "    </tr>\n",
       "    <tr>\n",
       "      <th>1</th>\n",
       "      <td>608</td>\n",
       "      <td>Spain</td>\n",
       "      <td>Female</td>\n",
       "      <td>41</td>\n",
       "      <td>1.0</td>\n",
       "      <td>83807.86</td>\n",
       "      <td>1</td>\n",
       "      <td>0</td>\n",
       "      <td>1</td>\n",
       "      <td>0</td>\n",
       "    </tr>\n",
       "    <tr>\n",
       "      <th>2</th>\n",
       "      <td>502</td>\n",
       "      <td>France</td>\n",
       "      <td>Female</td>\n",
       "      <td>42</td>\n",
       "      <td>8.0</td>\n",
       "      <td>159660.80</td>\n",
       "      <td>3</td>\n",
       "      <td>1</td>\n",
       "      <td>0</td>\n",
       "      <td>1</td>\n",
       "    </tr>\n",
       "    <tr>\n",
       "      <th>3</th>\n",
       "      <td>699</td>\n",
       "      <td>France</td>\n",
       "      <td>Female</td>\n",
       "      <td>39</td>\n",
       "      <td>1.0</td>\n",
       "      <td>0.00</td>\n",
       "      <td>2</td>\n",
       "      <td>0</td>\n",
       "      <td>0</td>\n",
       "      <td>0</td>\n",
       "    </tr>\n",
       "    <tr>\n",
       "      <th>4</th>\n",
       "      <td>850</td>\n",
       "      <td>Spain</td>\n",
       "      <td>Female</td>\n",
       "      <td>43</td>\n",
       "      <td>2.0</td>\n",
       "      <td>125510.82</td>\n",
       "      <td>1</td>\n",
       "      <td>1</td>\n",
       "      <td>1</td>\n",
       "      <td>0</td>\n",
       "    </tr>\n",
       "    <tr>\n",
       "      <th>...</th>\n",
       "      <td>...</td>\n",
       "      <td>...</td>\n",
       "      <td>...</td>\n",
       "      <td>...</td>\n",
       "      <td>...</td>\n",
       "      <td>...</td>\n",
       "      <td>...</td>\n",
       "      <td>...</td>\n",
       "      <td>...</td>\n",
       "      <td>...</td>\n",
       "    </tr>\n",
       "    <tr>\n",
       "      <th>9995</th>\n",
       "      <td>771</td>\n",
       "      <td>France</td>\n",
       "      <td>Male</td>\n",
       "      <td>39</td>\n",
       "      <td>5.0</td>\n",
       "      <td>0.00</td>\n",
       "      <td>2</td>\n",
       "      <td>1</td>\n",
       "      <td>0</td>\n",
       "      <td>0</td>\n",
       "    </tr>\n",
       "    <tr>\n",
       "      <th>9996</th>\n",
       "      <td>516</td>\n",
       "      <td>France</td>\n",
       "      <td>Male</td>\n",
       "      <td>35</td>\n",
       "      <td>10.0</td>\n",
       "      <td>57369.61</td>\n",
       "      <td>1</td>\n",
       "      <td>1</td>\n",
       "      <td>1</td>\n",
       "      <td>0</td>\n",
       "    </tr>\n",
       "    <tr>\n",
       "      <th>9997</th>\n",
       "      <td>709</td>\n",
       "      <td>France</td>\n",
       "      <td>Female</td>\n",
       "      <td>36</td>\n",
       "      <td>7.0</td>\n",
       "      <td>0.00</td>\n",
       "      <td>1</td>\n",
       "      <td>0</td>\n",
       "      <td>1</td>\n",
       "      <td>1</td>\n",
       "    </tr>\n",
       "    <tr>\n",
       "      <th>9998</th>\n",
       "      <td>772</td>\n",
       "      <td>Germany</td>\n",
       "      <td>Male</td>\n",
       "      <td>42</td>\n",
       "      <td>3.0</td>\n",
       "      <td>75075.31</td>\n",
       "      <td>2</td>\n",
       "      <td>1</td>\n",
       "      <td>0</td>\n",
       "      <td>1</td>\n",
       "    </tr>\n",
       "    <tr>\n",
       "      <th>9999</th>\n",
       "      <td>792</td>\n",
       "      <td>France</td>\n",
       "      <td>Female</td>\n",
       "      <td>28</td>\n",
       "      <td>NaN</td>\n",
       "      <td>130142.79</td>\n",
       "      <td>1</td>\n",
       "      <td>1</td>\n",
       "      <td>0</td>\n",
       "      <td>0</td>\n",
       "    </tr>\n",
       "  </tbody>\n",
       "</table>\n",
       "<p>10000 rows × 10 columns</p>\n",
       "</div>"
      ],
      "text/plain": [
       "      credit_score Geography  Gender  Age  Tenure    Balance  num_of_products  \\\n",
       "0              619    France  Female   42     2.0       0.00                1   \n",
       "1              608     Spain  Female   41     1.0   83807.86                1   \n",
       "2              502    France  Female   42     8.0  159660.80                3   \n",
       "3              699    France  Female   39     1.0       0.00                2   \n",
       "4              850     Spain  Female   43     2.0  125510.82                1   \n",
       "...            ...       ...     ...  ...     ...        ...              ...   \n",
       "9995           771    France    Male   39     5.0       0.00                2   \n",
       "9996           516    France    Male   35    10.0   57369.61                1   \n",
       "9997           709    France  Female   36     7.0       0.00                1   \n",
       "9998           772   Germany    Male   42     3.0   75075.31                2   \n",
       "9999           792    France  Female   28     NaN  130142.79                1   \n",
       "\n",
       "      has_cr_card  is-active_member  Exited  \n",
       "0               1                 1       1  \n",
       "1               0                 1       0  \n",
       "2               1                 0       1  \n",
       "3               0                 0       0  \n",
       "4               1                 1       0  \n",
       "...           ...               ...     ...  \n",
       "9995            1                 0       0  \n",
       "9996            1                 1       0  \n",
       "9997            0                 1       1  \n",
       "9998            1                 0       1  \n",
       "9999            1                 0       0  \n",
       "\n",
       "[10000 rows x 10 columns]"
      ]
     },
     "execution_count": 116,
     "metadata": {},
     "output_type": "execute_result"
    }
   ],
   "source": [
    "# теперь переименуем двойные названия и разделим через _\n",
    "data = data.rename(columns={'CreditScore':'credit_score', 'NumOfProducts': 'num_of_products', 'HasCrCard':'has_cr_card', 'IsActiveMember':'is-active_member'})\n",
    "data"
   ]
  },
  {
   "cell_type": "code",
   "execution_count": 117,
   "metadata": {
    "scrolled": true
   },
   "outputs": [
    {
     "name": "stdout",
     "output_type": "stream",
     "text": [
      "Index(['credit_score', 'geography', 'gender', 'age', 'tenure', 'balance',\n",
      "       'num_of_products', 'has_cr_card', 'is-active_member', 'exited'],\n",
      "      dtype='object')\n"
     ]
    },
    {
     "data": {
      "text/html": [
       "<div>\n",
       "<style scoped>\n",
       "    .dataframe tbody tr th:only-of-type {\n",
       "        vertical-align: middle;\n",
       "    }\n",
       "\n",
       "    .dataframe tbody tr th {\n",
       "        vertical-align: top;\n",
       "    }\n",
       "\n",
       "    .dataframe thead th {\n",
       "        text-align: right;\n",
       "    }\n",
       "</style>\n",
       "<table border=\"1\" class=\"dataframe\">\n",
       "  <thead>\n",
       "    <tr style=\"text-align: right;\">\n",
       "      <th></th>\n",
       "      <th>credit_score</th>\n",
       "      <th>geography</th>\n",
       "      <th>gender</th>\n",
       "      <th>age</th>\n",
       "      <th>tenure</th>\n",
       "      <th>balance</th>\n",
       "      <th>num_of_products</th>\n",
       "      <th>has_cr_card</th>\n",
       "      <th>is-active_member</th>\n",
       "      <th>exited</th>\n",
       "    </tr>\n",
       "  </thead>\n",
       "  <tbody>\n",
       "    <tr>\n",
       "      <th>0</th>\n",
       "      <td>619</td>\n",
       "      <td>France</td>\n",
       "      <td>Female</td>\n",
       "      <td>42</td>\n",
       "      <td>2.0</td>\n",
       "      <td>0.00</td>\n",
       "      <td>1</td>\n",
       "      <td>1</td>\n",
       "      <td>1</td>\n",
       "      <td>1</td>\n",
       "    </tr>\n",
       "    <tr>\n",
       "      <th>1</th>\n",
       "      <td>608</td>\n",
       "      <td>Spain</td>\n",
       "      <td>Female</td>\n",
       "      <td>41</td>\n",
       "      <td>1.0</td>\n",
       "      <td>83807.86</td>\n",
       "      <td>1</td>\n",
       "      <td>0</td>\n",
       "      <td>1</td>\n",
       "      <td>0</td>\n",
       "    </tr>\n",
       "    <tr>\n",
       "      <th>2</th>\n",
       "      <td>502</td>\n",
       "      <td>France</td>\n",
       "      <td>Female</td>\n",
       "      <td>42</td>\n",
       "      <td>8.0</td>\n",
       "      <td>159660.80</td>\n",
       "      <td>3</td>\n",
       "      <td>1</td>\n",
       "      <td>0</td>\n",
       "      <td>1</td>\n",
       "    </tr>\n",
       "    <tr>\n",
       "      <th>3</th>\n",
       "      <td>699</td>\n",
       "      <td>France</td>\n",
       "      <td>Female</td>\n",
       "      <td>39</td>\n",
       "      <td>1.0</td>\n",
       "      <td>0.00</td>\n",
       "      <td>2</td>\n",
       "      <td>0</td>\n",
       "      <td>0</td>\n",
       "      <td>0</td>\n",
       "    </tr>\n",
       "    <tr>\n",
       "      <th>4</th>\n",
       "      <td>850</td>\n",
       "      <td>Spain</td>\n",
       "      <td>Female</td>\n",
       "      <td>43</td>\n",
       "      <td>2.0</td>\n",
       "      <td>125510.82</td>\n",
       "      <td>1</td>\n",
       "      <td>1</td>\n",
       "      <td>1</td>\n",
       "      <td>0</td>\n",
       "    </tr>\n",
       "    <tr>\n",
       "      <th>...</th>\n",
       "      <td>...</td>\n",
       "      <td>...</td>\n",
       "      <td>...</td>\n",
       "      <td>...</td>\n",
       "      <td>...</td>\n",
       "      <td>...</td>\n",
       "      <td>...</td>\n",
       "      <td>...</td>\n",
       "      <td>...</td>\n",
       "      <td>...</td>\n",
       "    </tr>\n",
       "    <tr>\n",
       "      <th>9995</th>\n",
       "      <td>771</td>\n",
       "      <td>France</td>\n",
       "      <td>Male</td>\n",
       "      <td>39</td>\n",
       "      <td>5.0</td>\n",
       "      <td>0.00</td>\n",
       "      <td>2</td>\n",
       "      <td>1</td>\n",
       "      <td>0</td>\n",
       "      <td>0</td>\n",
       "    </tr>\n",
       "    <tr>\n",
       "      <th>9996</th>\n",
       "      <td>516</td>\n",
       "      <td>France</td>\n",
       "      <td>Male</td>\n",
       "      <td>35</td>\n",
       "      <td>10.0</td>\n",
       "      <td>57369.61</td>\n",
       "      <td>1</td>\n",
       "      <td>1</td>\n",
       "      <td>1</td>\n",
       "      <td>0</td>\n",
       "    </tr>\n",
       "    <tr>\n",
       "      <th>9997</th>\n",
       "      <td>709</td>\n",
       "      <td>France</td>\n",
       "      <td>Female</td>\n",
       "      <td>36</td>\n",
       "      <td>7.0</td>\n",
       "      <td>0.00</td>\n",
       "      <td>1</td>\n",
       "      <td>0</td>\n",
       "      <td>1</td>\n",
       "      <td>1</td>\n",
       "    </tr>\n",
       "    <tr>\n",
       "      <th>9998</th>\n",
       "      <td>772</td>\n",
       "      <td>Germany</td>\n",
       "      <td>Male</td>\n",
       "      <td>42</td>\n",
       "      <td>3.0</td>\n",
       "      <td>75075.31</td>\n",
       "      <td>2</td>\n",
       "      <td>1</td>\n",
       "      <td>0</td>\n",
       "      <td>1</td>\n",
       "    </tr>\n",
       "    <tr>\n",
       "      <th>9999</th>\n",
       "      <td>792</td>\n",
       "      <td>France</td>\n",
       "      <td>Female</td>\n",
       "      <td>28</td>\n",
       "      <td>NaN</td>\n",
       "      <td>130142.79</td>\n",
       "      <td>1</td>\n",
       "      <td>1</td>\n",
       "      <td>0</td>\n",
       "      <td>0</td>\n",
       "    </tr>\n",
       "  </tbody>\n",
       "</table>\n",
       "<p>10000 rows × 10 columns</p>\n",
       "</div>"
      ],
      "text/plain": [
       "      credit_score geography  gender  age  tenure    balance  num_of_products  \\\n",
       "0              619    France  Female   42     2.0       0.00                1   \n",
       "1              608     Spain  Female   41     1.0   83807.86                1   \n",
       "2              502    France  Female   42     8.0  159660.80                3   \n",
       "3              699    France  Female   39     1.0       0.00                2   \n",
       "4              850     Spain  Female   43     2.0  125510.82                1   \n",
       "...            ...       ...     ...  ...     ...        ...              ...   \n",
       "9995           771    France    Male   39     5.0       0.00                2   \n",
       "9996           516    France    Male   35    10.0   57369.61                1   \n",
       "9997           709    France  Female   36     7.0       0.00                1   \n",
       "9998           772   Germany    Male   42     3.0   75075.31                2   \n",
       "9999           792    France  Female   28     NaN  130142.79                1   \n",
       "\n",
       "      has_cr_card  is-active_member  exited  \n",
       "0               1                 1       1  \n",
       "1               0                 1       0  \n",
       "2               1                 0       1  \n",
       "3               0                 0       0  \n",
       "4               1                 1       0  \n",
       "...           ...               ...     ...  \n",
       "9995            1                 0       0  \n",
       "9996            1                 1       0  \n",
       "9997            0                 1       1  \n",
       "9998            1                 0       1  \n",
       "9999            1                 0       0  \n",
       "\n",
       "[10000 rows x 10 columns]"
      ]
     },
     "execution_count": 117,
     "metadata": {},
     "output_type": "execute_result"
    }
   ],
   "source": [
    "# и приводим названия столбцов к нижнему регистру\n",
    "data.columns = data.columns.str.lower()\n",
    "# проверим результат изменений \n",
    "print(data.columns)\n",
    "data\n"
   ]
  },
  {
   "cell_type": "code",
   "execution_count": 118,
   "metadata": {},
   "outputs": [
    {
     "name": "stdout",
     "output_type": "stream",
     "text": [
      "Дубликатов оказалось: 1\n",
      "      credit_score geography gender  age  tenure  balance  num_of_products  \\\n",
      "8857           624    France   Male   36     6.0      0.0                2   \n",
      "\n",
      "      has_cr_card  is-active_member  exited  \n",
      "8857            0                 0       0  \n",
      "Удаляем\n",
      "Дубликатов оказалось: 0\n"
     ]
    }
   ],
   "source": [
    "# проверка на дубликаты\n",
    "print('Дубликатов оказалось:', data.duplicated().sum())\n",
    "print(data[data.duplicated()])\n",
    "print('Удаляем')\n",
    "data = data.drop_duplicates().reset_index()\n",
    "print('Дубликатов оказалось:', data.duplicated().sum())"
   ]
  },
  {
   "cell_type": "code",
   "execution_count": 119,
   "metadata": {},
   "outputs": [
    {
     "name": "stdout",
     "output_type": "stream",
     "text": [
      "index                 0\n",
      "credit_score          0\n",
      "geography             0\n",
      "gender                0\n",
      "age                   0\n",
      "tenure              909\n",
      "balance               0\n",
      "num_of_products       0\n",
      "has_cr_card           0\n",
      "is-active_member      0\n",
      "exited                0\n",
      "dtype: int64\n",
      "**************\n",
      "index               0\n",
      "credit_score        0\n",
      "geography           0\n",
      "gender              0\n",
      "age                 0\n",
      "tenure              0\n",
      "balance             0\n",
      "num_of_products     0\n",
      "has_cr_card         0\n",
      "is-active_member    0\n",
      "exited              0\n",
      "dtype: int64\n"
     ]
    }
   ],
   "source": [
    "# проверка на пропуски\n",
    "print(data.isna().sum())\n",
    "# пропуски в столбце tenure заменим на 0\n",
    "data['tenure'] = data['tenure'].fillna(0)\n",
    "print('**************')\n",
    "print(data.isna().sum())"
   ]
  },
  {
   "cell_type": "markdown",
   "metadata": {},
   "source": [
    "Получаем таблицу с такими данными:\n",
    "\n",
    "- credit_score — кредитный рейтинг\n",
    "- geography — страна проживания\n",
    "- gender — пол\n",
    "- age — возраст\n",
    "- tenure — сколько лет человек является клиентом банка\n",
    "- balance — баланс на счёте\n",
    "- num_of_products — количество продуктов банка, используемых клиентом\n",
    "- has_cr_card — наличие кредитной карты\n",
    "- is_active_member — активность клиента\n",
    "\n",
    "Целевой признак\n",
    "- exited — факт ухода клиента\n"
   ]
  },
  {
   "cell_type": "markdown",
   "metadata": {},
   "source": [
    "## Исследование задачи"
   ]
  },
  {
   "cell_type": "code",
   "execution_count": 120,
   "metadata": {},
   "outputs": [
    {
     "name": "stdout",
     "output_type": "stream",
     "text": [
      "Index(['index', 'credit_score', 'age', 'tenure', 'balance', 'num_of_products',\n",
      "       'has_cr_card', 'is-active_member', 'exited', 'geography_Germany',\n",
      "       'geography_Spain', 'gender_Male'],\n",
      "      dtype='object')\n"
     ]
    }
   ],
   "source": [
    "# преобразовать категориальные признаки в численные поможет техника прямого кодирования\n",
    "# применим прямое кодирование ко всему датафрейму для анализа логистической регрессии или случайного леса\n",
    "data = pd.get_dummies(data,drop_first=True)\n",
    "print(data.columns)"
   ]
  },
  {
   "cell_type": "code",
   "execution_count": 122,
   "metadata": {},
   "outputs": [
    {
     "name": "stdout",
     "output_type": "stream",
     "text": [
      "Index(['index', 'credit_score', 'age', 'tenure', 'balance', 'num_of_products',\n",
      "       'has_cr_card', 'is-active_member', 'exited', 'geography_germany',\n",
      "       'geography_spain', 'gender_male'],\n",
      "      dtype='object')\n"
     ]
    }
   ],
   "source": [
    "# переименуем столбцы,чтоб красиво было\n",
    "data = data.rename(columns={'geography_Spain':'geography_spain', 'geography_Germany':'geography_germany', 'gender_Male':'gender_male'})\n",
    "print(data.columns)"
   ]
  },
  {
   "cell_type": "markdown",
   "metadata": {},
   "source": [
    "`Разделим набор данных на выборки:`\n",
    "- обучающую (train) для обучения модели(60% исходных данных);\n",
    "- валидационную (valid) для проверки, переобучилась ли модель (20% данных);\n",
    "- тестовую (test) для оценки качества(20%).\n",
    "\n",
    "`В random_state укажем значение 12345. Для начала разделим на обучающую выборку и валидационную, а затем данные разделим поровну на тестовую выборку и валидационную.`"
   ]
  },
  {
   "cell_type": "code",
   "execution_count": 123,
   "metadata": {},
   "outputs": [
    {
     "name": "stdout",
     "output_type": "stream",
     "text": [
      "(5999, 12)\n",
      "(2000, 12)\n",
      "(2000, 12)\n"
     ]
    }
   ],
   "source": [
    "# обучающая,валидационная и тестовая выборки. Выведем их размеры для самопроверки \n",
    "train, valid = train_test_split(data, test_size=0.4, random_state=12345)\n",
    "#test, valid = train_test_split(data, test_size=0.5, random_state=12345)\n",
    "test, valid = train_test_split(valid, test_size=0.5, random_state=12345)\n",
    "\n",
    "print(train.shape)\n",
    "print(valid.shape)\n",
    "print(test.shape)"
   ]
  },
  {
   "cell_type": "code",
   "execution_count": 124,
   "metadata": {},
   "outputs": [],
   "source": [
    "# создаем переменные для признаков и целевого признака\n",
    "# обучающий набор признаков\n",
    "features_train = train.drop(['exited'], axis=1)\n",
    "target_train = train['exited'] #целевой\n",
    "# валидационный\n",
    "features_valid = valid.drop(['exited'], axis=1)\n",
    "target_valid = valid['exited'] # целевой\n",
    "# тестовый\n",
    "features_test = test.drop(['exited'], axis=1)\n",
    "target_test = test['exited'] # целевой"
   ]
  },
  {
   "cell_type": "code",
   "execution_count": 125,
   "metadata": {},
   "outputs": [
    {
     "data": {
      "text/html": [
       "<div>\n",
       "<style scoped>\n",
       "    .dataframe tbody tr th:only-of-type {\n",
       "        vertical-align: middle;\n",
       "    }\n",
       "\n",
       "    .dataframe tbody tr th {\n",
       "        vertical-align: top;\n",
       "    }\n",
       "\n",
       "    .dataframe thead th {\n",
       "        text-align: right;\n",
       "    }\n",
       "</style>\n",
       "<table border=\"1\" class=\"dataframe\">\n",
       "  <thead>\n",
       "    <tr style=\"text-align: right;\">\n",
       "      <th></th>\n",
       "      <th>index</th>\n",
       "      <th>credit_score</th>\n",
       "      <th>age</th>\n",
       "      <th>tenure</th>\n",
       "      <th>balance</th>\n",
       "      <th>num_of_products</th>\n",
       "      <th>has_cr_card</th>\n",
       "      <th>is-active_member</th>\n",
       "      <th>exited</th>\n",
       "      <th>geography_germany</th>\n",
       "      <th>geography_spain</th>\n",
       "      <th>gender_male</th>\n",
       "    </tr>\n",
       "  </thead>\n",
       "  <tbody>\n",
       "    <tr>\n",
       "      <th>0</th>\n",
       "      <td>0</td>\n",
       "      <td>619</td>\n",
       "      <td>42</td>\n",
       "      <td>2.0</td>\n",
       "      <td>0.00</td>\n",
       "      <td>1</td>\n",
       "      <td>1</td>\n",
       "      <td>1</td>\n",
       "      <td>1</td>\n",
       "      <td>0</td>\n",
       "      <td>0</td>\n",
       "      <td>0</td>\n",
       "    </tr>\n",
       "    <tr>\n",
       "      <th>1</th>\n",
       "      <td>1</td>\n",
       "      <td>608</td>\n",
       "      <td>41</td>\n",
       "      <td>1.0</td>\n",
       "      <td>83807.86</td>\n",
       "      <td>1</td>\n",
       "      <td>0</td>\n",
       "      <td>1</td>\n",
       "      <td>0</td>\n",
       "      <td>0</td>\n",
       "      <td>1</td>\n",
       "      <td>0</td>\n",
       "    </tr>\n",
       "    <tr>\n",
       "      <th>2</th>\n",
       "      <td>2</td>\n",
       "      <td>502</td>\n",
       "      <td>42</td>\n",
       "      <td>8.0</td>\n",
       "      <td>159660.80</td>\n",
       "      <td>3</td>\n",
       "      <td>1</td>\n",
       "      <td>0</td>\n",
       "      <td>1</td>\n",
       "      <td>0</td>\n",
       "      <td>0</td>\n",
       "      <td>0</td>\n",
       "    </tr>\n",
       "    <tr>\n",
       "      <th>3</th>\n",
       "      <td>3</td>\n",
       "      <td>699</td>\n",
       "      <td>39</td>\n",
       "      <td>1.0</td>\n",
       "      <td>0.00</td>\n",
       "      <td>2</td>\n",
       "      <td>0</td>\n",
       "      <td>0</td>\n",
       "      <td>0</td>\n",
       "      <td>0</td>\n",
       "      <td>0</td>\n",
       "      <td>0</td>\n",
       "    </tr>\n",
       "    <tr>\n",
       "      <th>4</th>\n",
       "      <td>4</td>\n",
       "      <td>850</td>\n",
       "      <td>43</td>\n",
       "      <td>2.0</td>\n",
       "      <td>125510.82</td>\n",
       "      <td>1</td>\n",
       "      <td>1</td>\n",
       "      <td>1</td>\n",
       "      <td>0</td>\n",
       "      <td>0</td>\n",
       "      <td>1</td>\n",
       "      <td>0</td>\n",
       "    </tr>\n",
       "    <tr>\n",
       "      <th>...</th>\n",
       "      <td>...</td>\n",
       "      <td>...</td>\n",
       "      <td>...</td>\n",
       "      <td>...</td>\n",
       "      <td>...</td>\n",
       "      <td>...</td>\n",
       "      <td>...</td>\n",
       "      <td>...</td>\n",
       "      <td>...</td>\n",
       "      <td>...</td>\n",
       "      <td>...</td>\n",
       "      <td>...</td>\n",
       "    </tr>\n",
       "    <tr>\n",
       "      <th>9994</th>\n",
       "      <td>9995</td>\n",
       "      <td>771</td>\n",
       "      <td>39</td>\n",
       "      <td>5.0</td>\n",
       "      <td>0.00</td>\n",
       "      <td>2</td>\n",
       "      <td>1</td>\n",
       "      <td>0</td>\n",
       "      <td>0</td>\n",
       "      <td>0</td>\n",
       "      <td>0</td>\n",
       "      <td>1</td>\n",
       "    </tr>\n",
       "    <tr>\n",
       "      <th>9995</th>\n",
       "      <td>9996</td>\n",
       "      <td>516</td>\n",
       "      <td>35</td>\n",
       "      <td>10.0</td>\n",
       "      <td>57369.61</td>\n",
       "      <td>1</td>\n",
       "      <td>1</td>\n",
       "      <td>1</td>\n",
       "      <td>0</td>\n",
       "      <td>0</td>\n",
       "      <td>0</td>\n",
       "      <td>1</td>\n",
       "    </tr>\n",
       "    <tr>\n",
       "      <th>9996</th>\n",
       "      <td>9997</td>\n",
       "      <td>709</td>\n",
       "      <td>36</td>\n",
       "      <td>7.0</td>\n",
       "      <td>0.00</td>\n",
       "      <td>1</td>\n",
       "      <td>0</td>\n",
       "      <td>1</td>\n",
       "      <td>1</td>\n",
       "      <td>0</td>\n",
       "      <td>0</td>\n",
       "      <td>0</td>\n",
       "    </tr>\n",
       "    <tr>\n",
       "      <th>9997</th>\n",
       "      <td>9998</td>\n",
       "      <td>772</td>\n",
       "      <td>42</td>\n",
       "      <td>3.0</td>\n",
       "      <td>75075.31</td>\n",
       "      <td>2</td>\n",
       "      <td>1</td>\n",
       "      <td>0</td>\n",
       "      <td>1</td>\n",
       "      <td>1</td>\n",
       "      <td>0</td>\n",
       "      <td>1</td>\n",
       "    </tr>\n",
       "    <tr>\n",
       "      <th>9998</th>\n",
       "      <td>9999</td>\n",
       "      <td>792</td>\n",
       "      <td>28</td>\n",
       "      <td>0.0</td>\n",
       "      <td>130142.79</td>\n",
       "      <td>1</td>\n",
       "      <td>1</td>\n",
       "      <td>0</td>\n",
       "      <td>0</td>\n",
       "      <td>0</td>\n",
       "      <td>0</td>\n",
       "      <td>0</td>\n",
       "    </tr>\n",
       "  </tbody>\n",
       "</table>\n",
       "<p>9999 rows × 12 columns</p>\n",
       "</div>"
      ],
      "text/plain": [
       "      index  credit_score  age  tenure    balance  num_of_products  \\\n",
       "0         0           619   42     2.0       0.00                1   \n",
       "1         1           608   41     1.0   83807.86                1   \n",
       "2         2           502   42     8.0  159660.80                3   \n",
       "3         3           699   39     1.0       0.00                2   \n",
       "4         4           850   43     2.0  125510.82                1   \n",
       "...     ...           ...  ...     ...        ...              ...   \n",
       "9994   9995           771   39     5.0       0.00                2   \n",
       "9995   9996           516   35    10.0   57369.61                1   \n",
       "9996   9997           709   36     7.0       0.00                1   \n",
       "9997   9998           772   42     3.0   75075.31                2   \n",
       "9998   9999           792   28     0.0  130142.79                1   \n",
       "\n",
       "      has_cr_card  is-active_member  exited  geography_germany  \\\n",
       "0               1                 1       1                  0   \n",
       "1               0                 1       0                  0   \n",
       "2               1                 0       1                  0   \n",
       "3               0                 0       0                  0   \n",
       "4               1                 1       0                  0   \n",
       "...           ...               ...     ...                ...   \n",
       "9994            1                 0       0                  0   \n",
       "9995            1                 1       0                  0   \n",
       "9996            0                 1       1                  0   \n",
       "9997            1                 0       1                  1   \n",
       "9998            1                 0       0                  0   \n",
       "\n",
       "      geography_spain  gender_male  \n",
       "0                   0            0  \n",
       "1                   1            0  \n",
       "2                   0            0  \n",
       "3                   0            0  \n",
       "4                   1            0  \n",
       "...               ...          ...  \n",
       "9994                0            1  \n",
       "9995                0            1  \n",
       "9996                0            0  \n",
       "9997                0            1  \n",
       "9998                0            0  \n",
       "\n",
       "[9999 rows x 12 columns]"
      ]
     },
     "execution_count": 125,
     "metadata": {},
     "output_type": "execute_result"
    }
   ],
   "source": [
    "data"
   ]
  },
  {
   "cell_type": "code",
   "execution_count": 126,
   "metadata": {},
   "outputs": [
    {
     "name": "stdout",
     "output_type": "stream",
     "text": [
      "      index  credit_score       age    tenure   balance  num_of_products  \\\n",
      "3411   3411      0.615557 -0.185472  1.114860  0.601566                1   \n",
      "6026   6026      1.219620  0.198034 -1.455240 -0.062372                1   \n",
      "1247   1247     -1.457002 -1.431864  0.472335 -1.225506                2   \n",
      "3716   3716      0.136473 -1.144235 -0.812715  1.139518                1   \n",
      "8660   8660     -1.217460 -1.144235  0.472335 -1.225506                2   \n",
      "\n",
      "      has_cr_card  is-active_member  geography_germany  geography_spain  \\\n",
      "3411            0                 0                  0                0   \n",
      "6026            1                 0                  0                1   \n",
      "1247            1                 0                  0                0   \n",
      "3716            0                 0                  1                0   \n",
      "8660            0                 1                  0                0   \n",
      "\n",
      "      gender_male  \n",
      "3411            0  \n",
      "6026            1  \n",
      "1247            1  \n",
      "3716            0  \n",
      "8660            0  \n",
      "********************************\n",
      "      index  credit_score       age    tenure   balance  num_of_products  \\\n",
      "643     643      0.084399  0.006281  0.151072  0.942198                1   \n",
      "2898   2898      0.459334  1.252673  0.472335  1.016726                1   \n",
      "3017   3017     -0.644642 -0.952483 -1.455240  1.452235                2   \n",
      "8969   8970      1.105056  2.115561 -0.812715 -1.225506                2   \n",
      "8615   8615      0.063569  0.006281 -0.170190 -1.225506                1   \n",
      "\n",
      "      has_cr_card  is-active_member  geography_germany  geography_spain  \\\n",
      "643             1                 0                  1                0   \n",
      "2898            1                 0                  0                0   \n",
      "3017            1                 0                  0                1   \n",
      "8969            1                 1                  0                1   \n",
      "8615            1                 1                  0                0   \n",
      "\n",
      "      gender_male  \n",
      "643             0  \n",
      "2898            1  \n",
      "3017            0  \n",
      "8969            1  \n",
      "8615            0  \n",
      "********************************\n",
      "      index  credit_score       age    tenure   balance  num_of_products  \\\n",
      "8415   8415      1.125886 -0.089595 -0.491453  0.238107                1   \n",
      "2582   2582      0.042739  0.677415  0.151072  0.593581                2   \n",
      "8248   8248     -0.196803 -0.952483  0.472335  0.657909                1   \n",
      "1774   1774     -2.217288 -1.048359  0.793597  0.554667                2   \n",
      "7862   7862     -0.082239 -0.377224  0.151072  1.366582                3   \n",
      "\n",
      "      has_cr_card  is-active_member  geography_germany  geography_spain  \\\n",
      "8415            0                 1                  0                1   \n",
      "2582            1                 1                  0                0   \n",
      "8248            0                 0                  1                0   \n",
      "1774            1                 0                  0                0   \n",
      "7862            1                 1                  1                0   \n",
      "\n",
      "      gender_male  \n",
      "8415            1  \n",
      "2582            0  \n",
      "8248            1  \n",
      "1774            1  \n",
      "7862            1  \n"
     ]
    }
   ],
   "source": [
    "# у признаков разный масштаб, надо стандартизировать их методом scaler\n",
    "# присвоим переменной numeric все численные признаки\n",
    "numeric = ['credit_score', 'age', 'tenure', 'balance']\n",
    "scaler = StandardScaler()\n",
    "scaler.fit(features_train[numeric])\n",
    "# масштабируем численные признаки обучающей выборки\n",
    "features_train[numeric] = scaler.transform(features_train[numeric])\n",
    "# масштабируем численные признаки валидационной выборки\n",
    "features_valid[numeric] = scaler.transform(features_valid[numeric])\n",
    "# масштабируем численные признаки тестовой выборки \n",
    "features_test[numeric] = scaler.transform(features_test[numeric])\n",
    "print(features_train.head())\n",
    "print('********************************')\n",
    "print(features_valid.head())\n",
    "print('********************************')\n",
    "print(features_test.head())"
   ]
  },
  {
   "cell_type": "markdown",
   "metadata": {},
   "source": [
    "***Начинаем обучение модели***"
   ]
  },
  {
   "cell_type": "code",
   "execution_count": 127,
   "metadata": {},
   "outputs": [],
   "source": [
    "def metric_accuracy(features_train, target_train, features_valid, target_valid):\n",
    "    DTC_model = DecisionTreeClassifier(random_state=12345)\n",
    "    DTC_score = DTC_model.fit(features_train, target_train).score(features_valid, target_valid)\n",
    "    \n",
    "    LgR_model = LogisticRegression(solver = 'liblinear')\n",
    "    LgR_score = LgR_model.fit(features_train, target_train).score(features_valid, target_valid)\n",
    "    RFC_model = RandomForestClassifier(max_depth=10, n_estimators=50, min_samples_leaf=1, random_state=12345)\n",
    "    RFC_score = RFC_model.fit(features_train, target_train).score(features_valid, target_valid)\n",
    "    \n",
    "    \n",
    "    print('Точность определна такая: для дерева решений', DTC_score,',для логистической модели', LgR_score, ',для случайного леса', RFC_score)"
   ]
  },
  {
   "cell_type": "code",
   "execution_count": 128,
   "metadata": {},
   "outputs": [
    {
     "name": "stdout",
     "output_type": "stream",
     "text": [
      "Точность определна такая: для дерева решений 0.79 ,для логистической модели 0.8095 ,для случайного леса 0.862\n"
     ]
    }
   ],
   "source": [
    "metric_accuracy(features_train, target_train, features_valid, target_valid)"
   ]
  },
  {
   "cell_type": "code",
   "execution_count": 129,
   "metadata": {},
   "outputs": [
    {
     "name": "stdout",
     "output_type": "stream",
     "text": [
      "0    0.79628\n",
      "1    0.20372\n",
      "Name: exited, dtype: float64\n"
     ]
    },
    {
     "data": {
      "text/plain": [
       "<AxesSubplot:>"
      ]
     },
     "execution_count": 129,
     "metadata": {},
     "output_type": "execute_result"
    },
    {
     "data": {
      "image/png": "[encoded data removed]",
      "text/plain": [
       "<Figure size 432x288 with 1 Axes>"
      ]
     },
     "metadata": {
      "needs_background": "light"
     },
     "output_type": "display_data"
    }
   ],
   "source": [
    "# проверка адекватности модели\n",
    "# подсчет классов в целевом признаке\n",
    "class_frequency = data['exited'].value_counts(normalize=True)\n",
    "print(class_frequency)\n",
    "class_frequency.plot(kind='bar')"
   ]
  },
  {
   "cell_type": "code",
   "execution_count": 130,
   "metadata": {},
   "outputs": [
    {
     "name": "stdout",
     "output_type": "stream",
     "text": [
      "0.7962796279627963\n"
     ]
    }
   ],
   "source": [
    "# создаем константную модель\n",
    "target=data['exited']\n",
    "target_pred_constant = pd.Series(0, index=target.index)\n",
    "print(accuracy_score(target, target_pred_constant)) "
   ]
  },
  {
   "cell_type": "markdown",
   "metadata": {},
   "source": [
    "***Accuracy одинаковы и что с этим делать?\n",
    "Долю правильных ответов, близкую к 100%, мы получили. А вот понимания, уйдет ли наш клиент из банка — нет. В нашей задаче наблюдается дисбаланс классов, что плохо сказывается на обучении модели.***"
   ]
  },
  {
   "cell_type": "markdown",
   "metadata": {},
   "source": [
    "## Борьба с дисбалансом"
   ]
  },
  {
   "cell_type": "markdown",
   "metadata": {},
   "source": [
    "Справиться с дисбалансом и более точно классифицировать ответы поможет матрица ошибок."
   ]
  },
  {
   "cell_type": "markdown",
   "metadata": {},
   "source": [
    "В нашей задаче:\n",
    "истинно положительный ответ (TP)— это количество клиентов, которые:\n",
    "- по прогнозу модели ушли с банка(1)\n",
    "- фактически ушли из банка(1)\n",
    "\n",
    "истинно отрицательный ответ (TN) — это количество застрахованных, которые:\n",
    "- по прогнозу модели не ушли из банка(0)\n",
    "- фактически не ушли из банка(0)\n",
    "\n",
    "ложноположительный ответ (FP) — это количество застрахованных, которые:\n",
    "- по прогнозу модели ушли из банка(1);\n",
    "- фактически не ушли(0)\n",
    "\n",
    "ложноотрицательный ответ (FN)— это количество застрахованных, которые:\n",
    "- по прогнозу модели не ушли(0);\n",
    "- фактически ушли(1)\n"
   ]
  },
  {
   "attachments": {
    "%D0%BC%D0%B0%D1%82%D1%80%D0%B8%D1%86%D0%B0%20%D0%BE%D1%88%D0%B8%D0%B1%D0%BE%D0%BA.jpg": {
     "image/jpeg": "[encoded data removed]"
    }
   },
   "cell_type": "markdown",
   "metadata": {},
   "source": [
    "![%D0%BC%D0%B0%D1%82%D1%80%D0%B8%D1%86%D0%B0%20%D0%BE%D1%88%D0%B8%D0%B1%D0%BE%D0%BA.jpg](attachment:%D0%BC%D0%B0%D1%82%D1%80%D0%B8%D1%86%D0%B0%20%D0%BE%D1%88%D0%B8%D0%B1%D0%BE%D0%BA.jpg)"
   ]
  },
  {
   "cell_type": "markdown",
   "metadata": {},
   "source": [
    "`Построем матрицу ошибок для решающего дерева, рассчитаем метрики полноты и точности, найдем среднее гармоническое полноты и точности - F1-меру. Чтобы выявить, как сильно наша модель отличается от случайной, посчитаем площадь под ROC-кривой — AUC-ROC. Эта метрика качества изменяется от 0 до 1. Напомню себе,что AUC-ROC случайной модели равна 0.5.`"
   ]
  },
  {
   "cell_type": "code",
   "execution_count": 131,
   "metadata": {
    "scrolled": true
   },
   "outputs": [
    {
     "name": "stdout",
     "output_type": "stream",
     "text": [
      "Метрика полноты: 0.5038167938931297\n",
      "Метрика точности: 0.46808510638297873\n",
      "F1-мера: 0.48529411764705876\n",
      "Значение AUC-ROC: 0.681902174171207\n",
      "[[1382  225]\n",
      " [ 195  198]]\n"
     ]
    }
   ],
   "source": [
    "DTC_model = DecisionTreeClassifier(random_state=12345)\n",
    "DTC_model.fit(features_train, target_train)\n",
    "DTC_predicted_valid = DTC_model.predict(features_valid)\n",
    "DTC_probabilities_valid = DTC_model.predict_proba(features_valid)\n",
    "DTC_probabilities_one_valid = DTC_probabilities_valid[:, 1]\n",
    "DTC_auc_roc=roc_auc_score(target_valid,DTC_probabilities_one_valid)\n",
    "\n",
    "print('Метрика полноты:', recall_score(target_valid,DTC_predicted_valid))\n",
    "print('Метрика точности:', precision_score(target_valid,DTC_predicted_valid))\n",
    "print('F1-мера:', f1_score(target_valid,DTC_predicted_valid))\n",
    "print('Значение AUC-ROC:', DTC_auc_roc)\n",
    "print(confusion_matrix(target_valid,DTC_predicted_valid))\n"
   ]
  },
  {
   "cell_type": "markdown",
   "metadata": {},
   "source": [
    "***Дерево решений показывает,что модель с помощью полноты угадала на 58% положительных ответов. Пока полнота искала положительные ответы, точность указала на 58% отрицательных ответов. F1-мера показывает,что положительный класс прогнозируется неплохо.***"
   ]
  },
  {
   "cell_type": "markdown",
   "metadata": {},
   "source": [
    "`Построем матрицу ошибок для модели случайного леса, рассчитаем метрики полноты и точности,найдем среднее гармоническое полноты и точности - F1-меру. Чтобы выявить, как сильно наша модель отличается от случайной, посчитаем площадь под ROC-кривой — AUC-ROC. Эта метрика качества изменяется от 0 до 1. Напомню себе,что AUC-ROC случайной модели равна 0.5.`"
   ]
  },
  {
   "cell_type": "code",
   "execution_count": 132,
   "metadata": {},
   "outputs": [
    {
     "name": "stdout",
     "output_type": "stream",
     "text": [
      "Метрика полноты: 0.46564885496183206\n",
      "Метрика точности: 0.732\n",
      "F1-мера: 0.5692068429237946\n",
      "Значение AUC-ROC: 0.8474279986889421\n",
      "[[1540   67]\n",
      " [ 210  183]]\n"
     ]
    }
   ],
   "source": [
    "RFC_model = RandomForestClassifier(n_estimators=50, random_state=12345)\n",
    "RFC_model.fit(features_train, target_train)\n",
    "RFC_predicted_valid = RFC_model.predict(features_valid)\n",
    "RFC_probabilities_valid = RFC_model.predict_proba(features_valid)\n",
    "RFC_probabilities_one_valid = RFC_probabilities_valid[:, 1]\n",
    "RFC_auc_roc=roc_auc_score(target_valid,RFC_probabilities_one_valid)\n",
    "\n",
    "print('Метрика полноты:', recall_score(target_valid,RFC_predicted_valid))\n",
    "print('Метрика точности:', precision_score(target_valid,RFC_predicted_valid))\n",
    "print('F1-мера:', f1_score(target_valid,RFC_predicted_valid))\n",
    "print('Значение AUC-ROC:', RFC_auc_roc)\n",
    "print(confusion_matrix(target_valid,RFC_predicted_valid))"
   ]
  },
  {
   "cell_type": "markdown",
   "metadata": {},
   "source": [
    "***Случайный лес показывает,что модель с помощью полноты угадала на 54% положительных ответов, а точность указала на аж 83% отрицательных ответов.Значение F1-меры показывает,что положительный класс прогнозируется лучше,чем модель дерева решений.***"
   ]
  },
  {
   "cell_type": "markdown",
   "metadata": {},
   "source": [
    "`Построем матрицу ошибок для логистической модели, рассчитаем метрики полноты и точности, найдем среднее гармоническое полноты и точности - F1-меру. Чтобы выявить, как сильно наша модель отличается от случайной, посчитаем площадь под ROC-кривой — AUC-ROC. Эта метрика качества изменяется от 0 до 1. Напомню себе,что AUC-ROC случайной модели равна 0.5.`"
   ]
  },
  {
   "cell_type": "code",
   "execution_count": 133,
   "metadata": {},
   "outputs": [
    {
     "name": "stdout",
     "output_type": "stream",
     "text": [
      "Метрика полноты: 0.22391857506361323\n",
      "Метрика точности: 0.5365853658536586\n",
      "F1-мера: 0.31597845601436264\n",
      "Значение AUC-ROC: 0.7585753169577755\n",
      "[[1531   76]\n",
      " [ 305   88]]\n"
     ]
    }
   ],
   "source": [
    "LR_model = LogisticRegression(solver = 'liblinear')\n",
    "LR_model.fit(features_train, target_train)\n",
    "LR_predicted_valid = LR_model.predict(features_valid)\n",
    "LR_probabilities_valid = LR_model.predict_proba(features_valid)\n",
    "LR_probabilities_one_valid = LR_probabilities_valid[:, 1]\n",
    "LR_auc_roc=roc_auc_score(target_valid, LR_probabilities_one_valid)\n",
    "\n",
    "\n",
    "print('Метрика полноты:', recall_score(target_valid,LR_predicted_valid))\n",
    "print('Метрика точности:', precision_score(target_valid,LR_predicted_valid))\n",
    "print('F1-мера:', f1_score(target_valid,LR_predicted_valid))\n",
    "print('Значение AUC-ROC:', LR_auc_roc)\n",
    "print(confusion_matrix(target_valid,LR_predicted_valid))"
   ]
  },
  {
   "cell_type": "code",
   "execution_count": 134,
   "metadata": {},
   "outputs": [
    {
     "data": {
      "image/png": "[encoded data removed]",
      "text/plain": [
       "<Figure size 432x288 with 1 Axes>"
      ]
     },
     "metadata": {
      "needs_background": "light"
     },
     "output_type": "display_data"
    }
   ],
   "source": [
    "# построем ROC-кривую для логистической регрессии\n",
    "fpr, tpr, thresholds = roc_curve(target_valid, LR_probabilities_one_valid)\n",
    "\n",
    "plt.figure()\n",
    "plt.plot(fpr, tpr)\n",
    "# ROC-кривая случайной модели (как прямая)\n",
    "plt.plot([0, 1], [0, 1], linestyle='--')\n",
    "plt.xlim([0.0, 1.0]) # < примените функции plt.xlim() и plt.ylim(), чтобы\n",
    "plt.ylim([0.0, 1.0]) #   установить границы осей от 0 до 1 >\n",
    "plt.xlabel('False Positive Rate') # < примените функции plt.xlabel() и plt.ylabel(), чтобы\n",
    "plt.ylabel('True Positive Rate') #   подписать оси \"False Positive Rate\" и \"True Positive Rate\" >\n",
    "plt.title('ROC-кривая') # < добавьте к графику заголовок \"ROC-кривая\" функцией plt.title() >\n",
    "plt.show() "
   ]
  },
  {
   "cell_type": "markdown",
   "metadata": {},
   "source": []
  },
  {
   "cell_type": "markdown",
   "metadata": {},
   "source": [
    "***Значение метрики полноты в данной модели всего 20%. Точность указала на 57% отриц.ответов. Однозначно, отрицательных ответов много и нужно что-то делать:либо их уменьшать,либо увеличивать положительные***"
   ]
  },
  {
   "cell_type": "markdown",
   "metadata": {},
   "source": [
    "`Сделаем вес классов сбалансированными. Посмотрим, как изменится значение F1-меры`"
   ]
  },
  {
   "cell_type": "code",
   "execution_count": 135,
   "metadata": {},
   "outputs": [
    {
     "name": "stdout",
     "output_type": "stream",
     "text": [
      "Метрика полноты: 0.7073791348600509\n",
      "Метрика точности: 0.37066666666666664\n",
      "F1-мера: 0.48643919510061234\n",
      "Значение AUC-ROC: 0.7622250617923176\n",
      "[[1135  472]\n",
      " [ 115  278]]\n"
     ]
    }
   ],
   "source": [
    "#логистической модели\n",
    "LR_model = LogisticRegression(random_state=12345, solver='liblinear', class_weight='balanced')\n",
    "LR_model.fit(features_train, target_train)\n",
    "LR_predicted_valid = LR_model.predict(features_valid)\n",
    "LR_probabilities_valid = LR_model.predict_proba(features_valid)\n",
    "LR_probabilities_one_valid = LR_probabilities_valid[:, 1]\n",
    "LR_auc_roc=roc_auc_score(target_valid, LR_probabilities_one_valid)\n",
    "\n",
    "\n",
    "print('Метрика полноты:', recall_score(target_valid,LR_predicted_valid))\n",
    "print('Метрика точности:', precision_score(target_valid,LR_predicted_valid))\n",
    "print('F1-мера:', f1_score(target_valid,LR_predicted_valid))\n",
    "print('Значение AUC-ROC:', LR_auc_roc)\n",
    "print(confusion_matrix(target_valid,LR_predicted_valid))"
   ]
  },
  {
   "cell_type": "code",
   "execution_count": 136,
   "metadata": {},
   "outputs": [
    {
     "name": "stdout",
     "output_type": "stream",
     "text": [
      "Метрика полноты: 0.43256997455470736\n",
      "Метрика точности: 0.748898678414097\n",
      "F1-мера: 0.5483870967741935\n",
      "Значение AUC-ROC: 0.8513524640131993\n",
      "[[1550   57]\n",
      " [ 223  170]]\n"
     ]
    }
   ],
   "source": [
    "#случайного леса\n",
    "RFC_model = RandomForestClassifier(n_estimators=50, random_state=12345, class_weight='balanced')\n",
    "RFC_model.fit(features_train, target_train)\n",
    "RFC_predicted_valid = RFC_model.predict(features_valid)\n",
    "RFC_probabilities_valid = RFC_model.predict_proba(features_valid)\n",
    "RFC_probabilities_one_valid = RFC_probabilities_valid[:, 1]\n",
    "RFC_auc_roc=roc_auc_score(target_valid, RFC_probabilities_one_valid)\n",
    "\n",
    "\n",
    "print('Метрика полноты:', recall_score(target_valid, RFC_predicted_valid))\n",
    "print('Метрика точности:', precision_score(target_valid, RFC_predicted_valid))\n",
    "print('F1-мера:', f1_score(target_valid, RFC_predicted_valid))\n",
    "print('Значение AUC-ROC:', RFC_auc_roc)\n",
    "print(confusion_matrix(target_valid, RFC_predicted_valid))"
   ]
  },
  {
   "cell_type": "code",
   "execution_count": 137,
   "metadata": {},
   "outputs": [
    {
     "name": "stdout",
     "output_type": "stream",
     "text": [
      "Метрика полноты: 0.48091603053435117\n",
      "Метрика точности: 0.4543269230769231\n",
      "F1-мера: 0.4672435105067985\n",
      "Значение AUC-ROC: 0.6698295149560368\n",
      "[[1380  227]\n",
      " [ 204  189]]\n"
     ]
    }
   ],
   "source": [
    "# дерево решений\n",
    "DTC_model = DecisionTreeClassifier(random_state=12345, class_weight='balanced')\n",
    "DTC_model.fit(features_train, target_train)\n",
    "DTC_predicted_valid = DTC_model.predict(features_valid)\n",
    "DTC_probabilities_valid = DTC_model.predict_proba(features_valid)\n",
    "DTC_probabilities_one_valid = DTC_probabilities_valid[:, 1]\n",
    "DTC_auc_roc=roc_auc_score(target_valid, DTC_probabilities_one_valid)\n",
    "\n",
    "\n",
    "print('Метрика полноты:', recall_score(target_valid, DTC_predicted_valid))\n",
    "print('Метрика точности:', precision_score(target_valid, DTC_predicted_valid))\n",
    "print('F1-мера:', f1_score(target_valid, DTC_predicted_valid))\n",
    "print('Значение AUC-ROC:', DTC_auc_roc)\n",
    "print(confusion_matrix(target_valid, DTC_predicted_valid))"
   ]
  },
  {
   "cell_type": "markdown",
   "metadata": {},
   "source": [
    "***Итак, F1-мера в модели решающего дерева уменьшилась с 0.49 до 0.46, а значение AUC-ROC увеличилось незначительно с 0.67 до 0.68. В модели случайного леса F1-мера уменьшилась с 0.56 до 0.54, значение AUC-ROC приблизительно осталось тем же 0.85.\n",
    "А в логистической модели значение F1-мера увеличилась с 0.31 до 0.48, значение AUC-ROC осталось почти тем же 0.76.\n",
    "Но возможно, это хорошо. Чтобы увеличить качество модели при дисбалансе классов, попробуем увеличение и уменьшение выборки.***"
   ]
  },
  {
   "cell_type": "markdown",
   "metadata": {},
   "source": [
    "***Увеличение выборки.\n",
    "Преобразование проходит в несколько этапов:***\n",
    "- Разделить обучающую выборку на отрицательные и положительные объекты;\n",
    "- Скопировать несколько раз положительные объекты;\n",
    "- С учётом полученных данных создать новую обучающую выборку;\n",
    "- Перемешать данные."
   ]
  },
  {
   "cell_type": "code",
   "execution_count": 138,
   "metadata": {},
   "outputs": [
    {
     "name": "stdout",
     "output_type": "stream",
     "text": [
      "(4787, 11)\n",
      "(1212, 11)\n",
      "(4787,)\n",
      "(1212,)\n"
     ]
    }
   ],
   "source": [
    "# разделим обучающую выборку на отрицательные и положительные объекты\n",
    "features_zeros=features_train[target_train == 0] # признаки объектов с ответом «0»;\n",
    "features_ones=features_train[target_train == 1] #признаки объектов с ответом «1»;\n",
    "target_zeros=target_train[target_train == 0] # целевой признак объектов, у которых ответы только «0»;\n",
    "target_ones=target_train[target_train == 1] # целевой признак объектов, у которых ответы только «1».\n",
    "\n",
    "print(features_zeros.shape)\n",
    "print(features_ones.shape)\n",
    "print(target_zeros.shape)\n",
    "print(target_ones.shape)"
   ]
  },
  {
   "cell_type": "code",
   "execution_count": 139,
   "metadata": {},
   "outputs": [
    {
     "name": "stdout",
     "output_type": "stream",
     "text": [
      "(9635, 11)\n",
      "(9635,)\n"
     ]
    }
   ],
   "source": [
    "# так как у нас положит. и отриц. ответы приблизительно разделились на 20% и 80%\n",
    "# скопируем 4 раз положительные объекты\n",
    "repeat = 4\n",
    "features_upsampled = pd.concat([features_zeros] + [features_ones] * repeat)\n",
    "target_upsampled = pd.concat([target_zeros]+[target_ones]*repeat)\n",
    "\n",
    "print(features_upsampled.shape)\n",
    "print(target_upsampled.shape)"
   ]
  },
  {
   "cell_type": "code",
   "execution_count": 140,
   "metadata": {},
   "outputs": [
    {
     "name": "stdout",
     "output_type": "stream",
     "text": [
      "(9635, 11)\n",
      "(9635,)\n"
     ]
    }
   ],
   "source": [
    "# перемешаем данные\n",
    "def upsample(features, target, repeat):\n",
    "    features_zeros = features[target == 0]\n",
    "    features_ones = features[target == 1]\n",
    "    target_zeros = target[target == 0]\n",
    "    target_ones = target[target == 1]\n",
    "    features_upsampled = pd.concat([features_zeros] + [features_ones] * repeat)\n",
    "    target_upsampled = pd.concat([target_zeros] + [target_ones] * repeat)\n",
    "    return shuffle(features_upsampled,target_upsampled, random_state=12345)\n",
    "features_zeros = features_train[target_train == 0]\n",
    "features_ones = features_train[target_train == 1]\n",
    "target_zeros = target_train[target_train == 0]\n",
    "target_ones = target_train[target_train == 1]\n",
    "\n",
    "repeat = 4\n",
    "features_upsampled = pd.concat([features_zeros] + [features_ones] * repeat)\n",
    "target_upsampled = pd.concat([target_zeros] + [target_ones] * repeat)\n",
    "    \n",
    "\n",
    "\n",
    "features_upsampled, target_upsampled = upsample(features_train, target_train, 4)\n",
    "\n",
    "print(features_upsampled.shape)\n",
    "print(target_upsampled.shape)"
   ]
  },
  {
   "cell_type": "code",
   "execution_count": 152,
   "metadata": {
    "scrolled": true
   },
   "outputs": [
    {
     "name": "stdout",
     "output_type": "stream",
     "text": [
      "При LR_model F1-мера= 0.4877622377622377\n",
      "При RFC_model F1-мера= 0.5989010989010989\n",
      "При DTC_model F1-мера= 0.4643734643734644\n"
     ]
    }
   ],
   "source": [
    "LR_model = LogisticRegression(random_state=12345,solver='liblinear', class_weight='balanced')\n",
    "LR_model.fit(features_upsampled, target_upsampled)\n",
    "LR_predicted_valid = LR_model.predict(features_valid)\n",
    "LR_score = LR_model.score(features_valid, target_valid)\n",
    "print(\"При LR_model F1-мера=\", f1_score(target_valid, LR_predicted_valid))\n",
    "\n",
    "RFC_model = RandomForestClassifier(n_estimators=50, random_state=12345,class_weight='balanced')\n",
    "RFC_model.fit(features_upsampled, target_upsampled)\n",
    "RFC_predicted_valid = RFC_model.predict(features_valid)\n",
    "RFC_score = RFC_model.score(features_valid, target_valid)\n",
    "print(\"При RFC_model F1-мера=\", f1_score(target_valid, RFC_predicted_valid))\n",
    "\n",
    "DTC_model = DecisionTreeClassifier(random_state=12345,class_weight='balanced')\n",
    "DTC_model.fit(features_upsampled, target_upsampled)\n",
    "DTC_predicted_valid = DTC_model.predict(features_valid)\n",
    "DTC_score = DTC_model.score(features_valid, target_valid)\n",
    "print(\"При DTC_model F1-мера=\", f1_score(target_valid, DTC_predicted_valid))"
   ]
  },
  {
   "cell_type": "code",
   "execution_count": 150,
   "metadata": {},
   "outputs": [
    {
     "name": "stdout",
     "output_type": "stream",
     "text": [
      "При максимальной глубине = 10 и количестве деревьев 7 - accuracy наилучшей модели на валидационной выборке: 0.6024915062287656\n"
     ]
    }
   ],
   "source": [
    "best_model = None\n",
    "best_result = 0\n",
    "maximum_depth = 0\n",
    "maximum_est = 0\n",
    "for est in range(1, 10):\n",
    "    for depth in range(10, 70,10):\n",
    "        RFC_model = RandomForestClassifier(random_state=12345, n_estimators=est,max_depth = depth) # обучите модель с заданным количеством деревьев\n",
    "        RFC_model.fit(features_upsampled, target_upsampled) # обучите модель на обуч. выборке \n",
    "        RFC_predicted_valid = RFC_model.predict(features_valid) # проверим модель на валид.наборе\n",
    "        RFC_result = f1_score(target_valid, RFC_predicted_valid) # посчитаем качество модели\n",
    "        if RFC_result>best_result:\n",
    "            best_model = RFC_model\n",
    "            best_result = RFC_result\n",
    "            maximum_depth = depth\n",
    "            maximum_est = est\n",
    "print('При максимальной глубине =',maximum_depth, 'и количестве деревьев',maximum_est, '- accuracy наилучшей модели на валидационной выборке:', best_result)"
   ]
  },
  {
   "cell_type": "markdown",
   "metadata": {},
   "source": [
    "***Уменьшение выборки.\n",
    "Преобразование проходит в несколько этапов:***\n",
    "- Разделить обучающую выборку на отрицательные и положительные объекты;\n",
    "- Случайным образом отбросить часть из отрицательных объектов;\n",
    "- С учётом полученных данных создать новую обучающую выборку;\n",
    "- Перемешать данные. Положительные не должны идти следом за отрицательными: алгоритмам будет сложнее обучаться."
   ]
  },
  {
   "cell_type": "code",
   "execution_count": 153,
   "metadata": {},
   "outputs": [
    {
     "name": "stdout",
     "output_type": "stream",
     "text": [
      "При LR_model F1-мера= 0.49116607773851584\n",
      "При RFC_model F1-мера= 0.5756385068762279\n",
      "При DTC_model F1-мера= 0.47048458149779737\n"
     ]
    }
   ],
   "source": [
    "# разделим выборку и отбросим часть\n",
    "def downsample(features, target, fraction):\n",
    "    features_zeros = features[target == 0]\n",
    "    features_ones = features[target == 1]\n",
    "    target_zeros = target[target == 0]\n",
    "    target_ones = target[target == 1]\n",
    "\n",
    "    features_downsampled = pd.concat(\n",
    "        [features_zeros.sample(frac=fraction, random_state=12345)] + [features_ones])\n",
    "    target_downsampled = pd.concat(\n",
    "        [target_zeros.sample(frac=fraction, random_state=12345)] + [target_ones])\n",
    "  \n",
    "    features_downsampled, target_downsampled = shuffle(\n",
    "        features_downsampled, target_downsampled, random_state=12345)\n",
    "    return features_downsampled, target_downsampled\n",
    "\n",
    "features_downsampled, target_downsampled = downsample(features_train, target_train, fraction = 0.25) #0.4\n",
    "\n",
    "# обучим наши модели и глянем на F1-меру\n",
    "LR_model = LogisticRegression(random_state=12345,solver='liblinear',class_weight='balanced')\n",
    "LR_model.fit(features_downsampled, target_downsampled)\n",
    "LR_predicted_valid = LR_model.predict(features_valid)\n",
    "LR_score = LR_model.score(features_valid, target_valid)\n",
    "print(\"При LR_model F1-мера=\", f1_score(target_valid, LR_predicted_valid))\n",
    "\n",
    "RFC_model = RandomForestClassifier(n_estimators=50, random_state=12345,class_weight='balanced')\n",
    "RFC_model.fit(features_downsampled, target_downsampled)\n",
    "RFC_predicted_valid = RFC_model.predict(features_valid)\n",
    "RFC_score = RFC_model.score(features_valid, target_valid)\n",
    "print(\"При RFC_model F1-мера=\", f1_score(target_valid, RFC_predicted_valid))\n",
    "\n",
    "DTC_model = DecisionTreeClassifier(random_state=12345,class_weight='balanced')\n",
    "DTC_model.fit(features_downsampled, target_downsampled)\n",
    "DTC_predicted_valid = DTC_model.predict(features_valid)\n",
    "DTC_score = DTC_model.score(features_valid, target_valid)\n",
    "print(\"При DTC_model F1-мера=\", f1_score(target_valid, DTC_predicted_valid))"
   ]
  },
  {
   "cell_type": "markdown",
   "metadata": {},
   "source": [
    "***Из всех значений F1-мера у модели случайного леса (при увеличении выборки) показатель ≈ 0.68 лучше всех классифицирует каждое наблюдение в правильный класс. Значит, при тестировании воспользуемся именно этой моделью.***"
   ]
  },
  {
   "cell_type": "markdown",
   "metadata": {},
   "source": [
    "Напомним, что оценки F1 могут варьироваться от 0 до 1, где 1 представляет модель, которая идеально классифицирует каждое наблюдение в правильный класс, а 0 представляет модель, которая не может классифицировать какое-либо наблюдение в правильный класс."
   ]
  },
  {
   "cell_type": "markdown",
   "metadata": {},
   "source": [
    "## Тестирование модели"
   ]
  },
  {
   "cell_type": "code",
   "execution_count": 143,
   "metadata": {},
   "outputs": [
    {
     "name": "stdout",
     "output_type": "stream",
     "text": [
      "Метрика полноты: 0.6550925925925926\n",
      "Метрика точности: 0.5847107438016529\n",
      "F1-мера: 0.6179039301310043\n",
      "Значение AUC-ROC: 0.8430753377739983\n"
     ]
    }
   ],
   "source": [
    "# обучение модели случайного леса на тестовых данных\n",
    "test_RFC_model = RandomForestClassifier(max_depth=10, n_estimators=50, min_samples_leaf=1, random_state=12345, class_weight = 'balanced')\n",
    "test_RFC_model.fit(features_upsampled, target_upsampled)\n",
    "test_RFC_model_prediction = test_RFC_model.predict(features_test)\n",
    "test_RFC_probabilities = test_RFC_model.predict_proba(features_test)\n",
    "test_RFC_probabilities_one = test_RFC_probabilities[:, 1]\n",
    "test_RFC_auc_roc=roc_auc_score(target_test,test_RFC_probabilities_one)\n",
    "\n",
    "print('Метрика полноты:', recall_score(target_test,test_RFC_model_prediction))\n",
    "print('Метрика точности:', precision_score(target_test,test_RFC_model_prediction))\n",
    "print('F1-мера:', f1_score(target_test,test_RFC_model_prediction))\n",
    "print('Значение AUC-ROC:', test_RFC_auc_roc)\n"
   ]
  },
  {
   "cell_type": "markdown",
   "metadata": {},
   "source": [
    "***Тест показал вполне высокие значения метрик. Но хотелось бы еще проверить отличается ли оценка правильности accuracy на обучающей и тестовой выборках.***"
   ]
  },
  {
   "cell_type": "code",
   "execution_count": 144,
   "metadata": {},
   "outputs": [
    {
     "name": "stdout",
     "output_type": "stream",
     "text": [
      "Accuracy\n",
      "Обучающая выборка: 0.787\n",
      "Тестовая выборка: 0.825\n"
     ]
    }
   ],
   "source": [
    "print(\"Accuracy\")\n",
    "print(\"Обучающая выборка:\", accuracy_score(target_valid, RFC_predicted_valid))\n",
    "print(\"Тестовая выборка:\", accuracy_score(target_test, test_RFC_model_prediction))"
   ]
  },
  {
   "cell_type": "markdown",
   "metadata": {},
   "source": [
    "***Итак, тестовая выборка показала результат лучше,поэтому можно считать,что наша модель работает адекватно***"
   ]
  },
  {
   "cell_type": "markdown",
   "metadata": {},
   "source": [
    "### Вывод:"
   ]
  },
  {
   "cell_type": "markdown",
   "metadata": {},
   "source": [
    "***В начале работы при определении оценки на адекватность модели мы видели, что показатель accuracy не отличался Наблюдался дисбаланс классов. Это плохо сказывалось на обучении модели. Мы построили матрицы ошибок, рассчитали метрики полноты, точности, F1-меры и нашли значения AUC-ROC. На основе получивших данных увидели,что отрицательных ответов оказалось больше почти в 4 раза. Чтобы увеличить качество оценки модели, было решено провести увчеличение выборки и уменьшение выборки. В результате данных действий нашли самую оптимальную модель (модель случайного леса) для дальнейшей работы с тестами. При тестировании модели случайного леса показатели оценки на адекватность при тестовой выборке показали себя с лучшей стороны и оказались выше показателей обучающей выборки.***\n"
   ]
  }
 ],
 "metadata": {
  "ExecuteTimeLog": [
   {
    "duration": 413,
    "start_time": "2023-01-22T15:10:03.381Z"
   },
   {
    "duration": 108,
    "start_time": "2023-01-22T15:10:03.906Z"
   },
   {
    "duration": 4,
    "start_time": "2023-01-22T15:10:20.264Z"
   },
   {
    "duration": 13,
    "start_time": "2023-01-22T15:11:40.204Z"
   },
   {
    "duration": 56,
    "start_time": "2023-01-22T15:20:18.798Z"
   },
   {
    "duration": 22,
    "start_time": "2023-01-22T15:23:34.601Z"
   },
   {
    "duration": 22,
    "start_time": "2023-01-22T15:30:29.555Z"
   },
   {
    "duration": 29,
    "start_time": "2023-01-22T15:32:47.551Z"
   },
   {
    "duration": 3,
    "start_time": "2023-01-22T15:33:00.848Z"
   },
   {
    "duration": 76,
    "start_time": "2023-01-22T15:33:00.854Z"
   },
   {
    "duration": 21,
    "start_time": "2023-01-22T15:33:00.932Z"
   },
   {
    "duration": 4,
    "start_time": "2023-01-22T15:33:00.955Z"
   },
   {
    "duration": 32,
    "start_time": "2023-01-22T15:33:00.961Z"
   },
   {
    "duration": 44,
    "start_time": "2023-01-22T15:33:00.995Z"
   },
   {
    "duration": 3,
    "start_time": "2023-01-22T15:33:01.041Z"
   },
   {
    "duration": 3,
    "start_time": "2023-01-22T15:33:29.273Z"
   },
   {
    "duration": 54,
    "start_time": "2023-01-22T15:33:30.412Z"
   },
   {
    "duration": 28,
    "start_time": "2023-01-22T15:33:37.362Z"
   },
   {
    "duration": 4,
    "start_time": "2023-01-22T15:34:56.085Z"
   },
   {
    "duration": 88,
    "start_time": "2023-01-22T15:34:56.092Z"
   },
   {
    "duration": 4,
    "start_time": "2023-01-22T15:34:56.182Z"
   },
   {
    "duration": 20,
    "start_time": "2023-01-22T15:34:56.188Z"
   },
   {
    "duration": 65,
    "start_time": "2023-01-22T15:34:56.210Z"
   },
   {
    "duration": 41,
    "start_time": "2023-01-22T15:34:56.278Z"
   },
   {
    "duration": 6,
    "start_time": "2023-01-22T15:34:56.321Z"
   },
   {
    "duration": 15,
    "start_time": "2023-01-22T15:37:06.035Z"
   },
   {
    "duration": 6,
    "start_time": "2023-01-22T15:52:43.224Z"
   },
   {
    "duration": 67,
    "start_time": "2023-01-22T17:33:58.388Z"
   },
   {
    "duration": 1651,
    "start_time": "2023-01-22T17:35:10.955Z"
   },
   {
    "duration": 53,
    "start_time": "2023-01-22T17:35:12.608Z"
   },
   {
    "duration": 3,
    "start_time": "2023-01-22T17:35:12.663Z"
   },
   {
    "duration": 34,
    "start_time": "2023-01-22T17:35:12.668Z"
   },
   {
    "duration": 45,
    "start_time": "2023-01-22T17:35:12.704Z"
   },
   {
    "duration": 44,
    "start_time": "2023-01-22T17:35:12.750Z"
   },
   {
    "duration": 0,
    "start_time": "2023-01-22T17:35:12.796Z"
   },
   {
    "duration": 0,
    "start_time": "2023-01-22T17:35:12.798Z"
   },
   {
    "duration": 0,
    "start_time": "2023-01-22T17:35:12.799Z"
   },
   {
    "duration": 0,
    "start_time": "2023-01-22T17:35:12.800Z"
   },
   {
    "duration": 0,
    "start_time": "2023-01-22T17:35:12.801Z"
   },
   {
    "duration": 16,
    "start_time": "2023-01-22T17:37:36.664Z"
   },
   {
    "duration": 23,
    "start_time": "2023-01-22T17:37:57.409Z"
   },
   {
    "duration": 20,
    "start_time": "2023-01-22T17:38:45.392Z"
   },
   {
    "duration": 5,
    "start_time": "2023-01-22T17:38:48.989Z"
   },
   {
    "duration": 18,
    "start_time": "2023-01-22T17:39:02.478Z"
   },
   {
    "duration": 10,
    "start_time": "2023-01-22T17:39:16.718Z"
   },
   {
    "duration": 6,
    "start_time": "2023-01-22T17:39:24.988Z"
   },
   {
    "duration": 92,
    "start_time": "2023-01-22T17:42:31.042Z"
   },
   {
    "duration": 10,
    "start_time": "2023-01-22T17:42:38.635Z"
   },
   {
    "duration": 14,
    "start_time": "2023-01-22T17:46:54.373Z"
   },
   {
    "duration": 6,
    "start_time": "2023-01-22T17:50:43.059Z"
   },
   {
    "duration": 68,
    "start_time": "2023-01-22T17:50:43.067Z"
   },
   {
    "duration": 4,
    "start_time": "2023-01-22T17:50:43.137Z"
   },
   {
    "duration": 13,
    "start_time": "2023-01-22T17:50:43.143Z"
   },
   {
    "duration": 40,
    "start_time": "2023-01-22T17:50:43.158Z"
   },
   {
    "duration": 17,
    "start_time": "2023-01-22T17:50:43.200Z"
   },
   {
    "duration": 38,
    "start_time": "2023-01-22T17:50:43.218Z"
   },
   {
    "duration": 21,
    "start_time": "2023-01-22T17:50:43.259Z"
   },
   {
    "duration": 24,
    "start_time": "2023-01-22T17:50:43.282Z"
   },
   {
    "duration": 6,
    "start_time": "2023-01-22T17:50:43.308Z"
   },
   {
    "duration": 6,
    "start_time": "2023-01-22T17:50:43.316Z"
   },
   {
    "duration": 39,
    "start_time": "2023-01-22T17:51:45.449Z"
   },
   {
    "duration": 6,
    "start_time": "2023-01-22T17:52:11.370Z"
   },
   {
    "duration": 64,
    "start_time": "2023-01-22T17:52:11.378Z"
   },
   {
    "duration": 3,
    "start_time": "2023-01-22T17:52:11.445Z"
   },
   {
    "duration": 27,
    "start_time": "2023-01-22T17:52:11.450Z"
   },
   {
    "duration": 51,
    "start_time": "2023-01-22T17:52:11.479Z"
   },
   {
    "duration": 42,
    "start_time": "2023-01-22T17:52:11.532Z"
   },
   {
    "duration": 29,
    "start_time": "2023-01-22T17:52:11.576Z"
   },
   {
    "duration": 17,
    "start_time": "2023-01-22T17:52:11.607Z"
   },
   {
    "duration": 67,
    "start_time": "2023-01-22T17:52:11.626Z"
   },
   {
    "duration": 7,
    "start_time": "2023-01-22T17:52:11.697Z"
   },
   {
    "duration": 9,
    "start_time": "2023-01-22T17:52:11.706Z"
   },
   {
    "duration": 1285,
    "start_time": "2023-01-22T17:56:44.752Z"
   },
   {
    "duration": 10,
    "start_time": "2023-01-22T17:56:59.101Z"
   },
   {
    "duration": 14,
    "start_time": "2023-01-22T17:57:26.457Z"
   },
   {
    "duration": 642,
    "start_time": "2023-01-22T17:59:19.300Z"
   },
   {
    "duration": 13,
    "start_time": "2023-01-22T18:00:05.053Z"
   },
   {
    "duration": 3,
    "start_time": "2023-01-22T18:01:34.685Z"
   },
   {
    "duration": 57,
    "start_time": "2023-01-22T18:01:34.690Z"
   },
   {
    "duration": 4,
    "start_time": "2023-01-22T18:01:34.749Z"
   },
   {
    "duration": 28,
    "start_time": "2023-01-22T18:01:34.755Z"
   },
   {
    "duration": 35,
    "start_time": "2023-01-22T18:01:34.785Z"
   },
   {
    "duration": 14,
    "start_time": "2023-01-22T18:01:34.822Z"
   },
   {
    "duration": 35,
    "start_time": "2023-01-22T18:01:34.838Z"
   },
   {
    "duration": 16,
    "start_time": "2023-01-22T18:01:34.875Z"
   },
   {
    "duration": 25,
    "start_time": "2023-01-22T18:01:34.893Z"
   },
   {
    "duration": 35,
    "start_time": "2023-01-22T18:01:34.920Z"
   },
   {
    "duration": 7,
    "start_time": "2023-01-22T18:01:34.958Z"
   },
   {
    "duration": 14,
    "start_time": "2023-01-22T18:16:38.983Z"
   },
   {
    "duration": 12,
    "start_time": "2023-01-22T18:17:21.443Z"
   },
   {
    "duration": 8,
    "start_time": "2023-01-22T18:19:02.841Z"
   },
   {
    "duration": 5,
    "start_time": "2023-01-22T18:35:46.906Z"
   },
   {
    "duration": 78,
    "start_time": "2023-01-22T18:35:46.913Z"
   },
   {
    "duration": 5,
    "start_time": "2023-01-22T18:35:46.993Z"
   },
   {
    "duration": 23,
    "start_time": "2023-01-22T18:35:47.001Z"
   },
   {
    "duration": 59,
    "start_time": "2023-01-22T18:35:47.026Z"
   },
   {
    "duration": 18,
    "start_time": "2023-01-22T18:35:47.087Z"
   },
   {
    "duration": 22,
    "start_time": "2023-01-22T18:35:47.108Z"
   },
   {
    "duration": 20,
    "start_time": "2023-01-22T18:35:47.154Z"
   },
   {
    "duration": 28,
    "start_time": "2023-01-22T18:35:47.175Z"
   },
   {
    "duration": 10,
    "start_time": "2023-01-22T18:35:47.205Z"
   },
   {
    "duration": 55,
    "start_time": "2023-01-22T18:35:47.218Z"
   },
   {
    "duration": 10,
    "start_time": "2023-01-22T18:35:47.275Z"
   },
   {
    "duration": 6,
    "start_time": "2023-01-22T18:35:47.288Z"
   },
   {
    "duration": 1465,
    "start_time": "2023-01-22T18:35:47.296Z"
   },
   {
    "duration": 17,
    "start_time": "2023-01-22T18:37:39.052Z"
   },
   {
    "duration": 6,
    "start_time": "2023-01-22T18:42:51.355Z"
   },
   {
    "duration": 25,
    "start_time": "2023-01-22T18:48:01.351Z"
   },
   {
    "duration": 25,
    "start_time": "2023-01-22T18:49:42.185Z"
   },
   {
    "duration": 35,
    "start_time": "2023-01-22T18:53:27.339Z"
   },
   {
    "duration": 37,
    "start_time": "2023-01-22T18:53:44.476Z"
   },
   {
    "duration": 41,
    "start_time": "2023-01-22T18:53:56.881Z"
   },
   {
    "duration": 37,
    "start_time": "2023-01-22T18:59:36.345Z"
   },
   {
    "duration": 5,
    "start_time": "2023-01-22T19:30:10.667Z"
   },
   {
    "duration": 5,
    "start_time": "2023-01-22T19:30:30.157Z"
   },
   {
    "duration": 65,
    "start_time": "2023-01-22T19:30:30.164Z"
   },
   {
    "duration": 5,
    "start_time": "2023-01-22T19:30:30.231Z"
   },
   {
    "duration": 29,
    "start_time": "2023-01-22T19:30:30.238Z"
   },
   {
    "duration": 47,
    "start_time": "2023-01-22T19:30:30.269Z"
   },
   {
    "duration": 19,
    "start_time": "2023-01-22T19:30:30.318Z"
   },
   {
    "duration": 20,
    "start_time": "2023-01-22T19:30:30.354Z"
   },
   {
    "duration": 31,
    "start_time": "2023-01-22T19:30:30.375Z"
   },
   {
    "duration": 53,
    "start_time": "2023-01-22T19:30:30.408Z"
   },
   {
    "duration": 13,
    "start_time": "2023-01-22T19:30:30.464Z"
   },
   {
    "duration": 43,
    "start_time": "2023-01-22T19:30:30.480Z"
   },
   {
    "duration": 19,
    "start_time": "2023-01-22T19:30:30.525Z"
   },
   {
    "duration": 56,
    "start_time": "2023-01-22T19:30:30.547Z"
   },
   {
    "duration": 23,
    "start_time": "2023-01-22T19:30:30.606Z"
   },
   {
    "duration": 46,
    "start_time": "2023-01-22T19:30:30.631Z"
   },
   {
    "duration": 75,
    "start_time": "2023-01-22T19:30:30.679Z"
   },
   {
    "duration": 8,
    "start_time": "2023-01-22T19:30:30.756Z"
   },
   {
    "duration": 10509,
    "start_time": "2023-01-22T19:30:30.766Z"
   },
   {
    "duration": 6,
    "start_time": "2023-01-22T19:31:44.619Z"
   },
   {
    "duration": 14,
    "start_time": "2023-01-22T19:31:45.481Z"
   },
   {
    "duration": 5,
    "start_time": "2023-01-22T19:32:08.810Z"
   },
   {
    "duration": 559,
    "start_time": "2023-01-22T19:32:09.531Z"
   },
   {
    "duration": 6,
    "start_time": "2023-01-22T19:38:07.457Z"
   },
   {
    "duration": 5,
    "start_time": "2023-01-22T19:38:11.838Z"
   },
   {
    "duration": 562,
    "start_time": "2023-01-22T19:38:12.282Z"
   },
   {
    "duration": 5,
    "start_time": "2023-01-22T19:38:29.625Z"
   },
   {
    "duration": 523,
    "start_time": "2023-01-22T19:38:30.143Z"
   },
   {
    "duration": 5,
    "start_time": "2023-01-22T19:38:54.097Z"
   },
   {
    "duration": 558,
    "start_time": "2023-01-22T19:38:54.608Z"
   },
   {
    "duration": 5,
    "start_time": "2023-01-22T19:39:24.390Z"
   },
   {
    "duration": 591,
    "start_time": "2023-01-22T19:39:25.071Z"
   },
   {
    "duration": 618,
    "start_time": "2023-01-22T20:03:01.011Z"
   },
   {
    "duration": 21,
    "start_time": "2023-01-22T20:07:15.372Z"
   },
   {
    "duration": 10,
    "start_time": "2023-01-22T20:08:02.681Z"
   },
   {
    "duration": 6,
    "start_time": "2023-01-22T20:08:41.833Z"
   },
   {
    "duration": 70,
    "start_time": "2023-01-22T20:08:41.841Z"
   },
   {
    "duration": 5,
    "start_time": "2023-01-22T20:08:41.913Z"
   },
   {
    "duration": 20,
    "start_time": "2023-01-22T20:08:41.921Z"
   },
   {
    "duration": 41,
    "start_time": "2023-01-22T20:08:41.943Z"
   },
   {
    "duration": 19,
    "start_time": "2023-01-22T20:08:41.986Z"
   },
   {
    "duration": 20,
    "start_time": "2023-01-22T20:08:42.007Z"
   },
   {
    "duration": 40,
    "start_time": "2023-01-22T20:08:42.029Z"
   },
   {
    "duration": 34,
    "start_time": "2023-01-22T20:08:42.072Z"
   },
   {
    "duration": 12,
    "start_time": "2023-01-22T20:08:42.108Z"
   },
   {
    "duration": 32,
    "start_time": "2023-01-22T20:08:42.122Z"
   },
   {
    "duration": 5,
    "start_time": "2023-01-22T20:08:42.156Z"
   },
   {
    "duration": 22,
    "start_time": "2023-01-22T20:08:42.162Z"
   },
   {
    "duration": 19,
    "start_time": "2023-01-22T20:08:42.186Z"
   },
   {
    "duration": 17,
    "start_time": "2023-01-22T20:08:42.207Z"
   },
   {
    "duration": 54,
    "start_time": "2023-01-22T20:08:42.226Z"
   },
   {
    "duration": 5,
    "start_time": "2023-01-22T20:08:42.282Z"
   },
   {
    "duration": 554,
    "start_time": "2023-01-22T20:08:42.289Z"
   },
   {
    "duration": 124,
    "start_time": "2023-01-22T20:08:42.845Z"
   },
   {
    "duration": 6,
    "start_time": "2023-01-22T20:08:42.971Z"
   },
   {
    "duration": 6,
    "start_time": "2023-01-22T20:25:10.378Z"
   },
   {
    "duration": 59,
    "start_time": "2023-01-22T20:25:10.386Z"
   },
   {
    "duration": 4,
    "start_time": "2023-01-22T20:25:10.447Z"
   },
   {
    "duration": 41,
    "start_time": "2023-01-22T20:25:10.458Z"
   },
   {
    "duration": 45,
    "start_time": "2023-01-22T20:25:10.501Z"
   },
   {
    "duration": 32,
    "start_time": "2023-01-22T20:25:10.548Z"
   },
   {
    "duration": 40,
    "start_time": "2023-01-22T20:25:10.582Z"
   },
   {
    "duration": 20,
    "start_time": "2023-01-22T20:25:10.624Z"
   },
   {
    "duration": 42,
    "start_time": "2023-01-22T20:25:10.645Z"
   },
   {
    "duration": 17,
    "start_time": "2023-01-22T20:25:10.692Z"
   },
   {
    "duration": 10,
    "start_time": "2023-01-22T20:25:10.710Z"
   },
   {
    "duration": 4,
    "start_time": "2023-01-22T20:25:10.722Z"
   },
   {
    "duration": 31,
    "start_time": "2023-01-22T20:25:10.727Z"
   },
   {
    "duration": 26,
    "start_time": "2023-01-22T20:25:10.762Z"
   },
   {
    "duration": 24,
    "start_time": "2023-01-22T20:25:10.791Z"
   },
   {
    "duration": 62,
    "start_time": "2023-01-22T20:25:10.817Z"
   },
   {
    "duration": 6,
    "start_time": "2023-01-22T20:25:10.882Z"
   },
   {
    "duration": 515,
    "start_time": "2023-01-22T20:25:10.890Z"
   },
   {
    "duration": 151,
    "start_time": "2023-01-22T20:25:11.407Z"
   },
   {
    "duration": 10,
    "start_time": "2023-01-22T20:25:11.560Z"
   },
   {
    "duration": 9,
    "start_time": "2023-01-22T20:26:10.179Z"
   },
   {
    "duration": 580,
    "start_time": "2023-01-22T20:26:13.338Z"
   },
   {
    "duration": 333,
    "start_time": "2023-01-22T20:35:14.192Z"
   },
   {
    "duration": 67,
    "start_time": "2023-01-22T20:47:22.619Z"
   },
   {
    "duration": 9,
    "start_time": "2023-01-22T20:47:32.747Z"
   },
   {
    "duration": 82,
    "start_time": "2023-01-22T20:47:32.763Z"
   },
   {
    "duration": 5,
    "start_time": "2023-01-22T20:47:32.847Z"
   },
   {
    "duration": 49,
    "start_time": "2023-01-22T20:47:32.857Z"
   },
   {
    "duration": 52,
    "start_time": "2023-01-22T20:47:32.908Z"
   },
   {
    "duration": 28,
    "start_time": "2023-01-22T20:47:32.962Z"
   },
   {
    "duration": 17,
    "start_time": "2023-01-22T20:47:32.991Z"
   },
   {
    "duration": 17,
    "start_time": "2023-01-22T20:47:33.010Z"
   },
   {
    "duration": 66,
    "start_time": "2023-01-22T20:47:33.029Z"
   },
   {
    "duration": 9,
    "start_time": "2023-01-22T20:47:33.099Z"
   },
   {
    "duration": 15,
    "start_time": "2023-01-22T20:47:33.110Z"
   },
   {
    "duration": 4,
    "start_time": "2023-01-22T20:47:33.126Z"
   },
   {
    "duration": 31,
    "start_time": "2023-01-22T20:47:33.132Z"
   },
   {
    "duration": 29,
    "start_time": "2023-01-22T20:47:33.165Z"
   },
   {
    "duration": 21,
    "start_time": "2023-01-22T20:47:33.196Z"
   },
   {
    "duration": 41,
    "start_time": "2023-01-22T20:47:33.218Z"
   },
   {
    "duration": 14,
    "start_time": "2023-01-22T20:47:33.267Z"
   },
   {
    "duration": 529,
    "start_time": "2023-01-22T20:47:33.284Z"
   },
   {
    "duration": 135,
    "start_time": "2023-01-22T20:47:33.815Z"
   },
   {
    "duration": 10,
    "start_time": "2023-01-22T20:47:33.952Z"
   },
   {
    "duration": 111,
    "start_time": "2023-01-22T20:47:33.974Z"
   },
   {
    "duration": 0,
    "start_time": "2023-01-22T20:47:34.086Z"
   },
   {
    "duration": 212,
    "start_time": "2023-01-22T20:47:47.643Z"
   },
   {
    "duration": 38,
    "start_time": "2023-01-22T20:54:42.485Z"
   },
   {
    "duration": 43,
    "start_time": "2023-01-22T20:56:43.101Z"
   },
   {
    "duration": 432,
    "start_time": "2023-01-22T20:58:24.811Z"
   },
   {
    "duration": 7,
    "start_time": "2023-01-22T21:05:57.162Z"
   },
   {
    "duration": 169,
    "start_time": "2023-01-22T21:05:57.172Z"
   },
   {
    "duration": 5,
    "start_time": "2023-01-22T21:05:57.343Z"
   },
   {
    "duration": 147,
    "start_time": "2023-01-22T21:05:57.351Z"
   },
   {
    "duration": 53,
    "start_time": "2023-01-22T21:05:57.500Z"
   },
   {
    "duration": 30,
    "start_time": "2023-01-22T21:05:57.556Z"
   },
   {
    "duration": 34,
    "start_time": "2023-01-22T21:05:57.589Z"
   },
   {
    "duration": 23,
    "start_time": "2023-01-22T21:05:57.626Z"
   },
   {
    "duration": 58,
    "start_time": "2023-01-22T21:05:57.651Z"
   },
   {
    "duration": 11,
    "start_time": "2023-01-22T21:05:57.710Z"
   },
   {
    "duration": 20,
    "start_time": "2023-01-22T21:05:57.723Z"
   },
   {
    "duration": 14,
    "start_time": "2023-01-22T21:05:57.745Z"
   },
   {
    "duration": 20,
    "start_time": "2023-01-22T21:05:57.767Z"
   },
   {
    "duration": 25,
    "start_time": "2023-01-22T21:05:57.789Z"
   },
   {
    "duration": 44,
    "start_time": "2023-01-22T21:05:57.816Z"
   },
   {
    "duration": 59,
    "start_time": "2023-01-22T21:05:57.862Z"
   },
   {
    "duration": 37,
    "start_time": "2023-01-22T21:05:57.922Z"
   },
   {
    "duration": 607,
    "start_time": "2023-01-22T21:05:57.968Z"
   },
   {
    "duration": 143,
    "start_time": "2023-01-22T21:05:58.577Z"
   },
   {
    "duration": 4,
    "start_time": "2023-01-22T21:05:58.722Z"
   },
   {
    "duration": 97,
    "start_time": "2023-01-22T21:05:58.728Z"
   },
   {
    "duration": 229,
    "start_time": "2023-01-22T21:05:58.826Z"
   },
   {
    "duration": 444,
    "start_time": "2023-01-22T21:05:59.056Z"
   },
   {
    "duration": 58,
    "start_time": "2023-01-22T21:12:42.938Z"
   },
   {
    "duration": 4,
    "start_time": "2023-01-22T21:13:53.399Z"
   },
   {
    "duration": 93,
    "start_time": "2023-01-22T21:13:53.406Z"
   },
   {
    "duration": 5,
    "start_time": "2023-01-22T21:13:53.501Z"
   },
   {
    "duration": 23,
    "start_time": "2023-01-22T21:13:53.509Z"
   },
   {
    "duration": 58,
    "start_time": "2023-01-22T21:13:53.535Z"
   },
   {
    "duration": 19,
    "start_time": "2023-01-22T21:13:53.594Z"
   },
   {
    "duration": 50,
    "start_time": "2023-01-22T21:13:53.615Z"
   },
   {
    "duration": 27,
    "start_time": "2023-01-22T21:13:53.667Z"
   },
   {
    "duration": 65,
    "start_time": "2023-01-22T21:13:53.697Z"
   },
   {
    "duration": 12,
    "start_time": "2023-01-22T21:13:53.769Z"
   },
   {
    "duration": 11,
    "start_time": "2023-01-22T21:13:53.783Z"
   },
   {
    "duration": 6,
    "start_time": "2023-01-22T21:13:53.796Z"
   },
   {
    "duration": 10,
    "start_time": "2023-01-22T21:13:53.803Z"
   },
   {
    "duration": 7,
    "start_time": "2023-01-22T21:13:53.816Z"
   },
   {
    "duration": 48,
    "start_time": "2023-01-22T21:13:53.824Z"
   },
   {
    "duration": 38,
    "start_time": "2023-01-22T21:13:53.874Z"
   },
   {
    "duration": 5,
    "start_time": "2023-01-22T21:13:53.913Z"
   },
   {
    "duration": 552,
    "start_time": "2023-01-22T21:13:53.920Z"
   },
   {
    "duration": 133,
    "start_time": "2023-01-22T21:13:54.474Z"
   },
   {
    "duration": 6,
    "start_time": "2023-01-22T21:13:54.609Z"
   },
   {
    "duration": 70,
    "start_time": "2023-01-22T21:13:54.617Z"
   },
   {
    "duration": 0,
    "start_time": "2023-01-22T21:13:54.690Z"
   },
   {
    "duration": 0,
    "start_time": "2023-01-22T21:13:54.690Z"
   },
   {
    "duration": 5,
    "start_time": "2023-01-22T21:14:32.248Z"
   },
   {
    "duration": 81,
    "start_time": "2023-01-22T21:14:32.259Z"
   },
   {
    "duration": 4,
    "start_time": "2023-01-22T21:14:32.343Z"
   },
   {
    "duration": 61,
    "start_time": "2023-01-22T21:14:32.349Z"
   },
   {
    "duration": 56,
    "start_time": "2023-01-22T21:14:32.413Z"
   },
   {
    "duration": 18,
    "start_time": "2023-01-22T21:14:32.472Z"
   },
   {
    "duration": 16,
    "start_time": "2023-01-22T21:14:32.492Z"
   },
   {
    "duration": 46,
    "start_time": "2023-01-22T21:14:32.510Z"
   },
   {
    "duration": 41,
    "start_time": "2023-01-22T21:14:32.558Z"
   },
   {
    "duration": 10,
    "start_time": "2023-01-22T21:14:32.601Z"
   },
   {
    "duration": 11,
    "start_time": "2023-01-22T21:14:32.613Z"
   },
   {
    "duration": 5,
    "start_time": "2023-01-22T21:14:32.626Z"
   },
   {
    "duration": 44,
    "start_time": "2023-01-22T21:14:32.633Z"
   },
   {
    "duration": 11,
    "start_time": "2023-01-22T21:14:32.679Z"
   },
   {
    "duration": 34,
    "start_time": "2023-01-22T21:14:32.693Z"
   },
   {
    "duration": 110,
    "start_time": "2023-01-22T21:14:32.728Z"
   },
   {
    "duration": 6,
    "start_time": "2023-01-22T21:14:32.840Z"
   },
   {
    "duration": 615,
    "start_time": "2023-01-22T21:14:32.848Z"
   },
   {
    "duration": 137,
    "start_time": "2023-01-22T21:14:33.464Z"
   },
   {
    "duration": 6,
    "start_time": "2023-01-22T21:14:33.603Z"
   },
   {
    "duration": 62,
    "start_time": "2023-01-22T21:14:33.610Z"
   },
   {
    "duration": 104,
    "start_time": "2023-01-22T21:14:33.674Z"
   },
   {
    "duration": 391,
    "start_time": "2023-01-22T21:14:33.856Z"
   },
   {
    "duration": 5,
    "start_time": "2023-01-22T21:23:13.869Z"
   },
   {
    "duration": 53,
    "start_time": "2023-01-22T21:23:13.877Z"
   },
   {
    "duration": 3,
    "start_time": "2023-01-22T21:23:13.932Z"
   },
   {
    "duration": 20,
    "start_time": "2023-01-22T21:23:13.936Z"
   },
   {
    "duration": 40,
    "start_time": "2023-01-22T21:23:13.967Z"
   },
   {
    "duration": 16,
    "start_time": "2023-01-22T21:23:14.009Z"
   },
   {
    "duration": 40,
    "start_time": "2023-01-22T21:23:14.026Z"
   },
   {
    "duration": 59,
    "start_time": "2023-01-22T21:23:14.069Z"
   },
   {
    "duration": 65,
    "start_time": "2023-01-22T21:23:14.129Z"
   },
   {
    "duration": 10,
    "start_time": "2023-01-22T21:23:14.196Z"
   },
   {
    "duration": 24,
    "start_time": "2023-01-22T21:23:14.208Z"
   },
   {
    "duration": 16,
    "start_time": "2023-01-22T21:23:14.234Z"
   },
   {
    "duration": 41,
    "start_time": "2023-01-22T21:23:14.255Z"
   },
   {
    "duration": 14,
    "start_time": "2023-01-22T21:23:14.299Z"
   },
   {
    "duration": 54,
    "start_time": "2023-01-22T21:23:14.314Z"
   },
   {
    "duration": 50,
    "start_time": "2023-01-22T21:23:14.370Z"
   },
   {
    "duration": 4,
    "start_time": "2023-01-22T21:23:14.422Z"
   },
   {
    "duration": 542,
    "start_time": "2023-01-22T21:23:14.428Z"
   },
   {
    "duration": 128,
    "start_time": "2023-01-22T21:23:14.971Z"
   },
   {
    "duration": 5,
    "start_time": "2023-01-22T21:23:15.101Z"
   },
   {
    "duration": 73,
    "start_time": "2023-01-22T21:23:15.108Z"
   },
   {
    "duration": 0,
    "start_time": "2023-01-22T21:23:15.182Z"
   },
   {
    "duration": 0,
    "start_time": "2023-01-22T21:23:15.184Z"
   },
   {
    "duration": 4,
    "start_time": "2023-01-22T21:24:08.305Z"
   },
   {
    "duration": 81,
    "start_time": "2023-01-22T21:24:08.311Z"
   },
   {
    "duration": 4,
    "start_time": "2023-01-22T21:24:08.394Z"
   },
   {
    "duration": 12,
    "start_time": "2023-01-22T21:24:08.400Z"
   },
   {
    "duration": 61,
    "start_time": "2023-01-22T21:24:08.414Z"
   },
   {
    "duration": 17,
    "start_time": "2023-01-22T21:24:08.477Z"
   },
   {
    "duration": 17,
    "start_time": "2023-01-22T21:24:08.496Z"
   },
   {
    "duration": 52,
    "start_time": "2023-01-22T21:24:08.515Z"
   },
   {
    "duration": 28,
    "start_time": "2023-01-22T21:24:08.569Z"
   },
   {
    "duration": 10,
    "start_time": "2023-01-22T21:24:08.600Z"
   },
   {
    "duration": 11,
    "start_time": "2023-01-22T21:24:08.612Z"
   },
   {
    "duration": 12,
    "start_time": "2023-01-22T21:24:08.624Z"
   },
   {
    "duration": 34,
    "start_time": "2023-01-22T21:24:08.637Z"
   },
   {
    "duration": 10,
    "start_time": "2023-01-22T21:24:08.672Z"
   },
   {
    "duration": 18,
    "start_time": "2023-01-22T21:24:08.684Z"
   },
   {
    "duration": 40,
    "start_time": "2023-01-22T21:24:08.704Z"
   },
   {
    "duration": 22,
    "start_time": "2023-01-22T21:24:08.746Z"
   },
   {
    "duration": 507,
    "start_time": "2023-01-22T21:24:08.769Z"
   },
   {
    "duration": 129,
    "start_time": "2023-01-22T21:24:09.278Z"
   },
   {
    "duration": 6,
    "start_time": "2023-01-22T21:24:09.409Z"
   },
   {
    "duration": 69,
    "start_time": "2023-01-22T21:24:09.416Z"
   },
   {
    "duration": 96,
    "start_time": "2023-01-22T21:24:09.487Z"
   },
   {
    "duration": 424,
    "start_time": "2023-01-22T21:24:09.655Z"
   },
   {
    "duration": 5,
    "start_time": "2023-01-22T21:59:24.694Z"
   },
   {
    "duration": 65,
    "start_time": "2023-01-22T21:59:24.702Z"
   },
   {
    "duration": 4,
    "start_time": "2023-01-22T21:59:24.769Z"
   },
   {
    "duration": 23,
    "start_time": "2023-01-22T21:59:24.775Z"
   },
   {
    "duration": 39,
    "start_time": "2023-01-22T21:59:24.800Z"
   },
   {
    "duration": 30,
    "start_time": "2023-01-22T21:59:24.840Z"
   },
   {
    "duration": 36,
    "start_time": "2023-01-22T21:59:24.871Z"
   },
   {
    "duration": 24,
    "start_time": "2023-01-22T21:59:24.909Z"
   },
   {
    "duration": 31,
    "start_time": "2023-01-22T21:59:24.935Z"
   },
   {
    "duration": 9,
    "start_time": "2023-01-22T21:59:24.968Z"
   },
   {
    "duration": 12,
    "start_time": "2023-01-22T21:59:24.979Z"
   },
   {
    "duration": 9,
    "start_time": "2023-01-22T21:59:24.992Z"
   },
   {
    "duration": 20,
    "start_time": "2023-01-22T21:59:25.003Z"
   },
   {
    "duration": 19,
    "start_time": "2023-01-22T21:59:25.025Z"
   },
   {
    "duration": 30,
    "start_time": "2023-01-22T21:59:25.045Z"
   },
   {
    "duration": 43,
    "start_time": "2023-01-22T21:59:25.077Z"
   },
   {
    "duration": 4,
    "start_time": "2023-01-22T21:59:25.122Z"
   },
   {
    "duration": 571,
    "start_time": "2023-01-22T21:59:25.127Z"
   },
   {
    "duration": 126,
    "start_time": "2023-01-22T21:59:25.699Z"
   },
   {
    "duration": 5,
    "start_time": "2023-01-22T21:59:25.827Z"
   },
   {
    "duration": 131,
    "start_time": "2023-01-22T21:59:25.833Z"
   },
   {
    "duration": 290,
    "start_time": "2023-01-22T21:59:25.966Z"
   },
   {
    "duration": 517,
    "start_time": "2023-01-22T21:59:26.258Z"
   },
   {
    "duration": 57,
    "start_time": "2023-01-23T10:59:34.777Z"
   },
   {
    "duration": 1327,
    "start_time": "2023-01-23T11:00:00.087Z"
   },
   {
    "duration": 217,
    "start_time": "2023-01-23T11:00:01.416Z"
   },
   {
    "duration": 13,
    "start_time": "2023-01-23T11:00:01.635Z"
   },
   {
    "duration": 40,
    "start_time": "2023-01-23T11:00:01.650Z"
   },
   {
    "duration": 65,
    "start_time": "2023-01-23T11:00:01.692Z"
   },
   {
    "duration": 26,
    "start_time": "2023-01-23T11:00:01.759Z"
   },
   {
    "duration": 61,
    "start_time": "2023-01-23T11:00:01.787Z"
   },
   {
    "duration": 41,
    "start_time": "2023-01-23T11:00:01.850Z"
   },
   {
    "duration": 27,
    "start_time": "2023-01-23T11:00:01.892Z"
   },
   {
    "duration": 35,
    "start_time": "2023-01-23T11:00:01.921Z"
   },
   {
    "duration": 34,
    "start_time": "2023-01-23T11:00:01.957Z"
   },
   {
    "duration": 33,
    "start_time": "2023-01-23T11:00:01.992Z"
   },
   {
    "duration": 100,
    "start_time": "2023-01-23T11:00:02.026Z"
   },
   {
    "duration": 46,
    "start_time": "2023-01-23T11:00:02.128Z"
   },
   {
    "duration": 24,
    "start_time": "2023-01-23T11:00:02.176Z"
   },
   {
    "duration": 86,
    "start_time": "2023-01-23T11:00:02.202Z"
   },
   {
    "duration": 4,
    "start_time": "2023-01-23T11:00:02.290Z"
   },
   {
    "duration": 558,
    "start_time": "2023-01-23T11:00:02.296Z"
   },
   {
    "duration": 828,
    "start_time": "2023-01-23T11:00:02.855Z"
   },
   {
    "duration": 5,
    "start_time": "2023-01-23T11:00:03.686Z"
   },
   {
    "duration": 129,
    "start_time": "2023-01-23T11:00:03.692Z"
   },
   {
    "duration": 0,
    "start_time": "2023-01-23T11:00:03.823Z"
   },
   {
    "duration": 0,
    "start_time": "2023-01-23T11:00:03.824Z"
   },
   {
    "duration": 0,
    "start_time": "2023-01-23T11:00:03.826Z"
   },
   {
    "duration": 55,
    "start_time": "2023-01-23T11:00:33.346Z"
   },
   {
    "duration": 59,
    "start_time": "2023-01-23T11:00:36.399Z"
   },
   {
    "duration": 146,
    "start_time": "2023-01-23T11:01:35.518Z"
   },
   {
    "duration": 13,
    "start_time": "2023-01-23T11:01:38.188Z"
   },
   {
    "duration": 5,
    "start_time": "2023-01-23T11:02:02.492Z"
   },
   {
    "duration": 82,
    "start_time": "2023-01-23T11:02:02.499Z"
   },
   {
    "duration": 3,
    "start_time": "2023-01-23T11:02:02.583Z"
   },
   {
    "duration": 29,
    "start_time": "2023-01-23T11:02:02.588Z"
   },
   {
    "duration": 54,
    "start_time": "2023-01-23T11:02:02.619Z"
   },
   {
    "duration": 17,
    "start_time": "2023-01-23T11:02:02.675Z"
   },
   {
    "duration": 16,
    "start_time": "2023-01-23T11:02:02.693Z"
   },
   {
    "duration": 47,
    "start_time": "2023-01-23T11:02:02.711Z"
   },
   {
    "duration": 31,
    "start_time": "2023-01-23T11:02:02.760Z"
   },
   {
    "duration": 10,
    "start_time": "2023-01-23T11:02:02.792Z"
   },
   {
    "duration": 38,
    "start_time": "2023-01-23T11:02:02.804Z"
   },
   {
    "duration": 7,
    "start_time": "2023-01-23T11:02:02.843Z"
   },
   {
    "duration": 15,
    "start_time": "2023-01-23T11:02:02.852Z"
   },
   {
    "duration": 8,
    "start_time": "2023-01-23T11:02:02.869Z"
   },
   {
    "duration": 19,
    "start_time": "2023-01-23T11:02:02.878Z"
   },
   {
    "duration": 68,
    "start_time": "2023-01-23T11:02:02.898Z"
   },
   {
    "duration": 5,
    "start_time": "2023-01-23T11:02:02.968Z"
   },
   {
    "duration": 576,
    "start_time": "2023-01-23T11:02:02.974Z"
   },
   {
    "duration": 136,
    "start_time": "2023-01-23T11:02:03.552Z"
   },
   {
    "duration": 6,
    "start_time": "2023-01-23T11:02:03.689Z"
   },
   {
    "duration": 79,
    "start_time": "2023-01-23T11:02:03.696Z"
   },
   {
    "duration": 173,
    "start_time": "2023-01-23T11:02:03.777Z"
   },
   {
    "duration": 217,
    "start_time": "2023-01-23T11:02:03.953Z"
   },
   {
    "duration": 424,
    "start_time": "2023-01-23T11:02:04.173Z"
   },
   {
    "duration": 481,
    "start_time": "2023-01-23T11:02:55.529Z"
   },
   {
    "duration": 134,
    "start_time": "2023-01-23T11:10:34.575Z"
   },
   {
    "duration": 477,
    "start_time": "2023-01-23T11:15:57.107Z"
   },
   {
    "duration": 66,
    "start_time": "2023-01-23T11:52:38.886Z"
   },
   {
    "duration": 1606,
    "start_time": "2023-01-23T11:52:48.407Z"
   },
   {
    "duration": 104,
    "start_time": "2023-01-23T11:52:50.015Z"
   },
   {
    "duration": 5,
    "start_time": "2023-01-23T11:52:50.121Z"
   },
   {
    "duration": 24,
    "start_time": "2023-01-23T11:52:50.128Z"
   },
   {
    "duration": 57,
    "start_time": "2023-01-23T11:52:50.154Z"
   },
   {
    "duration": 27,
    "start_time": "2023-01-23T11:52:50.213Z"
   },
   {
    "duration": 25,
    "start_time": "2023-01-23T11:52:50.242Z"
   },
   {
    "duration": 18,
    "start_time": "2023-01-23T11:52:50.269Z"
   },
   {
    "duration": 31,
    "start_time": "2023-01-23T11:52:50.289Z"
   },
   {
    "duration": 12,
    "start_time": "2023-01-23T11:52:50.323Z"
   },
   {
    "duration": 20,
    "start_time": "2023-01-23T11:52:50.358Z"
   },
   {
    "duration": 19,
    "start_time": "2023-01-23T11:52:50.380Z"
   },
   {
    "duration": 22,
    "start_time": "2023-01-23T11:52:50.401Z"
   },
   {
    "duration": 8,
    "start_time": "2023-01-23T11:52:50.425Z"
   },
   {
    "duration": 63,
    "start_time": "2023-01-23T11:52:50.435Z"
   },
   {
    "duration": 57,
    "start_time": "2023-01-23T11:52:50.500Z"
   },
   {
    "duration": 6,
    "start_time": "2023-01-23T11:52:50.562Z"
   },
   {
    "duration": 567,
    "start_time": "2023-01-23T11:52:50.572Z"
   },
   {
    "duration": 140,
    "start_time": "2023-01-23T11:52:51.141Z"
   },
   {
    "duration": 5,
    "start_time": "2023-01-23T11:52:51.283Z"
   },
   {
    "duration": 71,
    "start_time": "2023-01-23T11:52:51.289Z"
   },
   {
    "duration": 460,
    "start_time": "2023-01-23T11:52:51.370Z"
   },
   {
    "duration": 137,
    "start_time": "2023-01-23T11:52:51.833Z"
   },
   {
    "duration": 225,
    "start_time": "2023-01-23T11:52:51.972Z"
   },
   {
    "duration": 60,
    "start_time": "2023-01-23T11:52:52.198Z"
   },
   {
    "duration": 134,
    "start_time": "2023-01-23T11:52:52.260Z"
   },
   {
    "duration": 130,
    "start_time": "2023-01-23T11:57:15.336Z"
   },
   {
    "duration": 5,
    "start_time": "2023-01-23T12:18:27.994Z"
   },
   {
    "duration": 543,
    "start_time": "2023-01-23T12:18:31.744Z"
   },
   {
    "duration": 9,
    "start_time": "2023-01-23T12:23:53.885Z"
   },
   {
    "duration": 8,
    "start_time": "2023-01-23T12:25:17.267Z"
   },
   {
    "duration": 22,
    "start_time": "2023-01-23T12:27:02.013Z"
   },
   {
    "duration": 7,
    "start_time": "2023-01-23T12:27:10.253Z"
   },
   {
    "duration": 65,
    "start_time": "2023-01-23T12:27:10.269Z"
   },
   {
    "duration": 4,
    "start_time": "2023-01-23T12:27:10.336Z"
   },
   {
    "duration": 29,
    "start_time": "2023-01-23T12:27:10.341Z"
   },
   {
    "duration": 70,
    "start_time": "2023-01-23T12:27:10.372Z"
   },
   {
    "duration": 26,
    "start_time": "2023-01-23T12:27:10.445Z"
   },
   {
    "duration": 26,
    "start_time": "2023-01-23T12:27:10.472Z"
   },
   {
    "duration": 24,
    "start_time": "2023-01-23T12:27:10.500Z"
   },
   {
    "duration": 57,
    "start_time": "2023-01-23T12:27:10.526Z"
   },
   {
    "duration": 11,
    "start_time": "2023-01-23T12:27:10.585Z"
   },
   {
    "duration": 30,
    "start_time": "2023-01-23T12:27:10.598Z"
   },
   {
    "duration": 7,
    "start_time": "2023-01-23T12:27:10.630Z"
   },
   {
    "duration": 24,
    "start_time": "2023-01-23T12:27:10.638Z"
   },
   {
    "duration": 25,
    "start_time": "2023-01-23T12:27:10.663Z"
   },
   {
    "duration": 18,
    "start_time": "2023-01-23T12:27:10.691Z"
   },
   {
    "duration": 56,
    "start_time": "2023-01-23T12:27:10.712Z"
   },
   {
    "duration": 6,
    "start_time": "2023-01-23T12:27:10.773Z"
   },
   {
    "duration": 567,
    "start_time": "2023-01-23T12:27:10.781Z"
   },
   {
    "duration": 141,
    "start_time": "2023-01-23T12:27:11.350Z"
   },
   {
    "duration": 7,
    "start_time": "2023-01-23T12:27:11.493Z"
   },
   {
    "duration": 78,
    "start_time": "2023-01-23T12:27:11.502Z"
   },
   {
    "duration": 489,
    "start_time": "2023-01-23T12:27:11.582Z"
   },
   {
    "duration": 192,
    "start_time": "2023-01-23T12:27:12.074Z"
   },
   {
    "duration": 136,
    "start_time": "2023-01-23T12:27:12.270Z"
   },
   {
    "duration": 174,
    "start_time": "2023-01-23T12:27:12.407Z"
   },
   {
    "duration": 11,
    "start_time": "2023-01-23T12:27:12.660Z"
   },
   {
    "duration": 26,
    "start_time": "2023-01-23T12:27:12.673Z"
   },
   {
    "duration": 96,
    "start_time": "2023-01-23T12:27:12.701Z"
   },
   {
    "duration": 174,
    "start_time": "2023-01-23T12:33:54.206Z"
   },
   {
    "duration": 327,
    "start_time": "2023-01-23T12:39:24.500Z"
   },
   {
    "duration": 1233,
    "start_time": "2023-01-23T12:40:07.850Z"
   },
   {
    "duration": 1027,
    "start_time": "2023-01-23T12:41:09.831Z"
   },
   {
    "duration": 1126,
    "start_time": "2023-01-23T12:44:25.262Z"
   },
   {
    "duration": 4,
    "start_time": "2023-01-23T12:49:18.338Z"
   },
   {
    "duration": 79,
    "start_time": "2023-01-23T12:49:18.344Z"
   },
   {
    "duration": 4,
    "start_time": "2023-01-23T12:49:18.425Z"
   },
   {
    "duration": 24,
    "start_time": "2023-01-23T12:49:18.432Z"
   },
   {
    "duration": 45,
    "start_time": "2023-01-23T12:49:18.458Z"
   },
   {
    "duration": 17,
    "start_time": "2023-01-23T12:49:18.505Z"
   },
   {
    "duration": 46,
    "start_time": "2023-01-23T12:49:18.524Z"
   },
   {
    "duration": 23,
    "start_time": "2023-01-23T12:49:18.572Z"
   },
   {
    "duration": 32,
    "start_time": "2023-01-23T12:49:18.598Z"
   },
   {
    "duration": 27,
    "start_time": "2023-01-23T12:49:18.632Z"
   },
   {
    "duration": 20,
    "start_time": "2023-01-23T12:49:18.660Z"
   },
   {
    "duration": 4,
    "start_time": "2023-01-23T12:49:18.681Z"
   },
   {
    "duration": 10,
    "start_time": "2023-01-23T12:49:18.687Z"
   },
   {
    "duration": 7,
    "start_time": "2023-01-23T12:49:18.698Z"
   },
   {
    "duration": 17,
    "start_time": "2023-01-23T12:49:18.707Z"
   },
   {
    "duration": 69,
    "start_time": "2023-01-23T12:49:18.726Z"
   },
   {
    "duration": 5,
    "start_time": "2023-01-23T12:49:18.797Z"
   },
   {
    "duration": 538,
    "start_time": "2023-01-23T12:49:18.803Z"
   },
   {
    "duration": 129,
    "start_time": "2023-01-23T12:49:19.343Z"
   },
   {
    "duration": 6,
    "start_time": "2023-01-23T12:49:19.474Z"
   },
   {
    "duration": 85,
    "start_time": "2023-01-23T12:49:19.482Z"
   },
   {
    "duration": 460,
    "start_time": "2023-01-23T12:49:19.570Z"
   },
   {
    "duration": 127,
    "start_time": "2023-01-23T12:49:20.032Z"
   },
   {
    "duration": 218,
    "start_time": "2023-01-23T12:49:20.162Z"
   },
   {
    "duration": 189,
    "start_time": "2023-01-23T12:49:20.381Z"
   },
   {
    "duration": 89,
    "start_time": "2023-01-23T12:49:20.573Z"
   },
   {
    "duration": 13,
    "start_time": "2023-01-23T12:49:20.668Z"
   },
   {
    "duration": 18,
    "start_time": "2023-01-23T12:49:20.683Z"
   },
   {
    "duration": 963,
    "start_time": "2023-01-23T12:49:20.703Z"
   },
   {
    "duration": 13,
    "start_time": "2023-01-23T13:10:19.275Z"
   },
   {
    "duration": 4,
    "start_time": "2023-01-23T13:19:37.210Z"
   },
   {
    "duration": 71,
    "start_time": "2023-01-23T13:19:37.217Z"
   },
   {
    "duration": 4,
    "start_time": "2023-01-23T13:19:37.289Z"
   },
   {
    "duration": 18,
    "start_time": "2023-01-23T13:19:37.295Z"
   },
   {
    "duration": 66,
    "start_time": "2023-01-23T13:19:37.315Z"
   },
   {
    "duration": 23,
    "start_time": "2023-01-23T13:19:37.382Z"
   },
   {
    "duration": 28,
    "start_time": "2023-01-23T13:19:37.406Z"
   },
   {
    "duration": 39,
    "start_time": "2023-01-23T13:19:37.436Z"
   },
   {
    "duration": 38,
    "start_time": "2023-01-23T13:19:37.477Z"
   },
   {
    "duration": 13,
    "start_time": "2023-01-23T13:19:37.518Z"
   },
   {
    "duration": 36,
    "start_time": "2023-01-23T13:19:37.534Z"
   },
   {
    "duration": 16,
    "start_time": "2023-01-23T13:19:37.579Z"
   },
   {
    "duration": 19,
    "start_time": "2023-01-23T13:19:37.597Z"
   },
   {
    "duration": 15,
    "start_time": "2023-01-23T13:19:37.620Z"
   },
   {
    "duration": 32,
    "start_time": "2023-01-23T13:19:37.637Z"
   },
   {
    "duration": 80,
    "start_time": "2023-01-23T13:19:37.671Z"
   },
   {
    "duration": 10,
    "start_time": "2023-01-23T13:19:37.753Z"
   },
   {
    "duration": 550,
    "start_time": "2023-01-23T13:19:37.770Z"
   },
   {
    "duration": 121,
    "start_time": "2023-01-23T13:19:38.322Z"
   },
   {
    "duration": 20,
    "start_time": "2023-01-23T13:19:38.445Z"
   },
   {
    "duration": 52,
    "start_time": "2023-01-23T13:19:38.467Z"
   },
   {
    "duration": 484,
    "start_time": "2023-01-23T13:19:38.521Z"
   },
   {
    "duration": 174,
    "start_time": "2023-01-23T13:19:39.007Z"
   },
   {
    "duration": 192,
    "start_time": "2023-01-23T13:19:39.254Z"
   },
   {
    "duration": 120,
    "start_time": "2023-01-23T13:19:39.448Z"
   },
   {
    "duration": 89,
    "start_time": "2023-01-23T13:19:39.571Z"
   },
   {
    "duration": 23,
    "start_time": "2023-01-23T13:19:39.663Z"
   },
   {
    "duration": 18,
    "start_time": "2023-01-23T13:19:39.688Z"
   },
   {
    "duration": 864,
    "start_time": "2023-01-23T13:19:39.708Z"
   },
   {
    "duration": 12,
    "start_time": "2023-01-23T13:19:40.574Z"
   },
   {
    "duration": 878,
    "start_time": "2023-01-23T13:19:40.588Z"
   },
   {
    "duration": 844,
    "start_time": "2023-01-23T13:20:55.339Z"
   },
   {
    "duration": 919,
    "start_time": "2023-01-23T13:22:14.411Z"
   },
   {
    "duration": 64,
    "start_time": "2023-01-23T13:54:55.737Z"
   },
   {
    "duration": 1674,
    "start_time": "2023-01-23T13:55:11.009Z"
   },
   {
    "duration": 112,
    "start_time": "2023-01-23T13:55:12.685Z"
   },
   {
    "duration": 4,
    "start_time": "2023-01-23T13:55:12.798Z"
   },
   {
    "duration": 19,
    "start_time": "2023-01-23T13:55:12.805Z"
   },
   {
    "duration": 45,
    "start_time": "2023-01-23T13:55:12.826Z"
   },
   {
    "duration": 16,
    "start_time": "2023-01-23T13:55:12.873Z"
   },
   {
    "duration": 27,
    "start_time": "2023-01-23T13:55:12.891Z"
   },
   {
    "duration": 17,
    "start_time": "2023-01-23T13:55:12.920Z"
   },
   {
    "duration": 28,
    "start_time": "2023-01-23T13:55:12.965Z"
   },
   {
    "duration": 10,
    "start_time": "2023-01-23T13:55:12.996Z"
   },
   {
    "duration": 11,
    "start_time": "2023-01-23T13:55:13.007Z"
   },
   {
    "duration": 5,
    "start_time": "2023-01-23T13:55:13.020Z"
   },
   {
    "duration": 37,
    "start_time": "2023-01-23T13:55:13.026Z"
   },
   {
    "duration": 15,
    "start_time": "2023-01-23T13:55:13.064Z"
   },
   {
    "duration": 23,
    "start_time": "2023-01-23T13:55:13.081Z"
   },
   {
    "duration": 60,
    "start_time": "2023-01-23T13:55:13.106Z"
   },
   {
    "duration": 5,
    "start_time": "2023-01-23T13:55:13.170Z"
   },
   {
    "duration": 603,
    "start_time": "2023-01-23T13:55:13.176Z"
   },
   {
    "duration": 137,
    "start_time": "2023-01-23T13:55:13.780Z"
   },
   {
    "duration": 5,
    "start_time": "2023-01-23T13:55:13.919Z"
   },
   {
    "duration": 63,
    "start_time": "2023-01-23T13:55:13.925Z"
   },
   {
    "duration": 454,
    "start_time": "2023-01-23T13:55:13.989Z"
   },
   {
    "duration": 138,
    "start_time": "2023-01-23T13:55:14.444Z"
   },
   {
    "duration": 217,
    "start_time": "2023-01-23T13:55:14.657Z"
   },
   {
    "duration": 178,
    "start_time": "2023-01-23T13:55:14.876Z"
   },
   {
    "duration": 18,
    "start_time": "2023-01-23T13:55:15.056Z"
   },
   {
    "duration": 11,
    "start_time": "2023-01-23T13:55:15.076Z"
   },
   {
    "duration": 18,
    "start_time": "2023-01-23T13:55:15.090Z"
   },
   {
    "duration": 888,
    "start_time": "2023-01-23T13:55:15.110Z"
   },
   {
    "duration": 587,
    "start_time": "2023-01-23T13:55:16.000Z"
   },
   {
    "duration": 97,
    "start_time": "2023-01-23T13:55:16.589Z"
   },
   {
    "duration": 0,
    "start_time": "2023-01-23T13:55:16.688Z"
   },
   {
    "duration": 536,
    "start_time": "2023-01-23T14:11:18.546Z"
   },
   {
    "duration": 4,
    "start_time": "2023-01-23T15:44:06.390Z"
   },
   {
    "duration": 106,
    "start_time": "2023-01-23T15:44:06.397Z"
   },
   {
    "duration": 5,
    "start_time": "2023-01-23T15:44:06.505Z"
   },
   {
    "duration": 17,
    "start_time": "2023-01-23T15:44:06.512Z"
   },
   {
    "duration": 46,
    "start_time": "2023-01-23T15:44:06.530Z"
   },
   {
    "duration": 20,
    "start_time": "2023-01-23T15:44:06.578Z"
   },
   {
    "duration": 20,
    "start_time": "2023-01-23T15:44:06.600Z"
   },
   {
    "duration": 41,
    "start_time": "2023-01-23T15:44:06.622Z"
   },
   {
    "duration": 29,
    "start_time": "2023-01-23T15:44:06.667Z"
   },
   {
    "duration": 10,
    "start_time": "2023-01-23T15:44:06.699Z"
   },
   {
    "duration": 35,
    "start_time": "2023-01-23T15:44:06.711Z"
   },
   {
    "duration": 36,
    "start_time": "2023-01-23T15:44:06.748Z"
   },
   {
    "duration": 19,
    "start_time": "2023-01-23T15:44:06.786Z"
   },
   {
    "duration": 19,
    "start_time": "2023-01-23T15:44:06.807Z"
   },
   {
    "duration": 20,
    "start_time": "2023-01-23T15:44:06.828Z"
   },
   {
    "duration": 67,
    "start_time": "2023-01-23T15:44:06.850Z"
   },
   {
    "duration": 4,
    "start_time": "2023-01-23T15:44:06.919Z"
   },
   {
    "duration": 600,
    "start_time": "2023-01-23T15:44:06.925Z"
   },
   {
    "duration": 179,
    "start_time": "2023-01-23T15:44:07.528Z"
   },
   {
    "duration": 5,
    "start_time": "2023-01-23T15:44:07.710Z"
   },
   {
    "duration": 75,
    "start_time": "2023-01-23T15:44:07.717Z"
   },
   {
    "duration": 473,
    "start_time": "2023-01-23T15:44:07.794Z"
   },
   {
    "duration": 198,
    "start_time": "2023-01-23T15:44:08.270Z"
   },
   {
    "duration": 143,
    "start_time": "2023-01-23T15:44:08.471Z"
   },
   {
    "duration": 236,
    "start_time": "2023-01-23T15:44:08.616Z"
   },
   {
    "duration": 9,
    "start_time": "2023-01-23T15:44:08.855Z"
   },
   {
    "duration": 14,
    "start_time": "2023-01-23T15:44:08.866Z"
   },
   {
    "duration": 18,
    "start_time": "2023-01-23T15:44:08.883Z"
   },
   {
    "duration": 1028,
    "start_time": "2023-01-23T15:44:08.903Z"
   },
   {
    "duration": 543,
    "start_time": "2023-01-23T15:44:09.933Z"
   },
   {
    "duration": 509,
    "start_time": "2023-01-23T15:44:10.478Z"
   },
   {
    "duration": 12,
    "start_time": "2023-01-23T15:44:10.989Z"
   },
   {
    "duration": 5,
    "start_time": "2023-01-23T15:44:28.269Z"
   },
   {
    "duration": 82,
    "start_time": "2023-01-24T17:16:12.308Z"
   },
   {
    "duration": 1677,
    "start_time": "2023-01-24T17:16:16.821Z"
   },
   {
    "duration": 108,
    "start_time": "2023-01-24T17:16:18.504Z"
   },
   {
    "duration": 4,
    "start_time": "2023-01-24T17:16:18.613Z"
   },
   {
    "duration": 30,
    "start_time": "2023-01-24T17:16:18.619Z"
   },
   {
    "duration": 60,
    "start_time": "2023-01-24T17:16:18.651Z"
   },
   {
    "duration": 16,
    "start_time": "2023-01-24T17:16:18.713Z"
   },
   {
    "duration": 27,
    "start_time": "2023-01-24T17:16:18.730Z"
   },
   {
    "duration": 27,
    "start_time": "2023-01-24T17:16:18.758Z"
   },
   {
    "duration": 43,
    "start_time": "2023-01-24T17:16:18.787Z"
   },
   {
    "duration": 11,
    "start_time": "2023-01-24T17:16:18.832Z"
   },
   {
    "duration": 18,
    "start_time": "2023-01-24T17:16:18.845Z"
   },
   {
    "duration": 12,
    "start_time": "2023-01-24T17:16:18.864Z"
   },
   {
    "duration": 95,
    "start_time": "2023-01-24T17:16:18.878Z"
   },
   {
    "duration": 0,
    "start_time": "2023-01-24T17:16:18.976Z"
   },
   {
    "duration": 0,
    "start_time": "2023-01-24T17:16:18.977Z"
   },
   {
    "duration": 0,
    "start_time": "2023-01-24T17:16:18.978Z"
   },
   {
    "duration": 0,
    "start_time": "2023-01-24T17:16:18.980Z"
   },
   {
    "duration": 0,
    "start_time": "2023-01-24T17:16:18.981Z"
   },
   {
    "duration": 0,
    "start_time": "2023-01-24T17:16:18.983Z"
   },
   {
    "duration": 0,
    "start_time": "2023-01-24T17:16:18.984Z"
   },
   {
    "duration": 0,
    "start_time": "2023-01-24T17:16:18.985Z"
   },
   {
    "duration": 0,
    "start_time": "2023-01-24T17:16:18.986Z"
   },
   {
    "duration": 0,
    "start_time": "2023-01-24T17:16:18.988Z"
   },
   {
    "duration": 0,
    "start_time": "2023-01-24T17:16:18.989Z"
   },
   {
    "duration": 0,
    "start_time": "2023-01-24T17:16:18.991Z"
   },
   {
    "duration": 0,
    "start_time": "2023-01-24T17:16:18.992Z"
   },
   {
    "duration": 0,
    "start_time": "2023-01-24T17:16:18.993Z"
   },
   {
    "duration": 0,
    "start_time": "2023-01-24T17:16:18.994Z"
   },
   {
    "duration": 0,
    "start_time": "2023-01-24T17:16:18.997Z"
   },
   {
    "duration": 0,
    "start_time": "2023-01-24T17:16:18.997Z"
   },
   {
    "duration": 0,
    "start_time": "2023-01-24T17:16:18.998Z"
   },
   {
    "duration": 0,
    "start_time": "2023-01-24T17:16:18.999Z"
   },
   {
    "duration": 91,
    "start_time": "2023-01-24T17:17:49.541Z"
   },
   {
    "duration": 4,
    "start_time": "2023-01-24T17:57:42.843Z"
   },
   {
    "duration": 62,
    "start_time": "2023-01-24T17:57:42.849Z"
   },
   {
    "duration": 4,
    "start_time": "2023-01-24T17:57:42.913Z"
   },
   {
    "duration": 15,
    "start_time": "2023-01-24T17:57:42.918Z"
   },
   {
    "duration": 37,
    "start_time": "2023-01-24T17:57:42.934Z"
   },
   {
    "duration": 42,
    "start_time": "2023-01-24T17:57:42.973Z"
   },
   {
    "duration": 16,
    "start_time": "2023-01-24T17:57:43.017Z"
   },
   {
    "duration": 15,
    "start_time": "2023-01-24T17:57:43.034Z"
   },
   {
    "duration": 66,
    "start_time": "2023-01-24T17:57:43.051Z"
   },
   {
    "duration": 10,
    "start_time": "2023-01-24T17:57:43.118Z"
   },
   {
    "duration": 10,
    "start_time": "2023-01-24T17:57:43.130Z"
   },
   {
    "duration": 5,
    "start_time": "2023-01-24T17:57:43.141Z"
   },
   {
    "duration": 12,
    "start_time": "2023-01-24T17:57:43.147Z"
   },
   {
    "duration": 45,
    "start_time": "2023-01-24T17:57:43.162Z"
   },
   {
    "duration": 16,
    "start_time": "2023-01-24T17:57:43.210Z"
   },
   {
    "duration": 39,
    "start_time": "2023-01-24T17:57:43.228Z"
   },
   {
    "duration": 4,
    "start_time": "2023-01-24T17:57:43.269Z"
   },
   {
    "duration": 543,
    "start_time": "2023-01-24T17:57:43.293Z"
   },
   {
    "duration": 154,
    "start_time": "2023-01-24T17:57:43.837Z"
   },
   {
    "duration": 13,
    "start_time": "2023-01-24T17:57:43.993Z"
   },
   {
    "duration": 76,
    "start_time": "2023-01-24T17:57:44.008Z"
   },
   {
    "duration": 505,
    "start_time": "2023-01-24T17:57:44.086Z"
   },
   {
    "duration": 200,
    "start_time": "2023-01-24T17:57:44.593Z"
   },
   {
    "duration": 133,
    "start_time": "2023-01-24T17:57:44.799Z"
   },
   {
    "duration": 166,
    "start_time": "2023-01-24T17:57:44.933Z"
   },
   {
    "duration": 8,
    "start_time": "2023-01-24T17:57:45.104Z"
   },
   {
    "duration": 6,
    "start_time": "2023-01-24T17:57:45.114Z"
   },
   {
    "duration": 16,
    "start_time": "2023-01-24T17:57:45.121Z"
   },
   {
    "duration": 840,
    "start_time": "2023-01-24T17:57:45.138Z"
   },
   {
    "duration": 513,
    "start_time": "2023-01-24T17:57:45.979Z"
   },
   {
    "duration": 447,
    "start_time": "2023-01-24T17:57:46.495Z"
   },
   {
    "duration": 5,
    "start_time": "2023-01-24T17:57:46.944Z"
   },
   {
    "duration": 5,
    "start_time": "2023-01-24T18:00:47.856Z"
   },
   {
    "duration": 56,
    "start_time": "2023-01-24T18:00:49.521Z"
   },
   {
    "duration": 110,
    "start_time": "2023-01-24T18:00:50.819Z"
   },
   {
    "duration": 6,
    "start_time": "2023-01-24T18:09:45.807Z"
   },
   {
    "duration": 73,
    "start_time": "2023-01-24T18:09:45.815Z"
   },
   {
    "duration": 14,
    "start_time": "2023-01-24T18:09:45.890Z"
   },
   {
    "duration": 0,
    "start_time": "2023-01-24T18:09:45.908Z"
   },
   {
    "duration": 0,
    "start_time": "2023-01-24T18:09:45.909Z"
   },
   {
    "duration": 0,
    "start_time": "2023-01-24T18:09:45.910Z"
   },
   {
    "duration": 0,
    "start_time": "2023-01-24T18:09:45.911Z"
   },
   {
    "duration": 0,
    "start_time": "2023-01-24T18:09:45.912Z"
   },
   {
    "duration": 0,
    "start_time": "2023-01-24T18:09:45.914Z"
   },
   {
    "duration": 0,
    "start_time": "2023-01-24T18:09:45.915Z"
   },
   {
    "duration": 0,
    "start_time": "2023-01-24T18:09:45.916Z"
   },
   {
    "duration": 0,
    "start_time": "2023-01-24T18:09:45.919Z"
   },
   {
    "duration": 0,
    "start_time": "2023-01-24T18:09:45.920Z"
   },
   {
    "duration": 0,
    "start_time": "2023-01-24T18:09:45.921Z"
   },
   {
    "duration": 0,
    "start_time": "2023-01-24T18:09:45.923Z"
   },
   {
    "duration": 0,
    "start_time": "2023-01-24T18:09:45.924Z"
   },
   {
    "duration": 0,
    "start_time": "2023-01-24T18:09:45.925Z"
   },
   {
    "duration": 0,
    "start_time": "2023-01-24T18:09:45.926Z"
   },
   {
    "duration": 0,
    "start_time": "2023-01-24T18:09:45.927Z"
   },
   {
    "duration": 0,
    "start_time": "2023-01-24T18:09:45.928Z"
   },
   {
    "duration": 0,
    "start_time": "2023-01-24T18:09:45.929Z"
   },
   {
    "duration": 0,
    "start_time": "2023-01-24T18:09:45.930Z"
   },
   {
    "duration": 0,
    "start_time": "2023-01-24T18:09:45.932Z"
   },
   {
    "duration": 0,
    "start_time": "2023-01-24T18:09:45.933Z"
   },
   {
    "duration": 0,
    "start_time": "2023-01-24T18:09:45.933Z"
   },
   {
    "duration": 0,
    "start_time": "2023-01-24T18:09:45.934Z"
   },
   {
    "duration": 0,
    "start_time": "2023-01-24T18:09:45.935Z"
   },
   {
    "duration": 0,
    "start_time": "2023-01-24T18:09:45.937Z"
   },
   {
    "duration": 0,
    "start_time": "2023-01-24T18:09:45.938Z"
   },
   {
    "duration": 0,
    "start_time": "2023-01-24T18:09:45.939Z"
   },
   {
    "duration": 0,
    "start_time": "2023-01-24T18:09:45.940Z"
   },
   {
    "duration": 0,
    "start_time": "2023-01-24T18:09:45.941Z"
   },
   {
    "duration": 0,
    "start_time": "2023-01-24T18:09:45.942Z"
   },
   {
    "duration": 0,
    "start_time": "2023-01-24T18:09:45.943Z"
   },
   {
    "duration": 4,
    "start_time": "2023-01-24T18:10:08.609Z"
   },
   {
    "duration": 3,
    "start_time": "2023-01-24T18:10:09.849Z"
   },
   {
    "duration": 12,
    "start_time": "2023-01-24T18:10:10.142Z"
   },
   {
    "duration": 41,
    "start_time": "2023-01-24T18:10:10.533Z"
   },
   {
    "duration": 23,
    "start_time": "2023-01-24T18:10:13.080Z"
   },
   {
    "duration": 16,
    "start_time": "2023-01-24T18:10:15.031Z"
   },
   {
    "duration": 18,
    "start_time": "2023-01-24T18:10:18.157Z"
   },
   {
    "duration": 26,
    "start_time": "2023-01-24T18:10:23.463Z"
   },
   {
    "duration": 10,
    "start_time": "2023-01-24T18:10:23.857Z"
   },
   {
    "duration": 3,
    "start_time": "2023-01-24T18:10:34.686Z"
   },
   {
    "duration": 11,
    "start_time": "2023-01-24T18:10:35.287Z"
   },
   {
    "duration": 18,
    "start_time": "2023-01-24T18:11:01.624Z"
   },
   {
    "duration": 421,
    "start_time": "2023-01-24T18:14:57.156Z"
   },
   {
    "duration": 377,
    "start_time": "2023-01-24T18:16:00.850Z"
   },
   {
    "duration": 2,
    "start_time": "2023-01-24T18:17:21.028Z"
   },
   {
    "duration": 9,
    "start_time": "2023-01-24T18:19:08.917Z"
   },
   {
    "duration": 10,
    "start_time": "2023-01-24T18:19:24.613Z"
   },
   {
    "duration": 19,
    "start_time": "2023-01-24T18:19:39.324Z"
   },
   {
    "duration": 77,
    "start_time": "2023-01-24T18:19:39.345Z"
   },
   {
    "duration": 3,
    "start_time": "2023-01-24T18:19:39.423Z"
   },
   {
    "duration": 41,
    "start_time": "2023-01-24T18:19:39.427Z"
   },
   {
    "duration": 29,
    "start_time": "2023-01-24T18:19:39.470Z"
   },
   {
    "duration": 65,
    "start_time": "2023-01-24T18:19:39.501Z"
   },
   {
    "duration": 16,
    "start_time": "2023-01-24T18:19:39.567Z"
   },
   {
    "duration": 24,
    "start_time": "2023-01-24T18:19:39.584Z"
   },
   {
    "duration": 23,
    "start_time": "2023-01-24T18:19:39.610Z"
   },
   {
    "duration": 45,
    "start_time": "2023-01-24T18:19:39.634Z"
   },
   {
    "duration": 9,
    "start_time": "2023-01-24T18:19:39.681Z"
   },
   {
    "duration": 35,
    "start_time": "2023-01-24T18:19:39.691Z"
   },
   {
    "duration": 25,
    "start_time": "2023-01-24T18:19:39.728Z"
   },
   {
    "duration": 25,
    "start_time": "2023-01-24T18:19:39.755Z"
   },
   {
    "duration": 36,
    "start_time": "2023-01-24T18:19:39.782Z"
   },
   {
    "duration": 23,
    "start_time": "2023-01-24T18:19:39.820Z"
   },
   {
    "duration": 35,
    "start_time": "2023-01-24T18:19:39.845Z"
   },
   {
    "duration": 68,
    "start_time": "2023-01-24T18:19:39.881Z"
   },
   {
    "duration": 13,
    "start_time": "2023-01-24T18:19:39.950Z"
   },
   {
    "duration": 519,
    "start_time": "2023-01-24T18:19:39.965Z"
   },
   {
    "duration": 186,
    "start_time": "2023-01-24T18:19:40.486Z"
   },
   {
    "duration": 5,
    "start_time": "2023-01-24T18:19:40.673Z"
   },
   {
    "duration": 67,
    "start_time": "2023-01-24T18:19:40.680Z"
   },
   {
    "duration": 369,
    "start_time": "2023-01-24T18:19:40.749Z"
   },
   {
    "duration": 174,
    "start_time": "2023-01-24T18:19:41.119Z"
   },
   {
    "duration": 127,
    "start_time": "2023-01-24T18:19:41.295Z"
   },
   {
    "duration": 93,
    "start_time": "2023-01-24T18:19:41.424Z"
   },
   {
    "duration": 12,
    "start_time": "2023-01-24T18:19:41.594Z"
   },
   {
    "duration": 8,
    "start_time": "2023-01-24T18:19:41.612Z"
   },
   {
    "duration": 15,
    "start_time": "2023-01-24T18:19:41.622Z"
   },
   {
    "duration": 881,
    "start_time": "2023-01-24T18:19:41.639Z"
   },
   {
    "duration": 512,
    "start_time": "2023-01-24T18:19:42.521Z"
   },
   {
    "duration": 440,
    "start_time": "2023-01-24T18:19:43.034Z"
   },
   {
    "duration": 5,
    "start_time": "2023-01-24T18:19:43.475Z"
   },
   {
    "duration": 76,
    "start_time": "2023-01-24T18:23:44.439Z"
   },
   {
    "duration": 408,
    "start_time": "2023-01-24T18:58:17.757Z"
   },
   {
    "duration": 58,
    "start_time": "2023-01-24T19:02:12.551Z"
   },
   {
    "duration": 495,
    "start_time": "2023-01-24T19:23:56.185Z"
   },
   {
    "duration": 6,
    "start_time": "2023-01-24T19:32:41.123Z"
   },
   {
    "duration": 69,
    "start_time": "2023-01-24T19:32:41.131Z"
   },
   {
    "duration": 3,
    "start_time": "2023-01-24T19:32:41.202Z"
   },
   {
    "duration": 35,
    "start_time": "2023-01-24T19:32:41.207Z"
   },
   {
    "duration": 15,
    "start_time": "2023-01-24T19:32:41.244Z"
   },
   {
    "duration": 40,
    "start_time": "2023-01-24T19:32:41.261Z"
   },
   {
    "duration": 24,
    "start_time": "2023-01-24T19:32:41.303Z"
   },
   {
    "duration": 17,
    "start_time": "2023-01-24T19:32:41.330Z"
   },
   {
    "duration": 17,
    "start_time": "2023-01-24T19:32:41.349Z"
   },
   {
    "duration": 65,
    "start_time": "2023-01-24T19:32:41.368Z"
   },
   {
    "duration": 10,
    "start_time": "2023-01-24T19:32:41.435Z"
   },
   {
    "duration": 13,
    "start_time": "2023-01-24T19:32:41.446Z"
   },
   {
    "duration": 3,
    "start_time": "2023-01-24T19:32:41.460Z"
   },
   {
    "duration": 28,
    "start_time": "2023-01-24T19:32:41.466Z"
   },
   {
    "duration": 15,
    "start_time": "2023-01-24T19:32:41.496Z"
   },
   {
    "duration": 29,
    "start_time": "2023-01-24T19:32:41.513Z"
   },
   {
    "duration": 21,
    "start_time": "2023-01-24T19:32:41.544Z"
   },
   {
    "duration": 48,
    "start_time": "2023-01-24T19:32:41.567Z"
   },
   {
    "duration": 6,
    "start_time": "2023-01-24T19:32:41.620Z"
   },
   {
    "duration": 510,
    "start_time": "2023-01-24T19:32:41.627Z"
   },
   {
    "duration": 137,
    "start_time": "2023-01-24T19:32:42.140Z"
   },
   {
    "duration": 6,
    "start_time": "2023-01-24T19:32:42.279Z"
   },
   {
    "duration": 79,
    "start_time": "2023-01-24T19:32:42.296Z"
   },
   {
    "duration": 454,
    "start_time": "2023-01-24T19:32:42.377Z"
   },
   {
    "duration": 198,
    "start_time": "2023-01-24T19:32:42.833Z"
   },
   {
    "duration": 195,
    "start_time": "2023-01-24T19:32:43.033Z"
   },
   {
    "duration": 89,
    "start_time": "2023-01-24T19:32:43.236Z"
   },
   {
    "duration": 434,
    "start_time": "2023-01-24T19:32:43.420Z"
   },
   {
    "duration": 49,
    "start_time": "2023-01-24T19:32:43.855Z"
   },
   {
    "duration": 11,
    "start_time": "2023-01-24T19:32:43.907Z"
   },
   {
    "duration": 26,
    "start_time": "2023-01-24T19:32:43.923Z"
   },
   {
    "duration": 25,
    "start_time": "2023-01-24T19:32:43.951Z"
   },
   {
    "duration": 903,
    "start_time": "2023-01-24T19:32:43.978Z"
   },
   {
    "duration": 459,
    "start_time": "2023-01-24T19:32:44.883Z"
   },
   {
    "duration": 492,
    "start_time": "2023-01-24T19:32:45.344Z"
   },
   {
    "duration": 6,
    "start_time": "2023-01-24T19:32:45.838Z"
   },
   {
    "duration": 454,
    "start_time": "2023-01-24T21:03:46.128Z"
   },
   {
    "duration": 427,
    "start_time": "2023-01-24T21:03:59.825Z"
   },
   {
    "duration": 827,
    "start_time": "2023-01-24T21:12:52.458Z"
   },
   {
    "duration": 88,
    "start_time": "2023-01-24T21:24:52.965Z"
   },
   {
    "duration": 25,
    "start_time": "2023-01-24T21:25:12.967Z"
   },
   {
    "duration": 3261,
    "start_time": "2023-01-24T21:25:35.727Z"
   },
   {
    "duration": 149,
    "start_time": "2023-01-24T21:30:20.679Z"
   },
   {
    "duration": 856,
    "start_time": "2023-01-24T21:39:44.121Z"
   },
   {
    "duration": 449,
    "start_time": "2023-01-24T21:40:45.284Z"
   }
  ],
  "kernelspec": {
   "display_name": "Python 3",
   "language": "python",
   "name": "python3"
  },
  "language_info": {
   "codemirror_mode": {
    "name": "ipython",
    "version": 3
   },
   "file_extension": ".py",
   "mimetype": "text/x-python",
   "name": "python",
   "nbconvert_exporter": "python",
   "pygments_lexer": "ipython3",
   "version": "3.7.2"
  },
  "toc": {
   "base_numbering": 1,
   "nav_menu": {},
   "number_sections": true,
   "sideBar": true,
   "skip_h1_title": true,
   "title_cell": "Содержание",
   "title_sidebar": "Contents",
   "toc_cell": true,
   "toc_position": {
    "height": "calc(100% - 180px)",
    "left": "10px",
    "top": "150px",
    "width": "408.889px"
   },
   "toc_section_display": true,
   "toc_window_display": true
  },
  "vscode": {
   "interpreter": {
    "hash": "7013a621b7653606b1894ec24fb1789cda0807d86086c7fc3caf32f4edce8e7b"
   }
  }
 },
 "nbformat": 4,
 "nbformat_minor": 2
}
